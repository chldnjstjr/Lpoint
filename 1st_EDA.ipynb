{
  "nbformat": 4,
  "nbformat_minor": 0,
  "metadata": {
    "colab": {
      "name": "1st EDA.ipynb",
      "provenance": [],
      "collapsed_sections": [],
      "authorship_tag": "ABX9TyOgiENey1IT8scM2fn4pa5P"
    },
    "kernelspec": {
      "name": "python3",
      "display_name": "Python 3"
    }
  },
  "cells": [
    {
      "cell_type": "code",
      "metadata": {
        "id": "VJa1LOIcKQiB",
        "outputId": "8b20e3e7-b260-46ce-e579-b07799309a64",
        "colab": {
          "base_uri": "https://localhost:8080/"
        }
      },
      "source": [
        "from google.colab import drive\n",
        "drive.mount('/content/drive')"
      ],
      "execution_count": 3,
      "outputs": [
        {
          "output_type": "stream",
          "text": [
            "Drive already mounted at /content/drive; to attempt to forcibly remount, call drive.mount(\"/content/drive\", force_remount=True).\n"
          ],
          "name": "stdout"
        }
      ]
    },
    {
      "cell_type": "code",
      "metadata": {
        "id": "BFPWUUa3KZgX"
      },
      "source": [
        "import pandas as pd\n",
        "import numpy as np\n",
        "import matplotlib.pyplot as plt\n",
        "import seaborn as sns"
      ],
      "execution_count": 2,
      "outputs": []
    },
    {
      "cell_type": "code",
      "metadata": {
        "id": "q3MUM6iAKVA8"
      },
      "source": [
        "filename='/content/drive/My Drive/DataSet/Lpoint/data/Product.csv'"
      ],
      "execution_count": 3,
      "outputs": []
    },
    {
      "cell_type": "code",
      "metadata": {
        "id": "7VMx9AbBKU1d",
        "outputId": "9763f383-b11e-4f0e-e799-32a83fd7f62e",
        "colab": {
          "base_uri": "https://localhost:8080/",
          "height": 238
        }
      },
      "source": [
        "prd = pd.read_csv(filename, dtype={\"CLNT_ID\":np.str, \"SESS_ID\":np.str},thousands=\",\")\n",
        "prd.head()"
      ],
      "execution_count": 4,
      "outputs": [
        {
          "output_type": "execute_result",
          "data": {
            "text/html": [
              "<div>\n",
              "<style scoped>\n",
              "    .dataframe tbody tr th:only-of-type {\n",
              "        vertical-align: middle;\n",
              "    }\n",
              "\n",
              "    .dataframe tbody tr th {\n",
              "        vertical-align: top;\n",
              "    }\n",
              "\n",
              "    .dataframe thead th {\n",
              "        text-align: right;\n",
              "    }\n",
              "</style>\n",
              "<table border=\"1\" class=\"dataframe\">\n",
              "  <thead>\n",
              "    <tr style=\"text-align: right;\">\n",
              "      <th></th>\n",
              "      <th>CLNT_ID</th>\n",
              "      <th>SESS_ID</th>\n",
              "      <th>HITS_SEQ</th>\n",
              "      <th>PD_C</th>\n",
              "      <th>PD_ADD_NM</th>\n",
              "      <th>PD_BRA_NM</th>\n",
              "      <th>PD_BUY_AM</th>\n",
              "      <th>PD_BUY_CT</th>\n",
              "    </tr>\n",
              "  </thead>\n",
              "  <tbody>\n",
              "    <tr>\n",
              "      <th>0</th>\n",
              "      <td>4139680</td>\n",
              "      <td>07605037</td>\n",
              "      <td>12</td>\n",
              "      <td>642112</td>\n",
              "      <td>색상:워터멜론</td>\n",
              "      <td>[바비브라운]</td>\n",
              "      <td>39000</td>\n",
              "      <td>1</td>\n",
              "    </tr>\n",
              "    <tr>\n",
              "      <th>1</th>\n",
              "      <td>4140076</td>\n",
              "      <td>10189797</td>\n",
              "      <td>13</td>\n",
              "      <td>570603</td>\n",
              "      <td>색상:BLK0_(BLK0)BLACK|사이즈:120 / 2개</td>\n",
              "      <td>데상트</td>\n",
              "      <td>39000</td>\n",
              "      <td>2</td>\n",
              "    </tr>\n",
              "    <tr>\n",
              "      <th>2</th>\n",
              "      <td>4142395</td>\n",
              "      <td>06158159</td>\n",
              "      <td>85</td>\n",
              "      <td>179538</td>\n",
              "      <td>(not set)</td>\n",
              "      <td>[아베다]</td>\n",
              "      <td>39000</td>\n",
              "      <td>1</td>\n",
              "    </tr>\n",
              "    <tr>\n",
              "      <th>3</th>\n",
              "      <td>4144914</td>\n",
              "      <td>07935714</td>\n",
              "      <td>12</td>\n",
              "      <td>554336</td>\n",
              "      <td>색상:블랙|사이즈:160cm(12~13세) / 1개</td>\n",
              "      <td>아디다스 키즈</td>\n",
              "      <td>39000</td>\n",
              "      <td>1</td>\n",
              "    </tr>\n",
              "    <tr>\n",
              "      <th>4</th>\n",
              "      <td>4144917</td>\n",
              "      <td>06406509</td>\n",
              "      <td>78</td>\n",
              "      <td>190306</td>\n",
              "      <td>5개</td>\n",
              "      <td>데코르테</td>\n",
              "      <td>39000</td>\n",
              "      <td>5</td>\n",
              "    </tr>\n",
              "  </tbody>\n",
              "</table>\n",
              "</div>"
            ],
            "text/plain": [
              "   CLNT_ID   SESS_ID  HITS_SEQ  ...  PD_BRA_NM PD_BUY_AM PD_BUY_CT\n",
              "0  4139680  07605037        12  ...    [바비브라운]     39000         1\n",
              "1  4140076  10189797        13  ...        데상트     39000         2\n",
              "2  4142395  06158159        85  ...      [아베다]     39000         1\n",
              "3  4144914  07935714        12  ...    아디다스 키즈     39000         1\n",
              "4  4144917  06406509        78  ...       데코르테     39000         5\n",
              "\n",
              "[5 rows x 8 columns]"
            ]
          },
          "metadata": {
            "tags": []
          },
          "execution_count": 4
        }
      ]
    },
    {
      "cell_type": "code",
      "metadata": {
        "id": "8PXxTWxALH-l"
      },
      "source": [
        "from IPython.core.interactiveshell import InteractiveShell\n",
        "InteractiveShell.ast_node_interactivity = 'all'"
      ],
      "execution_count": 5,
      "outputs": []
    },
    {
      "cell_type": "code",
      "metadata": {
        "id": "QfiD8RSPLGSK",
        "outputId": "a3a8d3ae-b3fc-4d45-f1cf-126ba506f691",
        "colab": {
          "base_uri": "https://localhost:8080/"
        }
      },
      "source": [
        "prd.dtypes\n",
        "prd.shape"
      ],
      "execution_count": 6,
      "outputs": [
        {
          "output_type": "execute_result",
          "data": {
            "text/plain": [
              "CLNT_ID      object\n",
              "SESS_ID      object\n",
              "HITS_SEQ      int64\n",
              "PD_C          int64\n",
              "PD_ADD_NM    object\n",
              "PD_BRA_NM    object\n",
              "PD_BUY_AM     int64\n",
              "PD_BUY_CT     int64\n",
              "dtype: object"
            ]
          },
          "metadata": {
            "tags": []
          },
          "execution_count": 6
        },
        {
          "output_type": "execute_result",
          "data": {
            "text/plain": [
              "(5024906, 8)"
            ]
          },
          "metadata": {
            "tags": []
          },
          "execution_count": 6
        }
      ]
    },
    {
      "cell_type": "markdown",
      "metadata": {
        "id": "JGUJxV2wOpdX"
      },
      "source": [
        "### 1.Product \n",
        "#### 1.1 Product 내 변수만으로 알아볼 수 있는 것들 \n",
        "1. 연속형 변수 3개(HITS_SEQ, PD_BUY_AM, PD_BUY_CT)의 각 각의 기술통계\n",
        "2. PD_BUY_AM * PD_BUT_CT = 총구매가격 변수 추가하여 기술통계\n",
        "3. 총구매가격과 HITS_SEQ의 상관관계(보통 가격이 높은 상품이 관여도가 높기 때문에 소비 이전에 정보검색량이 많다. 따라서 구매까지의 홈페이지 내 클릭 수를 보여주는 HITS_SEQ과 총구매 가격 간의 상관관계를 본다. H1:많이 살펴볼 수록 총구매가격이 높다.)\n",
        "4. 생각나면 추가\n",
        "\n",
        "\n",
        "\n",
        "\n"
      ]
    },
    {
      "cell_type": "code",
      "metadata": {
        "id": "ddVd6ip3Lcnb",
        "outputId": "150d8f77-ea3b-4bf5-f4ba-7fff7658885a",
        "colab": {
          "base_uri": "https://localhost:8080/",
          "height": 275
        }
      },
      "source": [
        "prd['TOT_PRICE'] = prd['PD_BUY_AM']*prd['PD_BUY_CT'] #변수 추가\n",
        "prd.head()"
      ],
      "execution_count": 7,
      "outputs": [
        {
          "output_type": "execute_result",
          "data": {
            "text/html": [
              "<div>\n",
              "<style scoped>\n",
              "    .dataframe tbody tr th:only-of-type {\n",
              "        vertical-align: middle;\n",
              "    }\n",
              "\n",
              "    .dataframe tbody tr th {\n",
              "        vertical-align: top;\n",
              "    }\n",
              "\n",
              "    .dataframe thead th {\n",
              "        text-align: right;\n",
              "    }\n",
              "</style>\n",
              "<table border=\"1\" class=\"dataframe\">\n",
              "  <thead>\n",
              "    <tr style=\"text-align: right;\">\n",
              "      <th></th>\n",
              "      <th>CLNT_ID</th>\n",
              "      <th>SESS_ID</th>\n",
              "      <th>HITS_SEQ</th>\n",
              "      <th>PD_C</th>\n",
              "      <th>PD_ADD_NM</th>\n",
              "      <th>PD_BRA_NM</th>\n",
              "      <th>PD_BUY_AM</th>\n",
              "      <th>PD_BUY_CT</th>\n",
              "      <th>TOT_PRICE</th>\n",
              "    </tr>\n",
              "  </thead>\n",
              "  <tbody>\n",
              "    <tr>\n",
              "      <th>0</th>\n",
              "      <td>4139680</td>\n",
              "      <td>07605037</td>\n",
              "      <td>12</td>\n",
              "      <td>642112</td>\n",
              "      <td>색상:워터멜론</td>\n",
              "      <td>[바비브라운]</td>\n",
              "      <td>39000</td>\n",
              "      <td>1</td>\n",
              "      <td>39000</td>\n",
              "    </tr>\n",
              "    <tr>\n",
              "      <th>1</th>\n",
              "      <td>4140076</td>\n",
              "      <td>10189797</td>\n",
              "      <td>13</td>\n",
              "      <td>570603</td>\n",
              "      <td>색상:BLK0_(BLK0)BLACK|사이즈:120 / 2개</td>\n",
              "      <td>데상트</td>\n",
              "      <td>39000</td>\n",
              "      <td>2</td>\n",
              "      <td>78000</td>\n",
              "    </tr>\n",
              "    <tr>\n",
              "      <th>2</th>\n",
              "      <td>4142395</td>\n",
              "      <td>06158159</td>\n",
              "      <td>85</td>\n",
              "      <td>179538</td>\n",
              "      <td>(not set)</td>\n",
              "      <td>[아베다]</td>\n",
              "      <td>39000</td>\n",
              "      <td>1</td>\n",
              "      <td>39000</td>\n",
              "    </tr>\n",
              "    <tr>\n",
              "      <th>3</th>\n",
              "      <td>4144914</td>\n",
              "      <td>07935714</td>\n",
              "      <td>12</td>\n",
              "      <td>554336</td>\n",
              "      <td>색상:블랙|사이즈:160cm(12~13세) / 1개</td>\n",
              "      <td>아디다스 키즈</td>\n",
              "      <td>39000</td>\n",
              "      <td>1</td>\n",
              "      <td>39000</td>\n",
              "    </tr>\n",
              "    <tr>\n",
              "      <th>4</th>\n",
              "      <td>4144917</td>\n",
              "      <td>06406509</td>\n",
              "      <td>78</td>\n",
              "      <td>190306</td>\n",
              "      <td>5개</td>\n",
              "      <td>데코르테</td>\n",
              "      <td>39000</td>\n",
              "      <td>5</td>\n",
              "      <td>195000</td>\n",
              "    </tr>\n",
              "  </tbody>\n",
              "</table>\n",
              "</div>"
            ],
            "text/plain": [
              "   CLNT_ID   SESS_ID  HITS_SEQ  ...  PD_BUY_AM PD_BUY_CT TOT_PRICE\n",
              "0  4139680  07605037        12  ...      39000         1     39000\n",
              "1  4140076  10189797        13  ...      39000         2     78000\n",
              "2  4142395  06158159        85  ...      39000         1     39000\n",
              "3  4144914  07935714        12  ...      39000         1     39000\n",
              "4  4144917  06406509        78  ...      39000         5    195000\n",
              "\n",
              "[5 rows x 9 columns]"
            ]
          },
          "metadata": {
            "tags": []
          },
          "execution_count": 7
        }
      ]
    },
    {
      "cell_type": "code",
      "metadata": {
        "id": "iAbv8w9_LIkG",
        "outputId": "ad05e9c3-7a52-4fb5-d221-65e4e0eb6941",
        "colab": {
          "base_uri": "https://localhost:8080/",
          "height": 204
        }
      },
      "source": [
        "hit_price_cor = prd[['HITS_SEQ', 'TOT_PRICE']] #또는 prd.loc[;,['HITS_SEQ', 'TOT_PRICE']]\n",
        "hit_price_cor.head()"
      ],
      "execution_count": 8,
      "outputs": [
        {
          "output_type": "execute_result",
          "data": {
            "text/html": [
              "<div>\n",
              "<style scoped>\n",
              "    .dataframe tbody tr th:only-of-type {\n",
              "        vertical-align: middle;\n",
              "    }\n",
              "\n",
              "    .dataframe tbody tr th {\n",
              "        vertical-align: top;\n",
              "    }\n",
              "\n",
              "    .dataframe thead th {\n",
              "        text-align: right;\n",
              "    }\n",
              "</style>\n",
              "<table border=\"1\" class=\"dataframe\">\n",
              "  <thead>\n",
              "    <tr style=\"text-align: right;\">\n",
              "      <th></th>\n",
              "      <th>HITS_SEQ</th>\n",
              "      <th>TOT_PRICE</th>\n",
              "    </tr>\n",
              "  </thead>\n",
              "  <tbody>\n",
              "    <tr>\n",
              "      <th>0</th>\n",
              "      <td>12</td>\n",
              "      <td>39000</td>\n",
              "    </tr>\n",
              "    <tr>\n",
              "      <th>1</th>\n",
              "      <td>13</td>\n",
              "      <td>78000</td>\n",
              "    </tr>\n",
              "    <tr>\n",
              "      <th>2</th>\n",
              "      <td>85</td>\n",
              "      <td>39000</td>\n",
              "    </tr>\n",
              "    <tr>\n",
              "      <th>3</th>\n",
              "      <td>12</td>\n",
              "      <td>39000</td>\n",
              "    </tr>\n",
              "    <tr>\n",
              "      <th>4</th>\n",
              "      <td>78</td>\n",
              "      <td>195000</td>\n",
              "    </tr>\n",
              "  </tbody>\n",
              "</table>\n",
              "</div>"
            ],
            "text/plain": [
              "   HITS_SEQ  TOT_PRICE\n",
              "0        12      39000\n",
              "1        13      78000\n",
              "2        85      39000\n",
              "3        12      39000\n",
              "4        78     195000"
            ]
          },
          "metadata": {
            "tags": []
          },
          "execution_count": 8
        }
      ]
    },
    {
      "cell_type": "code",
      "metadata": {
        "id": "D99dSVOjWXoD",
        "outputId": "243dcd88-e937-4519-d352-54feda6e5364",
        "colab": {
          "base_uri": "https://localhost:8080/",
          "height": 111
        }
      },
      "source": [
        "hit_price_cor.corr(method='pearson') #왓더 -0.025"
      ],
      "execution_count": 9,
      "outputs": [
        {
          "output_type": "execute_result",
          "data": {
            "text/html": [
              "<div>\n",
              "<style scoped>\n",
              "    .dataframe tbody tr th:only-of-type {\n",
              "        vertical-align: middle;\n",
              "    }\n",
              "\n",
              "    .dataframe tbody tr th {\n",
              "        vertical-align: top;\n",
              "    }\n",
              "\n",
              "    .dataframe thead th {\n",
              "        text-align: right;\n",
              "    }\n",
              "</style>\n",
              "<table border=\"1\" class=\"dataframe\">\n",
              "  <thead>\n",
              "    <tr style=\"text-align: right;\">\n",
              "      <th></th>\n",
              "      <th>HITS_SEQ</th>\n",
              "      <th>TOT_PRICE</th>\n",
              "    </tr>\n",
              "  </thead>\n",
              "  <tbody>\n",
              "    <tr>\n",
              "      <th>HITS_SEQ</th>\n",
              "      <td>1.000000</td>\n",
              "      <td>-0.025467</td>\n",
              "    </tr>\n",
              "    <tr>\n",
              "      <th>TOT_PRICE</th>\n",
              "      <td>-0.025467</td>\n",
              "      <td>1.000000</td>\n",
              "    </tr>\n",
              "  </tbody>\n",
              "</table>\n",
              "</div>"
            ],
            "text/plain": [
              "           HITS_SEQ  TOT_PRICE\n",
              "HITS_SEQ   1.000000  -0.025467\n",
              "TOT_PRICE -0.025467   1.000000"
            ]
          },
          "metadata": {
            "tags": []
          },
          "execution_count": 9
        }
      ]
    },
    {
      "cell_type": "code",
      "metadata": {
        "id": "g3Szy8WnXFWj",
        "outputId": "370ad114-fa17-40b0-f4cf-3e5c2b32d05e",
        "colab": {
          "base_uri": "https://localhost:8080/",
          "height": 297
        }
      },
      "source": [
        "des = prd[['HITS_SEQ','PD_BUY_AM','PD_BUY_CT','TOT_PRICE']].describe()\n",
        "pd.options.display.float_format = '{:.2f}'.format #소수점 두번째까지 표시\n",
        "des"
      ],
      "execution_count": 10,
      "outputs": [
        {
          "output_type": "execute_result",
          "data": {
            "text/html": [
              "<div>\n",
              "<style scoped>\n",
              "    .dataframe tbody tr th:only-of-type {\n",
              "        vertical-align: middle;\n",
              "    }\n",
              "\n",
              "    .dataframe tbody tr th {\n",
              "        vertical-align: top;\n",
              "    }\n",
              "\n",
              "    .dataframe thead th {\n",
              "        text-align: right;\n",
              "    }\n",
              "</style>\n",
              "<table border=\"1\" class=\"dataframe\">\n",
              "  <thead>\n",
              "    <tr style=\"text-align: right;\">\n",
              "      <th></th>\n",
              "      <th>HITS_SEQ</th>\n",
              "      <th>PD_BUY_AM</th>\n",
              "      <th>PD_BUY_CT</th>\n",
              "      <th>TOT_PRICE</th>\n",
              "    </tr>\n",
              "  </thead>\n",
              "  <tbody>\n",
              "    <tr>\n",
              "      <th>count</th>\n",
              "      <td>5024906.00</td>\n",
              "      <td>5024906.00</td>\n",
              "      <td>5024906.00</td>\n",
              "      <td>5024906.00</td>\n",
              "    </tr>\n",
              "    <tr>\n",
              "      <th>mean</th>\n",
              "      <td>81.26</td>\n",
              "      <td>51349.45</td>\n",
              "      <td>1.18</td>\n",
              "      <td>54089.34</td>\n",
              "    </tr>\n",
              "    <tr>\n",
              "      <th>std</th>\n",
              "      <td>85.94</td>\n",
              "      <td>117383.57</td>\n",
              "      <td>3.07</td>\n",
              "      <td>127671.25</td>\n",
              "    </tr>\n",
              "    <tr>\n",
              "      <th>min</th>\n",
              "      <td>1.00</td>\n",
              "      <td>10.00</td>\n",
              "      <td>1.00</td>\n",
              "      <td>10.00</td>\n",
              "    </tr>\n",
              "    <tr>\n",
              "      <th>25%</th>\n",
              "      <td>24.00</td>\n",
              "      <td>12900.00</td>\n",
              "      <td>1.00</td>\n",
              "      <td>14000.00</td>\n",
              "    </tr>\n",
              "    <tr>\n",
              "      <th>50%</th>\n",
              "      <td>50.00</td>\n",
              "      <td>28000.00</td>\n",
              "      <td>1.00</td>\n",
              "      <td>29000.00</td>\n",
              "    </tr>\n",
              "    <tr>\n",
              "      <th>75%</th>\n",
              "      <td>104.00</td>\n",
              "      <td>49900.00</td>\n",
              "      <td>1.00</td>\n",
              "      <td>53000.00</td>\n",
              "    </tr>\n",
              "    <tr>\n",
              "      <th>max</th>\n",
              "      <td>500.00</td>\n",
              "      <td>17779000.00</td>\n",
              "      <td>1440.00</td>\n",
              "      <td>39000000.00</td>\n",
              "    </tr>\n",
              "  </tbody>\n",
              "</table>\n",
              "</div>"
            ],
            "text/plain": [
              "        HITS_SEQ   PD_BUY_AM  PD_BUY_CT   TOT_PRICE\n",
              "count 5024906.00  5024906.00 5024906.00  5024906.00\n",
              "mean       81.26    51349.45       1.18    54089.34\n",
              "std        85.94   117383.57       3.07   127671.25\n",
              "min         1.00       10.00       1.00       10.00\n",
              "25%        24.00    12900.00       1.00    14000.00\n",
              "50%        50.00    28000.00       1.00    29000.00\n",
              "75%       104.00    49900.00       1.00    53000.00\n",
              "max       500.00 17779000.00    1440.00 39000000.00"
            ]
          },
          "metadata": {
            "tags": []
          },
          "execution_count": 10
        }
      ]
    },
    {
      "cell_type": "code",
      "metadata": {
        "id": "F77R7XFrv4f7",
        "outputId": "c6ef3d72-0266-4035-bc56-3cf340bbef3b",
        "colab": {
          "base_uri": "https://localhost:8080/",
          "height": 351
        }
      },
      "source": [
        "sns.distplot(prd['PD_BUY_CT'], color=\"green\")"
      ],
      "execution_count": 26,
      "outputs": [
        {
          "output_type": "stream",
          "text": [
            "/usr/local/lib/python3.6/dist-packages/seaborn/distributions.py:2551: FutureWarning: `distplot` is a deprecated function and will be removed in a future version. Please adapt your code to use either `displot` (a figure-level function with similar flexibility) or `histplot` (an axes-level function for histograms).\n",
            "  warnings.warn(msg, FutureWarning)\n"
          ],
          "name": "stderr"
        },
        {
          "output_type": "execute_result",
          "data": {
            "text/plain": [
              "<matplotlib.axes._subplots.AxesSubplot at 0x7fc7f42967f0>"
            ]
          },
          "metadata": {
            "tags": []
          },
          "execution_count": 26
        },
        {
          "output_type": "display_data",
          "data": {
            "image/png": "[encoded data removed]",
            "text/plain": [
              "<Figure size 432x288 with 1 Axes>"
            ]
          },
          "metadata": {
            "tags": [],
            "needs_background": "light"
          }
        }
      ]
    },
    {
      "cell_type": "code",
      "metadata": {
        "id": "fYT-1dADwKLN"
      },
      "source": [
        "# 11.9 히스토그램 정규화해서 시각화 좀 제대로. 표로는 한 눈에 안들어옴. "
      ],
      "execution_count": null,
      "outputs": []
    },
    {
      "cell_type": "markdown",
      "metadata": {
        "id": "nlhIQJPbcARk"
      },
      "source": [
        "### 1.Product_2\n",
        "#### 1.2 Product와 join할 수 있는 것들 \n",
        "##### Access를 통해 쿼리를 쉽게 짜면서 꿀빨려고 했으나 이렇게 큰 데이터셋은 감당이 되지 않아 빨리 SQL을 조금이라도 배워서 하지 않는 이상 파이썬으로 해야할 듯. \n",
        "\n",
        "1. Product*Master : PD_C 기준으로 병합이 가능함. 품목별 구매 가격과 양, Hit 수 등을 알 수 있음. \n",
        "2. Product*Custom : CLNT_ID 기준으로 병합이 가능함. 구매 이력에 더해 고객에 대한 정보를 더 상세하게 할 수 있음. \n",
        "3. Product*Session : CLNT_ID, SESS_ID \n",
        "4. Product^Search1 : \n"
      ]
    },
    {
      "cell_type": "markdown",
      "metadata": {
        "id": "kd4kXItEhla_"
      },
      "source": [
        "##### 1. Product*Master\n",
        "###### 대분류(CLAC1_NM)도 37개나 되기 때문에 줄일 필요가 있다."
      ]
    },
    {
      "cell_type": "code",
      "metadata": {
        "id": "zRdzIgA7hkHt"
      },
      "source": [
        "#11.9\n",
        "#어떤 기준으로 대대분류를 추가하면 좋을지 찾아봐야함. 네이버 쇼핑도 좋은데 더 공식적인 것이면 좋을 것 같음. \n",
        "#"
      ],
      "execution_count": null,
      "outputs": []
    },
    {
      "cell_type": "code",
      "metadata": {
        "id": "22UXkMVoYWU-"
      },
      "source": [
        "p"
      ],
      "execution_count": null,
      "outputs": []
    }
  ]
}