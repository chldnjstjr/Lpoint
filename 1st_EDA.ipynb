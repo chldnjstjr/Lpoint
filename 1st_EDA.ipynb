{
  "nbformat": 4,
  "nbformat_minor": 0,
  "metadata": {
    "colab": {
      "name": "1st EDA.ipynb",
      "provenance": [],
      "collapsed_sections": [],
      "authorship_tag": "ABX9TyPwKFO6ypCxgQOD4R0Yn7yb"
    },
    "kernelspec": {
      "name": "python3",
      "display_name": "Python 3"
    }
  },
  "cells": [
    {
      "cell_type": "markdown",
      "metadata": {
        "id": "tFOxnQA80lux"
      },
      "source": [
        "**본격적인 시작에 앞서..**\n",
        "##### 축구 지도자 자격증을 따러갔을 때였다. (물론 축구를 너무 못한 나머지 2번 다 떨어졌다) 축구 훈련 세션 구성에 대한 교육을 받았었는데 당시 내가 가장 인상 깊었던 것은  warm up의 구성이었다. 선수생활을 하진 않았으나 일반적으로 warm up은 그냥 운동장 몇 바퀴 돌고 스트레칭 하는 것으로만 생각했다. 왜냐면 난 일평생 그렇게 몸을 풀어왔으니 말이다. 그러나 정말 좋은 훈련을 위해서는 이 warm up에서 조차 당일 훈련 주제에 맞춰 구성해야 훈련이 처음부터 유기적으로 진행되고 선수들이 더 효율적으로 몸을 풀 수 있다는 것이었다. 만약에 오늘 진행할 훈련 주제가 '1vs1 돌파능력 향상'에 있다면 본격적인 훈련에 앞서 warm up에서도 각자 공과 함께 달린다던지 콘을 두고 달린다던지 한다는 것이다. \n",
        "##### 갑자기 축구 얘기를 쓰는 이유는 내가 지난 일주일 간 데이터 탐색을 그냥 막무가내로 한 것이 느껴졌기 때문이다. 물론 더 창의적인 인사이트를 위해 다양한 방법으로 데이터를 살펴보면 좋으나, 나는 지금 혼자서 모든 것을 진행해야되기 때문에 그럴 수 있는 물리적인 시간이 없다. 또 더 중요한 것은 결국 내가 어떤 한 가지 주제에 맞춰 본 데이터를 사용하여 통계적 분석을 진행할 것이기 때문에 그 분석 방법에 맞도록 데이터를 전처리해야 한다는 점이다. 따라서 축구에서 본격적인 훈련에 앞서 그날 훈련 주제를 떠올릴 수 있는 warm up을 했듯이 나의 EDA 및 전처리 역시 내 연구주제를 떠올릴 수 있어야 한다. 누군가가 내 전처리된 데이터와 EDA를 보고 어떤 주제를 잡고 어떤 분석을 하려는지 매우 쉽게 유추가 가능할정도로 말이다! 고로 연구목적과 주제를 다시 명확하게 정리해보고 분석을 시작하려고 한다.\n",
        "---\n",
        "**나는 이 연구를 왜 이 시점에 진행하는가?**\n",
        "##### 소비자행동론 강의에서 시험 대신  Term-paper를 작성해서 12월 9일까지 제출해야하기 때문이다.  \n",
        "---\n",
        "**왜 그럼 Lpoint 데이터로 진행하는가?**\n",
        "##### 물론 교수님께서는 실험계획법(Design of Experiments)을 공부할겸 분석 방법을 실험계획법의 분석방법론을 사용하라고 하셨다. 실험계획법은 계획->데이터 확보 -> 분석의 순서를 따르는 확증적 데이터 분석(Confirmatory Data Analysis) 중 하나이다. 그러나 나는 ⓐ 자기기입식 설문조사를 크게 신뢰하지 않고 ⓑ 타당성을 조금이라도 높이기 위해 실제 데이터를 사용하고 싶고 ⓒ EDA로 인사이트와 가설을 도출해내고 CDA로 검증할 수 있다고 판단하여 Lpoint 데이터셋을 활용하여 연구를 진행하고자 한다. \n",
        "---\n",
        "**연구 주제는 어떤 것으로 할 것인가?**\n",
        "##### 제목: 온라인 쇼핑몰 소비자의 행동특성에 대한 실증적 분석: 롯데멤버십 회원을 중심으로 (가제)\n",
        "##### 구체적인 내용은 11월 22일까지 선행연구 찾아서 추가\n"
      ]
    },
    {
      "cell_type": "code",
      "metadata": {
        "id": "VJa1LOIcKQiB",
        "colab": {
          "base_uri": "https://localhost:8080/"
        },
        "outputId": "1abc7618-1cfc-4cd7-84df-7f6bdd0f590c"
      },
      "source": [
        "#구글 드라이브 연결\n",
        "from google.colab import drive\n",
        "drive.mount('/content/drive')"
      ],
      "execution_count": 1,
      "outputs": [
        {
          "output_type": "stream",
          "text": [
            "Mounted at /content/drive\n"
          ],
          "name": "stdout"
        }
      ]
    },
    {
      "cell_type": "code",
      "metadata": {
        "id": "BFPWUUa3KZgX"
      },
      "source": [
        "import pandas as pd\n",
        "import numpy as np\n",
        "import matplotlib.pyplot as plt\n",
        "import seaborn as sns"
      ],
      "execution_count": 2,
      "outputs": []
    },
    {
      "cell_type": "code",
      "metadata": {
        "id": "q3MUM6iAKVA8"
      },
      "source": [
        "filename='/content/drive/My Drive/DataSet/Lpoint/data/Product.csv'"
      ],
      "execution_count": 3,
      "outputs": []
    },
    {
      "cell_type": "code",
      "metadata": {
        "id": "8PXxTWxALH-l"
      },
      "source": [
        "#출력 한 번에 나올 수 있게 설정\n",
        "from IPython.core.interactiveshell import InteractiveShell\n",
        "InteractiveShell.ast_node_interactivity = 'all'"
      ],
      "execution_count": 5,
      "outputs": []
    },
    {
      "cell_type": "markdown",
      "metadata": {
        "id": "JGUJxV2wOpdX"
      },
      "source": [
        "### 1.Product \n",
        "#### 1.1 Product 내 변수만으로 알아볼 수 있는 것들 \n",
        "1. 연속형 변수 3개(HITS_SEQ, PD_BUY_AM, PD_BUY_CT)의 각 각의 기술통계\n",
        "2. PD_BUY_AM * PD_BUT_CT = 총구매가격 변수 추가하여 기술통계\n",
        "3. 총구매가격과 HITS_SEQ의 상관관계(보통 가격이 높은 상품이 관여도가 높기 때문에 소비 이전에 정보검색량이 많다. 따라서 구매까지의 홈페이지 내 클릭 수를 보여주는 HITS_SEQ과 총구매 가격 간의 상관관계를 본다. H1:많이 살펴볼 수록 총구매가격이 높다.)\n",
        "\n",
        "#### 1.2 Product와 타 데이터셋의 병합 및 전처리\n",
        "1. Product*Master : PD_C 기준으로 병합이 가능함. 품목별 구매 가격과 양, Hit 수 등을 알 수 있음. \n",
        "2. Product*Custom : CLNT_ID 기준으로 병합이 가능함. 구매 이력에 더해 회원고객에 대한 인구통계를 알 수 있게 된다. 비회원 고객의 경우 NA값이 뜰 예정. \n",
        "3. Product*Session : CLNT_ID, SESS_ID 기준으로 병합이 가능함. 어떤 구매이력이 어느날, \n",
        "4. Product* Session* Search1 : ⓐ어떤 고객이 각 세션 내에서 어느날에 어떤 것을 검색하다가 구매했는지 알 수 있다. ⓑ어떤 고객이 어떤 것을 구매하기 위해 얼마나 많은 Hit, 페이지, 시간을 사용했는지 알 수 있다.\n",
        "\n",
        "\n",
        "\n",
        "\n"
      ]
    },
    {
      "cell_type": "code",
      "metadata": {
        "id": "7VMx9AbBKU1d",
        "colab": {
          "base_uri": "https://localhost:8080/",
          "height": 354
        },
        "outputId": "609c5882-0f05-4b01-ae0c-c7fd64008ebc"
      },
      "source": [
        "prd = pd.read_csv(filename, dtype={\"CLNT_ID\":np.str, \"SESS_ID\":np.str},thousands=\",\") #파일 불러오기\n",
        "prd.head()\n",
        "prd.dtypes\n",
        "prd.shape\n",
        "#행이 5024906, Product가 구매 이력 데이터이기 때문에 행의 수가 곧 6개월 간 구매빈도"
      ],
      "execution_count": 7,
      "outputs": [
        {
          "output_type": "execute_result",
          "data": {
            "text/html": [
              "<div>\n",
              "<style scoped>\n",
              "    .dataframe tbody tr th:only-of-type {\n",
              "        vertical-align: middle;\n",
              "    }\n",
              "\n",
              "    .dataframe tbody tr th {\n",
              "        vertical-align: top;\n",
              "    }\n",
              "\n",
              "    .dataframe thead th {\n",
              "        text-align: right;\n",
              "    }\n",
              "</style>\n",
              "<table border=\"1\" class=\"dataframe\">\n",
              "  <thead>\n",
              "    <tr style=\"text-align: right;\">\n",
              "      <th></th>\n",
              "      <th>CLNT_ID</th>\n",
              "      <th>SESS_ID</th>\n",
              "      <th>HITS_SEQ</th>\n",
              "      <th>PD_C</th>\n",
              "      <th>PD_ADD_NM</th>\n",
              "      <th>PD_BRA_NM</th>\n",
              "      <th>PD_BUY_AM</th>\n",
              "      <th>PD_BUY_CT</th>\n",
              "    </tr>\n",
              "  </thead>\n",
              "  <tbody>\n",
              "    <tr>\n",
              "      <th>0</th>\n",
              "      <td>4139680</td>\n",
              "      <td>07605037</td>\n",
              "      <td>12</td>\n",
              "      <td>642112</td>\n",
              "      <td>색상:워터멜론</td>\n",
              "      <td>[바비브라운]</td>\n",
              "      <td>39000</td>\n",
              "      <td>1</td>\n",
              "    </tr>\n",
              "    <tr>\n",
              "      <th>1</th>\n",
              "      <td>4140076</td>\n",
              "      <td>10189797</td>\n",
              "      <td>13</td>\n",
              "      <td>570603</td>\n",
              "      <td>색상:BLK0_(BLK0)BLACK|사이즈:120 / 2개</td>\n",
              "      <td>데상트</td>\n",
              "      <td>39000</td>\n",
              "      <td>2</td>\n",
              "    </tr>\n",
              "    <tr>\n",
              "      <th>2</th>\n",
              "      <td>4142395</td>\n",
              "      <td>06158159</td>\n",
              "      <td>85</td>\n",
              "      <td>179538</td>\n",
              "      <td>(not set)</td>\n",
              "      <td>[아베다]</td>\n",
              "      <td>39000</td>\n",
              "      <td>1</td>\n",
              "    </tr>\n",
              "    <tr>\n",
              "      <th>3</th>\n",
              "      <td>4144914</td>\n",
              "      <td>07935714</td>\n",
              "      <td>12</td>\n",
              "      <td>554336</td>\n",
              "      <td>색상:블랙|사이즈:160cm(12~13세) / 1개</td>\n",
              "      <td>아디다스 키즈</td>\n",
              "      <td>39000</td>\n",
              "      <td>1</td>\n",
              "    </tr>\n",
              "    <tr>\n",
              "      <th>4</th>\n",
              "      <td>4144917</td>\n",
              "      <td>06406509</td>\n",
              "      <td>78</td>\n",
              "      <td>190306</td>\n",
              "      <td>5개</td>\n",
              "      <td>데코르테</td>\n",
              "      <td>39000</td>\n",
              "      <td>5</td>\n",
              "    </tr>\n",
              "  </tbody>\n",
              "</table>\n",
              "</div>"
            ],
            "text/plain": [
              "   CLNT_ID   SESS_ID  HITS_SEQ  ...  PD_BRA_NM PD_BUY_AM PD_BUY_CT\n",
              "0  4139680  07605037        12  ...    [바비브라운]     39000         1\n",
              "1  4140076  10189797        13  ...        데상트     39000         2\n",
              "2  4142395  06158159        85  ...      [아베다]     39000         1\n",
              "3  4144914  07935714        12  ...    아디다스 키즈     39000         1\n",
              "4  4144917  06406509        78  ...       데코르테     39000         5\n",
              "\n",
              "[5 rows x 8 columns]"
            ]
          },
          "metadata": {
            "tags": []
          },
          "execution_count": 7
        },
        {
          "output_type": "execute_result",
          "data": {
            "text/plain": [
              "CLNT_ID      object\n",
              "SESS_ID      object\n",
              "HITS_SEQ      int64\n",
              "PD_C          int64\n",
              "PD_ADD_NM    object\n",
              "PD_BRA_NM    object\n",
              "PD_BUY_AM     int64\n",
              "PD_BUY_CT     int64\n",
              "dtype: object"
            ]
          },
          "metadata": {
            "tags": []
          },
          "execution_count": 7
        },
        {
          "output_type": "execute_result",
          "data": {
            "text/plain": [
              "(5024906, 8)"
            ]
          },
          "metadata": {
            "tags": []
          },
          "execution_count": 7
        }
      ]
    },
    {
      "cell_type": "code",
      "metadata": {
        "id": "ddVd6ip3Lcnb",
        "colab": {
          "base_uri": "https://localhost:8080/",
          "height": 270
        },
        "outputId": "5d8694ce-ba1b-41a2-aa7c-cb0c306fd6f3"
      },
      "source": [
        "prd['TOT_PRICE'] = prd['PD_BUY_AM']*prd['PD_BUY_CT'] # 각 구매별 총 회원별 소비금액에 대한 변수 추가\n",
        "prd.head()"
      ],
      "execution_count": null,
      "outputs": [
        {
          "output_type": "execute_result",
          "data": {
            "text/html": [
              "<div>\n",
              "<style scoped>\n",
              "    .dataframe tbody tr th:only-of-type {\n",
              "        vertical-align: middle;\n",
              "    }\n",
              "\n",
              "    .dataframe tbody tr th {\n",
              "        vertical-align: top;\n",
              "    }\n",
              "\n",
              "    .dataframe thead th {\n",
              "        text-align: right;\n",
              "    }\n",
              "</style>\n",
              "<table border=\"1\" class=\"dataframe\">\n",
              "  <thead>\n",
              "    <tr style=\"text-align: right;\">\n",
              "      <th></th>\n",
              "      <th>CLNT_ID</th>\n",
              "      <th>SESS_ID</th>\n",
              "      <th>HITS_SEQ</th>\n",
              "      <th>PD_C</th>\n",
              "      <th>PD_ADD_NM</th>\n",
              "      <th>PD_BRA_NM</th>\n",
              "      <th>PD_BUY_AM</th>\n",
              "      <th>PD_BUY_CT</th>\n",
              "      <th>TOT_PRICE</th>\n",
              "    </tr>\n",
              "  </thead>\n",
              "  <tbody>\n",
              "    <tr>\n",
              "      <th>0</th>\n",
              "      <td>4139680</td>\n",
              "      <td>07605037</td>\n",
              "      <td>12</td>\n",
              "      <td>642112</td>\n",
              "      <td>색상:워터멜론</td>\n",
              "      <td>[바비브라운]</td>\n",
              "      <td>39000</td>\n",
              "      <td>1</td>\n",
              "      <td>39000</td>\n",
              "    </tr>\n",
              "    <tr>\n",
              "      <th>1</th>\n",
              "      <td>4140076</td>\n",
              "      <td>10189797</td>\n",
              "      <td>13</td>\n",
              "      <td>570603</td>\n",
              "      <td>색상:BLK0_(BLK0)BLACK|사이즈:120 / 2개</td>\n",
              "      <td>데상트</td>\n",
              "      <td>39000</td>\n",
              "      <td>2</td>\n",
              "      <td>78000</td>\n",
              "    </tr>\n",
              "    <tr>\n",
              "      <th>2</th>\n",
              "      <td>4142395</td>\n",
              "      <td>06158159</td>\n",
              "      <td>85</td>\n",
              "      <td>179538</td>\n",
              "      <td>(not set)</td>\n",
              "      <td>[아베다]</td>\n",
              "      <td>39000</td>\n",
              "      <td>1</td>\n",
              "      <td>39000</td>\n",
              "    </tr>\n",
              "    <tr>\n",
              "      <th>3</th>\n",
              "      <td>4144914</td>\n",
              "      <td>07935714</td>\n",
              "      <td>12</td>\n",
              "      <td>554336</td>\n",
              "      <td>색상:블랙|사이즈:160cm(12~13세) / 1개</td>\n",
              "      <td>아디다스 키즈</td>\n",
              "      <td>39000</td>\n",
              "      <td>1</td>\n",
              "      <td>39000</td>\n",
              "    </tr>\n",
              "    <tr>\n",
              "      <th>4</th>\n",
              "      <td>4144917</td>\n",
              "      <td>06406509</td>\n",
              "      <td>78</td>\n",
              "      <td>190306</td>\n",
              "      <td>5개</td>\n",
              "      <td>데코르테</td>\n",
              "      <td>39000</td>\n",
              "      <td>5</td>\n",
              "      <td>195000</td>\n",
              "    </tr>\n",
              "  </tbody>\n",
              "</table>\n",
              "</div>"
            ],
            "text/plain": [
              "   CLNT_ID   SESS_ID  HITS_SEQ  ...  PD_BUY_AM PD_BUY_CT TOT_PRICE\n",
              "0  4139680  07605037        12  ...      39000         1     39000\n",
              "1  4140076  10189797        13  ...      39000         2     78000\n",
              "2  4142395  06158159        85  ...      39000         1     39000\n",
              "3  4144914  07935714        12  ...      39000         1     39000\n",
              "4  4144917  06406509        78  ...      39000         5    195000\n",
              "\n",
              "[5 rows x 9 columns]"
            ]
          },
          "metadata": {
            "tags": []
          },
          "execution_count": 9
        }
      ]
    },
    {
      "cell_type": "markdown",
      "metadata": {
        "id": "zINs0fK0zJ87"
      },
      "source": [
        "##### 아래와 같이 CLNT_ID와 SESS_ID, HITS_SEQ가 각 각 같으면 같은 세션 내에서 동일 인물이 여러 제품을 한 번에 구매한 것임. 따라서 한 번의 구매에 여러가지 제품을 구매했다는 것을 알 수 있는 변수를 추가해야될 필요성이 있다. "
      ]
    },
    {
      "cell_type": "markdown",
      "metadata": {
        "id": "j8esC3Rd6NTr"
      },
      "source": [
        "\n",
        "\n",
        "\n",
        "![장바구니 하나 구매.JPG](data:image/jpeg;base64,/9j/4AAQSkZJRgABAQEAkACQAAD/4RDyRXhpZgAATU0AKgAAAAgABAE7AAIAAAANAAAISodpAAQAAAABAAAIWJydAAEAAAAaAAAQ0OocAAcAAAgMAAAAPgAAAAAc6gAAAAgAAAAAAAAAAAAAAAAAAAAAAAAAAAAAAAAAAAAAAAAAAAAAAAAAAAAAAAAAAAAAAAAAAAAAAAAAAAAAAAAAAAAAAAAAAAAAAAAAAAAAAAAAAAAAAAAAAAAAAAAAAAAAAAAAAAAAAAAAAAAAAAAAAAAAAAAAAAAAAAAAAAAAAAAAAAAAAAAAAAAAAAAAAAAAAAAAAAAAAAAAAAAAAAAAAAAAAAAAAAAAAAAAAAAAAAAAAAAAAAAAAAAAAAAAAAAAAAAAAAAAAAAAAAAAAAAAAAAAAAAAAAAAAAAAAAAAAAAAAAAAAAAAAAAAAAAAAAAAAAAAAAAAAAAAAAAAAAAAAAAAAAAAAAAAAAAAAAAAAAAAAAAAAAAAAAAAAAAAAAAAAAAAAAAAAAAAAAAAAAAAAAAAAAAAAAAAAAAAAAAAAAAAAAAAAAAAAAAAAAAAAAAAAAAAAAAAAAAAAAAAAAAAAAAAAAAAAAAAAAAAAAAAAAAAAAAAAAAAAAAAAAAAAAAAAAAAAAAAAAAAAAAAAAAAAAAAAAAAAAAAAAAAAAAAAAAAAAAAAAAAAAAAAAAAAAAAAAAAAAAAAAAAAAAAAAAAAAAAAAAAAAAAAAAAAAAAAAAAAAAAAAAAAAAAAAAAAAAAAAAAAAAAAAAAAAAAAAAAAAAAAAAAAAAAAAAAAAAAAAAAAAAAAAAAAAAAAAAAAAAAAAAAAAAAAAAAAAAAAAAAAAAAAAAAAAAAAAAAAAAAAAAAAAAAAAAAAAAAAAAAAAAAAAAAAAAAAAAAAAAAAAAAAAAAAAAAAAAAAAAAAAAAAAAAAAAAAAAAAAAAAAAAAAAAAAAAAAAAAAAAAAAAAAAAAAAAAAAAAAAAAAAAAAAAAAAAAAAAAAAAAAAAAAAAAAAAAAAAAAAAAAAAAAAAAAAAAAAAAAAAAAAAAAAAAAAAAAAAAAAAAAAAAAAAAAAAAAAAAAAAAAAAAAAAAAAAAAAAAAAAAAAAAAAAAAAAAAAAAAAAAAAAAAAAAAAAAAAAAAAAAAAAAAAAAAAAAAAAAAAAAAAAAAAAAAAAAAAAAAAAAAAAAAAAAAAAAAAAAAAAAAAAAAAAAAAAAAAAAAAAAAAAAAAAAAAAAAAAAAAAAAAAAAAAAAAAAAAAAAAAAAAAAAAAAAAAAAAAAAAAAAAAAAAAAAAAAAAAAAAAAAAAAAAAAAAAAAAAAAAAAAAAAAAAAAAAAAAAAAAAAAAAAAAAAAAAAAAAAAAAAAAAAAAAAAAAAAAAAAAAAAAAAAAAAAAAAAAAAAAAAAAAAAAAAAAAAAAAAAAAAAAAAAAAAAAAAAAAAAAAAAAAAAAAAAAAAAAAAAAAAAAAAAAAAAAAAAAAAAAAAAAAAAAAAAAAAAAAAAAAAAAAAAAAAAAAAAAAAAAAAAAAAAAAAAAAAAAAAAAAAAAAAAAAAAAAAAAAAAAAAAAAAAAAAAAAAAAAAAAAAAAAAAAAAAAAAAAAAAAAAAAAAAAAAAAAAAAAAAAAAAAAAAAAAAAAAAAAAAAAAAAAAAAAAAAAAAAAAAAAAAAAAAAAAAAAAAAAAAAAAAAAAAAAAAAAAAAAAAAAAAAAAAAAAAAAAAAAAAAAAAAAAAAAAAAAAAAAAAAAAAAAAAAAAAAAAAAAAAAAAAAAAAAAAAAAAAAAAAAAAAAAAAAAAAAAAAAAAAAAAAAAAAAAAAAAAAAAAAAAAAAAAAAAAAAAAAAAAAAAAAAAAAAAAAAAAAAAAAAAAAAAAAAAAAAAAAAAAAAAAAAAAAAAAAAAAAAAAAAAAAAAAAAAAAAAAAAAAAAAAAAAAAAAAAAAAAAAAAAAAAAAAAAAAAAAAAAAAAAAAAAAAAAAAAAAAAAAAAAAAAAAAAAAAAAAAAAAAAAAAAAAAAAAAAAAAAAAAAAAAAAAAAAAAAAAAAAAAAAAAAAAAAAAAAAAAAAAAAAAAAAAAAAAAAAAAAAAAAAAAAAAAAAAAAAAAAAAAAAAAAAAAAAAAAAAAAAAAAAAAAAAAAAAAAAAAAAAAAAAAAAAAAAAAAAAAAAAAAAAAAAAAAAAAAAAAAAAAAAAAAAAAAAAAAAAAAAAAAAAAAAAAAAAAAAAAAAAAAAAAAAAAAAAAAAAAAAAAAAAAAAAAAAAAAAAAAAAAAAAAAAAAAAAAAAAAAAAAAAAAAAAAAAAAAAAAAAAAAAAAAAAAAAAAAAAAAAAAAAAAAAAAAAAAAAAAAAAAAAAAAAAAAAAAAAAAAAAAAAAAAAAAAAAAAAAAAAAAAAAAAAAAAAAAAAAAAAAAAAAAAAAAAAAAAAAAAAAAAAAAAAAAAAAAAAAAAAAAAAAAAAAAAAAAAAAAAAAAAAAAAAAAAAAAAAAAAAAAAAAAAAAAAAAAAAAAAAAAAAAAAAAAAAAAAAAAAAAAAAAAAAAAAAAAAAAAAAAAAAAAAAAAAAAAAAAAAAAAAAAAAAAAAAAAAAAAAAAAAAAAAAAAAAAAAAAAAAAAAAAAAAAAAAAAAAAAAAAAAAAAAAAAAAAAAAAAAAAAAAAAAAAAAAAAAAAAAAAAAAAAAAAAAAAAAAAAAAAAAAAAAAAAAAAAAAAAAAAAAAAAAAAAAAAAAAAAAAAAAAAAAAAAAAAAAAAAAAAAAAAAAAAAAAAAAAAAAAAAAAAAAAAAAAAAAAAAAAAAAAAAAAAAAAAAAAAAAAAAAAAAAAAAAAAAAAAAAAAAAAAAAAAAAAAAAAAAAAAAAAAAAAAAAAAAAAAAAAAAFdvbnNlb2sgQ2hvaQAAAAWQAwACAAAAFAAAEKaQBAACAAAAFAAAELqSkQACAAAAAzk1AACSkgACAAAAAzk1AADqHAAHAAAIDAAACJoAAAAAHOoAAAAIAAAAAAAAAAAAAAAAAAAAAAAAAAAAAAAAAAAAAAAAAAAAAAAAAAAAAAAAAAAAAAAAAAAAAAAAAAAAAAAAAAAAAAAAAAAAAAAAAAAAAAAAAAAAAAAAAAAAAAAAAAAAAAAAAAAAAAAAAAAAAAAAAAAAAAAAAAAAAAAAAAAAAAAAAAAAAAAAAAAAAAAAAAAAAAAAAAAAAAAAAAAAAAAAAAAAAAAAAAAAAAAAAAAAAAAAAAAAAAAAAAAAAAAAAAAAAAAAAAAAAAAAAAAAAAAAAAAAAAAAAAAAAAAAAAAAAAAAAAAAAAAAAAAAAAAAAAAAAAAAAAAAAAAAAAAAAAAAAAAAAAAAAAAAAAAAAAAAAAAAAAAAAAAAAAAAAAAAAAAAAAAAAAAAAAAAAAAAAAAAAAAAAAAAAAAAAAAAAAAAAAAAAAAAAAAAAAAAAAAAAAAAAAAAAAAAAAAAAAAAAAAAAAAAAAAAAAAAAAAAAAAAAAAAAAAAAAAAAAAAAAAAAAAAAAAAAAAAAAAAAAAAAAAAAAAAAAAAAAAAAAAAAAAAAAAAAAAAAAAAAAAAAAAAAAAAAAAAAAAAAAAAAAAAAAAAAAAAAAAAAAAAAAAAAAAAAAAAAAAAAAAAAAAAAAAAAAAAAAAAAAAAAAAAAAAAAAAAAAAAAAAAAAAAAAAAAAAAAAAAAAAAAAAAAAAAAAAAAAAAAAAAAAAAAAAAAAAAAAAAAAAAAAAAAAAAAAAAAAAAAAAAAAAAAAAAAAAAAAAAAAAAAAAAAAAAAAAAAAAAAAAAAAAAAAAAAAAAAAAAAAAAAAAAAAAAAAAAAAAAAAAAAAAAAAAAAAAAAAAAAAAAAAAAAAAAAAAAAAAAAAAAAAAAAAAAAAAAAAAAAAAAAAAAAAAAAAAAAAAAAAAAAAAAAAAAAAAAAAAAAAAAAAAAAAAAAAAAAAAAAAAAAAAAAAAAAAAAAAAAAAAAAAAAAAAAAAAAAAAAAAAAAAAAAAAAAAAAAAAAAAAAAAAAAAAAAAAAAAAAAAAAAAAAAAAAAAAAAAAAAAAAAAAAAAAAAAAAAAAAAAAAAAAAAAAAAAAAAAAAAAAAAAAAAAAAAAAAAAAAAAAAAAAAAAAAAAAAAAAAAAAAAAAAAAAAAAAAAAAAAAAAAAAAAAAAAAAAAAAAAAAAAAAAAAAAAAAAAAAAAAAAAAAAAAAAAAAAAAAAAAAAAAAAAAAAAAAAAAAAAAAAAAAAAAAAAAAAAAAAAAAAAAAAAAAAAAAAAAAAAAAAAAAAAAAAAAAAAAAAAAAAAAAAAAAAAAAAAAAAAAAAAAAAAAAAAAAAAAAAAAAAAAAAAAAAAAAAAAAAAAAAAAAAAAAAAAAAAAAAAAAAAAAAAAAAAAAAAAAAAAAAAAAAAAAAAAAAAAAAAAAAAAAAAAAAAAAAAAAAAAAAAAAAAAAAAAAAAAAAAAAAAAAAAAAAAAAAAAAAAAAAAAAAAAAAAAAAAAAAAAAAAAAAAAAAAAAAAAAAAAAAAAAAAAAAAAAAAAAAAAAAAAAAAAAAAAAAAAAAAAAAAAAAAAAAAAAAAAAAAAAAAAAAAAAAAAAAAAAAAAAAAAAAAAAAAAAAAAAAAAAAAAAAAAAAAAAAAAAAAAAAAAAAAAAAAAAAAAAAAAAAAAAAAAAAAAAAAAAAAAAAAAAAAAAAAAAAAAAAAAAAAAAAAAAAAAAAAAAAAAAAAAAAAAAAAAAAAAAAAAAAAAAAAAAAAAAAAAAAAAAAAAAAAAAAAAAAAAAAAAAAAAAAAAAAAAAAAAAAAAAAAAAAAAAAAAAAAAAAAAAAAAAAAAAAAAAAAAAAAAAAAAAAAAAAAAAAAAAAAAAAAAAAAAAAAAAAAAAAAAAAAAAAAAAAAAAAAAAAAAAAAAAAAAAAAAAAAAAAAAAAAAAAAAAAAAAAAAAAAAAAAAAAAAAAAAAAAAAAAAAAAAAAAAAAAAAAAAAAAAAAAAAAAAAAAAAAAAAAAAAAAAAAAAAAAAAAAAAAAAAAAAAAAAAAAAAAAAAAAAAAAAAAAAAAAAAAAAAAAAAAAAAAAAAAAAAAAAAAAAAAAAAAAAAAAAAAAAAAAAAAAAAAAAAAAAAAAAAAAAAAAAAAAAAAAAAAAAAAAAAAAAAAAAAAAAAAAAAAAAAAAAAAAAAAAAAAAAAAAAAAAAAAAAAAAAAAAAAAAAAAAAAAAAAAAAAAAAAAAAAAAAAAAAAAAAAAAAAAAAAAAAAAAAAAAAAAAAAAAAAAAAAAAAAAAAAAAAAAAAAAAAAAAAAAAAAAAAAAAAAAAAAAAAAAAAAAAAAAAAAAAAAAAAAAAAAAAAAAAAAAAAAAAAAAAAAAAAAAAAAAAAAAAAAAAAAAAAAAAAAAAAAAAAAAAAAAAAAAAAAAAAAAAAAAAAAAAAAAAAAAAAAAAAAAAAAAAAAAAAAAAAAAAAAAAAAAAAAAAAAAAAAAAAAAAAAAAAAAAAAAAAAAAAAAAAAAAAAAAAAAAAAAAAAAAAAAAAAAAAAAAAAAAAAAAAAAAAAAAAAAAAAAAAAAAAAAAAAAAAAAAAAAAAAAAAAAAAAAAAAAAAAAAAAAAAAAAAAAAAAAAAAAAAAAAAAAAAAAAAAAAAAAAAAAAAAAAAAAAAAAAAAAAAAAAAAAAAAAAAAAAAAAAAAAAAAAAAAAAAAAAAAAAAAAAAAAAAAAAAAAAAAAAAAAAAAAAAAAAAAAAAAAAAAAAAAAAAAAAAAAAAAAAAAAAAAAAAAyMDIwOjExOjEyIDAzOjM3OjEzADIwMjA6MTE6MTIgMDM6Mzc6MTMAAABXAG8AbgBzAGUAbwBrACAAQwBoAG8AaQAAAP/hCx9odHRwOi8vbnMuYWRvYmUuY29tL3hhcC8xLjAvADw/eHBhY2tldCBiZWdpbj0n77u/JyBpZD0nVzVNME1wQ2VoaUh6cmVTek5UY3prYzlkJz8+DQo8eDp4bXBtZXRhIHhtbG5zOng9ImFkb2JlOm5zOm1ldGEvIj48cmRmOlJERiB4bWxuczpyZGY9Imh0dHA6Ly93d3cudzMub3JnLzE5OTkvMDIvMjItcmRmLXN5bnRheC1ucyMiPjxyZGY6RGVzY3JpcHRpb24gcmRmOmFib3V0PSJ1dWlkOmZhZjViZGQ1LWJhM2QtMTFkYS1hZDMxLWQzM2Q3NTE4MmYxYiIgeG1sbnM6ZGM9Imh0dHA6Ly9wdXJsLm9yZy9kYy9lbGVtZW50cy8xLjEvIi8+PHJkZjpEZXNjcmlwdGlvbiByZGY6YWJvdXQ9InV1aWQ6ZmFmNWJkZDUtYmEzZC0xMWRhLWFkMzEtZDMzZDc1MTgyZjFiIiB4bWxuczp4bXA9Imh0dHA6Ly9ucy5hZG9iZS5jb20veGFwLzEuMC8iPjx4bXA6Q3JlYXRlRGF0ZT4yMDIwLTExLTEyVDAzOjM3OjEzLjk0NTwveG1wOkNyZWF0ZURhdGU+PC9yZGY6RGVzY3JpcHRpb24+PHJkZjpEZXNjcmlwdGlvbiByZGY6YWJvdXQ9InV1aWQ6ZmFmNWJkZDUtYmEzZC0xMWRhLWFkMzEtZDMzZDc1MTgyZjFiIiB4bWxuczpkYz0iaHR0cDovL3B1cmwub3JnL2RjL2VsZW1lbnRzLzEuMS8iPjxkYzpjcmVhdG9yPjxyZGY6U2VxIHhtbG5zOnJkZj0iaHR0cDovL3d3dy53My5vcmcvMTk5OS8wMi8yMi1yZGYtc3ludGF4LW5zIyI+PHJkZjpsaT5Xb25zZW9rIENob2k8L3JkZjpsaT48L3JkZjpTZXE+DQoJCQk8L2RjOmNyZWF0b3I+PC9yZGY6RGVzY3JpcHRpb24+PC9yZGY6UkRGPjwveDp4bXBtZXRhPg0KICAgICAgICAgICAgICAgICAgICAgICAgICAgICAgICAgICAgICAgICAgICAgICAgICAgICAgICAgICAgICAgICAgICAgICAgICAgICAgICAgICAgICAgICAgICAgICAgICAgIAogICAgICAgICAgICAgICAgICAgICAgICAgICAgICAgICAgICAgICAgICAgICAgICAgICAgICAgICAgICAgICAgICAgICAgICAgICAgICAgICAgICAgICAgICAgICAgICAgICAgCiAgICAgICAgICAgICAgICAgICAgICAgICAgICAgICAgICAgICAgICAgICAgICAgICAgICAgICAgICAgICAgICAgICAgICAgICAgICAgICAgICAgICAgICAgICAgICAgICAgICAKICAgICAgICAgICAgICAgICAgICAgICAgICAgICAgICAgICAgICAgICAgICAgICAgICAgICAgICAgICAgICAgICAgICAgICAgICAgICAgICAgICAgICAgICAgICAgICAgICAgIAogICAgICAgICAgICAgICAgICAgICAgICAgICAgICAgICAgICAgICAgICAgICAgICAgICAgICAgICAgICAgICAgICAgICAgICAgICAgICAgICAgICAgICAgICAgICAgICAgICAgCiAgICAgICAgICAgICAgICAgICAgICAgICAgICAgICAgICAgICAgICAgICAgICAgICAgICAgICAgICAgICAgICAgICAgICAgICAgICAgICAgICAgICAgICAgICAgICAgICAgICAKICAgICAgICAgICAgICAgICAgICAgICAgICAgICAgICAgICAgICAgICAgICAgICAgICAgICAgICAgICAgICAgICAgICAgICAgICAgICAgICAgICAgICAgICAgICAgICAgICAgIAogICAgICAgICAgICAgICAgICAgICAgICAgICAgICAgICAgICAgICAgICAgICAgICAgICAgICAgICAgICAgICAgICAgICAgICAgICAgICAgICAgICAgICAgICAgICAgICAgICAgCiAgICAgICAgICAgICAgICAgICAgICAgICAgICAgICAgICAgICAgICAgICAgICAgICAgICAgICAgICAgICAgICAgICAgICAgICAgICAgICAgICAgICAgICAgICAgICAgICAgICAKICAgICAgICAgICAgICAgICAgICAgICAgICAgICAgICAgICAgICAgICAgICAgICAgICAgICAgICAgICAgICAgICAgICAgICAgICAgICAgICAgICAgICAgICAgICAgICAgICAgIAogICAgICAgICAgICAgICAgICAgICAgICAgICAgICAgICAgICAgICAgICAgICAgICAgICAgICAgICAgICAgICAgICAgICAgICAgICAgICAgICAgICAgICAgICAgICAgICAgICAgCiAgICAgICAgICAgICAgICAgICAgICAgICAgICAgICAgICAgICAgICAgICAgICAgICAgICAgICAgICAgICAgICAgICAgICAgICAgICAgICAgICAgICAgICAgICAgICAgICAgICAKICAgICAgICAgICAgICAgICAgICAgICAgICAgICAgICAgICAgICAgICAgICAgICAgICAgICAgICAgICAgICAgICAgICAgICAgICAgICAgICAgICAgICAgICAgICAgICAgICAgIAogICAgICAgICAgICAgICAgICAgICAgICAgICAgICAgICAgICAgICAgICAgICAgICAgICAgICAgICAgICAgICAgICAgICAgICAgICAgICAgICAgICAgICAgICAgICAgICAgICAgCiAgICAgICAgICAgICAgICAgICAgICAgICAgICAgICAgICAgICAgICAgICAgICAgICAgICAgICAgICAgICAgICAgICAgICAgICAgICAgICAgICAgICAgICAgICAgICAgICAgICAKICAgICAgICAgICAgICAgICAgICAgICAgICAgICAgICAgICAgICAgICAgICAgICAgICAgICAgICAgICAgICAgICAgICAgICAgICAgICAgICAgICAgICAgICAgICAgICAgICAgIAogICAgICAgICAgICAgICAgICAgICAgICAgICAgICAgICAgICAgICAgICAgICAgICAgICAgICAgICAgICAgICAgICAgICAgICAgICAgICAgICAgICAgICAgICAgICAgICAgICAgCiAgICAgICAgICAgICAgICAgICAgICAgICAgICAgICAgICAgICAgICAgICAgICAgICAgICAgICAgICAgICAgICAgICAgICAgICAgICAgICAgICAgICAgICAgICAgICAgICAgICAKICAgICAgICAgICAgICAgICAgICAgICAgICAgICAgICAgICAgICAgICAgICAgICAgICAgICAgICAgICAgICAgICAgICAgICAgICAgICAgICAgICAgICAgICAgICAgICAgICAgIAogICAgICAgICAgICAgICAgICAgICAgICAgICAgICAgICAgICAgICAgICAgICAgICAgICAgICAgICAgICAgICAgICAgICAgICAgICAgICAgICAgICAgICAgICAgICAgICAgICAgCiAgICAgICAgICAgICAgICAgICAgICAgICAgICA8P3hwYWNrZXQgZW5kPSd3Jz8+/9sAQwAHBQUGBQQHBgUGCAcHCAoRCwoJCQoVDxAMERgVGhkYFRgXGx4nIRsdJR0XGCIuIiUoKSssKxogLzMvKjInKisq/9sAQwEHCAgKCQoUCwsUKhwYHCoqKioqKioqKioqKioqKioqKioqKioqKioqKioqKioqKioqKioqKioqKioqKioqKioq/8AAEQgAgwT2AwEiAAIRAQMRAf/EAB8AAAEFAQEBAQEBAAAAAAAAAAABAgMEBQYHCAkKC//EALUQAAIBAwMCBAMFBQQEAAABfQECAwAEEQUSITFBBhNRYQcicRQygZGhCCNCscEVUtHwJDNicoIJChYXGBkaJSYnKCkqNDU2Nzg5OkNERUZHSElKU1RVVldYWVpjZGVmZ2hpanN0dXZ3eHl6g4SFhoeIiYqSk5SVlpeYmZqio6Slpqeoqaqys7S1tre4ubrCw8TFxsfIycrS09TV1tfY2drh4uPk5ebn6Onq8fLz9PX29/j5+v/EAB8BAAMBAQEBAQEBAQEAAAAAAAABAgMEBQYHCAkKC//EALURAAIBAgQEAwQHBQQEAAECdwABAgMRBAUhMQYSQVEHYXETIjKBCBRCkaGxwQkjM1LwFWJy0QoWJDThJfEXGBkaJicoKSo1Njc4OTpDREVGR0hJSlNUVVZXWFlaY2RlZmdoaWpzdHV2d3h5eoKDhIWGh4iJipKTlJWWl5iZmqKjpKWmp6ipqrKztLW2t7i5usLDxMXGx8jJytLT1NXW19jZ2uLj5OXm5+jp6vLz9PX29/j5+v/aAAwDAQACEQMRAD8A8v8AE3/IWh/7B9l/6SxVkVr+Jv8AkLQ/9g+y/wDSWKsigAorqPBHh+w1afUNS195U0bR7f7TdiHh5SSFSJT2LMcZ9j9a1X+JOmbWtIvh/wCGV07GwI1uxuQv/Xfdnd/tYoegLU4KiuyjsbQ/BK4v/ssP2sa+kQuPLHmBPIJ2buuM846VF8LbS1vfiVpNvf2sN3bs0heGeMOj4jY8qeDyKf2mv62uJ/Df+t7HJUV13jrR7FZLbxH4ci8vRdXyywj/AJdJx/rID6YPK9MqRjpWjr15a+FdT8K6haaLpV3v0CCSW3vLUPDM7bwXdRjc3ueeBS6a97fg/wDIb3sv62/zOAor1/V/G9rYeCvD2sQ+B/BzXGptciZX0gbF8twq7RuyODzkmvI5pPOnkl2JHvYtsQYVcnoB2FHWwdLjKK67w5ZWs/w78YXM9tDJPbrZ+TK8YLRbpsNtJ5GRwcda34NftfCfwz8NXMPhfw7qdxfvd+dNqeniZ/kkAXDZB6HvntQB5lRXodx/YPjzwzqt7YaLb6Fr2kwfa3jsSRb3UAYB8IfuMu4Hjr/LzyjrYOl0FFFdP4P8Mab4oee1m1O9t9QjQyRWttp63BuFBUYT96pL/MzFQvCoxzxigDmK1/Cf/I6aJ/2EIP8A0Ytb1r4R8OXi3csGvasbazhaW4uv7Gj8mLCsVVnFzgM5XagP3mIHesXw0IV8e6Stq7yQDU4RG8iBGZfNGCVBIBx2ycepo2A3qKKK8w++Ciuh8EaZaat4mSC/iNyiQySpahyhuXVSVjBHTOKn1jxTFe2Nxp1x4V0iwkGFSS2tjDNCQR1OeeBgg07WVzF1Hz8iV+5y9Fd//bFv4c8B+HZodA0W+mvVuDLLfWQkc7ZSBzkHoe/oKq+Hvsmv6trGr3Gi2k89raia30m0QxxOwKqSFGSQB8xHcmq5dbXM/bvlcnHTb8bHFUV0Gt+JotasBbv4e0nT50kDLNYQGE4wQVYZOe30xXQ6rf2ng2OxtbHwxpd/bT2scxv9QgMxuWZQWKHICgZxgelJRW99CnVkrLl1fmuh59RVi+niutQnnt7dbWKSQskCHIjBP3QfQVt+AraC88bWEF3BHPC3mbo5UDKcRsRkHjrUpXNJz5IOb6K5zlFdh4QuLfTvDfiHU5dM0/UJrUW4iS+txKi7nIPHUcehq1pur6J4wvo9I1fQNP0ye6by7a90yMxeXIeF3JkhgTgf5yL5L6LcylWcXL3dFu/knt8zhaKlubd7S6lt5eJIXZGx6g4NRVnudIUVNaLbPdIt9LLDAc73hiEjDjjCllB5x3H9K29X0bQ9G1RNPm1HV57iZgLZbfSUb7UpbarxfvwXVj90jrWkYSn8JzVsTSoW9o7X8mc9Trj/AJFnXP8Ar0j/APSmGuh1uygtf7cjS2eE276OqLPAIpY99lIzhlydjMwBYZPzDknGa564/wCRZ1z/AK9I/wD0phq1BwqJM5KteOIwc5x21OEoorrvDllaz/Dvxhcz20Mk9utn5MrxgtFumw20nkZHBx1rt6HypyNFdZ8MLO21D4kaVbX9tDc28hk3xTRh0bETEZB4PIp/h6ytZvh94yuZraGSe2Fp5ErxgtFumIO09RkcHFAHIUV6z4H8X2uqWuo2t54M8Jv/AGXo0tzHKdLBeV4lXBcluc9+hPtWV4eu7D4hePbOPVPD+k2cVvazOmn6TAbVb50UusZIJOSRjPoKb3t8/lr/AJC6X/rp/med0V2uveNodQ0270i78EaDpko+WOWzs2guLdgw+8xJLcDBBA61xVSUFFeieHlsvDvw3TxNb+HbHxBfS3r28738TTQ2KKqlQ0YwMtnO4njGKzrTWLHxX8RvDrt4f0zTVe8t4bm3sotsE+ZRz5ZyBkHBHOatK8lFf1cm9ouRxlFekeMPHcVtq2t6HbeDPCUMMc09pHcR6UFmRQSoYMGwGHXOOvamW0Wh+AfCel6nqOkW2t+INXjNzBBfAtbWtvkhWZBjezYPX9McxFprm6FNWdup51RXp+lXmh/E43GjXPhzTND1wwSS6dd6TEYYpHRS3lyR5IOQD83UYrzDpT62DpcKKktxC1zEt07xwFwJHjQOyrnkhSQCcdsjPqK7XUPBfhzTdPs76fxFqbWt7CJbeZNIjKyfKCygm5wWQttYDOGBFG4jhq17n/kS9N/7CF3/AOi7arninw7pvh5LaGG/1GTUJUEktne6cts9uu5xiQea5VztVgpHKurZ5xVO5/5EvTf+whd/+i7agDIooooAKKK1fC0Mdx4v0eG4jSWKS+hR43UMrKXAIIPUVUVzNIUnZNmVRXsd14l0m8+Jdx4QvfAnh59OfUnsFksLLyLpR5hRXDqeo6nAGfasjw3DZ+FbLx3cPpWl61Lo80MFv/adqJ0x57ITjjBI9CKhNNJ9/wDgf5lNNNrseZ0V6ZpHiDw5481KHQdf8LaVo9xesIbTUdGhMHkynhN8eSHUnAP+SPOr20ksNQuLOfAlt5WifH95Tg/yp7MXQgorqPBHh+w1afUNS195U0bR7f7TdiHh5SSFSJT2LMcZ9j9a1X+JOmbWtIvh/wCGV07GwI1uxuQv/Xfdnd/tYoegLU4KilPXjikoAKKKKACitTw9YabqmtQWWsak+mQTusa3SwLIsbMwGX3OgVACSWycY6enS3PgbSLbVxpP9oeIJdS/58otBRpvu7vufad33eenTmna4HDVr+Jv+QtD/wBg+y/9JYqZ4hsNN0vWp7LR9SfU4IHaNrpoFjWRlYjKbXcMhABDZGc9PV/ib/kLQ/8AYPsv/SWKkBkUUUUAFFFFABRRRQAUUUUAFFFFABRRRQAUUUUAFFFFABRRRQAUUUUAFFFFABRRXoPw7ntNN8I+LtZuNH0zVZ7CK1MEepWonjUvKVPB5HB7EdBQB59RXoupXOm+NPh7q2tf8I5p+ialo80AE2lxGGC4SRiuwpkjcOuc5NaGs+KbTwjpPhuztfCHhe+Fzo0FzNPfaaJJXdtwJLAj069aNt/60uG/9fI8qoru9etdC8TeDJ/E+gaYujXthcRw6jYxOWhZZM7JY8/d5BBXp/XhKOtgCiu4+Gtpplpcaj4m8R2Ud7pekRopgmQOkssrbFUggg4BZv8AgIrF8Z6Gnh3xlqGnW532yS77Z+u+FwGQ/wDfJFPql3BapmDRXrnjXxnZeGPFlzott4H8Jz2tukWHl0wCVt0ascspHOSecVy/i7TNEvPD2n+K/C9q+n213O9rd6e0hkFvOoDfIx5Kspzz0/QIFqcXRXrnjXxnZeGPFlzott4H8Jz2tukWHl0wCVt0ascspHOSecVy3i/TNEvPDun+K/C9q+n213O9rd6e0hkFvOoDfIx5Kspzz0/QLpcFqcZRRXrev+HdH1nwRo9jpNhDa+IrXRYdSUwRqp1CMgiVTgfM67Q4PJI3U3pG/wDXX/IFq7f1/Wp5JRXXeHLK1n+HfjC5ntoZJ7dbPyZXjBaLdNhtpPIyODjrXU2/hzS9Z+B1jHbWMKa+Eur+KdIlElxHDLtkjLdWwj7gOfuUPRN9gWrSPKKK6TwJosGs+J0bUR/xLNPja9v2xkCGMbiP+BHC/wDAqv8AxZtLSy+JN/Dp9nb2UHlQMsFtGEjQtChOAAB1JoelgWt/6/rc4yiiigAooooAKKKKACiiigAooooAKKKKACiiigAooooAKKKKACiiigAooooAKKKsWKWcl4i6lPPb2xzvkt4RK68HGELKDzj+IevPSgCvRXe6r4E0LSdSjsZNd1a4mnI+yi20ZH+1qzbUeL/SAXVj90jr2rnfFGj6boWorZafqN1ezoim5W4s1g8lmRW8viRzvUsVdTjaykc07AR6z/yCfD//AGD3/wDSqesitfWf+QT4f/7B7/8ApVPXdQa5aeEvhX4ZvIfDHh7U7nUJbsTTanp4mfCSALhsg/xd89BR0uHWx5dRXpWqabpF/rPgfXbLR4tNi1y4C3WnAboSyTKhZVP8DA/d6cVN4g+IFhp/ijUtKm8BeE5rK1u5YP3Wn+TKyK5X/WKeDgdQPwpevn+Af8D8Ty+iur8caJpVi2mav4bEqaTrNuZ4YJm3PburbZIy38QDDg+hrlR1FC1dgEor2/UtXsE+J8Xg2HwH4du7GV4IXeHT9lzteNSz+Yp4xuJzjoPxrlfBkGl6b4s8XyxWVhrFrpenXctml9Cs8T7JVCMR347jHWj/ACb+4Fqvu/E86or0i71DTfG/w/1zUJvDelaNf6KYJIrjSbfyI5Vkk2GN1ycnuDnPH1zn/DW00y0uNR8TeI7KO90vSI0UwTIHSWWVtiqQQQcAs3/ARTSu7Ce10cPRW7400NPDvjHUNOtzvtkk32z/AN+FwGQ/98kVhVKd1cpqzCivW9f8O6PrPgjR7HSbCG18RWuiw6kpgjVTqEZBEqnA+Z12hweSRurkvDllaz/Dvxhcz20Mk9utn5MrxgtFumw20nkZHBx1pvRtdv8AOwlqk+5yNFer2/hzS9Z+B1jHbWMKa+Eur+KdIlElxHDLtkjLdWwj7gOfuVxngTRYNZ8To2oj/iWafG17ftjIEMY3Ef8AAjhf+BU7e9b+v63F9m6Obors/izaWll8Sb+HT7O3soPKgZYLaMJGhaFCcAADqTWT4T0TTfEGq/2fqGpXFhPKD9m8m0WcSsFZtnMiEMxAVQM7mYDjvKd0UzCoru7bwNoV1rh0uPW9YE0TkXTNoqbLNQwV5Jj9pzGik/MxHHeuMvks47x102ee4thjZJcQiJ24GcoGYDnP8R9eOlMRf8Wf8jprf/YQn/8ARjUU7xV/yO2t/wDYQn/9GNRW0KTmr3Fcb4m/5C0P/YPsv/SWKsiut8QeFPEU+pxPBoOpyKLG0QslnIQGW2jVhwOoIII7EGsv/hDvE3/Quat/4Ay//E1lZjOg+HYh1fT9f8JvcR21zrdvH9iklIVWnifcsZPbdkj64rNb4beNFvmtW8MamJEYqX+zN5fHfzPu4984ql/wh3if/oXNW/8AAGX/AOJrWaP4lPY/YnTxU1pt2fZyLkx7emNvTHtQ11W4I1dJ0jUtY+Bd3baRp91fzr4hR2itYWlYKICCcKCcZI596j+HGh6tonxU0NdZ0u909pTMYxd27xFwImzjcBnrWVptl8Q9FgeHR7bxNYRO29o7WO4iVm6ZIXGTTri2+I13ewXl1D4onubYEQTyJcM8WeDtY8jPfFDvdtdf8rC+zb+t7jvBmr20ovPCmuy+XpOsMAszDP2S5H+rmHtn5W9VPtV74sadcaRqHh3Tr5Nlxa6HBDKvoys4P8q5v/hDvE5/5l3Vv/AGX/4mrN/oPjXVJkl1PStfvJI0EaPcW00hVR0UEg4Az0pNNpf10f8An/Vh31b/AK3X+Ro+JP8AklXgv/fvv/Rq1xddBL4b8YTWkFrNouuSW9vu8mF7WYpFuOW2jGBk9cda6/T/AAd4U/s22/tXw58RftvlL9o+zWMXl+Zj5tu5c7c5xnmnZ6sV+hieF/8AkmPjf/csv/RxrQ1HQNY1v4U+Dzo2k32oCJ73zPsls8uzMoxnaDjOD+VZuteG9UgvLq28IaL4sj0e4RPMiv7Vg8pXn5xGNpAPI9KbYQ/EnSrNbTTI/FVnbISVht1uY0XJycKMDrRuPb+vI1dP0S7+H3hTWNT8Sp9iv9WsX0/T9PkYCZw5G+Vl6qoAIGep/CvOq37rwz4vvrl7i90TW7ieQ5eWa0mdmPuSMmof+EO8Tf8AQuat/wCAMv8A8TSs73YaJWMaitn/AIQ7xN/0Lmrf+AMv/wATR/wh3ib/AKFzVv8AwBl/+Jp2YDdd8SXmv7PtccEWJpbmTyVI864l2+bM2ScM2xMhcINvyqMnJ4T/AOR00T/sIQf+jFp3/CHeJv8AoXNW/wDAGX/4mtTw14V8Q2vizSJ7nQdThhjvoHeSSzkVUUSLkkkYApaguyLlFaX/AAjmuf8AQG1D/wABX/wo/wCEc1z/AKA2of8AgK/+Febyy7H3Xtaf8y+8j0nTdR1O98vRoJZ7mJfNCwn5wARyO+RkdOa7aS31rWPC+qy+N9Nlh+wWoe01K6t/JnMgICxljgyAgnrnHrmuRg0TxFazrNa6ZqcMqHKyR28isv0IFWb+08XaoEGp2+t3gT7ouEmk2/TOcVdny2sc9RxnNNSWn3/0zsrTVPF2m/Dnw2PCEd26utz5/wBnsxPgiY7c5Vsd65M2Hi+/8QXeorZ6h/a0LLNMY4THMhbowQAHnHYUloPG9hbLbWP/AAkFtAmdsUPnIq5OTgDgcmo/s/jH+0Df+Trn2wjabnbN5mPTd1qpXbvqZQjGHNZx1v8Ai76m9r1tqOo+CrrVvF2m/YdTguI47a5eAQS3YbO9XXjdgAENj+tR6LaeONIK6Yuh3V9p8zDdZ3NsZbds9w33V653AisG+07xVqcol1Kz1i8kUYD3EUshA9MkVPGnjWKz+xxLryW23b5CiYJj029MUlo72HZcnLzR/wAvTX+vIq+LbCy0vxbqNlpbbrWGYrH827b6rnvg5H4Ve+HP/I/ad/21/wDRTVZ0Pw5pv2J/+Ek0bxV9q8w7PsFquzZgYzvGc5z+lLquix2b28/g3TfFcFypbzJLyAKQCMfKYxn1zSUJR1KlVhODpX6Wv8hvhezutQ8F+KLewtprmdvsu2KGMuxxIScAc1J4a8J6hp2pQa34jtpdK0zT5FnkkulMbSFTkIinliSMVlWFl4t0sudMttaszJjebeOWPdjpnGM9abfaf4r1ORX1K01m8dRhWuIpZCPoSKeqs0tQlq5JTVpffsl+hmajeHUNUurx12tcTPKV9NxJx+tVq0v+Ec1z/oDah/4Cv/hR/wAI5rn/AEBtQ/8AAV/8KzUGtLHT7Wn/ADL7zNrSsNZexijQ2tvc+S0phM2/MYlQRzAbWGQ6KFOckDlSp5o/4RzXP+gNqH/gK/8AhR/wjmuf9AbUP/AV/wDCmlJbEzlRmrSaZcutQtPK1C4WVLv+0ltQlk6sBaGGBo8kgLkqWxH8zgpkyAtg1h3H/Is65/16R/8ApTDWh/wjmuf9AbUP/AV/8KW48Pa1/wAI9rEf9j3++W2RY1+yvlz9oiOAMcnAJ+gNax5pTTaOGtGlSws4Qe/meZ16J8Otd1Hw34I8Y6potx9mvIUsxHLsV8ZlIPDAjoT2rlP+EO8Tf9C5q3/gDL/8TU8XhvxhBaz20Gi65HBcbfOiS1mCy7TldwAwcHkZ6V262PldD0P4ffFfxp4g8dafper6z9os7jzBLF9lhXcBGxHKoCOQOhrkvDX/ACTTxz/u2X/o81k2nhrxhp90lzYaLrltcR52Sw2kyOuRg4IGRwaIvDfjGG2ntodG1yOC52+fElrMFl2nI3DGDg8jNKw7mp8N/wDW+Jv+xevP5LXO6HpGrazqPk6BbTXN5ChnVbc/vAFI5XuSMjpzV628N+MLLzfsei65b+dGYpPKtZl3oeqnA5B7jpSW3hjxdZXKXFnoet288ZyksVpKrKfUEDIp9b+X6v8AzF0t5/5f5HdPaeItf8Ga3L8SNHngGmWPmWWr3tqYLnzQQEhLMAZVbJHOSD3zivJq6rUtN8f60IxrNn4k1BYzlBdRTy7fpuBxXWr4O8EbRu8OfEzOOcWMP/xNLld7jvpY5jwpZePNKhj1vwhY6m8FzujL2cBnjlAJBV0AII68MPpXUanpUdl488BX11pkWj6zqNzDLqGnwrsSMi4AR9mfkLLyV9R0HNc4dO8YaLqV2vgyz8Xafp0khMQMU0UjL23+WApP0rMPh7xm2oi/bSNdN4JBILk203mBwcht2M596pP3oy7f1YlrRrud/wCO9e+K15ea9pklpq0mhNNNGMaQNhgDHB8wR5xtA+bP41k6zod5498EaFrXhmB9QutJsk03UbKAbpYthPluEHLBgew7exxlSz/FKaJ4ppfF8kbqVdHa6IYHqCO4rMsNA8aaVdC50vSdesrgDAlt7aaNgPqoBqFHSz8v6/Ety1ujp/BPhzVvBV3J408TWM2l2emRyfZ47yMxyXNwyFUjVDhupyTjGAfevNmYsxY9ScmvRtK1z4m6d9qjvdJ1fXLS8j8u4tNXs57mOQduvII9iO3pXKTeEfEss7unhfVIVZiRGllMVQegyCcD3JNNp3ErWMOtfQvEl5oG/wCyRwS5miuY/OUnybiLd5Uy4Iyy73wGyh3fMpwMO/4Q7xN/0Lmrf+AMv/xNH/CHeJv+hc1b/wAAZf8A4mnZgY1a9z/yJem/9hC7/wDRdtTv+EO8Tf8AQuat/wCAMv8A8TWpceFPETeErCBdB1MypfXTtGLOTcqmOAAkY4BKtg+x9KLMDkqK2f8AhDvE3/Quat/4Ay//ABNH/CHeJv8AoXNW/wDAGX/4mizAxq2PCP8AyO2if9hCD/0YtL/wh3ib/oXNW/8AAGX/AOJp8PhTxXbzpNb6BrMUsbB0kSzlVlYcgggcGqi+WSZMleLR3PjP4najpfjDXbTR9F0HTbqK8ngGp2tgFuyNxUkyEn5iOpxWP4Ksb7Vvh/41ttPtbi+upVsysUEbSSP++JJwMk9zWBceFvFt3cyXF1oWtTzysXklks5WZ2JySSRkk+tWtM0rx7ojSNo1h4j08ygCQ2kM8W/HTO0DPU1nGNlZlyld3Xc2fCHgXVdL1i38Q+LbSbRNG0uZbmea+QxPKUO5Y40bDMzEY4H9M8XrGoNq2uX2ouuxru4knK5zt3MWx+tbWpaR471mRZNY0/xFfugwrXUE8pUexYHFdBofg7QP7Hh/4SXw54+/tL5vO/s+xj8n7x27d67umM575p2b17Cul8yj8OxDq+n6/wCE3uI7a51u3j+xSSkKrTxPuWMntuyR9cVmt8NvGi3zWreGNTEiMVL/AGZvL47+Z93HvnFXfEvg4fa4f+EO8OeLfs+z99/atj8+/P8AD5a4xj1qNo/iU9j9idPFTWm3Z9nIuTHt6Y29Me1D11W4baHIEYODSVs/8Id4m/6FzVv/AABl/wDiaP8AhDvE3/Quat/4Ay//ABNOzDQxqK2f+EO8Tf8AQuat/wCAMv8A8TR/wh3ib/oXNW/8AZf/AImizAxq1/8AhJLz/hH/AOyfLg2+T9m+0bT5n2fzfO8nrt2+b8+du/PG7b8tO/4Q7xN/0Lmrf+AMv/xNH/CHeJv+hc1b/wAAZf8A4mizAxq1/E3/ACFof+wfZf8ApLFTv+EO8Tf9C5q3/gDL/wDE1qeIPCniKfU4ng0HU5FFjaIWSzkIDLbRqw4HUEEEdiDRZgclRWz/AMId4m/6FzVv/AGX/wCJo/4Q7xN/0Lmrf+AMv/xNFmBjUVs/8Id4m/6FzVv/AABl/wDiaP8AhDvE3/Quat/4Ay//ABNFmBjUVs/8Id4m/wChc1b/AMAZf/iaP+EO8Tf9C5q3/gDL/wDE0WYGNRWz/wAId4m/6FzVv/AGX/4mj/hDvE3/AELmrf8AgDL/APE0WYGNRWz/AMId4m/6FzVv/AGX/wCJo/4Q7xN/0Lmrf+AMv/xNFmBjUVs/8Id4m/6FzVv/AABl/wDiaP8AhDvE3/Quat/4Ay//ABNFmBjUVs/8Id4m/wChc1b/AMAZf/iaP+EO8Tf9C5q3/gDL/wDE0WYGNRWz/wAId4m/6FzVv/AGX/4mj/hDvE3/AELmrf8AgDL/APE0WYGNRWz/AMId4m/6FzVv/AGX/wCJo/4Q7xN/0Lmrf+AMv/xNFmBjUVs/8Id4m/6FzVv/AABl/wDiaP8AhDvE3/Quat/4Ay//ABNFmBjUVs/8Id4m/wChc1b/AMAZf/iaP+EO8Tf9C5q3/gDL/wDE0WYGNXpHw11X+xfA/jXUPsNlqHkw2n+jX8PmwvmYj5lyM4zke4Fch/wh3ib/AKFzVv8AwBl/+JqxD4c8Y29rcW1vo2uRQXIUTxJazKsoU5G4AYbB5GaNbC0uiXxJ471LxJYxae1rp+l6bE/miw0u2EEJkxjeRkknHqa6Lxl4Y17WrPwpPo+iajfwjQLZDLbWryIGy3BYDAPIrkP+EO8Tf9C5q3/gDL/8TW1bn4nWlolra/8ACWQ28a7Ehj+0qir6BRwB7UraW87/AINfqO+vyt+KZe1DTZfAfw7v9K1lkj1vXpYCbFXDPa28ZLbpMZwWYjA64/EV59XR2vhLX5tVhk1jw/r0lu8ytdPFZSGVkJ+YqWGN2M4z3rtP+EO8D/8AQufEz/wBg/8AiaLPdhdbCmDwh4f+Gui6J4ybWxcakx1h00oQ8BgUjDmT/ZBIA9TVT4hx6Nr3gvQfEfhh72S1sP8AiTz/AG9UEw2DdGW2cdCRke1ctqPhzxbqF600+ja/dBfkje6tZXcRjhQSR2GBjpTI/DnjGKyls4tG1xLWZlaWBbWYJIy9CVxgkZ4z0p7u/nf+vloC93T+v6vqdb8SfBvibWPiNez6X4f1K6gmSARzxWjmNv3KD7+NvUetZviu3Xwp4IsPCFxNFLqz3rahqEcMgcWp2BEiJHBbGScHjjrUDy/FGSAwyP4uaIrtMbG6KkemPSsT/hDvE/8A0Lurf+AMv/xNKzWnQF0f9bWO0+JPg3xNrHxGvZ9L8P6ldQTJAI54rRzG37lB9/G3qPWszxZbr4U8D2PhC4mil1Z71tQ1COGQOLU7AiREjgtjJODxx1qF5fijJAYZH8XNEV2mNjdFSPTHpVPRfB2oHWIP+Ek8O+I/7Ny3nfYLFvO6HG3eu3rjOe2aOV2t0Fe2vb/Kxy1eg+LdWvNC1TwVqmmymK6tdCtZI2HqC/B9QRwR3BrSufB3g77JN9j8OfEj7RsbyvNsYdm/HG7C5xnriuMufDfjC88r7XouuT+RGIovNtZm8tB0VcjgDPQcU9ene/4P/MNOva35Hf3+n2Unw18WeJdDQR6ZrSWknkD/AJdZ1n/exfQEgr/ssPSsga5N4b8H/D3V7cBmtbi+ZkI4dDKoZT9VJH41zUWg+NYdOm0+HStfjsp2DS2yW0wjkI6FlxgkYHWmS+G/GE1pBazaLrklvb7vJhe1mKRbjltoxgZPXHWhKz0B6rU7Hxrp+n+B/DNzY6POsx8T3K3UMidU09cNGpPu7fjsrH+MX/JT7/8A64W3/oiOsSbwv4tuBGLjQ9alESCOPfaStsUEkKMjgcnj3p154c8Y6jdNc6ho2uXU7ABpZ7WZ2IAwMkjPAAH4UuX+vwHfW/l+tzn6K2f+EO8Tf9C5q3/gDL/8TR/wh3ib/oXNW/8AAGX/AOJp2YGNRWz/AMId4m/6FzVv/AGX/wCJo/4Q7xN/0Lmrf+AMv/xNFmBjUVs/8Id4m/6FzVv/AABl/wDiaP8AhDvE3/Quat/4Ay//ABNFmBjUVs/8Id4m/wChc1b/AMAZf/iaP+EO8Tf9C5q3/gDL/wDE0WYGNRWz/wAId4m/6FzVv/AGX/4mj/hDvE3/AELmrf8AgDL/APE0WYGNRWz/AMId4m/6FzVv/AGX/wCJo/4Q7xN/0Lmrf+AMv/xNFmBjUVs/8Id4m/6FzVv/AABl/wDiaP8AhDvE3/Quat/4Ay//ABNFmBjUVs/8Id4m/wChc1b/AMAZf/iaP+EO8Tf9C5q3/gDL/wDE0WYGNRWz/wAId4m/6FzVv/AGX/4mj/hDvE3/AELmrf8AgDL/APE0WYGNRWz/AMId4m/6FzVv/AGX/wCJo/4Q7xN/0Lmrf+AMv/xNFmBjUVs/8Id4m/6FzVv/AABl/wDiaP8AhDvE3/Quat/4Ay//ABNFmBjUVs/8Id4m/wChc1b/AMAZf/iaP+EO8Tf9C5q3/gDL/wDE0WYDbDxJeadpElhDHA6nzvJmdTvt/OjEc23BCnfGoU7g2MZXaeayK2f+EO8Tf9C5q3/gDL/8TR/wh3ib/oXNW/8AAGX/AOJoswG6z/yCfD//AGD3/wDSqevQV8Vf8Iz8H/CR/sLRdX+0TXv/ACFbPz/K2yL9zkYznn6CuU1bwp4il0zREi0HU3aKxZJFWzkJRvtMzYPHBwwOPQj1qnL4c8YzWcFpNo2uSW1uWMML2sxSIscttXGBnHOOtGtrC0un/WxetPE2peKfiRoV7q0qFkvbeKGKJAkcMYkGERRwAKv+JPAHi7VviBrH2Hw5qbpcahM0UrWzJGwMhwd7ALj3ziudh8KeK7edJrfQNZiljYOkiWcqsrDkEEDg1rXY+Jl/avbXw8WXMEgw8U32l1Ye4PBotovK/wCNv8h31fy/C/8AmL49mtdP0/Q/CtndRXr6LDJ9ruIG3RmeV9zop7hcAZ9c1xo6iuv8N+DpP7Sf/hLvDnir7F5R2f2XY/vPMyMZ8xcbcZ9+lber+DvDX9k3H9g+HPiF/aO39x9tsY/J3Z/i2rnGM9KNVq/UNHodv4l1z4oDxw2maDptzf6E4hRIJ9MV7WVTGu5WlKfdyTk7uK5rQn03w98SPHr6HbWl3Y2elXRitp082BsPHlCM/Mucjr0FctI/xPmt2t5W8XPCy7WjY3JUj0x0xWXbeGvGFmJhaaLrkAnjMUvlWsy+Yh6q2ByDgcHjilZ3v5Nff/kJWsl6fgdjqmrN4/8AhtcHRra00i40aT7Tf6Pp0CwwXMR4+0Ko5LJ0IJPHIx0qcweEPD/w10XRPGTa2LjUmOsOmlCHgMCkYcyf7IJAHqa4iz8O+MtOnM2n6PrtrKVKGSC1mRipGCMgdCO1F34c8Y6hMJr/AEbXLqVUCB5rWZ2CgYAyR0A4Aotvbrb+vy/4Ya6eV/6/M6v4iR6Nr3gnQvEfhh72S1sB/Y8/29UEw2DdGW2cdCRke1eZ12Gg+HNaiu1s9e0bxUmhzNuu4NOtXDyFQdh2sNpIJHXoM4ro7nwd4O+yTfY/DnxI+0bG8rzbGHZvxxuwucZ64oaau/68/wAQTvZf1/VjN8W6teaFqngrVNNlMV1a6FayRsPUF+D6gjgjuDW9f6fZSfDXxZ4l0NBHpmtJaSeQP+XWdZ/3sX0BIK/7LD0rgLnw34wvPK+16Lrk/kRiKLzbWZvLQdFXI4Az0HFPi0HxrDp02nw6Vr8dlOwaW2S2mEchHQsuMEjA602m7+rf3u4LS3y/A6Ua5N4b8H/D3V7cBmtbi+ZkI4dDKoZT9VJH41Z8a6fp/gfwzc2OjzrMfE9yt1DInVNPXDRqT7u347K46Xw34wmtILWbRdckt7fd5ML2sxSLccttGMDJ64602bwv4tuBGLjQ9alESCOPfaStsUEkKMjgcnj3o/r9f0/MFp/X9d/yNv4xf8lPv/8Arhbf+iI64augvPDnjHUbprnUNG1y6nYANLPazOxAGBkkZ4AA/CoP+EO8Tf8AQuat/wCAMv8A8TSSaDol6Db/AMSXmo6RHYTRwIo8nzpkU77jyYzHDuySo2RsVG0LnOW3Hmsitn/hDvE3/Quat/4Ay/8AxNH/AAh3ib/oXNW/8AZf/iadmAeKv+R21v8A7CE//oxqK1PE3hTxFceLdXnt9B1SWKS+mdJI7ORldTISCCByCO9Fb06vJG1iWfXUH+rP++3/AKEalqpMLk6bcjT2iW6Ik8kzAlA+Tt3Y5xnGa4iaXxj4T1fSJdX8RQa7ZajfJZS25sEt2iLg4ZCp+bGO/b8xh9qxXS56FRXOeIdK8UalfR/2D4jh0S0SMZxYrcSSPk5zvOAoGMY5zms/w9f+IPEnhPUrSXUodP1mxvpLI6hBbrIjGNhlxG3HIyMdv0pbgdnRXmGuWfjzSLjTrWDx99rvNRuRDDB/Y0CfKOXcnnhVBPT0Heu58Ra3H4d0Ca+mHmyqAkEQ+9PK3CIB6k4/U9qOlw62NaiuG8F+IdXvvhreaprtwJNQtmug8ioihTGTgAAAcYqDwppvjbUdP0nWNQ8bb4LiOK5lsv7JhG5WAYpvGCODjIFO2v3fiLp9/wCB6BRXEeJp/EOoeOrLQvDuv/2Mh097uaT7HHcbiJAoGG6dT37V0Xh+w1bTtPaHXda/tm5MhYXH2VLfC4GF2rx68+9Jaq/9dhvR2NWiiigAooooAKKKKACorj/j1l/3D/KpaiuP+PWX/cP8qa3AlorP1m51O20/dolhHfXbOECTT+UiA9XY4JIHoBk1j+BNW1XVtN1NtelhkurXU57U+Qm2NQmBhe+M55OTSWt/6/rcHodRRXnUV1428VwXet+HdZtdMsY5pI7Cye0WX7WsbFdzu3KbiD06D86ln8aanrOheGodAENnqmv7w0syb1tREP3pC/xEEYAP40br+uv9fINnb+tD0CiuH0q98SeH/F9nofibVYtat9Uika1vFtVgeOSMAsjKvGCDkH2qlrel+M9D0a71O7+I+2C2jMhUaHBk+ijnqTgD3NJuyuNK7sei0V59qd94q034c6KlzqvleIL+8t7eS6+zRnyzK/I2Y2napxwO1b3h/RvEum3skuv+K/7ZtzGVWD+zo7fY2R825Tk8ZGPeqtZu/Qm+iOjorzexuvG/i/TpfEGg69aaZaNJILLT2slkEyIxUGSQ/MpbB6Diuu8MeIU17whZ61Oq23mwlplY4WNlJD8nsCD+FLpdj62NqivP/BPi7VPEvjbWknYppIt45tOiMag+WWKiQnG75tu7B7EVFrel+M9D0a71O7+I+2C2jMhUaHBk+ijnqTgD3NJ6K7Gld2R6LRWP4TTWE8K2P/CS3H2jU3j3zv5apgschcKAOAQPwrYqmrOxKd1cKKKKQwqKX/WQ/wC//wCympail/1kP+//AOymmgJaKKKQBRRRQAUUUUAFFFFABRRRQAUUUUAFFFFABRWH4jsPEOoi3i8O61DoyjcZ52tBcO3TaFVvlx97J69MVi+H/EWq6eviWy8UXEWoSeH1WY3kMQjM8bRl+UHAYAdvX8SrqzbHZ3SR21RL/wAfT/7i/wA2rzc3XxAPhgeL11qyMXkfbTogsl2eTjdt87O/dt/Wu/0y+j1O0gvoARHdW0UyA9QGBI/nVWevkTfYvUVwTX3inxjrOoL4a1eHQtJ0+drVbk2i3El1Kv38BjgIDxnr/Tf1Cy8S3Ph21tbHVrWy1PKi6vhbeYMAHJSM8ZJxweACfal0uV1sb1FcX4bvvEOn+M7nw34i1KHWB9hF7BepbLA4G/YUZF469D7flWa+8U+MdZ1BfDWrw6FpOnztarcm0W4kupV+/gMcBAeM9f6Hp/XQXqd7RXHeL77XtM8JaZDbajHb6xd3ltZtdxQK67nbDMEbPGMnFXvD2jeJdOvpJde8V/21A0e1YP7Ojt9rZHzblOTxkY96FrcDo6K4Jr7xT4x1nUF8NavDoWk6fO1qtybRbiS6lX7+AxwEB4z1/pvajD4nfQLS1066so9Tfal1fPGSkYwdzpH3YnGAeOaOlx9bG/RXE6He+I9H8Zp4f8R6pDrUV5aPc292lssDxlGAZWReMHdwa7ajpcXWwUUUUAFFFFABRRRQAVFB/qz/AL7f+hGpaig/1Z/32/8AQjT6AS1DcXdtaGIXVxFCZpBFF5jhfMc9FGepODwK4LWNZH/Cx7TV7W3kudJ0aGS01C8iG5YXlweg5YJtXcRnbu56Grfj+9SS18LXlipvkbXLd4lt3Q+aNr42kkLz7kD3pLW3m/1/y1B6X9P0/pHcUVnTTw3WhSS6tpsyQuhE1nNCLhyvTBSMuGz6DNcDolv4b+2auNZ8H5h+2k2DHwrJzBsXA+WD+9u+9zR1sHS56fRXA+AY9OS8vGfw8dPvmvJ/s0v9hNa7bbd8g8wRKOnYnJ71Y8a2VrqPjPwfa6hbQ3VvJc3O+GeMOjYgJGQeDyAaO3mHfyv+B21Qx3VvNPNBDPFJLAQJo1cFoyRkBh2yOea858YaLpGheK/Cs2kWa6Oz3FwHn0jT0abHknoixtu/75OASeOtafgKTzfEvip/tN7dZuLf97fW/kSt+5H3k2Jj2+UcYPPWha3/AK7f5g9H/XmdzRWdPqvnaTcXWgLBq80RKJFFcqqs4OCpfkKR3rC8H6vrt/4h8QWPiJrUSWLW4jitAfLjDxliNx5Y9Mk+nAFC1A66iuH8f694o0fT7q40e1tLWxtzFuvZpPMkk3uqkJHjAxu6tn2FdxR0uAUVynxGvrrT/Ca3FhJPHML62X/R5NjuDMoKg5HUccnHPNX/AO39S/6FLWP+/tn/APJFC1X9eX+YPRm5RXJ/Dy/u9R0bUpr97gyDVbpAlxJvaJQ/CZBI46YBI9KqayLbV/G1xpa+EtE1W5trOKd7rUpAp2szAKP3LnjB796O3n/lcO/l/nY7aorW7tr61S5sbiK5gk5SWFw6tzjgjg81zPhTwzcaJrGsXsmn6ZpkF8sIitNNkLIhQMCT+7Qc57CmfC7/AJJfpH/XOT/0Y1Juyb7f8EDr6huLu2tDELq4ihM0gii8xwvmOeijPUnB4FcL8PvCfh2+8AaTc3ugaXcTyQkvLNZxuzHceSSMmpvHcEOk2fhaLTLACKDXYPKtLREjz8sh2qCVUZPqQKpq0reaX4h0fzO6oqg0I1nSgl9b3tj5nLRC5MUqYP8Afhf27N06+lch4o0uLTrzRLDR7/V49Q1DUEVc6vcyYhQ75SVeQgjaMdO9LrYOlzuBdW5vDaCeI3IjEhh3jeEJwG29cZBGamrlYv8Akr9z/wBgOL/0e9XPEcnh+OSD/hINZ/s1iG8of2vJZbxxnhZF3Y465xR0T/rdh1a/rZG9UNvdW92rm1nimEcjRuY3DbXHBU46EdxXCaHf6c3xQitPD+uS6jYHSZJJY/7VkvEEglQA/M7YOD+ta/gL/j01z/sOXn/oyha/c3+Ngen3/pc6qo5poraCSe4kSKKNS7ySMFVFAySSegHrXKaq+jPqNw88XidpVYiQ2smoRRDHXbtZUxx1Xg1iaZJJefC7xZqSzXkljeR3baet5cSTMsCxFQcyEsMkMevepb91vsikveS7s9IjkSWNZInV0cBlZTkMD0INOrI01ingy0ZSVYaehBB5B8sVzngrxton/CC6T/a/ibT/ALd9mXz/ALVfp5u7vu3NnP1q5e65Lt/wf8iIu6T7/wDA/wAztJ7q3tmiFzPFCZpBHEJHC73OSFGep4PA9Kmrye11bd8PfAupazf5/wCJurzXV3N2HnDLOx9MdTXV69rMd1d+F59F1JZrW51Xy3ktJ9ySqIpMqSpwwyOnqKLa287fl/mN/pf8/wDI62obm7trNUa7uIoBJIsSGVwu524CjPUnsK5T4kyTXXhv+w9MjW41TU5FW3t92MhGDux9AAuMnjJHrWZ4v1+21rwrol/p6PM6a3aCS0GFljkD8xMGICtnjkge+OaS1+9INvuZ30F3bXTTLa3EUxgkMUojcN5bjkq2Oh5HB9amri/h3K883imWW3ktnfW5SYZSpZP3cfB2kjP0Jqr421GWfxLo8ek2kuovolyL/UFtxuMMRUoBju5DMwUc4XpyKO1+tvx/yDv5X/r5ncXV3bWNs1xe3EVtApAaWZwijJwMk8ckgVNXDfEXUrTU/hVe3umzpdQO8BR4mB3fv049j2weneuni1mNLH7Vq8D6MvmCMLfzQjJPTBR2XknAGc+1C/r8ANKiqt/YQ6lbeRcPcIm4Nm3uZIG4/wBqNlOPbNZv/CI6b/z86x/4O7z/AOO0AblFcn8Op55/DlyLm5nuTFqV1Ej3EzSsEWUhRuYknAHc1U8V3XhiCPU2n8SNaaokLkQLr8sJRwnygRCUAHpxjn8aTdlfyuNK7t52Oxmu7a2khjuLiKJ532QrI4UyNjO1QepwCcD0otbu2vYfNsriK4j3Fd8Th1yDgjI7gjFeeNPNdaR8NJ7mV5ppZ4XkkkYszsbZiSSeSfetX4dzrbeBbid/uxXl45+gmc1T93mv0v8Ahb/Mla2t1t+N/wDI7Sobq7trG2a4vbiK2gUgNLM4RRk4GSeOSQK4vw14a07xL4TttX16AXmp6nH9pa8Y/vYNxyqxN1jCjAG3HTPesfVtUutW+BU82oyebdQ3CW0suMeYY7pU3fUhQfrRZ3s/L87BfS62PUqKKKQwornPCuq3uu3mr6g82dL+1G3sIwg+7H8rybsZO589em2tTWjqg0qUaCtub5iFja5J8tMkZY45OBk470dLh1sX6K4K3uPFfhjxTpNpr2uQ67ZatI0AxZrbyW8gQsCAv3l4wc10+q6NYXbPeX1xfwiOP5jBqdxboqjJyVjdV/HFD2uHWxoXF3bWnl/a7iKDzZBFH5rhd7nooz1J9KILu2ummW1uIpjBIYpRG4by3HJVsdDyOD615erXE3gnwtd3Ut1L9r8RxTw/apnldYWkfyxuck42bep710/gT/kIeLP+w7L/AOi46a6/1/L/AJg9P69f8jr6KKKQBRRRQAUUUUAFFFFABRRRQAUUUUARRf6yb/f/APZRUtRR/wCsm/3/AP2UVwOu6fa2fxC8N6YmpatFBqC3Rni/ti6/eFUBTH7zI5z0xR1sHQ7ua/s7efyLi7gil8tpfLeQK2xfvNg9h3PQVJBPDdW8c9tKk0Mqh45I2DK6nkEEcEe9eY6pd2lx4uWGxW/EcHhy9TN/BcI55X+KYBn+uTW7Yaq+h/BK01OHHm2uixyR5Gfm8obf1xSv7rl/W7/yHb3lH+tl/mdrUNxd21oYhdXEUJmkEUXmOF8xz0UZ6k4PArjp/BlhF4Pa7TI1yO2NwNXz/pBnC7txfqVz/B93HGMVT1jVH1rw54C1OZQst3qtnK4HQMY3Jx7Zqra280vvZN9L+Tf3HodFYHjazguvBupvNaWtzLbWss8H2m3SZUkVCQwVwRmuOutI0YweCTb6Hoqvq0sZu8aZARKnkF2HKccgdMUlq7en4jeiv6/gelfa7Y3ps/tEX2oR+aYN437M43beuM8ZqauOgjSL4yvHEioieHkVVUYCgTnAAro9S0i21Xy/tUl4nl52/Zb2a3zn18t1z075xR0T/rdoOrX9bXL1Fc/N4T09LeRlutYBVSQf7bvPT/rrUPw7uri9+Huj3F5PLcTyQZeWZy7Mdx5JPJo7/wBf1sB01FFFABRRRQAUUUUAFFFFAEVv/wAesX+4P5UUW/8Ax6xf7g/lRTe4DPOit7V5biVIo1dtzuwUD5j3Nea63oh8D6ppOuW+v32s3D3aW0dnrEy3LOsjBW8lsAowBzkduDxXoVxBYajps9lqAimt596SRO3DKSaxdE8BeDfDmoC+0jTLaG5UHbK8zSlM/wB3exwfcUJNSuJ/DYs+JPD8Pid47dfEGqaZLaht6aZeCIsGAx5gwcjjjp1NZnw2umGn6loySW9zbaPeG2gvLeNUWcYDHIXjeCxBI6nnrmruveCPCXie/W91ywhublVCCQTuhIHQHawz+NbGm2ml6Pp8Vjpcdva2sQwkURAA9/c+p6miKauOWtrHO6Cf7d+IGt6w53QaWRpdoDjCsMNM31LFRn0WsDVfEV03xBkudX8LeJLyy0lymnR2WnGSJ5MYacsSMnsuMgDnqa7/AEuw0vRbaS300RwxyTPM480tudzljliTyaufaIf+e0f/AH0KSTVvL8+v6hda+f5f8NY82+GGq2mpeEtW0/UtPvbW0+0XLzT3cflQskjtlA+fvAHBHGPWoPEXhTQPAj6ZqfhAzadqkt7DFHbRXTuL1WcBkZWY5G0k5HSu9ttF0O00e40qGCH7DctI00LyFw5cktnJJ5JNZmieAvBvhzUBfaRplvDdKMLK8zSlP93ex2n3FOOjXlb8BPVPzv8AiS+IfBfhXxZqQk120S6vLaELxcujRoSSMqrDvnkis34bTFF1zTbW9m1DS9PvvJsbmZ9527AWQN/EFPA+taXiDwV4T8U3iXeu2EN1cRpsWQTvGdvodjDP41r6baaXo+nxWOlx29raxDCRREAD39z6nqaI3Sf9dRy1sX6Ki+0Q/wDPaP8A76FH2iH/AJ7R/wDfQoswJaKi+0Q/89o/++hR9oh/57R/99CizAloqL7RD/z2j/76FH2iH/ntH/30KLMCWorj/j1l/wBw/wAqPtEP/PaP/voUyeeI28gEqElDgBh6UJO4ixXH/D7m38R/9h+8/wDQhXV/aIf+e0f/AH0KqadZaZpS3IsPLiF1cPczfvS26R+WbknGfQcUuXe/a34r/Ibenz/zOV+GuqWdl8NkjvZ44H0dpob0O2PJZZGJz+HNZnh/wsmt/DfQZWv5NI1JJ5bzT7pMFkMju4G0/eBQ5K9wPrXR6n4D8G6xrP8AaupaXaz3mQzOZGUOR3ZQQrfiDWlrmiaH4k0sadrUENzaBg6x+YV2kdCCpBHUjg03d6vcLq9uhwdjpN3J8XNIjv8AxHN4g1DTYJ57uQRJFFbIy7EQRpkByWJOeSAK6PxKf7a8b6H4dzm3hDapeLxhljOIlPqDIc4/2a2NB0LQPDFm1roNtb2cTnL7Xyzn3Ykk/iasR2Glxa1NqyCMX08KwyS+aTlFJIGM4HJPQUdvL+vzsLv/AF/XUg8R6JoniKxi03xFEk8MkoaKFpmjLuAem0gnjPFchoemWHhP4nw6H4Xnm+wXNjJNe2BnMsdsyldjjJJUtkjBPP5V12v6HoXiiwWy16CG7gVw6qZCpVvUFSCPzqPw94b8OeFYJItAtLezEpzIwcs7+gLMSSPbOKI3Tv8A1sN6q39bnJal4X/4RzT9QubDxxPpPhrzJJJ7KOKNmViTvjilJyhJyAAM59TXPRtqOmeAfDnh2TQ9budLu4mu9QbTbQzO0byM6wZ425yNxznHHc16BL4A8GTa8+szaVayX0knmu7ysVZ/UoW2579OtdN9oh/57R/99Ckk7fd+ANps8u8L+KEuvi3eiLw7rVml1Y29usc9l5f2YLuw0gz8iHoDXS+JT/bXjfQ/Duc28IbVLxeMMsZxEp9QZDnH+zXQRWGlw6zcarEI1vbiJYpZfNJ3IudoxnA6noKI7DS4tam1ZBGL6eFYZJfNJyikkDGcDknoKavp5X/Vr8Rd/P8A4Cf4GjRUX2iH/ntH/wB9Cj7RD/z2j/76FFmMloqL7RD/AM9o/wDvoUfaIf8AntH/AN9CizAlqKX/AFkP+/8A+ymj7RD/AM9o/wDvoUySeIyRYlTh+fmHHymizEWKKi+0Q/8APaP/AL6FH2iH/ntH/wB9CizGS0VF9oh/57R/99Cj7RD/AM9o/wDvoUWYEtFRfaIf+e0f/fQo+0Q/89o/++hRZgS0VF9oh/57R/8AfQo+0Q/89o/++hRZgS0VF9oh/wCe0f8A30KPtEP/AD2j/wC+hRZgS0VF9oh/57R/99Cj7RD/AM9o/wDvoUWYEtFRfaIf+e0f/fQo+0Q/89o/++hRZgZfiHSodft49NOs3+lzBhMG066EMzKARjoSV59OoFcv4Mt47HW/EHg9549VsYY1mkumVRKWlyGjmZfvvgfePOOvaug8ReFPDPiwwnxBaQ3bQAiNvOZGUHqMqwOPareiaRonhzT/ALFolvbWdvncVjblj6kk5J9yaSW4N7WPN/E3h2bw54JuIm8b3U2gNC0djpiRR+bOzD5IhMDudckZAH3c9q9H8NafJpWgadp83+stbGCF/qq4P6isvTfAPgzSNX/tPT9KtYrsMXWQys4Rs5yqsxCn6AYroxPF9oc+amNi87h6mqV7PzE7X0PJ/Cngvw9r/h/UD4nuZXu9OvLmNwbpovsH7xm3AAgZOd25gc/hXS+Eml8R/C6wtNU1i7tZ7oPHBeW9x5VzIkch2srEZyVUZODkH3rS1nwJ4O8Qar/aWraZbT3fG6QTMm/HTcFYBvTkHjirms+GvDniDS4NO1aztprS3x5MSuYxHgYG0qQQMcYFSk+W3p/w5V05X9f+GOY8OWp8KfEiTQYNRfWE1C0a6nmu9r3cBQgL5kg5ZTuOARx2rD8KeC/D2v8Ah/UD4nuZXu9OvLmNwbpovsH7xm3AAgZOd25gc/hXofh/w34c8LQyRaBZ21mJTmRlcsz46ZZiSR7ZqnrPgTwd4g1X+0tW0y2nu+N0gmZN+Om4KwDenIPHFDTdvT9f6Qk/z/QyPDNjYeMvhlpFp4xIvkkkcW5mmaN5wjOqNkEEnYM+/U1DoemWHhP4oQ6J4Xnm+wXNjJNeWBnMsdsyldjjJJUtkjBPP5V1Ws+HPDuv6TFpmrWltNZQkGKJX8sR4GBtKkEcccUnh7w34c8KwSRaBaW9mJTmRg5Z39AWYkke2cVX2m/6enUX2bf0teh554U8F+Htf8P6gfE9zK93p15cxuDdNF9g/eM24AEDJzu3MDn8K3fDfiy+tPhtorujanql9K9pYLI20zgMwV3Y9AEXJPJP1NbWs+BPB3iDVf7S1bTLae743SCZk346bgrAN6cg8cVPrnhLwx4ks7S01izhmt7MYt4knaJYxgDACMOwFSk1G3oNtN39R+geHZbC9n1bWboX+s3SCOSdV2xxRg5EUS/woDz6k8mt+uS0T4f+DvDmqx6lo1hHbXcYZVk+1yPgEYPDOR0PpXUfaIf+e0f/AH0KYiWiovtEP/PaP/voUfaIf+e0f/fQosxktFRfaIf+e0f/AH0KPtEP/PaP/voUWYEtFRfaIf8AntH/AN9Cj7RD/wA9o/8AvoUWYEtVjBHdWU1vNuMcpdGCuVOCSDyMEfhUn2iH/ntH/wB9CmQzxCM5lQfO38Q/vGi2gX1OY067u5r280Pwha6fpmn6O4t5JriJpA0hUMVSJWXgZ5YtyT0PWq1/by6Rc6NBr9lpl1p39ox/ZZNOie0Ntctu2sYt7BgSTn5upyQa2bvQLGXVJdS0/UrjSr2cATy2cqYmwMDejqyEgcA7c+9JB4fs/wC0Yb7VNWutWnt23QfbJYwkTYI3BI1Rd2CeSCR2oV7pv5g7aova1Y2t1YtLeveLHbK0n+iXktuxAGTzG656dDXn9xDea3pml33hbSfFiW81xFPLJLrxHnW3VlAN2SCRj0PuK9JuTbXVrLbyTKElQoxVxkAjHFc/p/hltK063sLDxdqsVtbxiOJMWbbVHAGTASfxpJO/3f1+QN6feUdKh0y+8QS6TNaeJtPvYIFuSl1rczKyFiowY7lx1B4NbPjE6LbeHLnU/EOl2+pQWEZlWOeBJTnphdwOCTgZpumaDbafr0+sT6zdaheTW62xa5aEAIGLAARovcmtW7Sxv7Oa0vfJmt5kKSRuQQyngg0NNxt1BNKWuxymmeFL2CSHUbLTPCmj3W3ckcOkGSSLI5HnLInODjIX86teEZRL4h8SC7hMGrLcQi8RJN8LDygI2jOAQCo5ByQasQ+H/skKwWHinVLW1QBUgEkEoRfQNJGz4+rVf0fS9M0OGVLJ8vPIZZ5pZt8kznjczE5PT6DtVdWT013L1pY2lhE0Vjaw20bOXZIYwgLHqxA7n1rl/DX/ACUbxn/10s//AERW5pOnaVodrJb6WscEUkzzMvmlsuxyxyxPU9qfbWWmWepXt/beWlzfFDcP5pO8ou1eCcDA9MUkn+H+RRgfFL/knOof9dLf/wBHpXX1n6rZaZrWmyWGp+XPbSFS6eaVyVYMOQQeoFM1fTtK12yW01VY54FkWUJ5pX5lOVOVIPWhJ2t5/wCQCeIdBg8R6SbC6nngTzY5VktyodWRgy43AjqB1FV/7A1L/obdY/79Wf8A8j1JfaD4b1S6NzqWlaVeTsADLcW0cjEDoMkZqt/wiPg7/oXtD/8AAKH/AOJpWYXLnh/QIPDtjNbW9xcXPnXElzJLcFdzO5yx+VVHX0FZ2v8Ahr7XqY1LTrHzb2SMQzS/21c2PyKcqP3IO7knqBV2x0Dw1pl0t1puk6VaXCghZbe2jjcA8HBAzWp9oh/57R/99CnbYLnJWmka7YXK3EOmQu6g4E/iu+mXkY5R4ip/EVZ+GzW8nw60o2cMsMBR9scsokZf3jZywVQefYV0hnhII86P/voVk+FtKh8NeGbPSPt0dz9lVh5uAm7LFumTjr60W0afl+ojB0TRdGl1rV9Cs4NUs4NHaFU8nXLsK4kTfwgkAXH41d8QeHJ3i8Pw6Sk9xHZaxDdTNcXbSskYD7m3SsWOMjjJ9hU7+G4V1zUNVsPEN/p82oGMzpAbdkJRdq48yJiOPep4tLuo5kd/F+pSqrAmN0s9rj0OIAcH2INCvo/T8BvqXtZ1KbStNa4ttOudSm3BEt7YDczHgZJIAXPU9hzWV4d0C9j1KbX/ABJJHNq9ynlpHESYrKLr5SZ6nPLN3PtXQfaIf+e0f/fQo+0Q/wDPaP8A76FCug3OOvNI03WPi1NHq2n2t8keiRsi3MCyBT578gMDina8TpvxE0K/NlePYwWFzCz2llLOIyTHtUiNSR0P5VtLpkK+L5Nd+2xnzLFbPyMDja7Pu3Z/2sYx+Nav2iH/AJ7R/wDfQpJNJfP8b/owdm38v0/yMuHxTp888cKW+rBpGCgyaPdooJOOWaIAD3JwKwfA2jaZLcazqUum2j38et3gS6aBTKo3kcPjI6nvXZfaIf8AntH/AN9CsrQdMh0OG+T7bHP9rvprzOAuzzG3bepzj17+lNLW/l+qE9ref6Mz9Zg1PxTdTaLHBNp2jq2y9u5Ple7XvFEM5CkcFz2JAzyRb8VwRWvw71m3to1ihi0uZI0UYCqIiABW19oh/wCe0f8A30KpazbQ6voN/pv2qOH7ZbSQeZw2zcpXOMjOM9M1EotwaRcWuZNmd4e0LTbHwtC+laZZ2txc2CCR4IEjaUlP4iAM8nvWb4Tn1nQfB+m6VeeFdUee1t1idop7QqSPQmcHH4V1NgsNjpttafaY38iFIt+QN20AZxnjpU/2iH/ntH/30K0mruXZ/wDB/wAzOOkVfp/wP8jze20u80Xwh4E0/U4fIuodZQSR71baSJiOVJHQjoa6Pxj/AMhnwp/2Fx/6JkrQ1vTIdZm0t/tscP8AZ98l5jAbzNqsu3qMfe689OlUPFatc6t4Ze3BlWDVBJKyDcI18qQbmx0GSBk+tLVtX/mT/Ib2f+F/qatzp32S6udT0iwtp9TuAiSPc3DRgovbcFfaB1wFwTz71gatout6w0TT6Fo8Mkd3DdmSDVnVpHiOUDE2pyO38iK677RD/wA9o/8AvoUfaIf+e0f/AH0KVmO5yvgN1mfxJvtTbXH9sSC5UXPnIZPLTJRtiEL04Iz70QzNp+uy+GPB1jZ2pgjF3eXd1udQZCQPlBDSOcEklhgDqa09C0mHRLjVpft0c/8AaV+95jAXy9yqNvU5+71469KXU9E07UdQj1GO8lsNQjTyxd2kwVymc7GBBVxnnDA47UWenovy/wAw7+v6/wCRz/iO1u9K0O6l8QWuk6lo0sqS36WVvJZy53riT/WPvIIBIypOOp6V2d3ZWmowCK+tobqLcHCTRh13DkHB7isN/DdrdyxtrWt32rRRMHW3upIki3AggssSIGwRnDZFaOr6dpWu2S2mqrHPAsiyhPNK/MpypypB607O39f1/W/Zf1/X9f8AB06Kx77QfDeqXRudS0rSrydgAZbi2jkYgdBkjNVv+ER8Hf8AQvaH/wCAUP8A8TSsx6FP4bAN4SecDAuNQu5R16Gd/wDCqejX40PxZ4pOo2Wpql1fJJA8OmXEySKIUBIaNCOoI610FjoHhrTLpbrTdJ0q0uFBCy29tHG4B4OCBmtT7RD/AM9o/wDvoU7Nfdb8v8g3++/5/wCZwfiGLS7rxR4T1ex08QXNxqpSWeWxa3nkAhfht6q5HA6+laHw1RZPBkqOMq19dgj1HnPW3qemWGrXmm3Nxcsr6bcfaIRHIoDNtK4bIORhj0xUPhnSYfDmjmx+3R3ObiWbfgJ99y+MZPTOKSWjT8//AG3/ACYN7P0/9u/zRlaXH4h8NaKdDtNI/tH7NmPT7wTxpEI8/J5wZg4Kjg7VbIHFZXirQ/8AhHPgtNprTefKkkLzTYx5kj3KM7Y9Mk/hXoP2iH/ntH/30KyPFOkw+JfDlxpX26O285o283AfG11fpkdduOvenrdN91+YtDcrnvG+qz6Z4ZlSwP8AxML91srMf9NZDtB/AZb/AIDW59oh/wCe0f8A30Kwr3TH1Dxpp+pXNzbfYNOgcwRCT5zcP8pcjGMBMgcnljScb6Md7ao1NF0qDQ9Ds9MtR+6tYViU+uByfqTz+NQ+Idch8PaLJfzRPOwZY4oI8bpZGIVUGfUkVf8AtEP/AD2j/wC+hWbr2i6L4n037BrkaXNrvEnl+eyfMOhypB705XbuEbLQo6N4fvptWTXvFM0c+pohS2toc+TYq33gufvMehc9cYGBVXxFb6t4o1NvD0NtNY6MpU6hfOQDcoefJixzg9GbjHI+sWnfDPwNpWpW9/YaZHFc20gkik+2SttYdDguQfxrr/tEP/PaP/voUW2FdnHfEOytX0zw7ZPbRNaf21aRGBkBQpyNu3pjHGKd8O7aCym8U21nBHbwR63KqRRIFVB5cfAA4Are1jTLDW1shd3LJ9iu47uPypFGXTOAcg8c/wD16h0LSYdEuNWl+3Rz/wBpX73mMBfL3Ko29Tn7vXjr0ojdXv1v/wC2/wCTB20t5f8At3+aNyiovtEP/PaP/voUfaIf+e0f/fQosxktFRfaIf8AntH/AN9Cj7RD/wA9o/8AvoUWYEtFRfaIf+e0f/fQo+0Q/wDPaP8A76FFmBLRUX2iH/ntH/30KPtEP/PaP/voUWYEtFRfaIf+e0f/AH0KPtEP/PaP/voUWYEtFRfaIf8AntH/AN9Cj7RD/wA9o/8AvoUWYCIdrTnBOGzgdT8orhpfD2qeI4b3xHNE1lqwdH0eCf5WtkiJKh/QyEtuHYMB2rt454hJLmVOX4+Yc/KKf9oh/wCe0f8A30KLO9wvpY851q8k1DxNa3c9nNZSy+Gb1nt5xh4zlcg10Ph3TYdZ+EumabdZEN3pEULkdQGiAyKt6toNhquotfteNHc/YJrFMMpQLJjLEdSRgdxVzQ7SHRfD+n6Z9rjm+x20cHm8Lv2qBnGTjOOmaVrxaf8AWsv80F7STX9aR/yOfk/4SubwydBbTFW+aH7K2q+dGbbZjaZQu7zN2Odu3Ge+Kr+KNNh0fTfBWm2ufJtNZtIUJ6kKjjJ9+K7b7RD/AM9o/wDvoVka/pMOuSaU326OD+z9QjvegbzNgYbeoxnd156dKevMm+6f3P8A4cWlreT/ABRZ1vTtHvLFrjXdOtL6G0RpR9pt1l2ADJIDA9hXG6T4Yi8Q6Xb6raeHfCel2t0glghn0ZbqQxkZUsyvGASOcAHHrXftNbupVpI2UjBBYYIrn7fwzb6fH5OieINQ0u1yStrBJDJGmeyiWNyo9gQPalYd9CpoEUOn+MW0++0uyttSj04C3uNP3JDJbCU/L5R4jIY575z17V0Go+H9G1eZZtW0iwvpUXar3NskjKOuAWB4qtpOjadpV1Ndi7kvL64ULLd3c4eRlBJCjoFUE9FAFNufDXha9uZLm80XR7ieRtzyy2kTM59SSMk09dBIgvfB3hSCwuJj4Z0ceXEzZFhFxgZ/u0z4cwmD4b6EhGM2aPj/AHvm/rUv/CI+Dv8AoXtD/wDAKH/4mrmnaPoGkTNLpOnabYyOu1ntoI4yw64JUDihX1/rv/mD6f12NWiovtEP/PaP/voUfaIf+e0f/fQosxktFRfaIf8AntH/AN9Cj7RD/wA9o/8AvoUWYEtFRfaIf+e0f/fQo+0Q/wDPaP8A76FFmBLRUX2iH/ntH/30KPtEP/PaP/voUWYBb/8AHrF/uD+VFMgniFvGDKgIQZBYelFDTuIvW3+pb/ro/wD6EamqnILo6VcjT2iW7Pm+Q0wJQPltu7HOM4ziuHml8Z+EdY0eXWPEcGvWWpXyWUtudPS3aEuDhkKn5sY79vzBvKw+lz0Siub8RaV4q1O/j/sDxJDodokY3YsFuZJHyc53nAUDGMc5zWd4dv8AxF4l8I6lZy6lDp2tWN9JYnUYLZZUYxsuXEbccgkY7dfaluB2tFeW67Z+PtHuNNtYPiB9svNRuhBDB/YsCfKOXkJ54VQT09B3rvPEmuR+HPD89/MPNlUCOCEfenmbhEA9S2P1PajpcOtjWorhPBPiLWL74ZXuq69ciTUbZroPIqIoUxlsAAADjFQ+EtM8cajp+kazqPjjzLe4jiuZbH+yIV3KwDFN4wRwcZAp21+78RdPv/A9Borh/FE/iPUPHlloPhzxB/YqHTpLueT7FHcbiJAoGG6dT37V0fh7T9X03Tmh17W/7auTIWFx9kS3wuBhdqnHXJz70lqr/wBb2G9Hb+u5q0UUUAFFFFABRRRQAVDd/wDHlP8A9c2/lU1Q3f8Ax5T/APXNv5U1uBNRWfrVzqltp+7Q7CK+u2cIqTT+UiA9XY4JIHoBk1i+AdX1bV9N1Rtflglu7XVJ7U/Z02xqEwML3xnPJyaS1v8A12/zB6f1/XY6qivN4bvxx4tt7vXPDmtWml2Ec0kdhYvZrL9sWNiu6SRuU3EHp0H51NP431PW9B8Mw+H/ACbLVfEG8NLMm9bURL+9IX+IgjAB/Ghar+uv9fLqD0dv60PQqK4bSb7xN4e8Y2eheJ9Wh1u21WGRrS8W0W3kjkjALIyrxgqcg+1UNc0vxroWi3mqXnxK2wWsZkKjQoMn0Uc9ScAe5pN2VxpXdj0iivPNUv8AxZpnw30RLrVvJ8Q6heW9vJdfZYz5ZlfkbMbTtU44Hat/w7ovibTL6SbxB4t/tq3aMqsH9mxW+xsj5tynJ4yMe9Vazd+hN9EdJRXmtjdeOfGOmy+ItA1+z0uzaSQWOnPYrKJ0RioMkh+ZS2D0HFdf4W8RJ4g8H2etzqtr5sJedWOFjZSQ/J7AqfwpdLsfWxt0V574H8Yar4m8ca2k7GPSRbxz6bEY1B8ssyiQnG75tu7B7EVDrml+NdC0W81S8+JW2C1jMhUaFBk+ijnqTgD3NLZXY0ruyPSKKxvCSaynhSw/4Sa5+06o8e+4fy1TBY5C4UAfKCB+FbNU1Z2JTurhRRRSGFQzf663/wCuh/8AQWqaoZv9db/9dD/6C1NATUUUUgCiiigAooooAKKKKACiiigAooooAKKKKACisLxLp/iLUhbxeHNbh0VBuM87WguJG6bVVWO3H3snr0x3rE8PeI9W05fE1l4quYtQk8PIsxvYIhEZ42jMnKDgMAO3r+JV1Ztjs7pI7ioV/wCP2T/rmn82rzU3fxCPhceMV1uxMX2f7adDFkvl+Tjdt87O/dt/WvQdLvo9Ut4b+AERXVrDMgPUBtxH86qz1v0JvsX6K4Br7xX4z1rUV8MaxDoOkadO1qt0bNbmS6mX7+FY4CA8A9f6dDqNl4mufDlpa2Gr2ljqmVF1fC28wAAHJSM8ZJxweACfal0uV1sb1FcV4av/ABFp3jW58M+JNTh1kfYRfQXqWywOBv2FGReOvQ+35VWvvFfjPWtRXwxrEOg6Rp07Wq3Rs1uZLqZfv4VjgIDwD1/oen9dPzF6nf0VxnjC/wBf0vwhpcNtqUVtrN3e21k93FArrudsMwRsjGMnFaHh3RfE2m30kviDxb/bdu0e1IP7Nit9jZHzblOTxkY96FrcDo6K4Br7xX4z1rUV8MaxDoOkadO1qt0bNbmS6mX7+FY4CA8A9f6dBqMPil/D9naabd2MeqPtS6v3jJSMYO50j7sTjAPHNHS4+tjforiNBvfEujeNU8O+JdVh1yK8tHure8S2WCSMoyhlZF4wd3Brt6OlxdbBRRRQAUUUUAFFFFABUNt/qW/66P8A+hGpqhtv9S3/AF0f/wBCNPoBNUNxeW1oYhd3EUBmkEUXmOF8xz0Vc9ScHgc1wGs60P8AhZVnrFrbyXOkaLDJZ6jewjcsDy4PQcsE2rvIzt3c9DVz4g3qSWvhS8sFN+ja7bSRLbOh84bXxtJIXn3IHvSWtvN/rb8tQel/T9P6R3NFZ008N1oMsur6ZOkDxkTWU0K3DlemCkZcNn0Ga8+0O38M/bNYGs+DcwfbSbBj4Tk5g2LgfLBn72773NHWwdLnqVFef/D6LTkvL1pPDp06/a8uPssv9gta7bbd8g8wRKOnYnce9WfG9jaal418G2uo2sN3byXNzvhnjDo2ICRlTweQDR0XmHfyv+B29RRXdvNcTQQzxSTW5AmjRwWjJGQGHUZHPNebeMtE0fQfFvhObSLJdGZ7i4Dz6PpyNNjyTjCLG+7/AL5OASeOtafw/k83xP4sf7Ve3ebi2/fX9t5EzfuB95NiY9B8oyMHnrQtb/12/wAwej/rzO7orOn1XztIuLvw8kGsTREokMVyqqzg4Kl+QpHesDwbrGv3/iLxFY+JGtBJYPbiOK0U+XGHjLEbj8zHpkn04AoWoHYUVwvxB8QeKtF0+6uNGtbS1sbcw7r6aTzJJd7qpCR4wuN3JbPsO9d1R0uAUVyXxJvrvTvCK3FhLPHML61X/R5NjuDMoKg5HUccnHPNaH/CQal/0KGtf9/rL/5IoWq/ry/zB6M3aK5H4c393qOi6lNfvcGQatdIqXMm9olD8JkEjjpgEj0qrrQttY8cXGlJ4Q0PVrm1s4p3u9TkCttZmAUfuZDxg9+9Hbz/AMrh38v87HcVDaXltf2qXNjcRXMEnKSwuHVuccEcHmuX8JeGLjQ9Y1m9l07S9MgvkhEVppshZEKBgxP7tBzuHQUz4V/8ks0f/rnJ/wCjHpN2Tfb/AIP+QHY1DcXltaGIXdxFAZpBFF5jhfMc9FXPUnB4HNcH8O/CXhu/+HukXN94f0u5uJISXlmso3dzuPJJGTU/j6CDSLLwpFpenqIoNet/KtLREjz8sh2qCVUZPqQKpq0reaX4h0fozu6KoNCNa0kJfW97YeZy0QuTFMmD/fhf27N06+lcd4q0qLTr3Q7DRr/WI9Q1DUI1XOsXUmIUO+UlXlII2jHQ/epdbB0ud2Lu3N4bQTxG5EYlMO8bwhOA23rjIIzUtcnF/wAljuf+wFF/6PerviSXw9HJb/8ACQ61/ZjEN5Q/tiSy3jjPCSLuxx1zijon/W7X6B1a/rZG/UVvd292shtZ4pxHI0TmNw2x1OCpx0I7iuB0K/05vipFZ+Hddl1KwOkSSSx/2tJeoJRKgB+Z2wcH9a1/h/8A8eeu/wDYdvf/AEZQtfub+52B6ff+lzrKZPPFbW8k9zKkMMSl5JJGCqigZJJPAAHeuS1Z9FfUrl7iLxS0qsRIbWTUYoQR127WVMcdV4NYWmSyXvwr8Xams17JYXsd22nreXMkzLbrEVBzISwyVY4z3qW/db7K5SXvJd3Y9LjkSaJZInV43AZWU5DA9CDTqyNMYp4KtGUlWGnoQQeQfLFc14I8c6H/AMIHpP8AbHijT/t/2VfP+1agnm7++7c2c/Wrn7rku3/B/wAiIu8U+/8AwP8AM7ee7t7VohczxQmaQRRCRwvmOQSFXPU8HgelS15Ja6tu+HXgPU9a1DP/ABOFea7u5uw88ZZ2Ppjkmut1/Wo7q88Kz6JqazWlzq3lPJaXG6OVRFJlSVOGGQOPUUW1t52/L/Mb/S/5/wCR11Q3N5bWaxteXEUCySLEhlcLvdjgKM9Sew71yfxNkmu/DP8AYWlxrcarqcirbW+7GQjB3YnsoC4yeMketZfjDxBba34T0PUNPSSaRNcsxLaDCzRyiTmJgxAVweMEge+OaS1+9L8gen3M9At7y2u2mW1uIpmgkMUojcN5bgZKtjoeRwfWpq4r4czPPP4qllt5LZ31yUtDKVLJ+7j4O0lc/QmqnjjUZZ/E2jR6RZy6k+h3Iv8AUVtxuMMRUoBju5DMwUc4XpyKO1+tvx/yDv5X/r5ndXd5bWFs1xfXEVtApAaWZwijJwMk8ckgfjU1cJ8SNStNU+E17e6ZOl3byPAUeJgd379OPY9sHp3rqYtajSw+1axA+ir5gjC6hNCuScYwUdl5JwBnPtQv6/ADSorjPEySXvxE8OabJd3sNnPbXbyxWt5Lb7yoTaSY2UnGTW/YeHrLTroXFvNqTuARi41S5nTn/ZkkK/pQtVcGX7e7t7tZDazxTiORonMbhtjqcFTjoR3FS1w3gPWtLiuda0yXUrNL+TXLwpaNOolYeYTwmcngHtXT6joNpqlws1zNqCMq7QLbUri3XGc8rG6gnnrjNHRPul+QdWjSorivF3h610vwZq99Y32tRXNtZyyxP/bd421gpIODKQefWun0OR5vD2nSSuzyPaxMzMcliUGSTQtb+X63/wAg2t/Xb/MvUVj3Phewu7qS4luNVV5G3MItXuo1H0VZAoHsAK5vXtOXQfEnhY6bfaooutS8mdJtUuZkkTynOCskjDqB2oW6Xf8AUHs2d5RWfrjaamkyHWr77BaZXfP9ta12nPH7xWUjJ9+a4zQr/Tm+KkVn4d12XUrA6RJJLH/a0l6glEqAH5nbBwf1oWrt/W1weiv/AFvY7dNY02Voli1G0czStDGFnU75FzuQc8sMHI6jFXK8e0P/AI//AA1/2M+pfylrs/Ep/tfxlo3hyaRxYywTXl3ErFfPVNqpGxH8O5skdDjBoWqXn/kmD0bXb/No66oYry2nuZ7eG4ikntyomiRwWi3DI3DqMjkZrjrmzt/CPjjQl0KCOysdYeW2urOBQkRZYy6SKg4VhtIJHUHnpU3hj/kpHjX/AK6WX/oiha/16f5gdjRRXN+M9WvbK0sdO0WbydU1W7S2t5Ngbyl+9JJtIIO1AevqKAOkooHA9feuS1vTPG+qapcNo+v2mhWUOBboLNbh7g4BJctwgzwMc4oA62iua8I6rceKvBwfV08q53y2ty1rK0YZkcoWRlIYA4zkEEVlajp0dh468OadpN7q3mSSS3V2kmq3My+QiEDcryEYLso6dqOtg6PyOuOsaaFJOo2gC3AtSfPXib/nn1+/z93rVyvHpv8AjzvP+x9j/wDQ0r2GhaxT/rZP9Qekrf1u1+gUUUUAFFFFABRRRQBDD/rrj/roP/QVqaoYf9bcf9dB/wCgLXAa9p1rZfETw1paanq8VvqC3Rnh/tm7/eFUBTB8zI5zwMUdbB0ud7NqFnb3HkXF3BFN5TTeW8oVti/efBOdo7noKkguIbq3juLWVJoZVDxyRsGV1PIII4IPrXl+qXdpceMFhsF1AR2/hu+TN/BcI55X+KcBn+uTW9Yas+hfA2z1SHBltdEjkjyM/N5Q2/rilf3XL+t3/kO3vKP9bL/M7aobi8trQxC7uIoDNIIovMcL5jnoq56k4PA5rjZ/BVhF4Oa7jyNejtTcDWM/6SZwm7cX6lc/wfdxxjFUtZ1STW/DfgDU5lCy3erWUrgdAxjcnHtmqtrbzS+9k30v5N/cj0Wiuf8AHNlBd+C9UkmtLW5ltbWWe3+1W6TKkioSGCuCM1xl1o+jG38DG30LRVfVpozd40uAiVPILsOU45A6YNJau3p+I3or+v4Hpv2y2N8bIXEX2oR+aYN43hM43beuM8Z6VNXGQRpD8aXjiRUjTw6iqqjAUC4OABXS6lo9tq3l/apb2Py87fst9Nb5zjr5bru6d84o6J/1u0HVr+tky9RXPz+EdOS3kZbrWgVUkH+3L30/661B8OLq4vvhzo1ze3EtzPJBl5ZnLux3Hkk8mje/9d/8gOnooooAKKKKACiiigAooooAhtP+PKD/AK5r/Kii0/48oP8Armv8qKb3AYk0VvZyS3EqQxrI+53YKB857mvNNc0M+BdU0jXbbxBf61cPdpax2eszLctIsrBW8hsAowBzkduDxXoU0WnalpdxY6j5E1vOZFkidhhlLGsTQvAfgnw3qAvtH021hulBCyvO0pTP93ex2n3FCTUrifw2LfiXw9D4peO2TxDqmly2obfHpd6IiwYDHmDByOOOnU1l/DO7YadqeipJb3Vto14bWC9to1jWcbQxyF43gsQxHU89c1c8QeCPB3ijUFvtdsbe6uVUIJBcPGSB0B2sM/jW1pltpGjadFYaUtraWsQwkURAA9/c+p6miKauOWtrHO6Af7e+IWuay53QaURpVmDjCsMPM31LFVz6LXPat4kum+IklzrHhTxNeWOjuU02Oy00yRPJ0acsSMnsuMgDnqa9A0qy0jRLWS30wxQxSTPO484tudzlmyxJ5NXftdt/z8Rf99ikk1by/Pr+NwutfP8AL/hrHmnws1a01Pwhq+nalp97a2f2i5ee4vI/KhZJJGygfP3gDhhxj1qDxJ4S8P8AgJ9L1PwcZtN1WW+hiitYrp5BeozgMjKzHI2knI6V39to2gWmjXGlQRW/2G6aRpoHlLhzISXzuJPJJrL0LwF4J8N6iL/R9NtYbpRhZXnaUp7rvY7T7jBpx0a8rfh0E9U/O/4k3iPwT4T8XakJNetI7u8toQvF06NGhJIyqsO+eSKzfhnMUXXdMtL6bUNK06/8mxuZpPMO3YC0Yb+IK3A+taHiLwV4P8V3sd3r1lb3VxGmxZBcPGdvXB2MM/jWzpltpGjadFYaUtraWsQwkURAA9/c+p6miN0n/XXcctbGhRUP2u2/5+Iv++xR9rtv+fiL/vsUWYE1FQ/a7b/n4i/77FH2u2/5+Iv++xRZgTUVD9rtv+fiL/vsUfa7b/n4i/77FFmBNUN3/wAeU/8A1zb+VH2u2/5+Iv8AvsVFdXVu1nMFnjJMbAAOOeKEncRbrjvh4M23iQf9TBef+hCur+123/PxF/32Kp6daaTpK3I08xQi6uHuZv3xbdI/LNyTjPoOKXLvftb8V/kNvT5/o/8AM5X4ZarZ2PwzSO9uI4H0d54b4O2PIZZGJ3fhzWZ4e8KJrnw18PytfyaPqaXEt5p12mC8Zld3A2n74KHJXuB9a6PVPAngnWda/tbUtMs573IZpDKVDkd2UMFb8Qc1p67o3h/xLpQ03W4re6tAwdYzLs2kdCCpBHUjg03d6vcLq9uhwNhpF3J8YNHj1DxLN4h1HTIJ57uQRJDFbIy7EQRpkK5LEnPJAFdL4nP9t+OdC8OZzbwhtVvV4wyxnbEp9QZDnH+zWvoGh+HfC1m1roFva2cTnc+yTLOf9piST+JqxHZaRFrc+rxmIX08KwSTGYnKKSQuM4HJPQUdvL+l+Nhd/P8Ar/Mi8SaFofiSxh0zxHFHPDJKHihaZoy7gHptIJ4J4rjtC0uw8I/FKHQvCtxN9gubGWa908zmWO1ZSuxxkkqWyRgnn8q6/wAQaJ4f8U6etlr8NveW6uHVWlKlW9QykEdfWovDvhzwz4Tgki8P2trZiU5kYSb3f0BZiWI9s4FEU07/ANPQctVb+tzkdS8Lf8I3p2oXVh46uNI8M+ZJJcWUcUbsjEnfHFMTlCTkAAZz6mudjbUtL+H3hrw5LoWuXOl3cTXeotploZnaN5GdbfPG3ORuOc447mvQZfAPgefxA+tTaXZyX8knmu7zMVZ/7xQtsz36da6j7Xbf8/EX/fYpJNL7vwBtNnlnhbxSl18Xr4ReHNcso7qxt7dY57Hy/swTdhpBn5EPQGun8Tn+2/HOheHM5t4Q2q3q8YZYztiU+oMhzj/ZrfistIg1q41aIxLfXMSwyy+cTuRc7RjOBjJ6CiOy0iLW59XjMQvp4VgkmMxOUUkhcZwOSegpq+nlf9WvxF387fon+Bp0VD9rtv8An4i/77FH2u2/5+Iv++xRZjJqKh+123/PxF/32KPtdt/z8Rf99iizAmqGb/XW/wD10P8A6C1H2u2/5+Iv++xUUt1bmWAieMgSEn5xx8rUWYi3RUP2u2/5+Iv++xR9rtv+fiL/AL7FFmMmoqH7Xbf8/EX/AH2KPtdt/wA/EX/fYoswJqKh+123/PxF/wB9ij7Xbf8APxF/32KLMCaioftdt/z8Rf8AfYo+123/AD8Rf99iizAmoqH7Xbf8/EX/AH2KPtdt/wA/EX/fYoswJqKh+123/PxF/wB9ij7Xbf8APxF/32KLMCaioftdt/z8Rf8AfYo+123/AD8Rf99iizAzPEWkw+ILePTDrV/pUwYThtNuxDMygEY6ElefTqBXK+CreOw1zxD4NeePVrCGNZpbtlUSlpdweOZl+++B948469q6DxH4V8K+LTCfENrb3jQAiNvPZGUHqMqwOParmh6ToPhvT/sOhwWtnb53FY2GWPqxJyx9yTSS3Bvax5p4n8NzeGvA9zC3jm6n8PtC0dhpaRR+bOzD93EJgdzrkjIA+7ntXpPhjT5NJ0LT9Pm/1lrp9vC/+8qkH9RWVpngHwRo+sf2pp2l2cV4GLrIZmcI2c5VWYqp9MAY7V0a3Vv9skPnx4MagHePVqpXs/MTtdWPJ/Cfgnw74h8O6ifFNzM93pt7cxuDdNF9g/eM24AEDJzu3MDnj0rp/CLTeJPhXp9pqms3lrPdB44Ly3uPKuZUjlO1lYjOSqjJwcg+9aGteBPBXiHVhqer6da3F5xukE7Jvx03BWAb05B44q7rXhvwx4h0qDTdXtLWezt8eTEsnliLAwNpUggY4wKlJ8tvT/hyrpyv6/8ADHMeG7VvCXxKk0C31J9ZTUbRrq4nu9r3duUIC+ZIOWU7jgEcdu9YXhPwT4d8Q+HdRPim5me7029uY3Bumi+wfvGbcACBk53bmBzx6V6L4e8O+GfCkEkXh+1tbMSkGRlk3O+OmWYkke2fWqOteBPBXiHVhqer6da3F5xukE7Jvx03BWAb05B44oabt6fr/SEn+f6WMnwxYaf40+F+j2njMi/SSR/s5mnaN5xGzqjZUgk7Bn36moNC0uw8I/FOHQvCtxN9gubGWa908zmWO1ZSuxxkkqWyRgnn8q6vWvD3hrxBo8Wl6ta2s9lAVMUKyeWI8DA2lSCOOOO1J4d8OeGfCcEkXh+1tbMSnMjCTe7+gLMSxHtnAqvtN/09Oovs2/pa9Dzvwn4J8O+IfDuonxTczPd6be3Mbg3TRfYP3jNuABAyc7tzA549K3vDXi2+tPhnokkiPqmq38r2lgsjbTOAzhHdj0ARck8k/U1s614E8FeIdWGp6vp1rcXnG6QTsm/HTcFYBvTkHjirGu+E/CviWytLTWbWCa2shi3iS4aJYxgDACMOMAD2qUmo29Btpu/qSeH/AA3LYXs+r61djUNaukEcs6rtjhjByIol/hQHn1J5NdBXIaH8P/BPhvVo9S0WxitruMMqSfbJHwCMHhnI6H0rqftdt/z8Rf8AfYpiRNRUP2u2/wCfiL/vsUfa7b/n4i/77FFmMmoqH7Xbf8/EX/fYo+123/PxF/32KLMCaioftdt/z8Rf99ij7Xbf8/EX/fYoswJqqi3ju7Ca3m3GOVpEcK5U4LEHBBBH4VJ9rtv+fiL/AL7FRW91brEQ08YPmOeXH940W0C+pzWm3l3NfXmheDrTTtL07RnFvJNcRNIGkKhiqRKy8DcMsW5J6HrVa/t5dHudFt/EFjpd3pv9pR/ZZdOie0Ntctu2sYt7BlJJz83U5INbF3oOnTarLqen6pPpV7OAJ5bKZMTYGAXR1ZCQOAdufemwaBYf2lBfaprN1q89s2+3+2TRhIWwRuEcaom7BPzEEjtQr3TfzB2s0jR1uxtLuxaW+e9WO2VpP9DvJbdiAMnmN1z06GvPLmC91zS9Kv8AwrpHi5Laa4inlkl18jzrbqygNdkgkY7A+4r0u5ktLq0mt5LmMJMjIxWQZAIxxXO6d4a/snTbew0/xlqkVrbRiOKPFk21QMAZMBJ/Gkk7/d/X5A3p9/8AX5lLSYdLv/EM2kTWnifT723t1uil3rk7KyFiowY7lx1B4NbXjM6JbeG7nVPEWlW2p29hGZVingSU56YXcCAScDNM0vQrTTtfn1mfXLrUbya3W2LXTwABAxYACNE7k81rXn9nahZTWl61vPbzoY5I3YEMpGCDQ03G3X+v+AEWlK72OU0vwlfQSQ6lZaZ4T0a627kjh0cyyRZHI85ZE5wcEhfzqz4PmEviPxMLyFoNWW4hF6iS74WHlARvGdoIBUcg5IPerEOgLaQrb6f4s1S1tUAVIBLbyhFHYPJEz4+rVf0bTdJ0KGZLGVS9xIZZ55p/Mkmc8bmYnJ6fQdsVXVk9NdzQtLG00+JorC1htY2cyMkMYQFj1Ygdz61yvhj/AJKR41/66WX/AKIrd0iw0fQrWS20ryoIpJnndfOLZdjljliep7dKda2mk2WpXt/bGJLq/KG5k84nzCi7V4JwMDjjFJJ3+X+RRgfFb/km+of9dLf/ANHx12NZuq2mk65pslhqhintZCpePziuSrBhypB6gGm6vYaPr1ktpq3lXECyrKE84r8ynKnKkHg0JO1vP/IA8RaBb+JNJOn3c89unmxzLJblQ6sjBlxuUjqB1FVv+Ef1L/ob9a/782X/AMj0+/0Lwvql0brU9L0i8uGABluLeKRyB0GSCarf8Il4K/6F/Qf/AACh/wAKVmFy94e8PweHLCa1t7m4ufPuJLmSW5Kbmdzlj8qqBz2ArN8QeGfteqDU9NsPNvpIxDNL/bd1YfIpyo/chg3JPUD8au2OheF9Lu1utN0rSLO4UELNb28UbgEYOCBmtT7Xbf8APxF/32KdtguclZ6Pr2n3K3MGlwu6A4E/i2/mTkY5R4ip/EVZ+GjW0nw30k2UMsMBjfbHNKJGX942csFUHn2FdIbq2II+0Rf99isjwpplt4Y8L2Wj/wBoxXX2VWHncJuyxbpk46+tFtGn5fqIwtC0TRZdc1jQbODVLKDRmhRPJ128COJE38IJAFx075q74i8N3DxeHYdIjuLiOy1mG7na4u2ldIwH3NulYscZHGT7Cpn8OW669qGq6f4kvtPm1Exm4SBrZkJRdq48yJiOPep4tNuI5kd/GWpSqrAmN1swrj0OIAcH2INCvo/T8P8AgjfU0Nb1KbStMa5tdNutSm3BI7e1A3Mx4GSSAFz1PYc1k+HPD99HqU/iDxNJHNrFynlpFESYrKHr5SZ6nPLN3PsK6D7Xbf8APxF/32KPtdt/z8Rf99ihXQPU4290fTNZ+L00er6daX8cehxMi3UCyhT578gMDin6+TpvxG0HUDZXj2MFhcws9nZSziMkx7VIjViOh7dq2k062XxjLr39oRHzLBbPyOONsjPu3Z/2sYx261q/a7b/AJ+Iv++xSSaS+f43/Rg7Nv5fhb9UZcHirT7i4jhjt9WDSMFBk0a7RQSccs0QAHuSAKwPAei6XLc61qcum2b38euXgS7aBTKo8wjh8ZHBPeuz+123/PxF/wB9isrw/p1toUN9H/aEU/2u/mvM8Ls8xt23qc49e/pTSs7+X6oT2t5/ozP1qDVPFd1PokcE2naMrbL67k+WS7XvFEM5CkcFz2JAzyRc8W28Vp8Odat7aNYoYtLnSONBgKoiIAH4Vs/a7b/n4i/77FUtahttY0G/037bFD9stpIPMyG2blK5xkZxnpmolFuDSLi0ppszvDugaZY+FIX0nS7O1uLqwQSPbwJG0pKfxEAZ5PeszwjPrWgeDdM0m88J6q89pbrE7RT2ZUkehM4OPwrqdPNtY6Za2n2uKT7PCkW/cBu2gDOM8dKsfa7b/n4i/wC+xWk1dyts/wDg/wCZnHSKv0/4H+R5rbaVe6J4O8BadqkH2e7g1pBJFvVtpImI5UkHgjoa6Txn/wAhrwl/2GB/6JlrR1zTrbWptKk/tCKH+zr9LzHDeZtVl29Rj73Xnp0rO8W/6Tq3hd7f96sGqiSVo/mEa+VINzY6DJAyfWjVtN/zJ/8ApI3s/wDC/wBTYudN+yXVzqmj6fbXGqXIRJHubh4wyL0G4K+0DrgLgnnrzXP6vomuay0Lz6Do8Mkd3DdmWDV3VpXiOUDk2hyO306EV132u2/5+Iv++xR9rtv+fiL/AL7FTZjucr4BkWaTxLvtTa3H9sSi5RbrzkMnlpko2xCF6cEZ96IZm0/XpvC/gyws7QwRrd3t3dbnUGQkD5QQ0rnaSSWGAOp6VpaDpdtodxq8v9oxT/2lfveYwF8vcqrt6nP3evHXpS6noumajqMepRX8lhqMaeUt5ZzqrlM52MCCrrnnDKcdqLPT0V/u/wAw7+r/AD/yOf8AElrd6ToN1L4htNI1PRpZkl1BLG3kspc71xJ/rH8wggEjKkgdT0rtruytNRtxFf2sN1FuDhJ4w67hyDg9x61gP4csryaJtb1691eKJg6291LCkW4EEFkiRA+CM4bIrS1ew0fXrJbTVvKuIFlWUJ5xX5lOVOVIPBp2dv6/r+t+y/r+v6/4ON4js9TTxzoOsWOlXGo21nBcxzLbyRK6lwgXiR1B6HvWpb65qE1xHHJ4W1a3R2AaWSW0KoPU7ZycD2BPtWn9rtv+fiL/AL7FH2u2/wCfiL/vsUJNKwzmfh//AMeeu/8AYdvf/Rla994W8P6ndtdaloWm3lwwAaa4s45HOBgZJGah8P6dbaFDfR/2hFP9rv5rzPC7PMbdt6nOPXv6VC/hTwZI7PJoOhMzHLM1nCST69KVnZei/IL6v1f5mH478J+GNP8AAGt3Vt4c0mGaOykMckdjGrI2MAghcg5712Wkwm20WygPWK3jQ59lArH/AOES8Ff9C/oP/gFD/hVqDRPDNrZXFna6ZpMNtc48+CO3iVJcdNygYb8aeqv/AF3/AMxaO39dv8jZrkfFwEvi/wAGwYyf7Qll78BIH/xFW/8AhEvBX/Qv6D/4BQ/4Uf8ACJeCv+hf0H/wCh/wos7j6NFX4k29xc+EVFpbT3Lx31rI0dvC0r7VmUsQqgk4AJ4FXn1fRdfA02802+uYpyAYr3RLkREjkbjJEFHTvWnaDTdPtI7WwFra28YwkMO1EUZzwBwKm+123/PxF/32KLdPP/L/ACC/X+v61PIfD0UcFz4XhgjWOKPxLqKoiLhVAEgAAHQV6F4i0q+bVtM13Roknu9P8yOS2d9n2iCQDcoY8BgVUjOBxgkZqjH4P021vNLls9U2pYajPfskpVzI0obKgjG0Atxwen411X2u2/5+Iv8AvsUJPlXfT8kgduZ/11bOaTT9S8QeLNP1XU7F9MsdJWRre2nkR5ppnXaXby2ZQqqTgbiSSScVD4Y/5KR41/66WX/oiur+123/AD8Rf99isfS9LttN8Sa3q39oxSf2q0LeVgDyvLj2dc8569BihJp/L9UI3q4/SP8AioPiLqern5rTRlOmWnoZjhp2/D5U/A10d9dk6fcDTri1+1+W3k+bLhN+ONxGTjPsaz/C2nW3hzwzZ6abuGWWJN08ocfvZWO52/FiTQk73/rX/gfmN7WN2uR1HUdU8S61e6D4fuP7PtLIiLUNTAzIGZQfKhHQNgjLn7ueBmuo+123/PxF/wB9iuP1L4Z+AtX1O41DUdOjmurlzJLIb6UbmPU4DgD8KVm3rsF9DdaKDwh4UEOiaVPdRWcYWGzteXck+pPqckn3NUvCug31tdXeu+ImjfWtQwHWM5S0hH3YEPcDqT3P0q74f0bQfC2mnT9BSK1tTIZDH57P8xxk5ZiewrT+123/AD8Rf99iq1vcXSx43PptiZrvUTZ25vl8dRxi5MS+aE3p8u7Gce1e1Vx934P02WEx2mqeV5mtprEplKvl1YEoMbcA46nOPeuq+123/PxF/wB9ilFNQS/rZL80xvWTf9bsmoqH7Xbf8/EX/fYo+123/PxF/wB9iizAmoqH7Xbf8/EX/fYo+123/PxF/wB9iizAmoqH7Xbf8/EX/fYo+123/PxF/wB9iizASM7XuTgnD5wOp+Ra4WXw7qviWG98STQtY6uHR9Gt5/la2SJiVD+hkJbcOwYDtXbRXVuJZyZ4wDICPnHPyrUv2u2/5+Iv++xRZ3uF9LHnGt3suo+J7W7uLOaxll8MXzPbTjDxnK5BrovDmmQ618ItL0y6yIbvR4oXI6gNEBkVa1bQ9N1XUm1Br7y7n7BNYph1KBZMZYjqSCB3FXNBt7bRPD2n6X9tin+xW0cHm5C79qgZxk4zjpmla8Wn/Wsv80F7STX9aR/yMCT/AIS2bwwdAbS1S/aH7K2refGbbZjaZQu7zN2Odu3G7viq/irTYdG03wRptrnybTWrSFCepCo4yffiu2+123/PxF/32Kx/EGl22uyaS39oxQf2dqEd7jAbzNgYbeoxnd156dKevMm+6b+T/wCHFpZpdn+K/wCGLeu6bo17Ytca/ptpfQ2iPKPtNusuwAZYgMD2FcXpHhaLxHpdvqtp4c8I6Va3aCWCGfRVupDGRlSzK8YBI5wAcetegNc2rqVaaFlIwQXGCK5638N2unR+RofiO/0q0yStrBLBJGmeyiWNyo9gQPalYd9Cr4fhh0/xm2n3+lWVrqUemgW9xpxZIJLYSn5fKJxGQxz3znr2rodR8O6LrEyzavo9hfyou1XurVJWUdcAsDxVXSdI0vSbqe8F7JeX1woWW8u7gPIygkhR0CqCT8qgD2plz4b8JXt1Jc3mjaLcTytuklltYmZz6kkZJp66CXUhvfBnhKDT7iY+GNGHlxM2Rp8XGBn+7TPhtCbf4aaChGM2aPj/AHvm/rUn/CJeCv8AoX9B/wDAKH/CrmnaT4c0eZ5tI0/S7CV12s9rDHEzDrglQMihX1/rv/mD6f12Neioftdt/wA/EX/fYo+123/PxF/32KLMZNRUP2u2/wCfiL/vsUfa7b/n4i/77FFmBNRUP2u2/wCfiL/vsUfa7b/n4i/77FFmBNRUP2u2/wCfiL/vsUfa7b/n4i/77FFmAWn/AB5Qf9c1/lRUVrdW62cIaeMERqCC444ooadxEMH+rP8Avt/6EalqpMLk6bcjT2iW6Ik8kzAlA+Tt3Y5xnGa4iaXxj4T1fSJdX8RQa7ZajfJZS25sEt2iLg4ZCp+bGO/b8wfasPpc9CornPEOleKNSvo/7B8Rw6JaJGM4sVuJJHyc53nAUDGMc5zWf4ev/EHiTwnqVpLqUOn6zY30lkdQgt1kRjGwy4jbjkZGO36UtwOzorzDXLPx5pFxp1rB4++13mo3Ihhg/saBPlHLuTzwqgnp6DvXc+Itbj8O6BNfTDzZVASCIfenlbhEA9Scfqe1HS4dbGtRXDeC/EOr33w1vNU124EmoWzXQeRURQpjJwAAAOMVB4U03xtqOn6TrGoeNt8FxHFcy2X9kwjcrAMU3jBHBxkCnbX7vxF0+/8AA9AoriPE0/iHUPHVloXh3X/7GQ6e93NJ9jjuNxEgUDDdOp79q6Lw/Yatp2ntDrutf2zcmQsLj7KlvhcDC7V49efektVf+uw3o7GrRRRQAUUUUAFFFFABUVx/x6y/7h/lUtRXH/HrL/uH+VNbgS0Vn6zc6nbafu0SwjvrtnCBJp/KRAerscEkD0Ayax/Amrarq2m6m2vSwyXVrqc9qfITbGoTAwvfGc8nJpLW/wDX9bg9DqKK86iuvG3iuC71vw7rNrpljHNJHYWT2iy/a1jYrud25TcQenQfnUs/jTU9Z0Lw1DoAhs9U1/eGlmTetqIh+9IX+IgjAB/Gjdf11/r5Bs7f1oegUVw+lXviTw/4vs9D8TarFrVvqkUjWt4tqsDxyRgFkZV4wQcg+1Utb0vxnoejXep3fxH2wW0ZkKjQ4Mn0Uc9ScAe5pN2VxpXdj0WivPtTvvFWm/DnRUudV8rxBf3lvbyXX2aM+WZX5GzG07VOOB2re8P6N4l029kl1/xX/bNuYyqwf2dHb7GyPm3KcnjIx71VrN36E30R0dFeb2N1438X6dL4g0HXrTTLRpJBZae1ksgmRGKgySH5lLYPQcV13hjxCmveELPWp1W282EtMrHCxspIfk9gQfwpdLsfWxtUV5/4J8Xap4l8ba0k7FNJFvHNp0RjUHyyxUSE43fNt3YPYiotb0vxnoejXep3fxH2wW0ZkKjQ4Mn0Uc9ScAe5pPRXY0ruyPRaKx/CaawnhWx/4SW4+0am8e+d/LVMFjkLhQBwCB+FbFU1Z2JTurhRRRSGFRS/6yH/AH//AGU1LUUv+sh/3/8A2U00BLRRRSAKKKKACiiigAooooAKKKKACiiigAooooAKKw/Edh4h1EW8Xh3WodGUbjPO1oLh26bQqt8uPvZPXpisXw/4i1XT18S2Xii4i1CTw+qzG8hiEZnjaMvyg4DADt6/iVdWbY7O6SO2qJf+Pp/9xf5tXm5uviAfDA8XrrVkYvI+2nRBZLs8nG7b52d+7b+td/pl9HqdpBfQAiO6topkB6gMCR/Oqs9fIm+xeorgmvvFPjHWdQXw1q8OhaTp87Wq3JtFuJLqVfv4DHAQHjPX+m/qFl4lufDtra2OrWtlqeVF1fC28wYAOSkZ4yTjg8AE+1LpcrrY3qK4vw5feIdP8ZXPhvxFqUOsD7CL2C9S2WBwN+woyLx16H2/LO1vS/Geh6Nd6nd/EfbBbRmQqNDgyfRRz1JwB7mk3ZXBK7sei0VyNpD40k8EabAb62Gt3GDd3txCMW6nLcRrgMw+Vew4JNV9DvfEej+M08P+I9Uh1qK8tHube7S2WB4yjAMrIvGDu4NVb3uUm+lztqK4b4oeLr3w5oLQaA4GrSo0wbareRCnLyEEEeijPUt7VY8Qa9qyW/h/SdElhi1TWgf9Kmj3LCiRhncL0LcjA6UlqtP6/qw3odjRXEaVe+JPD/jCz0TxNqsWtW2qRSNa3i2qwPHJGAWRlXjBByD7V29HS4BRRRQAUUUUAFFFFABUUH+rP++3/oRqWooP9Wf99v8A0I0+gEtQ3F3bWhiF1cRQmaQRReY4XzHPRRnqTg8CuC1jWR/wse01e1t5LnSdGhktNQvIhuWF5cHoOWCbV3EZ27uehq34/vUktfC15Yqb5G1y3eJbd0Pmja+NpJC8+5A96S1t5v8AX/LUHpf0/T+kdxRWdNPDdaFJLq2mzJC6ETWc0IuHK9MFIy4bPoM1wOiW/hv7Zq41nwfmH7aTYMfCsnMGxcD5YP72773NHWwdLnp9FcD4Bj05Ly8Z/Dx0++a8n+zS/wBhNa7bbd8g8wRKOnYnJ71Y8a2VrqPjPwfa6hbQ3VvJc3O+GeMOjYgJGQeDyAaO3mHfyv8AgdtUMd1bzTzQQzxSSwECaNXBaMkZAYdsjnmvOfGGi6RoXivwrNpFmujs9xcB59I09Gmx5J6Isbbv++TgEnjrWn4Ck83xL4qf7Te3Wbi3/e31v5ErfuR95NiY9vlHGDz1oWt/67f5g9H/AF5nc0VzXiXxUth4cN14fktdQvJ7pLG1VZQ0fns23DFTxt5JHtWNHc+LfCmu6V/wketwa3puqXAtJCtmkDWsrAlNu37ykjGTQtWD0R31Fc3458QzeH/Dz/2aA+q3eYbGLgkvjJbB7KAWOeOPepvBOpXWr+B9J1DUZfOuri2V5ZNoXcx74AAH4ULW/kD0t5m9RXI6+h1vxxpvh65ydMW0kvrqHOBcEMERG9VBJYjocDNQfZIPCvxB0m10aJbWw1mKdJrOIbYkkjUOsiqOFJGQcYzxQtfn/X6A9Dr7e6t7tXNrPFMI5GjcxuG2uOCpx0I7ipq4jwLrGmR3Os6Y+o2i3763eMtoZ1ErDeTkJnJ4BPTtXQ3fhuxvbqS4mn1NXc5Ih1W6iQcdlSQKPwFHRPyQdWjSmmitoJJ7iRIoo1LvJIwVUUDJJJ6AetOjkSWNZInV0cBlZTkMD0INeb6e8l18OPGd8l1dz6fcC7WwF1cvORCkRTIZ2Y4LBj1rutB/5FvTf+vSL/0AUdH8vxuD0/H8LCXviDRtMulttR1ewtJ2AKxT3KRsfoCc1aub21s7U3N5cw29uMZllkCoMnA5PHJIH41yXgP7EPC97/ahg/tH7RN/bBnxu372+/u/h24xnjbjFcxeeb/wpLVMb/sH9oj+zd+f+PX7Unl4zztxnHtjtimt0vT8bf56dweh63RXO+OmNv4M1G+QyiWyhaeMR3M0ILKOjGJ0Yj2zWTY2scPjywsI5L4wtphviZNWvJD5gkVQNrSlSuCeCDSWrt/XV/oD0V/66f5nWRatp04gMF/ayC5dkgKTKfNZc7guDyRg5A6YNXK8m8K/8engb/sK6j/Keug+Jdv9qbw1B9ktr3zNYQfZ7o4ik/dvwx2tx/wE0dvO342B7tdr/hf/ACO5qGK7tprma3huIpJ7cqJokcFo8jI3DqMjkZrlrHw9DYTNeS+BtAhltxvgOmNG8xcEY274ogvc53dqg8G3El1478YzT2c1k7SWmYJyhdf3PcozL78E0AdtRXM+CLue60jUJLy4kmKapdoGlcttRZWAGT0AHQdqxPD2vxp441XULpRBpeuyRx6besf3czwqUIz23clf7wBxmha281cHpf7jtTq+mru3ahajbOLZszLxMekZ5+9yPl681crxm7uZRqN9bCynMR8bQOboNH5anMfykbt+f+A4969c1LUrTSNNmv8AUZlgtoFLO7fyHqT0AHJNC+Hm/rZP9Qfxcv8AW7X6FqoYru2muZreG4ikntyomiRwWjyMjcOoyORmuI+Ht/JpsM2k67avpl7eXUt7aRTkDzo5W34B6F1yQy9R6U/RLye3+KHiyKLTbq6SWWzDzQtEEh/cjltzqx/4CD0oWv3f5B3O6oqCC+tLqaeG2uYZpbdtkyRyBmibGcMB0PsazrnwzYXdzJPLPqivI24iLV7qNR9FWQAD2AFAGxRXC67p40LxH4YOm3uqKLrUjFMk2p3EyyJ5TnBV3I6gdq6rW205NKkOs3v2G0yu6f7Y1rtOeP3ispGT780dL/10/wAw62/rr/kaFU01fTZWjWPULVzLK0MYWZTvkXO5BzywwcjqMVxWh3+nN8UIrTw/rkuo2B0mSSWP+1ZLxBIJUAPzO2Dg/rWFov8Ax/eG/wDsZtR/lJQtWv66pA9E/L/Js9eorkvEh/tbxho/h2aRxZSwzXl3ErFfPVNqqjEfw5bJHfGDVe5tLfwn420NdDgjs7LV3ltrqzgUJEWWMukioOFYbSCR1B56ULX5/wBfmD0/r+uh18V3bTXM1vDcRST25UTRI4LR5GRuHUZHIzU1ch4a/wCSjeM/+uln/wCiK6+jogCiuc8Y6reWVpZafo03k6pql0lvbybQ3lL96STBBB2oD19RXRDgetAC0Vyetab401PU520jXrXQ7KHAt0Fmtw9wcDJctwozwMc4qx4S1S48U+EA+rJ5VzvltbhrWVowzI5QsjKQwBxnIIIoWqDY6SqZ1fTQpJ1C1AWcWxPnLxN/zz6/f5+71rktQ0+Ox8ceHtP0m91XzJJJbq7WTVLmZfIRCBuV5CMF2UdO1c1N/wAel3/2Pcf/AKGlC1aX9bpfr+APRX/rZv8AT8T16iiigAooooAKKKKACiiigAooooAKKKKACiiigAooooAKKKKAIov9ZN/v/wDsoqWoo/8AWTf7/wD7KK4HXdPtbP4heG9MTUtWig1Bbozxf2xdfvCqApj95kc56Yo62Dod3Nf2dvP5FxdwRS+W0vlvIFbYv3mwew7noKkgnhureOe2lSaGVQ8ckbBldTyCCOCPevMdUu7S48XLDYrfiODw5epm/guEc8r/ABTAM/1ya3bDVX0P4JWmpw48210WOSPIz83lDb+uKV/dcv63f+Q7e8o/1sv8ztahuLu2tDELq4ihM0gii8xwvmOeijPUnB4FcdP4MsIvB7XaZGuR2xuBq+f9IM4XduL9Suf4Pu44xiqesao+teHPAWpzKFlu9Vs5XA6BjG5OPbNVbW3ml97Jvpfyb+49DorA8bWcF14N1N5rS1uZba1lng+026TKkioSGCuCM1x11pGjGDwSbfQ9FV9WljN3jTICJU8guw5TjkDpiktXb0/Eb0V/X8D0r7XbG9Nn9oi+1CPzTBvG/ZnG7b1xnjNTVx0EaRfGV44kVETw8iqqjAUCc4AFdHqWkW2q+X9qkvE8vO37LezW+c+vluuenfOKOif9btB1a/ra5eorn5vCenpbyMt1rAKqSD/bd56f9dah+Hd1cXvw90e4vJ5bieSDLyzOXZjuPJJ5NHf+v62A6aiiigAooooAKKKKACiiigCK3/49Yv8AcH8qKLf/AI9Yv9wfyopvcBnnRW9q8txKkUau253YKB8x7mvNdb0Q+B9U0nXLfX77Wbh7tLaOz1iZblnWRgreS2AUYA5yO3B4r0K4gsNR02ey1ARTW8+9JInbhlJNYuieAvBvhzUBfaRpltDcqDtleZpSmf7u9jg+4oSalcT+GxZ8SeH4fE7x26+INU0yW1Db00y8ERYMBjzBg5HHHTqazPhtdMNP1LRkkt7m20e8NtBeW8aos4wGOQvG8FiCR1PPXNXde8EeEvE9+t7rlhDc3KqEEgndCQOgO1hn8a2NNtNL0fT4rHS47e1tYhhIoiAB7+59T1NEU1cctbWOd0E/278QNb1hzug0sjS7QHGFYYaZvqWKjPotYGq+IrpviDJc6v4W8SXllpLlNOjstOMkTyYw05YkZPZcZAHPU13+l2Gl6LbSW+miOGOSZ5nHmltzucscsSeTVz7RD/z2j/76FJJq3l+fX9QutfP8v+GsebfDDVbTUvCWrafqWn3trafaLl5p7uPyoWSR2ygfP3gDgjjHrUHiLwpoHgR9M1PwgZtO1SW9hijtorp3F6rOAyMrMcjaScjpXe22i6HaaPcaVDBD9huWkaaF5C4cuSWzkk8kmszRPAXg3w5qAvtI0y3hulGFleZpSn+7vY7T7inHRryt+Anqn53/ABJfEPgvwr4s1ISa7aJdXltCF4uXRo0JJGVVh3zyRWb8Npii65ptrezahpen33k2NzM+87dgLIG/iCngfWtLxB4K8J+KbxLvXbCG6uI02LIJ3jO30Oxhn8a19NtNL0fT4rHS47e1tYhhIoiAB7+59T1NEbpP+uo5a2L9FRfaIf8AntH/AN9Cj7RD/wA9o/8AvoUWYEtFRfaIf+e0f/fQo+0Q/wDPaP8A76FFmBLRUX2iH/ntH/30KPtEP/PaP/voUWYEtRXH/HrL/uH+VH2iH/ntH/30KZPPEbeQCVCShwAw9KEncRYrj/h9zb+I/wDsP3n/AKEK6v7RD/z2j/76FVNOstM0pbkWHlxC6uHuZv3pbdI/LNyTjPoOKXLvftb8V/kNvT5/5nK/DXVLOy+GyR3s8cD6O00N6HbHkssjE5/Dmszw/wCFk1v4b6DK1/JpGpJPLeafdJgshkd3A2n7wKHJXuB9a6PU/Afg3WNZ/tXUtLtZ7zIZnMjKHI7soIVvxBrS1zRND8SaWNO1qCG5tAwdY/MK7SOhBUgjqRwabu9XuF1e3Q4Ox0m7k+LmkR3/AIjm8QahpsE893IIkiitkZdiII0yA5LEnPJAFdH4lP8AbXjfQ/Duc28IbVLxeMMsZxEp9QZDnH+zWxoOhaB4Ys2tdBtrezic5fa+Wc+7Ekn8TViOw0uLWptWQRi+nhWGSXzScopJAxnA5J6Cjt5f1+dhd/6/rqQeI9E0TxFYxab4iiSeGSUNFC0zRl3APTaQTxniuQ0PTLDwn8T4dD8LzzfYLmxkmvbAzmWO2ZSuxxkkqWyRgnn8q67X9D0LxRYLZa9BDdwK4dVMhUq3qCpBH51H4e8N+HPCsEkWgWlvZiU5kYOWd/QFmJJHtnFEbp3/AK2G9Vb+tzktS8L/APCOafqFzYeOJ9J8NeZJJPZRxRsysSd8cUpOUJOQABnPqa56NtR0zwD4c8OyaHrdzpd3E13qDabaGZ2jeRnWDPG3ORuOc447mvQJfAHgybXn1mbSrWS+kk813eVirP6lC23Pfp1rpvtEP/PaP/voUknb7vwBtNnl3hfxQl18W70ReHdas0urG3t1jnsvL+zBd2GkGfkQ9Aa6XxKf7a8b6H4dzm3hDapeLxhljOIlPqDIc4/2a6CKw0uHWbjVYhGt7cRLFLL5pO5FztGM4HU9BRHYaXFrU2rIIxfTwrDJL5pOUUkgYzgck9BTV9PK/wCrX4i7+f8AwE/wNGiovtEP/PaP/voUfaIf+e0f/fQosxktFRfaIf8AntH/AN9Cj7RD/wA9o/8AvoUWYEtRS/6yH/f/APZTR9oh/wCe0f8A30KZJPEZIsSpw/PzDj5TRZiLFFRfaIf+e0f/AH0KPtEP/PaP/voUWYyWiovtEP8Az2j/AO+hR9oh/wCe0f8A30KLMCWiovtEP/PaP/voUfaIf+e0f/fQoswJaKi+0Q/89o/++hR9oh/57R/99CizAloqL7RD/wA9o/8AvoUfaIf+e0f/AH0KLMCWiovtEP8Az2j/AO+hR9oh/wCe0f8A30KLMCWiovtEP/PaP/voUfaIf+e0f/fQoswMvxDpUOv28emnWb/S5gwmDaddCGZlAIx0JK8+nUCuX8GW8djrfiDwe88eq2MMazSXTKolLS5DRzMv33wPvHnHXtXQeIvCnhnxYYT4gtIbtoARG3nMjKD1GVYHHtVvRNI0Tw5p/wBi0S3trO3zuKxtyx9SSck+5NJLcG9rHm/ibw7N4c8E3ETeN7qbQGhaOx0xIo/NnZh8kQmB3OuSMgD7ue1ej+GtPk0rQNO0+b/WWtjBC/1VcH9RWXpvgHwZpGr/ANp6fpVrFdhi6yGVnCNnOVVmIU/QDFdGJ4vtDnzUxsXncPU1SvZ+Yna+h5P4U8F+Htf8P6gfE9zK93p15cxuDdNF9g/eM24AEDJzu3MDn8K6Xwk0viP4XWFpqmsXdrPdB44Ly3uPKuZEjkO1lYjOSqjJwcg+9aWs+BPB3iDVf7S1bTLae743SCZk346bgrAN6cg8cVc1nw14c8QaXBp2rWdtNaW+PJiVzGI8DA2lSCBjjAqUny29P+HKunK/r/wxzHhy1PhT4kSaDBqL6wmoWjXU813te7gKEBfMkHLKdxwCOO1afiU/21430Pw7nNvCG1S8XjDLGcRKfUGQ5x/s1qeH/DfhzwtDJFoFnbWYlOZGVyzPjplmJJHtmrkdhpcWtTasgjF9PCsMkvmk5RSSBjOByT0FPW68v+Db7tPuJ7+f9P8AUreJdefRLW2js7b7XqN9MLezty20M5BOWPZQASTVTTdEm0Zb7X9XkfVtbkgO9oY8BUUbhBCnZc/ix5NT+I/DPh3xZFBH4ggS7S3YtEPtDx7Sev3WGeneqGifD/wd4c1WPUtGsI7a7jDKsn2uR8AjB4ZyOh9KST1HdaHm2q+ILmTwj4juta8MeJE1jVoCkt1NpxS3tYgfkjVichB3OOSSTXdnT4fG3hPRbtZNQ8O6laOPsM9xEElVwuD8hPzKwGcdwK6zU7XTtY0yfT9R8ua1uEKSx+YV3D0yCCPwqprGg6Dr+jppWrwQ3NnGVKRmUjaVGAQwIIOOOtO2j07fgHVfP8ThbHSbuT4uaRHf+I5vEGoabBPPdyCJIorZGXYiCNMgOSxJzyQBXqlY2g6FoHhiza10G2t7OJzl9r5Zz7sSSfxNan2iH/ntH/30KOiQutyWiovtEP8Az2j/AO+hR9oh/wCe0f8A30KLMZLRUX2iH/ntH/30KPtEP/PaP/voUWYEtFRfaIf+e0f/AH0KPtEP/PaP/voUWYEtVjBHdWU1vNuMcpdGCuVOCSDyMEfhUn2iH/ntH/30KZDPEIzmVB87fxD+8aLaBfU5jTru7mvbzQ/CFrp+mafo7i3kmuImkDSFQxVIlZeBnli3JPQ9arX9vLpFzo0Gv2WmXWnf2jH9lk06J7Q21y27axi3sGBJOfm6nJBrZu9AsZdUl1LT9SuNKvZwBPLZypibAwN6OrISBwDtz70kHh+z/tGG+1TVrrVp7dt0H2yWMJE2CNwSNUXdgnkgkdqFe6b+YO2qL2tWNrdWLS3r3ix2ytJ/ol5LbsQBk8xuuenQ15/cQ3mt6Zpd94W0nxYlvNcRTyyS68R51t1ZQDdkgkY9D7ivSbk211ay28kyhJUKMVcZAIxxXP6f4ZbStOt7Cw8XarFbW8YjiTFm21RwBkwEn8aSTv8Ad/X5A3p95R0qHTL7xBLpM1p4m0+9ggW5KXWtzMrIWKjBjuXHUHg1s+MTott4cudT8Q6Xb6lBYRmVY54ElOemF3A4JOBmm6ZoNtp+vT6xPrN1qF5NbrbFrloQAgYsABGi9ya1btLG/s5rS98ma3mQpJG5BDKeCDQ03G3UE0pa7HKaZ4UvYJIdRstM8KaPdbdyRw6QZJIsjkecsic4OMhfzq14RlEviHxILuEwastxCLxEk3wsPKAjaM4BAKjkHJBqxD4f+yQrBYeKdUtbVAFSASQShF9A0kbPj6tV/R9L0zQ4ZUsny88hlnmlm3yTOeNzMTk9PoO1V1ZPTXc5rx9b2eh6Xol7b20NpZWeuwXV0YowiqCWVnIA9WGTU3ju4hu7jwzptvKklzdavBcRopyTFHl2f6ADr71t2uhaDZ6Tc6ZBbwfYrp3kmgkkMiuznLE7ietVPD/g3wp4WupbnQrC3tZ5RtaTzWdsegLMcD2GKlJr77/lp+BT1+635/5nBSeKLqXV9X1fXPCXih7nyZbWwWPTCYbWDHLbiR8zHlmxwMAcCus+E+p/b/h7p0P2G8tvskKxb7mHYs3Gd0Zz8y+9dbM9rcQSQzSRtHIpRhvxkEYNZcnhzw/NoFtokkEZ061KNDD57fKUOV+bdk4PqacVZW9P1/zCWrv6/p/kV9e0q9TxBp/iLR4Rc3FpG9tcWu8IZ4HIPyseAysAQDgHkZFRW2n6lrXjC11rVbFtNtdNhkSztpZUeV5JMBpG2FlACjAG49SeK6T7RD/z2j/76FH2iH/ntH/30KEmgepzXgL/AI9Nc/7Dl5/6MqPWl1vxPfT6HZwT6VpSNsvdQkwJLhe8cAB6EHBc9OQBmtTQdMh0OG+T7bHP9rvprzOAuzzG3bepzj17+lav2iH/AJ7R/wDfQpW0V+y/IL6u3d/mYfiezt9P+G+r2llEsNvBpc0ccajhVERAFP8ACei6Xpmh2U+m6bZ2k09pEZZIIFjaT5QfmIGTz61c1m2h1fQb/TftUcP2y2kg8zhtm5SucZGcZ6ZqawWGx022tPtMb+RCkW/IG7aAM4zx0pq9235fqJ2sl6/och4sbTZvEywSR6XNex26y7J/DM+ozKu4gNvjYbRkYxjtWX4k1TV7/wAPy2nkjVlZ4v8AQh4W1G23gSKf9Z5mFxjd+GK62+8PW914hfWrTXLzT7t7ZbZ/sxgZWRWLDiSNucntS/2Rd/8AQ56r/wB8WX/xiiN1b+uo3qxvjmG9vvCd/pmm6Zc3019bSQqYZIkEZK4BYyOvGT2zWNp6a2njS01O48N6ksEelLYMTPakh/MDFsCb7uB259q7ZJ4lRVNwrkDBYsMn34pftEP/AD2j/wC+hQk07/11/wAxN3Vv66f5HkXhHTrKGTwZfQ2dvHdz6pqCy3CxKJJABPgM2MkDA616J4xstPm8Oz3+pW0lx/ZaPewrFcyW7B0RiMOhBHGRn3qlaeEbDT20RbLUWEOk3M9wFmKs0plDgjIwBguT0PTHvW7qcFpquk3en3E4WK7heF2jcBgrKQcZzzzUtPlsirrnu9v+C/0MjSNA06+0ux1FZdXjNxDHOI21u8cLuUNg5kwevpzTtD0q9s/Gnie/uYdltfPbG3fcDvCRbW4ByMH1xTLXw/NZWcNrbeMNVSGCNY4122Z2qBgDJgz0FaenW72LSG51651EMBgXQgXZ9PLjT9c1b3diFtqc94P0+11Xwvq1lfxebbzateCSPcV3DzycHBHHHI79K1r+PWJFeyg0HRbnTxhY0uL903KMYzGLdgMY6ZPSqngdWtNJv0uwYGfVLuRVkG0srSsQwz2I5BrpPtEP/PaP/voVKTsvRfkir6v1f5nm2r6bd6Q1u+q6ZCINR8R290zW2rF2SdmUDCtbKCny8jOfeuy8Uf2VY6c2vaxafahpCNcRKcttbHUKTt3ehPT1FHiLSYdft7GL7dHb/ZL+G8zgNv8ALbO3qMZ9e3pWnciyvLWW2uzDNBMhSSNyCrKRggiiz5bLf/gKw7rmu/61ZgJbeJdZs4Lm8Oh2wJWeK1mspLsxHqp8zzEG4eoXjtR4XmR9f1yK8sIrXWlaA3skEzPFcDZiN13fd4BBXHbqetPg8OrZQLb6b4n1SztUGI7dZYJRGvZQ0sbPgdB83FX9H0vTdEilFpKZJrhg89xPN5kszAYyzH2GAOg7AVXV2J9dy/BY2lrNPNbWsMMtw2+Z44wrStjGWI6n3NT1jx6HoMb6i32a3kGqOJLxJm8xZmAwMqxI/ADFVv8AhEfB3/QvaH/4BQ//ABNTZj0KfiwCXxb4Pgxk/wBoSy9+AsD/AOIp3xGt57jwmotbae5dL62kZLeJpH2rMpYhVBJwATwKtf8ACI+Dv+he0P8A8Aof/ia1rSOwsLVLWxS2treMYSKEKiKOvAHAp2a++/5f5A9fut+f+ZmPq+ja9jTbvTr25inIBjvdFuBESORuMkQUdO9ee6BFHBceGIoUWOOPxJqKoiDAUASAADsK9b+0Q/8APaP/AL6FcvH4OsLa70uWz1JlSx1Ce/ZZdrmRpQ2VyMbQC3HB6fjRFWlf+t1/kJ6xt/Wz/wAy54h0u+bVtN1zR40nu7DfHJbO+zz4XA3KGPAYFVIzxxgkZqsun6lr/iuw1XU7F9NsdKDtb200iPLNM67S7bGZQoXOBkkknOK6X7RD/wA9o/8AvoUfaIf+e0f/AH0KEmhvU5Xw1/yUbxn/ANdLP/0RXX1h6ZpMOneI9a1X7dHJ/ajQt5WAPK8tNnXPOevQYrQvbhzYTjT5rf7V5beT5smE344yQCcZ9jSd1Fei/IFqznNJ/wCJ/wDELUtWPzWmjqdNtfQynDTN+Hyp+Brr6xPC+mQeHvDdnppuY5ZYk3Tyhv8AWSsdzt+LEmtb7RD/AM9o/wDvoU7W07f1+Yr31OX1DUNT8SaxeaHoE/2C0syI9Q1IDMgZlB8uEdA2CMuemeBmtRooPCXhUQ6Lpc9zFZxhYbO25dyT6k+pyT9TWLqPwz8D6tqVxf6hpqTXVw5klkN7KNzHqcB8D8K29A0XRPDGmmw0OOO1tjIZDH5zP8xxk5Yk9hSSdht6lLwtod7bXN3rniFo31nUMB1jOUtYR92FD3A6k9z9K8+n06yM11qBs7c3q+N44xcmJfMCb1+XdjOPavYftEP/AD2j/wC+hXL3fg6wlhKWupNFv1pNXlMm18urAlBjGAcdece9NaTT9PzT/Rifwtf1s1/kdbRUX2iH/ntH/wB9Cj7RD/z2j/76FFmMloqL7RD/AM9o/wDvoUfaIf8AntH/AN9CizAloqL7RD/z2j/76FH2iH/ntH/30KLMCWiovtEP/PaP/voUfaIf+e0f/fQoswJaKi+0Q/8APaP/AL6FH2iH/ntH/wB9CizAloqL7RD/AM9o/wDvoUfaIf8AntH/AN9CizAloqL7RD/z2j/76FH2iH/ntH/30KLMCWiovtEP/PaP/voUfaIf+e0f/fQoswJaKi+0Q/8APaP/AL6FH2iH/ntH/wB9CizARDtac4Jw2cDqflFcNL4e1TxHDe+I5omstWDo+jwT/K1skRJUP6GQltw7BgO1dvHPEJJcypy/HzDn5RT/ALRD/wA9o/8AvoUWd7hfSx5zrV5JqHia1u57Oayll8M3rPbzjDxnK5BrofDumw6z8JdM026yIbvSIoXI6gNEBkVb1bQbDVdRa/a8aO5+wTWKYZSgWTGWI6kjA7irmh2kOi+H9P0z7XHN9jto4PN4XftUDOMnGcdM0rXi0/61l/mgvaSa/rSP+Rz8n/CVzeGToLaYq3zQ/ZW1XzozbbMbTKF3eZuxzt24z3xVfxRpsOj6b4K021z5NprNpChPUhUcZPvxXbfaIf8AntH/AN9CsjX9Jh1yTSm+3Rwf2fqEd70DeZsDDb1GM7uvPTpT15k33T+5/wDDi0tbyf4os63p2j3li1xrunWl9DaI0o+026y7ABkkBgewrjdJ8MReIdLt9VtPDvhPS7W6QSwQz6Mt1IYyMqWZXjAJHOADj1rv2mt3Uq0kbKRggsMEVz9v4Zt9Pj8nRPEGoaXa5JW1gkhkjTPZRLG5UewIHtSsO+hU0CKHT/GLaffaXZW2pR6cBb3Gn7khkthKfl8o8RkMc98569q6DUfD+javMs2raRYX0qLtV7m2SRlHXALA8VW0nRtO0q6muxdyXl9cKFlu7ucPIygkhR0CqCeigCm3Phrwte3MlzeaLo9xPI255ZbSJmc+pJGSaeugkQXvg7wpBYXEx8M6OPLiZsiwi4wM/wB2mfDmEwfDfQkIxmzR8f73zf1qX/hEfB3/AEL2h/8AgFD/APE1c07R9A0iZpdJ07TbGR12s9tBHGWHXBKgcUK+v9d/8wfT+uxq0VF9oh/57R/99Cj7RD/z2j/76FFmMloqL7RD/wA9o/8AvoUfaIf+e0f/AH0KLMCWiovtEP8Az2j/AO+hR9oh/wCe0f8A30KLMCWiovtEP/PaP/voUfaIf+e0f/fQoswC3/49Yv8AcH8qKZBPELeMGVAQgyCw9KKGncRetv8AUt/10f8A9CNTUUUPcYUUUUgCiiigAooooAKKKKACiiigAooooAKKKKACobv/AI8p/wDrm38qKKa3AmooopAFFFFABRRRQAUUUUAFFFFABRRRQAUUUUAFFFFABUM3+ut/+uh/9BaiimgJqKKKQBRRRQAUUUUAFFFFABRRRQAUUUUAFFFFABRRRQAVCv8Ax+yf9c0/m1FFMCaiiikAUUUUAFFFFABRRRQAUUUUAFFFFABRRRQAUUUUAFQ23+pb/ro//oRoop9AJqKKKQBRRRQAUUUUAFFFFABRRRQAUUUUAFFFFABRRRQAUUUUAFFFFABRRRQAUUUUAFFFFABRRRQAUUUUAFFFFABRRRQAUUUUAFFFFABRRRQAUUUUAFFFFABRRRQAUUUUAFFFFABRRRQAUUUUAFFFFABRRRQAUUUUAFFFFABRRRQAUUUUAQw/664/66D/ANBWpqKKbAKKKKQBRRRQAUUUUAFFFFABRRRQAUUUUAFFFFABRRRQAUUUUAQ2n/HlB/1zX+VFFFN7gf/Z)"
      ]
    },
    {
      "cell_type": "markdown",
      "metadata": {
        "id": "3AZ24i536cDl"
      },
      "source": [
        "![환불 후 다시 구매한건지 모름.JPG](data:image/jpeg;base64,/9j/4AAQSkZJRgABAQEAkACQAAD/4RDyRXhpZgAATU0AKgAAAAgABAE7AAIAAAANAAAISodpAAQAAAABAAAIWJydAAEAAAAaAAAQ0OocAAcAAAgMAAAAPgAAAAAc6gAAAAgAAAAAAAAAAAAAAAAAAAAAAAAAAAAAAAAAAAAAAAAAAAAAAAAAAAAAAAAAAAAAAAAAAAAAAAAAAAAAAAAAAAAAAAAAAAAAAAAAAAAAAAAAAAAAAAAAAAAAAAAAAAAAAAAAAAAAAAAAAAAAAAAAAAAAAAAAAAAAAAAAAAAAAAAAAAAAAAAAAAAAAAAAAAAAAAAAAAAAAAAAAAAAAAAAAAAAAAAAAAAAAAAAAAAAAAAAAAAAAAAAAAAAAAAAAAAAAAAAAAAAAAAAAAAAAAAAAAAAAAAAAAAAAAAAAAAAAAAAAAAAAAAAAAAAAAAAAAAAAAAAAAAAAAAAAAAAAAAAAAAAAAAAAAAAAAAAAAAAAAAAAAAAAAAAAAAAAAAAAAAAAAAAAAAAAAAAAAAAAAAAAAAAAAAAAAAAAAAAAAAAAAAAAAAAAAAAAAAAAAAAAAAAAAAAAAAAAAAAAAAAAAAAAAAAAAAAAAAAAAAAAAAAAAAAAAAAAAAAAAAAAAAAAAAAAAAAAAAAAAAAAAAAAAAAAAAAAAAAAAAAAAAAAAAAAAAAAAAAAAAAAAAAAAAAAAAAAAAAAAAAAAAAAAAAAAAAAAAAAAAAAAAAAAAAAAAAAAAAAAAAAAAAAAAAAAAAAAAAAAAAAAAAAAAAAAAAAAAAAAAAAAAAAAAAAAAAAAAAAAAAAAAAAAAAAAAAAAAAAAAAAAAAAAAAAAAAAAAAAAAAAAAAAAAAAAAAAAAAAAAAAAAAAAAAAAAAAAAAAAAAAAAAAAAAAAAAAAAAAAAAAAAAAAAAAAAAAAAAAAAAAAAAAAAAAAAAAAAAAAAAAAAAAAAAAAAAAAAAAAAAAAAAAAAAAAAAAAAAAAAAAAAAAAAAAAAAAAAAAAAAAAAAAAAAAAAAAAAAAAAAAAAAAAAAAAAAAAAAAAAAAAAAAAAAAAAAAAAAAAAAAAAAAAAAAAAAAAAAAAAAAAAAAAAAAAAAAAAAAAAAAAAAAAAAAAAAAAAAAAAAAAAAAAAAAAAAAAAAAAAAAAAAAAAAAAAAAAAAAAAAAAAAAAAAAAAAAAAAAAAAAAAAAAAAAAAAAAAAAAAAAAAAAAAAAAAAAAAAAAAAAAAAAAAAAAAAAAAAAAAAAAAAAAAAAAAAAAAAAAAAAAAAAAAAAAAAAAAAAAAAAAAAAAAAAAAAAAAAAAAAAAAAAAAAAAAAAAAAAAAAAAAAAAAAAAAAAAAAAAAAAAAAAAAAAAAAAAAAAAAAAAAAAAAAAAAAAAAAAAAAAAAAAAAAAAAAAAAAAAAAAAAAAAAAAAAAAAAAAAAAAAAAAAAAAAAAAAAAAAAAAAAAAAAAAAAAAAAAAAAAAAAAAAAAAAAAAAAAAAAAAAAAAAAAAAAAAAAAAAAAAAAAAAAAAAAAAAAAAAAAAAAAAAAAAAAAAAAAAAAAAAAAAAAAAAAAAAAAAAAAAAAAAAAAAAAAAAAAAAAAAAAAAAAAAAAAAAAAAAAAAAAAAAAAAAAAAAAAAAAAAAAAAAAAAAAAAAAAAAAAAAAAAAAAAAAAAAAAAAAAAAAAAAAAAAAAAAAAAAAAAAAAAAAAAAAAAAAAAAAAAAAAAAAAAAAAAAAAAAAAAAAAAAAAAAAAAAAAAAAAAAAAAAAAAAAAAAAAAAAAAAAAAAAAAAAAAAAAAAAAAAAAAAAAAAAAAAAAAAAAAAAAAAAAAAAAAAAAAAAAAAAAAAAAAAAAAAAAAAAAAAAAAAAAAAAAAAAAAAAAAAAAAAAAAAAAAAAAAAAAAAAAAAAAAAAAAAAAAAAAAAAAAAAAAAAAAAAAAAAAAAAAAAAAAAAAAAAAAAAAAAAAAAAAAAAAAAAAAAAAAAAAAAAAAAAAAAAAAAAAAAAAAAAAAAAAAAAAAAAAAAAAAAAAAAAAAAAAAAAAAAAAAAAAAAAAAAAAAAAAAAAAAAAAAAAAAAAAAAAAAAAAAAAAAAAAAAAAAAAAAAAAAAAAAAAAAAAAAAAAAAAAAAAAAAAAAAAAAAAAAAAAAAAAAAAAAAAAAAAAAAAAAAAAAAAAAAAAAAAAAAAAAAAAAAAAAAAAAAAAAAAAAAAAAAAAAAAAAAAAAAAAAAAAAAAAAAAAAAAAAAAAAAAAAAAAAAAAAAAAAAAAAAAAAAAAAAAAAAAAAAAAAAAAAAAAAAAAAAAAAAAAAAAAAAAAAAAAAAAAAAAAAAAAAAAAAAAAAAAAAAAAAAAAAAAAAAAAAAAAAAAAAAAAAAAAAAAAAAAAAAAAAAAAAAAAAAAAAAAAAAAAAAAAAAAAAAAAAAAAAAAAAAAAAAAAAAAAAAAAAAAAAAAAAAAAAAAAAAAAAAAAAAAAAAAAAAAAAAAAAAAAAAAAAAAAAAAAAAAAAAAAAAAAAAAAAAAAAAAAAAAAAAAAAAAAAAAAAAAAAAAAAAAAAAAAAAAAAAAAAAAAAAAAAAAAAAAAAAAAAAAAAAAAAAAAAAAAAAAAAAAAAAAAAAAAAAAAAAAAAAAAAAAAAAAAAAAAAAAAAAAAAAAAAAAAAAAAAAAAAAAAAAAAAAAAAAAAAAAAAAAAAAAAAAAAAAAAAAAAAAAAAAAAAAAAAAAAAAAAAAAAAAAAAAAAAAAAAAAAAAAAAAAAAAAAAAAAAAAAAAAAAAAAAAAAAAAAAAAAAAAAAAAAAAAAAAAAAAAAAAAAAAAAAAAAAAAAAAAAAAAAAAAAAAAAAAAAAAAAAAAAAAAAAAAAAAAAAAAAAAAAAAAAAAAAAAAAAFdvbnNlb2sgQ2hvaQAAAAWQAwACAAAAFAAAEKaQBAACAAAAFAAAELqSkQACAAAAAzkzAACSkgACAAAAAzkzAADqHAAHAAAIDAAACJoAAAAAHOoAAAAIAAAAAAAAAAAAAAAAAAAAAAAAAAAAAAAAAAAAAAAAAAAAAAAAAAAAAAAAAAAAAAAAAAAAAAAAAAAAAAAAAAAAAAAAAAAAAAAAAAAAAAAAAAAAAAAAAAAAAAAAAAAAAAAAAAAAAAAAAAAAAAAAAAAAAAAAAAAAAAAAAAAAAAAAAAAAAAAAAAAAAAAAAAAAAAAAAAAAAAAAAAAAAAAAAAAAAAAAAAAAAAAAAAAAAAAAAAAAAAAAAAAAAAAAAAAAAAAAAAAAAAAAAAAAAAAAAAAAAAAAAAAAAAAAAAAAAAAAAAAAAAAAAAAAAAAAAAAAAAAAAAAAAAAAAAAAAAAAAAAAAAAAAAAAAAAAAAAAAAAAAAAAAAAAAAAAAAAAAAAAAAAAAAAAAAAAAAAAAAAAAAAAAAAAAAAAAAAAAAAAAAAAAAAAAAAAAAAAAAAAAAAAAAAAAAAAAAAAAAAAAAAAAAAAAAAAAAAAAAAAAAAAAAAAAAAAAAAAAAAAAAAAAAAAAAAAAAAAAAAAAAAAAAAAAAAAAAAAAAAAAAAAAAAAAAAAAAAAAAAAAAAAAAAAAAAAAAAAAAAAAAAAAAAAAAAAAAAAAAAAAAAAAAAAAAAAAAAAAAAAAAAAAAAAAAAAAAAAAAAAAAAAAAAAAAAAAAAAAAAAAAAAAAAAAAAAAAAAAAAAAAAAAAAAAAAAAAAAAAAAAAAAAAAAAAAAAAAAAAAAAAAAAAAAAAAAAAAAAAAAAAAAAAAAAAAAAAAAAAAAAAAAAAAAAAAAAAAAAAAAAAAAAAAAAAAAAAAAAAAAAAAAAAAAAAAAAAAAAAAAAAAAAAAAAAAAAAAAAAAAAAAAAAAAAAAAAAAAAAAAAAAAAAAAAAAAAAAAAAAAAAAAAAAAAAAAAAAAAAAAAAAAAAAAAAAAAAAAAAAAAAAAAAAAAAAAAAAAAAAAAAAAAAAAAAAAAAAAAAAAAAAAAAAAAAAAAAAAAAAAAAAAAAAAAAAAAAAAAAAAAAAAAAAAAAAAAAAAAAAAAAAAAAAAAAAAAAAAAAAAAAAAAAAAAAAAAAAAAAAAAAAAAAAAAAAAAAAAAAAAAAAAAAAAAAAAAAAAAAAAAAAAAAAAAAAAAAAAAAAAAAAAAAAAAAAAAAAAAAAAAAAAAAAAAAAAAAAAAAAAAAAAAAAAAAAAAAAAAAAAAAAAAAAAAAAAAAAAAAAAAAAAAAAAAAAAAAAAAAAAAAAAAAAAAAAAAAAAAAAAAAAAAAAAAAAAAAAAAAAAAAAAAAAAAAAAAAAAAAAAAAAAAAAAAAAAAAAAAAAAAAAAAAAAAAAAAAAAAAAAAAAAAAAAAAAAAAAAAAAAAAAAAAAAAAAAAAAAAAAAAAAAAAAAAAAAAAAAAAAAAAAAAAAAAAAAAAAAAAAAAAAAAAAAAAAAAAAAAAAAAAAAAAAAAAAAAAAAAAAAAAAAAAAAAAAAAAAAAAAAAAAAAAAAAAAAAAAAAAAAAAAAAAAAAAAAAAAAAAAAAAAAAAAAAAAAAAAAAAAAAAAAAAAAAAAAAAAAAAAAAAAAAAAAAAAAAAAAAAAAAAAAAAAAAAAAAAAAAAAAAAAAAAAAAAAAAAAAAAAAAAAAAAAAAAAAAAAAAAAAAAAAAAAAAAAAAAAAAAAAAAAAAAAAAAAAAAAAAAAAAAAAAAAAAAAAAAAAAAAAAAAAAAAAAAAAAAAAAAAAAAAAAAAAAAAAAAAAAAAAAAAAAAAAAAAAAAAAAAAAAAAAAAAAAAAAAAAAAAAAAAAAAAAAAAAAAAAAAAAAAAAAAAAAAAAAAAAAAAAAAAAAAAAAAAAAAAAAAAAAAAAAAAAAAAAAAAAAAAAAAAAAAAAAAAAAAAAAAAAAAAAAAAAAAAAAAAAAAAAAAAAAAAAAAAAAAAAAAAAAAAAAAAAAAAAAAAAAAAAAAAAAAAAAAAAAAAAAAAAAAAAAAAAAAAAAAAAAAAAAAAAAAAAAAAAAAAAAAAAAAAAAAAAAAAAAAAAAAAAAAAAAAAAAAAAAAAAAAAAAAAAAAAAAAAAAAAAAAAAAAAAAAAAAAAAAAAAAAAAAAAAAAAAAAAAAAAAAAAAAAAAAAAAAAAAAAAAAAAAAAAAAAAAAAAAAAAAAAAAAAAAAAAAAAAAAAAAAAAAAAAAAAAAAAAAAAAAAAAAAAAAAAAAAAAAAAAAAAAAAAAAAAAAAAAAAAAAAAAAAAAAAAAAAAAAAAAAAAAAAAAAAAAAAAAAAAAAAAAAAAAAAAAAAAAAAAAAAAAAAAAAAAAAAAAAAAAAAAAAAAAAAAAAAAAAAAAAAAAAAAAAAAAAAAAAAAAAAAAAAAAAAAAAAAAAAAAAAAAAAAAAAAAAAAAAAAAAAAAAAAAAAAAAAAAAAAAAAAAAAAAAAAAAAAAAAAAAAAAAAAAAAAAAAAAAAAAAAAAAAAAAAAAAAAAAAAAAAAAAAAAAAAAAAAAAAAAAAAAAAAAAAAAAAAAAAAAAAAAAAAAAAAAAAAAAAAAAAAAAAAAAAAAAAAAAAAAAAAAAAAAAAAAAAAAAAAAAAAAAAAAAAAAAAAAAAAAAAAAAAAAAAAAAAAAAAAAAAAAAAAAAAAAAAAAAAAAAAAAAAAAAAAAAAAAAAAAAAAAAAAAAAAAAAAAAAAAAAAAAAAAAAAAAAAAAAAAAAAAAAAAAAAAAAAAAAAAAAAAAAAAAAAAAAAAAAAAAAAAAAAAAAAAAAAAAAAAAAAAAAAAAAAAAAAAAAAAAAAAAyMDIwOjExOjEyIDAzOjQxOjUxADIwMjA6MTE6MTIgMDM6NDE6NTEAAABXAG8AbgBzAGUAbwBrACAAQwBoAG8AaQAAAP/hCx9odHRwOi8vbnMuYWRvYmUuY29tL3hhcC8xLjAvADw/eHBhY2tldCBiZWdpbj0n77u/JyBpZD0nVzVNME1wQ2VoaUh6cmVTek5UY3prYzlkJz8+DQo8eDp4bXBtZXRhIHhtbG5zOng9ImFkb2JlOm5zOm1ldGEvIj48cmRmOlJERiB4bWxuczpyZGY9Imh0dHA6Ly93d3cudzMub3JnLzE5OTkvMDIvMjItcmRmLXN5bnRheC1ucyMiPjxyZGY6RGVzY3JpcHRpb24gcmRmOmFib3V0PSJ1dWlkOmZhZjViZGQ1LWJhM2QtMTFkYS1hZDMxLWQzM2Q3NTE4MmYxYiIgeG1sbnM6ZGM9Imh0dHA6Ly9wdXJsLm9yZy9kYy9lbGVtZW50cy8xLjEvIi8+PHJkZjpEZXNjcmlwdGlvbiByZGY6YWJvdXQ9InV1aWQ6ZmFmNWJkZDUtYmEzZC0xMWRhLWFkMzEtZDMzZDc1MTgyZjFiIiB4bWxuczp4bXA9Imh0dHA6Ly9ucy5hZG9iZS5jb20veGFwLzEuMC8iPjx4bXA6Q3JlYXRlRGF0ZT4yMDIwLTExLTEyVDAzOjQxOjUxLjkzMDwveG1wOkNyZWF0ZURhdGU+PC9yZGY6RGVzY3JpcHRpb24+PHJkZjpEZXNjcmlwdGlvbiByZGY6YWJvdXQ9InV1aWQ6ZmFmNWJkZDUtYmEzZC0xMWRhLWFkMzEtZDMzZDc1MTgyZjFiIiB4bWxuczpkYz0iaHR0cDovL3B1cmwub3JnL2RjL2VsZW1lbnRzLzEuMS8iPjxkYzpjcmVhdG9yPjxyZGY6U2VxIHhtbG5zOnJkZj0iaHR0cDovL3d3dy53My5vcmcvMTk5OS8wMi8yMi1yZGYtc3ludGF4LW5zIyI+PHJkZjpsaT5Xb25zZW9rIENob2k8L3JkZjpsaT48L3JkZjpTZXE+DQoJCQk8L2RjOmNyZWF0b3I+PC9yZGY6RGVzY3JpcHRpb24+PC9yZGY6UkRGPjwveDp4bXBtZXRhPg0KICAgICAgICAgICAgICAgICAgICAgICAgICAgICAgICAgICAgICAgICAgICAgICAgICAgICAgICAgICAgICAgICAgICAgICAgICAgICAgICAgICAgICAgICAgICAgICAgICAgIAogICAgICAgICAgICAgICAgICAgICAgICAgICAgICAgICAgICAgICAgICAgICAgICAgICAgICAgICAgICAgICAgICAgICAgICAgICAgICAgICAgICAgICAgICAgICAgICAgICAgCiAgICAgICAgICAgICAgICAgICAgICAgICAgICAgICAgICAgICAgICAgICAgICAgICAgICAgICAgICAgICAgICAgICAgICAgICAgICAgICAgICAgICAgICAgICAgICAgICAgICAKICAgICAgICAgICAgICAgICAgICAgICAgICAgICAgICAgICAgICAgICAgICAgICAgICAgICAgICAgICAgICAgICAgICAgICAgICAgICAgICAgICAgICAgICAgICAgICAgICAgIAogICAgICAgICAgICAgICAgICAgICAgICAgICAgICAgICAgICAgICAgICAgICAgICAgICAgICAgICAgICAgICAgICAgICAgICAgICAgICAgICAgICAgICAgICAgICAgICAgICAgCiAgICAgICAgICAgICAgICAgICAgICAgICAgICAgICAgICAgICAgICAgICAgICAgICAgICAgICAgICAgICAgICAgICAgICAgICAgICAgICAgICAgICAgICAgICAgICAgICAgICAKICAgICAgICAgICAgICAgICAgICAgICAgICAgICAgICAgICAgICAgICAgICAgICAgICAgICAgICAgICAgICAgICAgICAgICAgICAgICAgICAgICAgICAgICAgICAgICAgICAgIAogICAgICAgICAgICAgICAgICAgICAgICAgICAgICAgICAgICAgICAgICAgICAgICAgICAgICAgICAgICAgICAgICAgICAgICAgICAgICAgICAgICAgICAgICAgICAgICAgICAgCiAgICAgICAgICAgICAgICAgICAgICAgICAgICAgICAgICAgICAgICAgICAgICAgICAgICAgICAgICAgICAgICAgICAgICAgICAgICAgICAgICAgICAgICAgICAgICAgICAgICAKICAgICAgICAgICAgICAgICAgICAgICAgICAgICAgICAgICAgICAgICAgICAgICAgICAgICAgICAgICAgICAgICAgICAgICAgICAgICAgICAgICAgICAgICAgICAgICAgICAgIAogICAgICAgICAgICAgICAgICAgICAgICAgICAgICAgICAgICAgICAgICAgICAgICAgICAgICAgICAgICAgICAgICAgICAgICAgICAgICAgICAgICAgICAgICAgICAgICAgICAgCiAgICAgICAgICAgICAgICAgICAgICAgICAgICAgICAgICAgICAgICAgICAgICAgICAgICAgICAgICAgICAgICAgICAgICAgICAgICAgICAgICAgICAgICAgICAgICAgICAgICAKICAgICAgICAgICAgICAgICAgICAgICAgICAgICAgICAgICAgICAgICAgICAgICAgICAgICAgICAgICAgICAgICAgICAgICAgICAgICAgICAgICAgICAgICAgICAgICAgICAgIAogICAgICAgICAgICAgICAgICAgICAgICAgICAgICAgICAgICAgICAgICAgICAgICAgICAgICAgICAgICAgICAgICAgICAgICAgICAgICAgICAgICAgICAgICAgICAgICAgICAgCiAgICAgICAgICAgICAgICAgICAgICAgICAgICAgICAgICAgICAgICAgICAgICAgICAgICAgICAgICAgICAgICAgICAgICAgICAgICAgICAgICAgICAgICAgICAgICAgICAgICAKICAgICAgICAgICAgICAgICAgICAgICAgICAgICAgICAgICAgICAgICAgICAgICAgICAgICAgICAgICAgICAgICAgICAgICAgICAgICAgICAgICAgICAgICAgICAgICAgICAgIAogICAgICAgICAgICAgICAgICAgICAgICAgICAgICAgICAgICAgICAgICAgICAgICAgICAgICAgICAgICAgICAgICAgICAgICAgICAgICAgICAgICAgICAgICAgICAgICAgICAgCiAgICAgICAgICAgICAgICAgICAgICAgICAgICAgICAgICAgICAgICAgICAgICAgICAgICAgICAgICAgICAgICAgICAgICAgICAgICAgICAgICAgICAgICAgICAgICAgICAgICAKICAgICAgICAgICAgICAgICAgICAgICAgICAgICAgICAgICAgICAgICAgICAgICAgICAgICAgICAgICAgICAgICAgICAgICAgICAgICAgICAgICAgICAgICAgICAgICAgICAgIAogICAgICAgICAgICAgICAgICAgICAgICAgICAgICAgICAgICAgICAgICAgICAgICAgICAgICAgICAgICAgICAgICAgICAgICAgICAgICAgICAgICAgICAgICAgICAgICAgICAgCiAgICAgICAgICAgICAgICAgICAgICAgICAgICA8P3hwYWNrZXQgZW5kPSd3Jz8+/9sAQwAHBQUGBQQHBgUGCAcHCAoRCwoJCQoVDxAMERgVGhkYFRgXGx4nIRsdJR0XGCIuIiUoKSssKxogLzMvKjInKisq/9sAQwEHCAgKCQoUCwsUKhwYHCoqKioqKioqKioqKioqKioqKioqKioqKioqKioqKioqKioqKioqKioqKioqKioqKioq/8AAEQgAxAYVAwEiAAIRAQMRAf/EAB8AAAEFAQEBAQEBAAAAAAAAAAABAgMEBQYHCAkKC//EALUQAAIBAwMCBAMFBQQEAAABfQECAwAEEQUSITFBBhNRYQcicRQygZGhCCNCscEVUtHwJDNicoIJChYXGBkaJSYnKCkqNDU2Nzg5OkNERUZHSElKU1RVVldYWVpjZGVmZ2hpanN0dXZ3eHl6g4SFhoeIiYqSk5SVlpeYmZqio6Slpqeoqaqys7S1tre4ubrCw8TFxsfIycrS09TV1tfY2drh4uPk5ebn6Onq8fLz9PX29/j5+v/EAB8BAAMBAQEBAQEBAQEAAAAAAAABAgMEBQYHCAkKC//EALURAAIBAgQEAwQHBQQEAAECdwABAgMRBAUhMQYSQVEHYXETIjKBCBRCkaGxwQkjM1LwFWJy0QoWJDThJfEXGBkaJicoKSo1Njc4OTpDREVGR0hJSlNUVVZXWFlaY2RlZmdoaWpzdHV2d3h5eoKDhIWGh4iJipKTlJWWl5iZmqKjpKWmp6ipqrKztLW2t7i5usLDxMXGx8jJytLT1NXW19jZ2uLj5OXm5+jp6vLz9PX29/j5+v/aAAwDAQACEQMRAD8A7r/hT/gX/oB/+Tc//wAXR/wp/wAC/wDQD/8AJuf/AOLrtqKsk4n/AIU/4F/6Af8A5Nz/APxdeE/2LYf88P8Ax9v8a+rK+Ya5cQ2rWPcymnCpz88U9t/mUf7FsP8Anh/4+3+NH9i2H/PD/wAfb/Gr1FcvPLue59WofyL7kUf7FsP+eH/j7f40f2LYf88P/H2/xq9RRzy7h9WofyL7kUf7FsP+eH/j7f40f2LYf88P/H2/xq9WzqWj29n4Y0XUYnkM2oef5qsRtXY4UbeM9D3JpqU31JdDDppOC18l6nMf2LYf88P/AB9v8aP7FsP+eH/j7f416ZrGjeAdE1SXTL2bxELmILvkTyGjBKhvQEjmue8R+HE0ZLW80+9XUdLvQTb3SqVOQeUZT91hTbmuplTjhp2/dpX2vHc5T+xbD/nh/wCPt/jR/Yth/wA8P/H2/wAavUVPPLub/VqH8i+5FH+xbD/nh/4+3+NH9i2H/PD/AMfb/Gr1FHPLuH1ah/IvuQlqi2Vv5FsNkW8vt68kAE8/QVL50n979Kjoo55dw+rUP5F9yJPOk/vfpR50n979K1IvC2pS2MV4rWC2833Hk1O2TJABIIaQEEBlyDyMjNNbw5fLZ3F0s2myQ2+BK0WqW0m0kEhcLITuIVsDqcHFV+8tfUx5cFzcto3+RDZDzrTUHk5aG3Dxn0Pmxrn8mP51T86T+9+lXNO/48NW/wCvRf8A0fFWfSc5dy44aheXuLfsuyJPOk/vfpR50n979KjrrbXw5oulabbXvjK+uonvIxLBYWCKZjGejsW+VQew6mmpTfUU6OHhvBfcjlvOk/vfpR50n979K6CbT/Dd9r2lW+gXOom3u7hYZ47xEEseWAyGX5TkE/TFZWu2MemeIdQsLdnaK1uZIULkFiFYgZx34pOU11CNHDyduRfcip50n979KPOk/vfpXXR+DLW7+H8Gr2VzKdUZZZ3tWI2vDG+1inGcrlScnpmsbw7pEGr/ANqfaXkX7Hp8t1H5ZAy64wDkHjmm3NO1/MlQwrTagtHbZehledJ/e/SjzpP736V2PhPSPBuuzWenXj66mpzBvMaIwiEEAtxkFug9OtYmvf8ACMeXD/wjP9r+ZuPnf2h5WMdtuz8etDc0r3CNPDynyez/AAX9dDJ86T+9+lHnSf3v0pg612K+EdP/AOFoL4deW6+xcZcMvmY8nf1246+1Cc31KnSw0N4LZvZdDkfOk/vfpR50n979K65bL4e3zi3tdR1zTpW4We+iieJT7hOcVzut6Nc6BrE+nXu0yREYdDlXUjIZT3BBzScprqKFLDyfL7NJ+aK0N5PBKJIn2uvQ4Bqz/bmo/wDPx/44v+FZ9PhiaeeOJCgaRgoLuEUEnHLEgAe5OBS559zX6th/5F9yLv8Abmo/8/H/AI4v+FH9uaj/AM/H/ji/4Vbn8J6na4+0yaZDlVceZq1quVIDA8ydCCCD6Gqt9ol3p1nDdXD2bQz/AOqa3voZt4ywyAjk4yrDPTIx1q26qV3cxjDBSfLFRb+Rbl1W9XRLa4E372S4mRm2DkKsZA6f7R/Oqf8Abmo/8/H/AI4v+FE3/It2f/X3cf8AoENZ9J1J9yqeGoNfAt30Xc0P7c1H/n4/8cX/AAo/tzUf+fj/AMcX/Cs+uutdC8OaXpFjeeLLvUmm1CLzobbTo0ykeSAzM/Bzg8ChSm+v4hOjhoWvTWvkjB/tzUf+fj/xxf8ACj+3NR/5+P8Axxf8K2tF0HQ9b8fQaXZ3V5JpUyswkIVJhiItg8EZBGOmKh1b/hCf7Nl/sT+3/t3HlfbPJ8rqM5289M9O+KOadr3/ABJ9nhublVNdPsrr3Mv+3NR/5+P/ABxf8KP7c1H/AJ+P/HF/wrpJdB8J6CsNr4ovNXl1GSJJZI9PjjCQbgCFJfljgg8VnaR4f07UtS1OaTUZY9F01TK9yIcyOhbagC9mOe/Ap3qXtf8AHsSoYVx5vZq3+Hf00Mz+3NR/5+P/ABxf8KP7c1H/AJ+P/HF/wrQ1qPwkdPEnhyfVluVkAaLUEjwy4OSCnTBx19a5+pc5p7mscPh5K/s0vkjQ/tzUf+fj/wAcX/Cj+3NR/wCfj/xxf8Ks6lo9vZ+GNF1GJ5DNqHn+arEbV2OFG3jPQ9ya6XWNG8A6JqkumXs3iIXMQXfInkNGCVDegJHNVef834mThhla1NPf7K6OzOR/tzUf+fj/AMcX/Cj+3NR/5+P/ABxf8Ku+I/DiaMlreaferqOl3oJt7pVKnIPKMp+6wrCqeeadrs1jh8NOPNGC+5Gh/bmo/wDPx/44v+FH9uaj/wA/H/ji/wCFZ9a1l4b1C/0/7dbmyFvuClpdQgjKk5wCGcEE7WIyOQCRxQp1Hs2EqGFgryjFL0RD/bmo/wDPx/44v+FH9uaj/wA/H/ji/wCFSXWivZaDq99Nc2MktjbJLHHbahBOSzTxR/MqOW27ZG545xz2MWu2MemeItSsLdnaK1upYULkFiquVGcd8CqbqRV22ZU44OpNwhGLt5Iu6nqt7b3aJDNtU28DkbAeWiVienqTVP8AtzUf+fj/AMcX/CjWv+P+P/r0tv8A0QlUB1pOc72uaU8NQcE3BbdkX/7c1H/n4/8AHF/wo/tzUf8An4/8cX/CrPizSINC8TXWnWjyPDDs2tKQWOUVjnAA6n0o1LR7ez8MaLqMTyGbUPP81WI2rscKNvGeh7k0c0+4KjhmovkXvbaLtcrf25qP/Px/44v+FH9uaj/z8f8Aji/4Vu3+keGdC8YX+na0+rPZQonktaGMyFiqsd24AY5PQelXtc0jwJpFtBh/ETT3lkt1b8wFRuB2huAeo5xT5p2vzfiZcuGbSVPfX4Ucp/bmo/8APx/44v8AhR/bmo/8/H/ji/4VvWuheHNL0ixvPFl3qTTahF50Ntp0aZSPJAZmfg5weBXP6vHpsWpyLok809kQDG1wgVxkcg44yDkZFJymt3+JpClhpuypr/wHQd/bmo/8/H/ji/4Uf25qP/Px/wCOL/hTdF0qbXNbtNNtmCyXMgQM3RfU/gMmt+8s/AkMFxbW+oa097EjBLloYxbyOBx8v3wCeOaOadr3/EJUsNGXL7NN/wCEwv7c1H/n4/8AHF/wo/tzUf8An4/8cX/Ct7RNF8NDwa2t+JX1XJvjaImnmP8AuBskOPr39OKp/wBjad4g8TWum+DBfeVMvztqRQFCMlmJTjaFwfXr7U71L2v+JPJhdf3asutlbQzf7c1H/n4/8cX/AAo/tzUf+fj/AMcX/CujfT/h9aTGyuNV1q5nU7WvbaKMW+fUKfmIHt17Vi+JfD0nh6+iRbhLy0uYhPa3cYws0Z747H1Hak5TWt/xHCnhpO3s0vWJW/tzUf8An4/8cX/Cj+3NR/5+P/HF/wAKz609N0C+1a2lnsvspjh/1nnXsMRQZAyQ7g4yyjPTJx1pKc3s2aSw+GgryhFL0Qz+3NR/5+P/ABxf8KuaRqt7da3Y28826KW4jR12AZBYAjgUyPwvqE0/kwz6XJLtZ/LXV7UttUFmOPM6AAknsAah0aJoPFdhE5QtHexqSjh1JDgcMCQR7g4NVzVE1dsxdPCThJwUXp0sM/tzUf8An4/8cX/Cj+3NR/5+P/HF/wAKz6Kn2k+50fVaH8i+5Gh/bmo/8/H/AI4v+FH9uaj/AM/H/ji/4Vn0Ue0n3D6rQ/kX3I0P7c1H/n4/8cX/AAo/tzUf+fj/AMcX/Ct3QtF8OHwfLrfiV9UwL77IiaeY+6bskOPY9/Sq3iDQdKh0i21rw3eXFxp88xt3jukCzQSAZw2ODkc5FU3UXX8e5goYVy5fZrtsrGX/AG5qP/Px/wCOL/hR/bmo/wDPx/44v+FddrGjeAdE1SXTL2bxELmILvkTyGjBKhvQEjmue8R+HE0ZLW80+9XUdLvQTb3SqVOQeUZT91hQ5TXX8RU4YWdv3aV9rx3KX9uaj/z8f+OL/hR/bmo/8/H/AI4v+FZ9dba+HNF0rTba98ZX11E95GJYLCwRTMYz0di3yqD2HU0lKb6/iaTo4aG8F9yML+3NR/5+P/HF/wAKP7c1H/n4/wDHF/wqfXovD6tBJ4auL943BEsV8ih4yMYOV4IPP0xWRS559yo4fDyV/Zr7kaH9uaj/AM/H/ji/4Uf25qP/AD8f+OL/AIVn0Ue0n3K+q0P5F9yND+3NR/5+P/HF/wAKP7c1H/n4/wDHF/wrPrYi8LalLYxXitYLbzfceTU7ZMkAEghpAQQGXIPIyM01Ko9myJ0cLBXnGK9Uiv8A25qP/Px/44v+FXLLVb2a01B5JstDbh4zsHB82Nc9PRj+dQt4cvls7i6WbTZIbfAlaLVLaTaSCQuFkJ3EK2B1ODiodO/48NW/69F/9HxU+aonq2ZujhZxvCMXqtku4f25qP8Az8f+OL/hR/bmo/8APx/44v8AhWfRU+0n3N/qtD+RfcjQ/tzUf+fj/wAcX/Cj+3NR/wCfj/xxf8Kz6KPaT7h9VofyL7kaH9uaj/z8f+OL/hR/bmo/8/H/AI4v+FZ9FHtJ9w+q0P5F9yND+3NR/wCfj/xxf8KP7c1H/n4/8cX/AArPoo9pPuH1Wh/IvuRof25qP/Px/wCOL/hR/bmo/wDPx/44v+FZ9FHtJ9w+q0P5F9yND+3NR/5+P/HF/wAKP7c1H/n4/wDHF/wrPoo9pPuH1Wh/IvuRof25qP8Az8f+OL/hR/bmo/8APx/44v8AhWfRR7SfcPqtD+RfcjQ/tzUf+fj/AMcX/Cj+3NR/5+P/ABxf8Kz6KPaT7h9VofyL7kaH9uaj/wA/H/ji/wCFH9uaj/z8f+OL/hWfRR7SfcPqtD+RfcjQ/tzUf+fj/wAcX/Cj+3NR/wCfj/xxf8Kz6KPaT7h9VofyL7kaH9uaj/z8f+OL/hR/bmo/8/H/AI4v+FZ9FHtJ9w+q0P5F9yND+3NR/wCfj/xxf8KP7c1H/n4/8cX/AArPpR1o55vqH1XD/wAi+5F/+3NR/wCfj/xxf8KP7c1H/n4/8cX/AArsdW8P+AtI1ltHvLzXoLpQm64IieFCyhgSAAxA3elZ2m+EbKDxXrGmeIZrlrfS7WS4Z7IqHkC7SCNwI5Vs4/WrvUva/wCPY5YrCuPN7Nd/hWpz/wDbmo/8/H/ji/4Uf25qP/Px/wCOL/hXSQaP4I1yZbPRdU1TT72Q7YTqkcZikbsuY/u59TXJXtlPp1/PZ3kZjngcxyIexBwalymuprClhpu3s0n5pFn+3NR/5+P/ABxf8KP7c1H/AJ+P/HF/wrPrrtd8GxaT4QstShuHkvQUGoQEjEPmLviwMZHy8HJPNHNO17jlRw0ZKLgtfJGD/bmo/wDPx/44v+FH9uaj/wA/H/ji/wCFa3hbSNEvNK1bUfET6gLewEOFsSm9i7Ff4xj07ir0Xhzwv4i3W/hPUr+HUQpaK01REH2jAztV04B479ad6lt/xM5QwsZNOmtOvKrHN/25qP8Az8f+OL/hR/bmo/8APx/44v8AhWv4Y0bRrnTNXv8AxKdQSHTvKGyyKByXYryHGOoHpV2Lw54X8RbrfwnqV/DqIUtFaaoiD7RgZ2q6cA8d+tF6lrp/iEoYWMmnTWnXl0Ob/tzUf+fj/wAcX/Cj+3NR/wCfj/xxf8KoMrIxVwVZTggjkGui8FaFpuvardQ61czW1rb2j3DSwkZXaRycg5HJNKMpydk/xNalDDU4uUoL7kZn9uaj/wA/H/ji/wCFH9uaj/z8f+OL/hSazpFxoes3GnXeDJC2A6/ddTyrD2IIP410ieENOPxRXw481yLEkbpAy+YB5O/rtx19ulEZVJdSJU8LFX5Fs3stl/w5zn9uaj/z8f8Aji/4Uf25qP8Az8f+OL/hUniTRzoPiC6sA/mRI26CXOfMiYbkbPupFbVr4Qt2+G974hu5Zlu1KtbRKRsMfmKhZuM8ktjkfdoUqjT1Y5UsLFRfIvesloupg/25qP8Az8f+OL/hR/bmo/8APx/44v8AhWfRS9pPua/VaH8i+5Gh/bmo/wDPx/44v+FH9uaj/wA/H/ji/wCFZ9FHtJ9w+q0P5F9yND+3NR/5+P8Axxf8KP7c1H/n4/8AHF/wrPoo9pPuH1Wh/IvuRof25qP/AD8f+OL/AIUf25qP/Px/44v+FZ9FHtJ9w+q0P5F9yND+3NR/5+P/ABxf8KP7c1H/AJ+P/HF/wrPoo9pPuH1Wh/IvuRof25qP/Px/44v+FH9uaj/z8f8Aji/4Vn0Ue0n3D6rQ/kX3I0P7c1H/AJ+P/HF/wo/tzUf+fj/xxf8ACs+ij2k+4fVaH8i+5Gh/bmo/8/H/AI4v+FH9uaj/AM/H/ji/4Vn0Ue0n3D6rQ/kX3I0P7c1H/n4/8cX/AAo/tzUf+fj/AMcX/Cs+ij2k+4fVaH8i+5Gh/bmo/wDPx/44v+FH9uaj/wA/H/ji/wCFZ9FHtJ9w+q0P5F9yND+3NR/5+P8Axxf8KP7c1H/n4/8AHF/wrPoo9pPuH1Wh/IvuRof25qP/AD8f+OL/AIUf25qP/Px/44v+FZ9FHtJ9w+q0P5F9yND+3NR/5+P/ABxf8KP7c1H/AJ+P/HF/wqay8N6hf6f9utzZC33BS0uoQRlSc4BDOCCdrEZHIBI4p8XhfUJzKIZ9LkMKb5Nmr2p2LkLuP7zgZZRn1I9aq9Vq+pi4YJS5Wo3+Q/TNVvbi7dJptyi3ncDYBysTMD09QKp/25qP/Px/44v+FGi/8f8AJ/16XP8A6Ierfg/RrfxB4sstMvXlSC4Zg7QkBhhSeMgjt6UKU3ZXCVDDwcpSgrJX2XmVP7c1H/n4/wDHF/wo/tzUf+fj/wAcX/Cumg0Hwf4gaWy8NXmr2+piNnhj1FIyk5UElAU6HAPJqroekeG/+ETk1nxK+q/8fv2VE08x/wBwNkhx9e9F5/zfiTyYZL+Gr9uVXMP+3NR/5+P/ABxf8KP7c1H/AJ+P/HF/wrfn8NaFrGnXN14O1G7kntIzNLp9/GolaMdWVl+U49P8nkKlzmnuaQo4aa0gvuRof25qP/Px/wCOL/hR/bmo/wDPx/44v+Fa3hbSNEvNK1bUfET6gLewEOFsSm9i7Ff4xj07ijX9E0ZdBg1vwzdXklm9wbWWG+RRLG+3cDleCCPyqnKaV7/iT7PDc/J7Ndtlba5k/wBuaj/z8f8Aji/4Uf25qP8Az8f+OL/hXVT6L4H0yDTYtYuNdS7vLKG5eSDymiQuuehG7APbmuY8RaM3h/xBdaa8qzCFgUlUY3owDKcdsgjiiUpxe4qdPDVHZU132Qz+3NR/5+P/ABxf8KP7c1H/AJ+P/HF/wre13wbFpPhCy1KG4eS9BQahASMQ+Yu+LAxkfLwck81yNKUpxbTZdOjhqkeaMF9yND+3NR/5+P8Axxf8KP7c1H/n4/8AHF/wrT8FaFpuvardQ61czW1rb2j3DSwkZXaRycg5HJNZes6RcaHrNxp13gyQtgOv3XU8qw9iCD+NHNU013BUcM5uHIrryQv9uaj/AM/H/ji/4Uf25qP/AD8f+OL/AIV0aeENOPxRXw481yLEkbpAy+YB5O/rtx19ulYHiTRzoPiC6sA/mRI26CXOfMiYbkbPupFDlUSvcmFPCzkoqC2T2WzI/wC3NR/5+P8Axxf8KP7c1H/n4/8AHF/wretfCFu3w3vfEN3LMt2pVraJSNhj8xULNxnklscj7tcjQ5TTs2VCjhql+WC0dtkaH9uaj/z8f+OL/hR/bmo/8/H/AI4v+FW5PCWqRRxySvpqJKu6Nm1a1AcZK5B8zkZBH1BqvcaBeW2mm/eWwktg5QPBqNvNuYbcqAjkkjcpIA4BBPFO9W19SVDBOXKlG/yLMWq3raJc3Bm/ex3EKK2wcBlkJHT/AGR+VU/7c1H/AJ+P/HF/woh/5Fu8/wCvu3/9AmrpLTRfCVl4S0vVPET60Z9QaYKtgYtq+W2OjjPcdz3oUptbkulh4N3pp3dtl2uc3/bmo/8APx/44v8AhR/bmo/8/H/ji/4VtX3hawi1vRP7OvZbrSNYkURSsoSVPnCup7bhnr0q9e6d8PbbUrjTnu/ENvNDK0LTyJC8alTgnC/MRxRep3/EOXC9Kaf/AG6cv/bmo/8APx/44v8AhR/bmo/8/H/ji/4VP4i0CXw/qCQmeO7tp4hNbXUX3Zoz0I9D2I7VkjrU8872uzaOHw0lzKCt6Iv/ANuaj/z8f+OL/hR/bmo/8/H/AI4v+FdpeeGPA9v4hHh9rvXYdQdkjWd1ieFXcAjIADEfMB2rnLDw5HJJ4hhvZHEuk28jqYiMM6yBOcjpyfSqbqLr369tzGEcLJX9mun2V12M7+3NR/5+P/HF/wAKP7c1H/n4/wDHF/wqbwvpcGt+KLDTbtpEhuZQjtGQGAx2yCP0q2mg2114RvdRsnla9066C3MTMCvktwrgYz97g8n1pc07Xv8A1p/mXKlhoy5XBdOi63t+Rnf25qP/AD8f+OL/AIUf25qP/Px/44v+FXp9Dt7HwXBqt9JKL2/nK2cKkBfKX78jcZOTwOnrzWDSc5p2uVGhhpK6gvuRof25qP8Az8f+OL/hR/bmo/8APx/44v8AhW34L8I2/iRLx765a1RQILVgQPMuXBKKcg8fKc455FYel6eLrxDaadd74xLdJBJt4ZcsFOM96q9S6V9yfZ4W8lyL3d9EL/bmo/8APx/44v8AhR/bmo/8/H/ji/4VpeNvDcXhnxC1rZSvPZSIHt5XILMMlWBIAGQwYdKw7S1kvbpIIWiV3zgzTJEvAzyzkKOnc1PPPuyo0MNKKmoK3ohkmu6y1xII9Q8tVIAHkoewPp70VHqOn3OlaxeWN8qpcQShZFSRXCttXjKkjI788HjrRXfFvlVz5Gvy+1ly7Xf5n0/QTgZPSimZbfkrwDwM/rWpzkrRlUVm43dB3FfL9fT5dn+8MYr5grjxPQ+hyX/l58v1CiiiuQ+gCiiigArqdc/5EHwr9bv/ANGiuWq/d6xcXmkafp0qRiHT/M8plB3Nvbcd3OOo7AVUWkZTi3KLXR/o0bHxG/5H7UPpF/6KWpL+J7D4X6db3qlJ7zUJLq3Rhg+T5YXd9CenrjNWZviXeXEpnl8P+HmusD/SWsN0mQMA7ix54rmNV1e/1vUHvdVuXubh+C79h6ADgD2FEmrNLr/ncwpQqcsIyVuX/KxSoooqTsCiiigAooooAv2WoBbObTr7c9hcK4YKgZ4XK4EsZOCCCEYgMu/YFY4pl1dRLbJYaagisYgn/LNVe4dVwZZCMlmJLsAzNs3lVOOtOiq55cvLfQw+r0va+1t7xoad/wAeGrf9ei/+j4qz60NO/wCPDVv+vRf/AEfFWfSfQuHxS9f0Qo611nxIjkbxX9tUE2d5bQyWjj7rR+WowPoQeK5Kuj0fxtqWk6aunSwWOp2CMWjtdRtxMkbHuvQj6ZxyfWmrNWZFSMlJTir2uvvt/kUPDP8AyNmk/wDX7D/6GKk8Xf8AI661/wBf8/8A6MNT3/i67v8AU7C8Wy0+0FhIJYbe0t/Kj3ZB5AOTnaO/atK6+Ist40z3Hhfw08sxJeU6eS5J6tkt175odnFLtf8AT/Ij94p8/L07+Y+fVLjRfC3g3UbNsTW73TAHow8wZU+xGQfY1qWemW0M+s6vo6Y0rUtDuZIV6+Q/y74j7qensRXDXer3F5o+n6bKkYhsPM8plB3Nvbcc846jsBVzSPFeoaLo2o6XbCGS11BCkiyqSUyMFlIIwSPr0FVzJ3+f5GcqE+W8d76+nNf8P8y58Of+R+07/tr/AOimrmT1NXtF1efQtXh1G0SN5od21ZQSpypU5wQeh9afomj/ANuXz2/9o6fp22Myebfz+Uh5A2g4PPPT2NTvZI6H7k5TltZfr/mZw6ivTv8Amvn4f+21ctqXgv8As3Tprz/hJfD135Qz5Nrf75H56Ku3moF8X36+MR4k8i1N4D/qyjeWfk2dN2envVJ8ujMai9sm4dpL5uxhxxSTzrFCjSSSMFREGSxJ4AHc10vj7EWsWNk7Brmx023t7kg5xIq8jPsCB+FTP8RtQjjb+ytJ0XSJmGPtNhYiOQA9QGJOK5OSR5ZGkldndyWZmOSxPUk1Dtay/r+rmsVOU+eStb9RtFFFI3NRb2y1G1t4PEKSzJZyxyRNEoDzRqCGt3YFW2sNoDksYwmFXBNU7u9mvZFeby1CLsSOGJYo41yThUQBVGSTwBkknqTVeiqc5NWbMIYelTm6kVqzQm/5Fuz/AOvu4/8AQIaz60Jv+Rbs/wDr7uP/AECGs+k9y6fw/N/mFdHpvia1bTItK8S6aNRsociCWN/LuLYE5O1uhGcnawxXOV1Fh46ubPT4bWfRtE1DyECRTXtiHkVR0G4EdPenFrqRWi5JWV/nY3PC2jRaH8VtKSCY3Nnc2r3Vuzja5ieByAwHQ9v1rndZ1jw5e6e0OkeFv7MudwIuP7RkmwO42sMc0y38ZarF4tTxFO0V1eoCAsyfu9pQpt2qRgAHoKn1Lxp/aWnTWn/CNeHrTzRjzrWw2SJznKtu4NNtONl/XzMFTqKopSV9F1tte+nXcktvEmm6tawWPi2waYxIsUWpWrbLiNBwAw6SAcdcHHeoZJL3wF4qv7BTb3iLmCeOVN0VxGcEBl7dj1yD3q1F8Rb6ONGfRtDlvEA230lgpnBHRs5xn8KztP8AF2o2OpXl7cR2upNfHdcx38AlSQ5yDjjGMnpim2ua9xqnOzXLp2v+Xb+ti5qWnaRq/h+61zw/BNp7WckaXdjLJ5iAOSFaN+p5HIP51y1dLf8Aii+8Srb6Qsel6PYyzqWitYRbwbycb3PJwM89varf/Cvf+pu8K/8Agz/+xqeW7vEuNT2StUf66epBrn/Ig+Ffrd/+jRTfiN/yP2ofSL/0UtZN/qtxcabZaXKITDprSiJ485fe2SSc4IyOMAV0c3xLvLiUzy+H/DzXWB/pLWG6TIGAdxY88U7xktyVCpCSaV/i695XRWv4nsPhfp1veqUnvNQkurdGGD5Plhd30J6euM1ylXdV1e/1vUHvdVuXubh+C79h6ADgD2FUqlu7v/XY3pxcY2e/+YVf0vVG06YrLGtzZTFRc2r4xKo64JB2NgsA64ZdxwRmqFFJNp3RU4RnFxkrpm3Ha2sngvVNE8NQzahqE1uquZLJVuLvFxHIXQqXfICqvkg7NsbSZzlaj8Uy29x4nv7i2mEpmuJJJSmDGshdiRG4P7xPRyFJHO0VkUVpKo5qzOWhg4UKjlB6WtY0Na/4/wCP/r0tv/RCVQHUVf1r/j/j/wCvS2/9EJVCp2kdNL+HH0PS/GWt+F7XxZdw6l4Q+33SiPzLn+05YvM/drj5QMDjA/CsnxndWN54T8MzaVp/9nWrfattt57S7f3i5+ZuTk81zGtavPrurzajdpGk023csQIUYUKMZJPQetF3rFxeaRp+nSpGIdP8zymUHc29tx3c46jsBVc99zmp4fkVPe631b6NfmbHxG/5H7UPpF/6KWl8bf8AMv8A/YFt/wD2asbWtXn13V5tRu0jSabbuWIEKMKFGMknoPWjVNXuNX+x/aUjX7Hapax+WCMoucE5J55qW9Lef+ZpTpyioX6K35Gppvia1bTItK8S6aNRsociCWN/LuLYE5O1uhGcnawxVTxLoseianHHbTme1ubeO6tncYcxuMgMOxHStCw8dXNnp8NrPo2iah5CBIpr2xDyKo6DcCOnvTILa98dald32p67pdnOgQE6hcCAMOQAgAxgY/UetN+9tuTG9OTlJWj631/QwbO8n0++hu7OQxTwOJI3H8LA5Brrbb+yfHVw1t9gGl67JG8iTWx/0e4ZVLEMh+4SAeQcZ7VVuNEn8ItDrFpr+gX80MgCw2l0J2OQQcoV5XGQfrS3PxBv5LSaHT9L0fSnnQxy3Gn2QjldT1G7Jxn2o0SsxTvUalSXzvb711X9aGpot9pdh8KTJrWj/wBrQtrLKsX2poNreSvzZXrxkY96b4TurDU/FGpwaFpw0pr3SZ7e1g+0tL+9Kg8O3PIBrF0PxncaJozaX/ZWlajbNObjbqFsZdrlQvHzAdB6dzVTVfEc2pajb3ttYWGkzW4Gz+zIfIGQchjyefeqck3/AF2sR7Gbclbe+t9N7rQyXRo5GSRSrqSGVhgg+ldV4qDWnhLwtp10pS8it5pnRuqJJJlAfwBP41OvxN1EzJc3WjaFd3ykH7bPYAzEjodwI5+gqh4w1jSPEN8NVsIr22v7jm7gmIkjDY6o+d2OnBAHpjpUuyjozS9SVSPPGyV/PW1v1Obq1Yahc6bcGW0dQWXY6yRrIjr1wyMCrDIB5B5APUCqtFRsdMoqSs9jSkubCyW4GhRPG15LJJJLOgaSCNxgW8bks21RvBcFTIHIZcAU3QP+Rk03/r7i/wDQxWfWhoH/ACMmm/8AX3F/6GKtycpXZzqjToUXCmrKzM+iiioOoKKKKAO+0H+xP+FVzf8ACSf2h9l/tgbPsGzfv8njO/jGM/pWJr2u6dcaZbaL4dtJrbTIJTOz3LBpp5CMbmxwMDgAVmjWrgeGzomyL7MbsXe/B37wm3Gc4xg+lZ9W5Xf3fgkc1OjaTlLu35HTfEb/AJH7UPpF/wCilqS/iew+F+nW96pSe81CS6t0YYPk+WF3fQnp64zVmb4l3lxKZ5fD/h5rrA/0lrDdJkDAO4seeKw/Ov8Axh4iU6rqsEdxPkG6vpfLiQAE4JAwo4wAB1NDtql1/wCHM6cZqEedWUV+SsZA611nxIjkbxX9tUE2d5bQyWjj7rR+WowPoQeKS48B+RbSzf8ACVeGZPLQtsj1HLNgZwBt5NVtH8balpOmrp0sFjqdgjFo7XUbcTJGx7r0I+mccn1o0tysty55KpT1tddt7f5HOUVr694in19oBLZ2NlFAD5cFjbiJBnGTjueB+VZFQdEW2tVYKKKKCgq/ZagFs5tOvtz2FwrhgqBnhcrgSxk4IIIRiAy79gVjiqFFNNxd0Z1KcasXCaumXLq6iW2Sw01BFYxBP+Waq9w6rgyyEZLMSXYBmbZvKqcdZNO/48NW/wCvRf8A0fFWfWhp3/Hhq3/Xov8A6Pip8zk7sz9nGlTUIKyVvzRn0UUVJ0BRRRQAUUUUAFFFFABRRRQAUUUUAFFFFABRRRQAUUUUAFFFFABRRRQAUo6ikpaFowPUPGlx4MtfGFxPq1rrF3qMaws8CPGttIfLXAz98DGM/jWJoerT67rXinUroKslxpFyxVBgKMKAB7AACuZ1zWbjxBrEupXiRJNKFDLECFG1Qoxkk9AO9TeHfENx4bvpbm2trW686BoJIruMvGyMRkEAjPStOa7d/P8AE4Y4dwopbysuva2iKem2N1qep29nYRtLcTOFjVRzn1+g657Vr+PLmC78darLauHj87bvXozKArH8was3XxB1OS1kg0yx0vRVmXbK+mWgheRfQtkkfhiqeh+Fv7bsnuf7d0XTtshTyr+88pzwDkDB456+xqbX0RpzNS9pU06d/wCthvg7Rxrniyxs5API8zzLgscARL8zZP0GPxr0K10JtW1nX1uvEWgXi63E6xW1rfh5FkU7ocLgZ24x9K424t7nwTa3Bs9W0PUW1KB7V3sbkzPChwW9Nuemea5qyvJtPv4Ly1bZNbyLJG3owORVJxVov5/P/gGc6c6zc4P0+Wv5/kdHo0bxeBfFkcilXQ2qsp7ESnIqp4Is7m88aaZ9lBHkXCTyydo40YFmJ7AAVYsfHN3ZahqtydL0u5XVZBJPb3MDSRAgk8KW9TnnNM1TxzqeoafJYW1vY6TZy/66DTbcQrL/ALx5J+mcUKSVpdUU41XzxS0l1v5JGhDPDdeHPHFxa8Qy3EDx/wC6Z2I/SsrwRZ3N5400z7KCPIuEnlk7RxowLMT2AApnh7xTceHYbyGKw0+/hvAglivoTKnykkcZA6nvVjVPHOp6hp8lhbW9jpNnL/roNNtxCsv+8eSfpnFKLUbNdAcKnvwS0l1+SRkaxPDda5fXFrxDLcSPH/uliR+lbfgn/mYP+wLcf+y1HpXg7+1dMivP+Ej0Cy8zP7i8vvLlXBI5XacdM/QikuI7jwZczw22oaTqf9oWT28j2c5mVEY4PIxhuPeko8i17NfgVOcai9nF6/5MtxEeLPCYgxu1jRY8xnPzXFoOq+5TOR/s59K6H/mvn4f+21ed6XqVzo+qW+oWLBZ7d965GQfUEdwRwfY1qN4wv28YnxJ5FqLwnPlhG8sfJs6bs9Peq5luZzoTvJR2s7ertp6aGzb6bP438O6Utt81/p066fOx5PkOSY3PsvzL+VaF7qcOpeHvGS2P/HjZQ2VpaAf88kmwD+Jy341xWjeINQ0FrttOkCfbLdreXIz8rdx7jsabZa1cWOj6jpsKRGHURGJWYHcuxtw2846+oNDkrf1v/X5jdCXN5Jq3pzJv/gGdRRRWZ2hRRRQAUUUUAFFFFABRRRQAUUUUAFFFFABRRRQAUUUUAFFFFABRRRQAUUUUAX9L1RtOmKyxrc2UxUXNq+MSqOuCQdjYLAOuGXccEZpjTW1jp66dpLM8RX/SbuWBY5rtt275sFiqABBsDlcxh8BjxToqlOSjy30MJYelKoqrXvI0NF/4/wCT/r0uf/RD1t/DL/ko2lZ/vP8A+i2rE0X/AI/5P+vS5/8ARD0aFrNx4f1q31OzSJ5rckqsoJU5BHOCD39acXazIrQc4zgt3H/M6VNd8J+H2lu/C1pqs+psjRxS6k0eyDcMF1CdTgnrVL/mk3/ca/8AaNcwTkk10Oh+MbjQ9Jk07+ytK1G3efz9uoWxl2vtC5HzADgelCd00/61TCdJxs4au/Vln4exOniJ9SkBFjYW00l3IR8oUxsoU+5JwB/hXKVv614x1PWrMWTLbWNgG3CysYRDFu9SByfxJq3Z+BvtdlBc/wDCUeG4POjV/Km1Da6ZGcMNvBHcUWctugKXI3Oppf8AT/hy34LurGz8JeJptV0/+0bVRa77bz2i3fvDj5l5GDzTtZuNN17wK1zodnLpEGlXKiWw8wSRyGXIEgcgMz/Lj5s4HSqVrq1x4FvL7Tol0PXYbpYzKSDcwNjJGOQMgnv6VU13xffa7ZRWJtrHT7GN/MFrYQeVGX6biMnJpyknGxkqcnV50tG73v0slt3O1ubTwjfX3hy215tQW/k0q1EYEiJat8nyq7YLrk8Ejpmuei0+/wDE3xWNvrlultILjddxDhIoowMjPptUAHvwa5vVdXuNYe1a5SNDa2sdqnlgjKoMAnJPNasnjjU5RK7xWpuprD7BJd7G814/UndjdgYzjpTc1zc3m3/kKNCpCNk9Wrenp/XRHdWuhNq2s6+t14i0C8XW4nWK2tb8PIsindDhcDO3GPpXkckbxStHIpV0YqynsR1FS2V5Np9/BeWrbJreRZI29GByK6hfDz+Kmk1uXXvDemyXsjyvazXpiaM7jn5SCRk89e9TbmSt0/r/ADNIL2DfO9Hb7/8AhrEHgn/mYP8AsC3H/stTREeLPCYgxu1jRY8xnPzXFoOq+5TOR/s59KqXEdx4MuZ4bbUNJ1P+0LJ7eR7OczKiMcHkYw3HvWPpepXOj6pb6hYsFnt33rkZB9QR3BHB9jT5ldJ/1qx8jk3Uj6r7v1PRP+a+fh/7bVkW+mz+N/DulLbfNf6dOunzseT5DkmNz7L8y/lWM3jC/bxifEnkWovCc+WEbyx8mzpuz096p6N4g1DQWu206QJ9st2t5cjPyt3HuOxoUlbX+v62M1QqJJx3Sivuun+Z2t7qcOpeHvGS2P8Ax42UNlaWgH/PJJsA/ict+Neb1o2WtXFjo+o6bCkRh1ERiVmB3LsbcNvOOvqDWdUSd9Too0/Z8y6X0+5L9C+l3Fe6S+k6rLKltjNvcwwq8tq24N8uSpZSN42FwoMhfBYcs1C+W7cR2tvHZ2MTN9ntIlAWJTjqQBvfAUF2yzbRknFU6KfPJx5b6BHD0o1HVS1ZoQ/8i3ef9fdv/wCgTV2n/FN/8K38N/8ACT/2r9+68j+zvL/56Ddu3/hjHvXFw/8AIt3n/X3b/wDoE1Ld61cXuiafpcqRCDTzKYmUHc3mEE7jnHbjAFNSsjOdNznp0f8A7bb9TfXXbfVvFnh200y0Nnpun3MUdtEzbnOZAWdj3Yn8BWH4n/5G3V/+v2b/ANDNU7G8k0/ULe8hCtJbyrKgcZBKnIz7cV1UvxKvmme4tdD0CzvGYt9sgsB5qsedwLE857kUXTSu+/42HySpy/dxurdyDxZE9j4c8NabeKUvoLaWWWNhho1kkLIp9DjJx2zXKjqK2NPs7jxXrU7XusWdtcOple51O48tXOQMbsHnnp6D2q7qXgv+zdOmvP8AhJfD135Qz5Nrf75H56Ku3mjW/MxwlGnanJ6/5nY694k8OaV4+k+1+G5GvozFnUorss6ny1w6xMCm4cYz3Gax7DSZdP1rxrpXnNdzx6dKRIeWlw6MSffHX3qrJ8Tr97j7UNC0Bb0AbbwWJMykDAYMWPIxXOWXiDU9P17+2ba6YX+9pGlbneW+9kdCDmqck39/4nNSw9SMLWs7Ld3u1+S/qxqfDuNpPiBpW3okpkYnoFVSSfyFL4L1D7P41igK+baanIbK4j7PHKdv6Eg/hUt58QtRuLK4t7LTdJ0prpSk8+n2nlSyKeoLZPBrnNOvpNM1S1v4FRpbWZJkDglSVIIzjtxSjJKS7f57m7pzmpuStdWXyv8A5mv42vjeeK7qFE8q2sG+xW0QPCRxnaB+OCfqTXP1qQRSeJfEj+ddWdjJeyvK81zJ5cKE5Y5POB2H4VtSeBfskbXJ8UeF5xCDJ5S6juMmOdoG0Zz0xUKLauzTnhSSgzfbw1Pb+FtAs4de0XSriJv7QnjvrwRSGViDGcYPAQAfiaqeI9KSw+LGl3lsYntdSuYLqOSB98bFnG/a3cbsn6EVxut6zda/rE+pX2wTTEZWMYVQAAABzwAKsx+J71LLSbYxwSDSZzPbO6ncMsGKk55XIz6+9aqceZPs/wCv0+45lQqpXbvdO/z1/P8ABnUanFJ4ltdd0mJTLf6TqU1zaL3aF5NsiD6NhvxNcRqdi2mateWEjB3tZ3hZh0JViM/pV+w8Uajpvih9eszHHdySSSMu07DvzkYz059fSsiSR5ZWkkYs7sWZj3J6msrrlXfqdFKEoSa6fr1/rzIbu7nvtRubm7fzJndd7kAFyEUZOOpOMknknJOSSaKzbu7eC8lVApBIPI9hRXoQ+FHyGISVaaXd/maf/C4PHX/Qc/8AJSD/AOIo/wCFweOv+g5/5KQf/EVxNFUYHo/h/wCKvjO/8TaXZ3es74Li8iilUWsK7lZwCMhMjg9RX0V/whvhr/oBaf8A+A6/4V8i+E/+R00T/sIQf+jFr7Vo3KjKUdmYn/CG+Gv+gFp//gOv+FH/AAhvhr/oBaf/AOA6/wCFbdFKyK9pPuzE/wCEN8Nf9ALT/wDwHX/Cj/hDfDX/AEAtP/8AAdf8K26KLIPaT7sxP+EN8Nf9ALT/APwHX/Cj/hDfDX/QC0//AMB1/wAK26KLIPaT7sxP+EN8Nf8AQC0//wAB1/wo/wCEN8Nf9ALT/wDwHX/CtuiiyD2k+7MT/hDfDX/QC0//AMB1/wAKP+EN8Nf9ALT/APwHX/CtuuT8VfECx8NNNClnd6hdQbDKkMREcIcgKXkI2jOegyfaiyvYXtJ92aP/AAhvhr/oBaf/AOA6/wCFH/CG+Gv+gFp//gOv+FWfEGu2nhvQ59TvxI0UOAEiXc8jEgKqjuSSBXPaX441Ftds9N8T+GZ9COoZFnM10kySMBnY20DYxHQHmhJN2Q3Umle7Nj/hDfDX/QC0/wD8B1/wo/4Q3w1/0AtP/wDAdf8ACsrV/GuoRa3daX4Y8Nz67NYhTeutykCQlhkKCwO9sc4FXLXxpaXvg0a/aWd3MS3lGxjj3TibdsMZXsc/pzRpa4e0ne12Wf8AhDfDX/QC0/8A8B1/wo/4Q3w1/wBALT//AAHX/CsnS/G2pNr1rpfijwzNoT324WcpukuElYDJUlR8rYGQDW54l1638M+HbvVrsb0t0ysYODI54VB7kkCh2SuwVSo3a7IG8JeHoyqx6LYqsh2uBAoDDGcHjkZAP4Cl/wCEN8Nf9ALT/wDwHX/Cn+H9Z/4SHw9pWreR9n+2IJfK379mVPGcDP5VmeJfFmq6V4gtNH0Hw9/bV1cWz3LL9tW38tFYLn5gQeSO9OSs7MSqTaumaH/CG+Gv+gFp/wD4Dr/hR/whvhr/AKAWn/8AgOv+FJp2t6l/wj91qXiTQ5NJlt9zfZY7hbpnQDOQUHU8jHtWHF4+1W21C0HiLwld6Rpt7MsMN69ykhVmOE8xF5jyeOTwaLK9g9pO17s3f+EN8Nf9ALT/APwHX/Cj/hDfDX/QC0//AMB1/wAKz/EvizVdK8QWmj6D4e/tq6uLZ7ll+2rb+WisFz8wIPJHerVt4jvLXwveax4t0g6H9k3M0AuUuSyADBBXAyScY/xpaWuP2lS9rsm/4Q3w1/0AtP8A/Adf8KP+EN8Nf9ALT/8AwHX/AArn4viFqdvcWk3iDwld6VpN5IscV+1ykhQucIZIwMoDkdTxmtHWdf8AFtjq0tvo/gr+1LRdvl3f9qxQ78gE/IwyMHI/Ciwvazf2mX/+EN8Nf9ALT/8AwHX/AAo/4Q3w1/0AtP8A/Adf8Kz/AAl4uv8AXm1b+2dEXRl0yQRSOb1Z1LgZcbgABtGM8nr7VT07x7qus3UVxpHhG8uNCkmEY1JrhEZlzjesJ+Zl75z0z6U7K9g9pO17s3P+EN8Nf9ALT/8AwHX/AAo/4Q3w1/0AtP8A/Adf8KpeIfF11pusR6NoGiTa5qjQ/aJIEnWBIos4DNI3AJI4HerfhXxOniWyuGezl0+9s5jBd2cxBaFwM9R1BB4PekknsN1Jrqx3/CG+Gv8AoBaf/wCA6/4Uf8Ib4a/6AWn/APgOv+FbdFFkHtJ92Yn/AAhvhr/oBaf/AOA6/wCFH/CG+Gv+gFp//gOv+FbdFFkHtJ92Yn/CG+Gv+gFp/wD4Dr/hR/whvhr/AKAWn/8AgOv+FbdFFkHtJ92YY8JeHi5hOi2JjUBlTyFwCcgnGOp2j8hS/wDCG+Gv+gFp/wD4Dr/hWsv/AB9P/uL/ADauO1PxzrNtPdTaZ4Nvr/S7R2Wa8NwkTNtOGaOIjc44ODxmh2BTqdGzb/4Q3w1/0AtP/wDAdf8ACj/hDfDX/QC0/wD8B1/wqO98SzN4as9V8N6VNrbX2wwQxyLFwyltzs3CAYxz3wKreG/F11qusXGja5ok2i6pBCLgQPOsySRE43K68Hngj/69O2the1na92Xf+EN8Nf8AQC0//wAB1/wo/wCEN8Nf9ALT/wDwHX/Cs7UfiBY2mv2uk2lnd3bzXyWM1wIikMEjfw7yPmbAzhc/UVuazrVnoOn/AGvUGk2FxGiQxNI8jnoqqoJJOKWlrj9pO9rsqf8ACG+Gv+gFp/8A4Dr/AIUf8Ib4a/6AWn/+A6/4U3wp4lHijT7q6Wxmsfs93JamK4I8zKYyWA+6eemT061jan451m2nuptM8G31/pdo7LNeG4SJm2nDNHERuccHB4zQ7LcFUqPZs2/+EN8Nf9ALT/8AwHX/AAo/4Q3w1/0AtP8A/Adf8Kqap43s7TQdNv8ATLabU5tXKjT7WHCtMSu7knhQB1J6VFoHjG8vtdOi+I9Bm0LUXiM0CNcLPHOg+9tdQBkZGRTtrYXtZ2vzM0P+EN8Nf9ALT/8AwHX/AAo/4Q3w1/0AtP8A/Adf8K5+4+IWpzPdXPh/wld6tpFpI0ct8tykZcocOY4yCzgY6jrXX6TqlrrWkWupWDl7a6jEkZIwcHsR69qSSauHtJp2uyh/whvhr/oBaf8A+A6/4Uf8Ib4a/wCgFp//AIDr/hW3RRZD9pPuzE/4Q3w1/wBALT//AAHX/Cj/AIQ3w1/0AtP/APAdf8K26KLIPaT7sxP+EN8Nf9ALT/8AwHX/AAo/4Q3w1/0AtP8A/Adf8K26KLIPaT7sw18JeHphum0WxdgSoLQKSADgDp0AAH4Uv/CG+Gv+gFp//gOv+Fa0H+rP++3/AKEalptK4lUnbdmJ/wAIb4a/6AWn/wDgOv8AhR/whvhr/oBaf/4Dr/hW3RSsh+0n3Zif8Ib4a/6AWn/+A6/4Uf8ACG+Gv+gFp/8A4Dr/AIVt0UWQe0n3Zif8Ib4a/wCgFp//AIDr/hR/whvhr/oBaf8A+A6/4Vt0UWQe0n3Zif8ACG+Gv+gFp/8A4Dr/AIUf8Ib4a/6AWn/+A6/4Vt0UWQe0n3Zif8Ib4a/6AWn/APgOv+FH/CG+Gv8AoBaf/wCA6/4Vt0UWQe0n3Zif8Ib4a/6AWn/+A6/4Uf8ACG+Gv+gFp/8A4Dr/AIVt0UWQe0n3Zif8Ib4a/wCgFp//AIDr/hR/whvhr/oBaf8A+A6/4VsswRSzcBRkmuEufiLqlnH/AGld+Db+Hw/uG7UHnQSKhON5g+8F79elGge0qd2dF/whvhr/AKAWn/8AgOv+FI/hLw9AjTQaLYxyRjcjrAoKkcgg44NSa14msdEtreSZLi6ku8i2t7OBpZJyBn5QOBwc5JA96Z4f10eJvCEOrpbm2W6jciJm3FQGZeTgelNLUXtJtbh/whvhr/oBaf8A+A6/4Uf8Ib4a/wCgFp//AIDr/hTfF3iKbwzoqXlrYf2jcS3MdtFbecIt7u2ANxBqHw9rPiXUb6SLXvCn9jQLHuWf+0Y7jc2R8u1RkcZOfakkmN1Jrqyx/wAIb4a/6AWn/wDgOv8AhR/whvhr/oBaf/4Dr/hWDN428ST61qdn4f8ABn9qW+n3Jtnuf7Ujh3OFBI2sv+0PWtnW/FB0HQbO7vNOmfUbxkhh02Bw7tOwz5e7pgYOW6YGaNLX/rUPaTva7+8l/wCEN8Nf9ALT/wDwHX/Cj/hDfDX/AEAtP/8AAdf8Kz9A8Y3l/rraJ4i0GXQ9SMJngja5SdJ0BwdrrgZGenpWfceMPG9rBLPP8PFSGJS7yNrsAAUcknj0odkCqVH1Z0H/AAhvhr/oBaf/AOA6/wCFH/CG+Gv+gFp//gOv+FZEXi3xLfeGNK1bSfBrXcl8jSSWzalHEYFz8h3Mo3bhz0GKj0nxp4huvF1roWseD/7MaeF52lGpxz+XGvG4qq9C2F6jr7Gny62F7Wdr8zNv/hDfDX/QC0//AMB1/wAKP+EN8Nf9ALT/APwHX/CtuilZD9pPuzE/4Q3w1/0AtP8A/Adf8KP+EN8Nf9ALT/8AwHX/AArboosg9pPuzE/4Q3w1/wBALT//AAHX/Cj/AIQ3w1/0AtP/APAdf8K26KLIPaT7sxP+EN8Nf9ALT/8AwHX/AAo/4Q3w1/0AtP8A/Adf8K26KLIPaT7sxP8AhDfDX/QC0/8A8B1/wpG8JeHoyqx6LYqsh2uBAoDDGcHjkZAP4Ctyopf9ZD/v/wDspppITqT7syf+EN8Nf9ALT/8AwHX/AAo/4Q3w1/0AtP8A/Adf8Km8T6i2keFdTv45PLkgtZHjbaGIfaduAep3Y4rmNf164uvgjNrNneyJdtYRu1xC3lusmVD8rjad24EDpyKWln5f1+hSnNtK71Oh/wCEN8Nf9ALT/wDwHX/Cj/hDfDX/AEAtP/8AAdf8KxvCmuJrHjvxF9j1Nb+xit7PyvKuPNiRir7tuCQCSOcelWfiH4il8NeGY7y2uvs8rXcKZ2BiybgZAAQf4Axz2xTsk0Sqs31f9K5of8Ib4a/6AWn/APgOv+FH/CG+Gv8AoBaf/wCA6/4Uvii7ZPA+r3dlOVZdPmlhmifBB8skMrD8wRTPCGtWWseG7E2up29/cRWkP2ny7hZXRygzvwSQcg9fei2/l/wf8g9rPT3nr/wB3/CG+Gv+gFp//gOv+FH/AAhvhr/oBaf/AOA6/wCFV/Fus6jpT6PBpRtUl1G/W1aS5haRUBVjkKrrk/L61ctrbxGl1G15qulywA/OkWmSRsw9AxnYD8jSSTG6k11ZH/whvhr/AKAWn/8AgOv+FH/CG+Gv+gFp/wD4Dr/hVXQLq4m8aeKoJp5ZIoJ7YQxs5KxgwKSFHbJ54rX1KLVZfL/si9s7XGfM+1WjT7vTG2RMd/X8KLKyD2k+7KX/AAhvhr/oBaf/AOA6/wCFH/CG+Gv+gFp//gOv+FRyW/iuOJ3/ALZ0c7VJx/ZEvP8A5M1J4O1m48QeD9O1W9SJJ7qLe6wghQckcAknt607IXtJ92H/AAhvhr/oBaf/AOA6/wCFH/CG+Gv+gFp//gOv+FT31vr0l0W03UtOt4MDCXGnyTMD3+YTIP0rB8Rap4n8OabFfS3+kXcbXUMDRLpssZIkkCEhvPbBGc9DSSV7D9pPuzX/AOEN8Nf9ALT/APwHX/Cj/hDfDX/QC0//AMB1/wAK1rhZ2tpFtJI4pyp8t5Yy6qexKggke2R9a5e41XxBpPirQtO1C7027t9UlmjcwWMkLpsjLggmZx1A7UWQe0na92aX/CG+Gv8AoBaf/wCA6/4Uf8Ib4a/6AWn/APgOv+FcRq2r6lHea6seoXSCLxHYwxhZmGyNhHuQc8KcnI6HNdr4o1e6023srbTBGb/UrpbWBpQSseQWZyBjO1VJxkZ4oSTSfe34pP8AUPaTTa5n/wAM3/kO/wCEN8Nf9ALT/wDwHX/Cj/hDfDX/AEAtP/8AAdf8KzL+71XwpfabNfarLqunXtylnOLiGJHgd+EdTGqjbuwCCCeQc1Kl3cn4uS2f2iX7KNEWUQbzs3+eRu29M44zTSTf3/gri9pNLd/07F7/AIQ3w1/0AtP/APAdf8KP+EN8Nf8AQC0//wAB1/wqW81zyfEVno1pb/aLmZDPOd+1beEcbycHJLcBe/PIxXNHxz4mu9S1GHQ/BJ1G1sLt7VrgarHFuZevyMuehHr9aWg/aT7v7zoP+EN8Nf8AQC0//wAB1/wo/wCEN8Nf9ALT/wDwHX/Cq/hvxjBr93cadc2NzpWrWqh5rG7XDbScb1I4Zc9x/hVzxLrv/CPaQLpLf7XcSzR29tbB9hmkdgAu7Bx3OcdBTshe0n3ZH/whvhr/AKAWn/8AgOv+FH/CG+Gv+gFp/wD4Dr/hVTX/ABkNL1JNI0jTLjWtYaPzDaWzBViXs0kh4QHtn+tN0PxF4hvtQe01vwjNpDGJpIpvtiXETEY+VmQfKTn0PeloP2k+7Lv/AAhvhr/oBaf/AOA6/wCFH/CG+Gv+gFp//gOv+FM8OeKYNd8NvqtxGLBrdpI7yB33fZnjJ3AnA6AZ6dDWfp3jlrqw0rUr3S2s9N1S4aCCdptzJk4iZ12jaHwe5wSvXOQ7K9v68vv6C9pO17s0/wDhDfDX/QC0/wD8B1/wo/4Q3w1/0AtP/wDAdf8ACi91m4tvGel6QiRG3vLaeWRiDvBjKYwc4x8xzxVXx7q93ofhOS90+4FvOtxAgcqp4aVVYYYEdCaVlp5/52H7Sfdlr/hDfDX/AEAtP/8AAdf8KP8AhDfDX/QC0/8A8B1/wqTxZNLbeC9ant5HiljsJ3SSNirIwjJBBHQj1qfR5yfDljPcSMxNpG7uxyT8gJJNGmvl/wAH/IPaVNNXr/wP8yp/whvhr/oBaf8A+A6/4Uf8Ib4a/wCgFp//AIDr/hWTpUniHxNog1y21g6b9pzJY2a28bxCPJ2eaWUuxYYJ2suM8dKoa/4oudU+D8mtWbS6feF4o5BDIVaKRbhUdQw5xkEe4NO2the1n3Z0v/CG+Gv+gFp//gOv+FH/AAhvhr/oBaf/AOA6/wCFa1ytw9rItnLHFOR8jyxmRVPqVDKT+YrhvFXiLxL4XNgJNR0e4N1PiULpco8iEffmP+kHKrkZ6detLS9h+0n3Z0f/AAhvhr/oBaf/AOA6/wCFH/CG+Gv+gFp//gOv+FT2EGupchtS1LTrm3wcpb6e8TE9juMzj9K1KdkL2k+7MT/hDfDX/QC0/wD8B1/wo/4Q3w1/0AtP/wDAdf8ACsKXx9qV7f3SeFfCtzrdjZymKe9W6SFSw+8Iw3+sx7d/qK2/Eviq38N6ZBPJbT3V1duIrSxhX97M5GduO2O57UtLXH7Spe1/xHf8Ib4a/wCgFp//AIDr/hR/whvhr/oBaf8A+A6/4Uzw5rWtanJPHr/huXRJIwrRk3SXCSg5/iXoRjp71HJ4wtYhrV1LEV0vRwUmvN3+slH3o0XHOOBnP3jjHGaLJAqk31ZP/wAIb4a/6AWn/wDgOv8AhR/whvhr/oBaf/4Dr/hXPxfELU7e4tJvEHhK70rSbyRY4r9rlJChc4QyRgZQHI6njNdlqF9b6Zp1xfXsgjt7aNpZHPZQMmh2SuxKpNuybM3/AIQ3w1/0AtP/APAdf8KP+EN8Nf8AQC0//wAB1/wrL0TxzNrngKXxLbaO2YnffZifLlEb5iDt5bAJC8ZPGe9dPY3tvqVhBe2Uglt7iNZInH8SkZBp8oe1n/MzM/4Q3w1/0AtP/wDAdf8ACj/hDfDX/QC0/wD8B1/wrbrHh177T4vudEt7belpapNcXPmf6t3Pyx7cckqC2c8cetKy2H7Se92M/wCEN8Nf9ALT/wDwHX/Cj/hDfDX/AEAtP/8AAdf8K15547W2lnnbZFEhd2x0UDJNc1oXjm28QeJZNLsrC7ihWz+1JdXMZiEy79oKIRnaeeTjp070JJuwvaTSvdl7/hDfDX/QC0//AMB1/wAKP+EN8Nf9ALT/APwHX/Crmow6vK0f9kX1laqAd4urN5yx7Y2ypj9a4TXfEWty+CfFjS3kKy6Zdx2sN3p8b25Ygxl+sjEctt4PY0JJ6f12H7SfdnX/APCG+Gv+gFp//gOv+FH/AAhvhr/oBaf/AOA6/wCFZ+iXlzL8R/EltLcSvbw21m0UTOSsZZX3EDoM4GcdcV1dOyF7WfdmJ/whvhr/AKAWn/8AgOv+FH/CG+Gv+gFp/wD4Dr/hW3RSsh+0n3Zif8Ib4a/6AWn/APgOv+FH/CG+Gv8AoBaf/wCA6/4Vt0UWQe0n3Zif8Ib4a/6AWn/+A6/4Uf8ACG+Gv+gFp/8A4Dr/AIVt0UWQe0n3Zif8Ib4a/wCgFp//AIDr/hR/whvhr/oBaf8A+A6/4Vt0UWQe0n3Zif8ACG+Gv+gFp/8A4Dr/AIUf8Ib4a/6AWn/+A6/4Vt0UWQe0n3Zif8Ib4a/6AWn/APgOv+FH/CG+Gv8AoBaf/wCA6/4Vt0UWQe0n3Zht4S8PQjdDotijEhSVgUEgnBHToQSPxpf+EN8Nf9ALT/8AwHX/AArWn/1Y/wB9f/QhWH4k1O9i1HSdH0qZba51OVwblkD+THGm5iqngseAM5AznBp2QvaT7sm/4Q3w1/0AtP8A/Adf8KP+EN8Nf9ALT/8AwHX/AArHvtYv/CuuQWWp313qtjqFvK0MotN9xDKgBIIgQZUhuu3II5OKxPAOraje6x4dS7v7qdJvD8s0iyzMwdxcAByCeWxxk84oSTf9ef8AkDqTSvd/1b/M7P8A4Q3w1/0AtP8A/Adf8KP+EN8Nf9ALT/8AwHX/AAqDxJq9zp2veG7a3n8uO+vminXYDvQROcZI4+YL0xTNG1e7vPHfiTTZrgPbWK2pgi2qPL3oS3IGTkjvSST/AK9P8xupNdX/AFoWv+EN8Nf9ALT/APwHX/Cj/hDfDX/QC0//AMB1/wAKo+Aru5vNN1Vru4lnaPV7qNDK5YqgfAUZ6AdhXU0WVkw9pO7V2Yn/AAhvhr/oBaf/AOA6/wCFH/CG+Gv+gFp//gOv+FbdFFkHtJ92Yn/CG+Gv+gFp/wD4Dr/hR/whvhr/AKAWn/8AgOv+FbdFFkHtJ92Yn/CG+Gv+gFp//gOv+FH/AAhvhr/oBaf/AOA6/wCFbdFFkHtJ92Yn/CG+Gv8AoBaf/wCA6/4Uf8Ib4a/6AWn/APgOv+FbdFFkHtJ92Yn/AAhvhr/oBaf/AOA6/wCFH/CG+Gv+gFp//gOv+FbdFFkHtJ92Yn/CG+Gv+gFp/wD4Dr/hR/whvhr/AKAWn/8AgOv+FbdFFkHtJ92YZ8JeHg4hGi2IjYFmTyFwSMAHGOo3H8zS/wDCG+Gv+gFp/wD4Dr/hWs3/AB9J/uN/Nalp2QvaT7sxP+EN8Nf9ALT/APwHX/Cj/hDfDX/QC0//AMB1/wAK26KVkP2k+7MT/hDfDX/QC0//AMB1/wAKP+EN8Nf9ALT/APwHX/CtuiiyD2k+7MT/AIQ3w1/0AtP/APAdf8KP+EN8Nf8AQC0//wAB1/wrboosg9pPuzE/4Q3w1/0AtP8A/Adf8KP+EN8Nf9ALT/8AwHX/AArboosg9pPuzE/4Q3w1/wBALT//AAHX/Cj/AIQ3w1/0AtP/APAdf8Kz9c8T+IrDU54dH8G3OqWluAZLr7ZHDu+UMdiEEvgHHHcEVK/jvTF8DweJkjuJILkKsNsqZlkkZtojA/vbsj8KNLXD2k72uy3/AMIb4a/6AWn/APgOv+FH/CG+Gv8AoBaf/wCA6/4Vkab431P+3LTTfFPhifQ/t5KWk5ukuEkcDOxio+ViBwDXU6jf2+l6bc396/l29tE0srYzhVGTQ7JXYKpNuybM3/hDfDX/AEAtP/8AAdf8KP8AhDfDX/QC0/8A8B1/wrnrf4jX63Flcaz4Vu9M0a/lWK31CS5RiN/3DJGOYwfc8VqeIfF11pusR6NoGiTa5qjQ/aJIEnWBIos4DNI3AJI4HeiwvaT/AJvxPn34rWVtp/xN1W1sYI7eCPydkcShVXMKE4A9yTRVT4hapNrPj3Ur26sJdOndo0ktZWDNGyRqhGR1GVyD3GKKZLvfU4iiiigRr+E/+R00T/sIQf8Aoxa+1a+KvCf/ACOmif8AYQg/9GLX2rQAUUUUAFFFFABRRRQAUUUUAFch8Uv+Sc6h/wBdLf8A9HpXX1j+KdB/4SXw5caV9p+zec0beb5e/G11fpkdduOvejqvVfmBj/EFgv8AwjIk/wBW2v2of0/ix+uKX4hf6jw9s/1v9vWnl+udxz/47mtrxJ4ftfE+hT6ZfNJGkmGWWI4eJ1OVZT6gisTSPBOoRaza6j4o8ST69JYA/Yo2tkgSJiMFyFJ3tjjJ9TRHf53/AC/yB/pb8/8AMPh8wb/hJieZP7fug/r/AA4/TFQeEL610yDxde3s6W9jBrdw5lc4VRtTd/49n8al1TwPqDa9d6p4X8Sz6E+oBftsS2yTpKwGAwDEbGx3FLqPw/WXwRb+HdH1N7ERXCXDXU0QuGlcNvJYEgElsHnjjGKS0S9Evy1/Ab3+d/z/AMws4b3xfr9hrV5ayafpGnFpbGCcYmupGUr5rr/AoBO1epzk44Fc7qfifRPFGtXlxfa1p1vpmjpKllbTXaK91dbSDKUJztXJC+pJPpXR6d4c8Z22pW82oePPttrHIGltv7Hhj81e67gcjPqK0LvwN4YubeZF8PaTHJKjASiwiJUkfe6de9KS92y8/v7/ANfogi9dTM+Gd9aXfw90KO1uYZ3t4VjmWOQMYm2n5WA6H2NS+I/COsan4lh1vQPEn9jXEdobUg2KXG5S+4/eOBzjt2q/4X8M2nhPQrHTbVYWePAmuI4BEZ2Ckb2Azk/Umq+v+HvEGoan9q0DxbNoyNGEktzZpcISM/Mu4jaeecdcCtKjTldEQVo2Yzwfr2oXUOq2PiWS2+36NP5U9zD8sciFA6vz904PI7YqlNJP8Qbq0W0he38OWtylw11KMNfshyqxr1EeRkseuAB61YXwCkPgjU9DtdTn+16pua71KdfMkldsbiRkcYGAM8D171bbwl43tlhjT4hDyYgqiMaHABtHbrxxS+0r+X3j6aef3FvxH4R1jU/EsOt6B4k/sa4jtDakGxS43KX3H7xwOcdu1ZccereNvCPiLwtrc1smr2MqwG6gB8uQ4WSNyO2cDI//AFVt6/4e8Qahqf2rQPFs2jI0YSS3NmlwhIz8y7iNp55x1wKm0TwlFofh+8sbe/upLy+LyXOouw855WGN/tjsO2O9Svha/q9/+HK6p/1scD451LxtfeBriw1jQbLTIwYo5Lr7Ys32p/MUKsUY5UlsH5ugz3r0PxXrbeHfCd1fxqHuVQR28Z/5aTMQqD3+Yj8M1j2PgXUZtWtL3xd4nuNeWxkEtrbfZUt4lkHR2VSd5HYnpW3r+gHXp9KL3XkwWF6l48Qj3ecUB2jORjBOe/Sm9Vbu/wDIS0d10Oa8R6W/hj4J6lZQuXuFs2NxKDkyyOf3rE+5Zqz75/GXhPw7D4gGrWUmmWccZk0RbQKscHA2rN95mAxycDOfpXo1/Y2+p6fcWN7GJbe4jaORD/EpGCK4iH4bajJHb6bq3i681DQLZ1MemtbIjMqkFEeUHLqMDjA6DpTv71/T+v6/AOi+f6F3wzKsvxI8YMc78WW3cMEJ5JI/Umn+H/8Akp3i7y/ueXZbsf3/AC2/XG2pPEHg261DXE1vw9rkuhan5P2eWVLdZ0mjByAyNgZHY1o+GfDcXhyxmQ3Ut7eXUpnu7yb708hGM46AAAAAdBSX9f1/WoeX9f1+htUUUUAFFFFABRRRQBEv/H0/+4v82rmdc1271W4uvD3hWPzrzHlXd+3+osAw5yf45MHhB364rph/x8v/ALi/zauCsfAXi3Skmi0vx99mhlnknKf2NE53OxYkszEnk96T1dnsNaK63OnGl32ieDodM8K/ZTdWkKRW5v8Ad5ZxgEts55Geneua8Nzanb/EOVPGsMQ1q7sitlNZvm1MCNl0VSAwbJBJbOe2MYO1e+H/ABBdaFY28Piya21S2YmS/SzTbPnPDQ529MflTdA8IXGnaw2s69rU+uar5XkRzSRLDHDGSCQka8Akjk//AF819pt+f9Im3upIg8ff6/wt/wBh+3/9BeuvrH1/Qf7ck0pvtPkf2fqEd7/q93mbAw29RjO7rz06VsUlt8/0Q3v8v1ZyHw9/1HiL/sP3n/oQqTXNdu9VuLrw94Vj868x5V3ft/qLAMOcn+OTB4Qd+uK0/D2g/wBgx6iv2nz/ALdqE17ny9uzzCDt6nOMdeM+lcrY+AvFulJNFpfj77NDLPJOU/saJzudixJZmJPJ70rXST7L8kPZtrv+rLOteEr/AEyx8OXPhKOO6uvDoaOO1uH2faY2QK43dAxwDk8VkNd+JNW+KHhaTXdLt9IWNbpks0uVuJQvlYZ2dRgKSVAA966+70PXrjw1a2cfiiSDVoH3tqSWaYl68NFnbjB6Z6gGovDfhB9H1K41fV9Vn1rWLiMQtdzII1jjBzsRBwgzycd6reTv5k/ZsjnNLt/Gvg7TpPD+m6LY31hE8htdWmvVjSCNmLZljPzNtyc4rX+FEcsXwy0oTHJbzXUhcZUysQce4INM1TwRrer3d1Bd+M70aJcyMz6fFbIr7GOTH533tvJGMdOK6+0tYLGzhtLSNYoII1jjjXoqgYA/KkttfIct9CaiiigAooooAKKKKAIoP9Wf99v/AEI1LUUH+rP++3/oRqWm9wCiiikAUUUUAFFFFABRRRQAUUUUAFFFFABXE6zezeOo7jQNBUjS2fydQ1Y/cKg/NFD/AH2PQt90c9TXX3sEl1p9xBDN5EksTIku3OwkYDYyM461wmm+BPGOkabBYad8QRBa26BIoxokJ2j6lsn6ml11H00O+SNYbdYoxtRF2qPQAVyPw0/5JRpn/XGX/wBGPXWW0csdlFFcz+fMsYWSbYF8xscttHAyecVleHtC/wCEa8HwaR9o+0/ZYnHm7Nm7JZumTjr61S3fy/UnoR+MPDlx4m0u2t7LUv7NuLa7juo5/IE2GTOPlJAPJB59KyNE1DxHovjGHw94n1K31iK+t5J7S9jtxBIGQjcrovGMHgit7xHpOpataQro2tzaNdQybxNHCsqsMEFWRuGHP51neHfB0+maxJrOva1PrmrNF5KTyRLEkMeclUjXgEnqe/55UdH/AF2HLb+u5kXXhLxZot3q2p+GvFNusdzcyXp06509djsR90y5LdABkY6dqiTXF8Q+JPh7qjx+Ut5Bdy+XnIWTygMA/wDfWPart/4H8RX81xbP46vU0i4kYvaLaR+aEY5KCfO7HOBx04rS1nwRZaj4esNMsJpdMk0tkewuYOWgZRgHB+8COoPWhaJfL/L/AIb0B6v7yt4l/wCSieDfL/1nmXecddnk8/hnbR43kbU7rS/CkDY/taUtdkHBW1j+aQe27hfxNT+H/CN1p+sPrPiHW5dc1PyvIimeBYEhjJyQsa8ZJAyfar6aAR41l8QS3XmZsls4bfy8CIb9zHdnnJx27Udr/wBf1pf5h3t/X9X/AANX91bQfwxRRr9FVQP0GK5TwIraqt/4quV/e6vKRbg/8s7VCVjX2zyx/wB6ug1zT5dW0G+063uvskl1A0InCb/L3DBOMjPB9ak0uwj0rSbTT4P9XawpChx1CqB/Shbtv+u/9eYdEl/X9foW6KKKACiiigAooooAKKKKACopf9ZD/v8A/spqWopf9ZD/AL//ALKaaAyNb0uO7u4L7U7iaXTrHEwsIYGfzJVOVdguWfHGEA6jPPGOR8S2+l6hoet2+iR6zbT6tH88MmkXotzLuBMm0QkqxAwSOvcE816VRSHezucZ4Vmt7zx54ivLadiZLezRrea2mglj2q4yyyIvB7Yz07VLfpY6N4gXUNcuLjV9Tut8WnWUMG4xR/xiOMe2N0jHpxkDirelaVe23j/xBqU0O20vILVIJNwO8orhuM5GMjqKfreg3dxrllrmj3EMV/ZxPCYrlSYp43IJUkcqcgEMM+4NHUSVrr0/JHP3Qt9L8PatYz6TrmjaXfwSRb5lhuLex3IQWVIpGZF5yR90f7PNdTFpCTeEINJi1CdE+yJCt7Zv5cmAoAdDzgnGe9UdQg8VavYy2EkOk6ZFcI0ctxHcyXThSCDtQxxjPuSR7GtJtKmtvDK6Vot61jJDbrBb3LRiUxbQAGKnhulHR/13Dqv67HNeO5LfS28IveXYSC31aIPcXMgHAicbmY4H1Nbg8a+FSQB4m0ck9AL+L/4qti3SSO2iSeXzpVQB5Nu3eccnA6Z9Kkp9/X/L/IXb0OI0fSre/wDiJ4puJpLtXhuLUoIL2aJT+4U/MqMFb/gQNdNqOm3V7Mr22t3+nKq4MdskDKx9T5kTnP0OKoaJpl3aeLPEl7cRbLe9mga3fcDvCwhW4ByMEY5xVi50a/nuZJYvEuqWyO2RDFFalU9huhJx9SaXRLyX5DK1zoWoJaSs3i3WCFRicw2fp/171X+GiGP4a6GG6m1DfgSSP51am8N31xBJDN4s1ho5FKMPKsxkEYP/ACwqTQ/Dj6Dp6WNvrOoT20UAggjmWD9yAMAgrECSP9rI9QaF1+X6g+n9djbrkviQvmeGrWLPzSapZquBnnz1rR/sDUv+ht1j/v1Z/wDyPVPUPBkuqpAl/wCJ9YmW3nS4iBjtBtkQ5VuIOcHseKOqfmvzDo15P8ix46uZ7PwDrdxaTSQTxWUjRyxMVZCF4II5Bqvp/hHTpbew1Ezaib+KHdDcy6hNOYXdMMyrKzJnBPVSPatqDTANNkstTuZNWjlyHN7HEdyn+EqiKpH4d6px+DfDEMqyReHNISRGDK62MQKkdCDt4NC0b+X6g9vvPNb6CS2k16Ka6lu3XxPp+Zpggd+I+uxVX8gK7zxpbSo2j61DBJcDSL0TzRRKWcxMrI5VR1I3BsegNY2s+D9VeXU5rZIrj7drlneoiSYKRR7AxbdgZG0nAJr0GhfCvl+Cj/kD+J/P8XI4bxDqdl4xm0nSfDtzHqGL+G7u57dg6W0UbbjvYcBiQAFPPX0q0n/Japf+wAv/AKUGuvrnF0q9HxPk1Yw/6C2jrbCXcP8AWCYttxnPQ5zjFEdGvn+Vgeqfy/O5W8MqJvGvi27kH75bqC2XP8Mawqw/Al2NM8A/6zxP/wBh64/klWUtbjR/H091HBLLY61EiyPGhbyJ4gQC2OishAz0BXnqKyj4G8S2upajNonjY6da392901uNKjkKs3X52bPQD/ChdPS3z0/yuD/W/wCD/wCGLWtbG+LHhkWwBuUtbtrnA5EOFC7vbf09806X/ioPibHF96z8Ow+a/o11KCFH/AY8n6vVrSfDlr4Rs7/U997q+pyxl7i6mzLPPtGQigDgdgoHp1xT/BGl3Gm+HFm1JSupajK19eAjBWWTnb/wEbV/4DQvy/W/9eoP8/6/4HoUPAextU8VvKQb7+2ZFlJOW8sKvlD6ben41FZa34utPHVjo/iJNFNpfRzyQtYCXzAI8Y3Fzj+IdAaua94Ka/1g61oGr3GhauyBJbiFBIk6joJI24Yjsf58YZovg3ULbX4da8R+JLjWr22jeK3H2aO3jjV/vfIucngc5oj0v0VvwsEutur/AFOZ8WaHdJ48j0awmEOm+LiGvlBwVMOGkK+hdMKfxrrPHlrCnw11eGNVhjt7MvEFGBGYxuTHpgqMVd1Pw9/aPijRdY+0+X/ZXn/ufLz5vmKF654xj0OaqeM7a41iyt9AtoJSmoygXVwEOyGBSGfLdNzAbQOp3E9jS15eVb/1b7vwHdc3M/6/4f8AEpzzG4+IXhaZhhpNMunI9z5RqLxBaQ+PtVfQEkLaTYbjqE0fQ3BUhIge5XO9vQhRVvU1CfE/w6qgBVsLwADsMxV00FvDbIUtoY4lLFysahQWJyTx3JOabs0u2v5smN4/h+SOKuNXlufh14g0rVSE1jTdNmiukJ/1g8tgsy+quOfY5Hatjw5pUw8LwR3Wq3l7Hc2UaiOdYgIgU/h2Ip79yelWvE2lnUPDmrR2dtHJf3GnzW8TYUM25Thdx6DJ7nFXNIgktdEsbeddssVvGjrnOCFAI4o+Lmv1t+o9rW6X/Q5Hw34l0/wz4Ug0fXJfs2p6XH9mNmR+9udvCtCvWQMMY255OO1Y+raXdaR8Cp4dRj8q6muEuZYs58syXSvt+oDAfWvUq5zx9pV7rXgu8sNMh8+5keEom4LkLKjHkkDoDTu3K77r8xW0stjavzeraN/ZiW73BIC/aHZUHqTgEnHpxn1HWqGm6AlvLcXeqSjUdQuk8ueaSMBRH/zzROdqe2ST1JJq3qNjcXyIttql3pxUklrVYmL+x8xH/TFUP7A1L/obdY/79Wf/AMj0hi2Gl6ho1zHbadNDPpHQW9wWElqvojjO9fRWwR/exgUapYyWY1bWIL69aVrFlS1aXMMbKpIZUxwx7nNC6DqIYE+LNYYA9DFZ4P8A5Aq4lnff21cXE+oCXT5IVjSwNuo8tu7b+pyOMHilJOSsOLs7nmXh+y8aWfw3sNW0TWrKytbWyE8elvZiRZlA3Mzyn5gzHccADGQM96tahf6n4n8aeF7nRTHZS3OiyXUMtwnmC1MhTewXgO235R0HOelaLfDPUEt5dJsfF15a+HJmbdpiW6F1Rjlo1mJ3BeTxjp61ta94Mi1K201tHvZNGv8ASRtsbuFA/lpgKUZTwykAcH0+uabu+b+tnf8ANE2srf10M3RdT8R6P4ouvD3iS/i1ktYNfWl7HbiFsK21kdF46kYI/rxW0jw3/wAJD8D7fS4JhFPf2ouPNbkecX8zLf8AAutbnhvwlPpOpXOra3rE2tatcRCA3MkSxLHEDnYiLwozyfU1D4b066sNJ1HwvJ9ptVtjILK+iQ4MMhJQq2Mb0JII6/KD0NLpbr/lf/gfcUt7+f8AX6/ecZ451LxtfeBriw1jQbLTIwYo5Lr7Ys32p/MUKsUY5UlsH5ugz3rY17xFo+u+KU0HUdYsLLStKdZNQFzdJGbuYcrCAxGUUgMx6EgDsa07HwLqM2rWl74u8T3GvLYyCW1tvsqW8SyDo7KpO8jsT0rcuPCPhu7uZLi78P6VPNKxaSWSyjZnJ6kkrkmn5/P+v67C8v6/r/g+RzXwm1GxuvDd3b215bzTJf3MjRRyqzKjSnaxAOcHse9aXw6IXwtJaocxWd/dW8R/2FmbaPwHH4VDpHhy3+H3hq+k0yxXUL6SR3T7LZhJJN75SM4ydqkgZJwBk8Vs+FdFbw/4ZtNPldZJ0UvPIo4eViWc/wDfRNJbfJL+vT9Qf6t/n/maF/ewabp1xe3b7ILeJpZG9FUZP8qwPAVlPHoD6pqCbb/WZmvpweqB/uJ/wFAo/Om+NLS51r+zdAhgma0v7kNfzKh2JBH85Ut0BYhVHOetdQBgYHAoXV/L+v66A+i/r+t/vFrkE/5LVL/2AF/9KDXX1jjQceNX8QfafvaeLLyPL6YkL7t2ffGMfjQviT9fyYP4WvT80VPFPildGRNP0yMX2u3Y22dipySf77/3UHUk46VzvivQh4e+Ct/YGYz3GFkuLgjmWZ5lZ3/MnGe2K9A+zw/aftHkx+fs2ebtG7bnO3PXGecVj+M9FufEXhG90uyeKOe4CBWmJCjDq3JAJ6D0oGt0YfhK2ltPiP4oinvZ75xbWR864WMMflk4+RVX9K7mub0jSb218e6/qM8O20u4LRIJN4O8orhuM5GMjqK6SmT1+78kFFFFIYUUUUAFFFFABRRRQAUUUUAFFFFAEU/+rH++v/oQrN13Q/7XFpPb3TWV9Yy+dbXKoH2Egqysp+8pBII49iMVpT/6sf76/wDoQqQjKkUpX5dAOC0zW9P1C4/tq7vb7VpjA8FrJZ6BeJbxqT8xUbXyxKgFtx+6AAOc53gSyWz8S6NbSXBFzZaHLbvDLZ3MDP8Av1bevmxKCoyB1zk9K3PC2m+KvDPhmz0gado90LVWHnf2nKm7LFvu/Zzjr61cs9L1u48bQ61qtvp9rDDYSWojtrt52ZmdGz80SAD5T61Sspaf1o/8wez/AK6r/IwPF9jf+JPE01xpbNEfC8Kz27SHbHLdEq5QnuPLUAnt5lZ/he+ubTX4vGupq1vYeKZWt2Vz/wAe2CBbFvZgrDPTLL616fe2VvqNhPZXsYlt7iMxyoSRuUjBHHNH2O2NolqbeI28YUJEUBVduNuB04wMemKUfd/rvv8ApbsEtf6+7/M5f4c/8gvWP+w3ef8AoyuvrnPBelXuk2GpR6hD5Lz6pc3EY3ht0bvlTwT1HbrXR0fZXovyDq/V/mFFFFABRRRQAUUUUAFFFFABRRRQAUUUUARN/wAfSf7jfzWpaib/AI+k/wBxv5rUtMAooopAFFFFABRRRQAUUUUAcv4qHjcyEeEf7H+zeT8/2suJ9+TnZwU6YxuHXOa5220hfEPwx0yPwojWt7ot6s0cF824/aInbejsODkljkccjp229U8LeJrnVLmXS/G9zp9lcNuNqbGOYx5GCEkY5UenpV+HwoumeDzoeg6hc2Eg+dL44ll8zduLtnhsnORxkHHFJbf1cb3t/VjiPEeo+LNX1LwzHrOh22iRLrVuVi+1rcyzsMksu0YVVXdnPPIrqPim234a6mTwuYQ/+75yZ/TNO0XwXdW2uR614m16fXtQt0ZLVngWCK3DcMVjXjcRwT6VZsbO78Q6TrVv4kST7He3MsFvbPGEaO3HyA9AcsQWBOeCKfSy9fy0F9q/y/NlX4n7f+FZatjH+rj8v/e8xdv64qPww274keLxJ/rVFkBnrt8k/wBc1Xsfh5fiayg13xTdatpOnyLJbWD26R/Mn3PMkBzIB6H0H0q/4g8HXWoa6mt+Htcl0PU/J8iaVbdZ0mjzkBkbjIPQ0ba/1/X6C6W/r+ux4N8Yf+Ssazj/AKY/+iI6Kz/iJpkuj+PtSsri+mv5kMbyXMwAaRmjV2OBwBljgdhgUUlsM57/AISa+/54aX/4KbX/AON0f8JNff8APDS//BTa/wDxusiimB1fhjxDez+LtHieHTQsl9CpKaZbIwBkA4YRgg+4ORX2N9ih/wCmn/f1v8a+JfCf/I6aJ/2EIP8A0YtfcNAEH2KH/pp/39b/ABo+xQ/9NP8Av63+NT0U7sCD7FD/ANNP+/rf40fYof8App/39b/Gp6KLsCD7FD/00/7+t/jR9ih/6af9/W/xqeii7Ag+xQ/9NP8Av63+NH2KH/pp/wB/W/xqeii7Ag+xQ/8ATT/v63+NH2KH/pp/39b/ABqeuR8WfEKx8MNNBHZXeoXcHlmZIYmEcIcgKXkI2jOeAMn2ou72A6f7FD/00/7+t/jR9ih/6af9/W/xqn4h1608NaHcapqAkaKHACRLueRiQFVR3JJArntK8d6k2vWemeKfC8+gnUciyma6SdJGAzsbaBsYjoDz2oTbdgeiudb9ih/6af8Af1v8aPsUP/TT/v63+Nczrfi7W7XVLi08O+ELvWktMC4uDcpboCQDtTcCZCAecd+Kt2vi5dT8FjXtG026vZT8gsFAWUSh9hRs8Lg9T2AzSvpcLa2Nv7FD/wBNP+/rf40fYof+mn/f1v8AGuW0XxrqU/iO30TxR4am0K7vI3ktG+1pcxzbBlhuXGCBzj/61JrHjfUYdcutK8LeGp9emsFU3rrcpbpCWGQoLA72xzgUXCx0stpEJIAN/LkH94391vepfsUP/TT/AL+t/jWXoHiG18UaPY6nZpJEHlZJIZRh4XUMGRh2II/lVXxD4m1XTtRXT/D3hq51y6EYllInW3hjUkgAyPwW4PyjtTbaEtTe+xQ/9NP+/rf40fYof+mn/f1v8aw9B8YLrfh++vf7MuoL7TmeO600gNMsiru2L03ZGMHvmsq18eaxb6xYWnirwjPotvqMwt7a6F7HcKZDyquFGVz/AJ6GjW9g6XOx+xQ/9NP+/rf40fYof+mn/f1v8awvEWv6/p1/Ha+HvCk2t/uxJLMbyO2jTJIChnzubjJA6Aj1qbw54stdf8Pz6nJBNYGzkkivIJx81u8f3wcdcdaV9Ljsa/2KH/pp/wB/W/xo+xQ/9NP+/rf41zmg+O7XxF4nl0qxsLyKFbP7XHdXMZiEy79oKIw3bTzycdOnek8R+MbzTdci0Tw9oM2u6m0H2mSJbhYEhjzgFnbIBJBwKd3p5hodJ9ih/wCmn/f1v8aPsUP/AE0/7+t/jWJ4c8YQa3pt/Ne2c2l3WluY7+1n+YwkLuyCPvKRyCOtV9B8d2viLxPLpVjYXkUK2f2uO6uYzEJl37QURhu2nnk46dO9Gt7C0tc6P7FD/wBNP+/rf40fYof+mn/f1v8AGub1/wAZXtlrh0Xw3oE2valHEs9wi3CW8cCMSF3O3G444HpV3wp4oTxNZ3Hm2U2nX9lN5F5ZTnLQvjI5H3gQcg96E2wehr/Yof8App/39b/Gj7FD/wBNP+/rf41PRRdjIPsUP/TT/v63+NH2KH/pp/39b/Gp6KLsCD7FD/00/wC/rf40fYof+mn/AH9b/Gp6KLsCmtpF9rkX58BFP+sb1b3qX7FD/wBNP+/rf40q/wDH7J/1zT+bVx2qeO9btZ7qbS/BV9qGlWbsk16bhImbacM0cRG5xwcHjNJsErnYfYof+mn/AH9b/Gj7FD/00/7+t/jWNfeJpn8M2ereGdJm1xr7YbeCORYuGUtud24QDGOe+BVbw14wutW1q50XXdDm0PVYIRcCB51nSSInG5XXg88Ef/Xp63sLS1zovsUP/TT/AL+t/jR9ih/6af8Af1v8a5jUviFY2fiC00m0sru8kmv0sZrgRMkEEjfw7yPmYAZwufqK0/FPiWLwzpsUxtZr26uphb2lpB9+eU5wuew4JJ7ClfS47a2NT7FD/wBNP+/rf40fYof+mn/f1v8AGua8PeM7y/19tD8SaBLoOpNCbiCNrlJ0nQHB2uuBkZ5HpWfd/EPVHvL8+HvCN3q+madM0NzepdJHlk++I4yMyY9qLhY7X7FD/wBNP+/rf40fYof+mn/f1v8AGucvPFmq3WiaZqvg3w62vW9/GZG3XsdqYRxgEODk9Rx021R0nxv4iuvGFpoOs+Dv7Ma4hedpRqkc/lxrxuKqvQtheSOvsaet7C0tc7H7FD/00/7+t/jR9ih/6af9/W/xqeii7GQfYof+mn/f1v8AGj7FD/00/wC/rf41PRRdgQfYof8App/39b/Gj7FD/wBNP+/rf41PRRdgQfYof+mn/f1v8aPsUP8A00/7+t/jU9FF2BTt7SJoyTv++4/1jf3j71L9ih/6af8Af1v8aW2/1Lf9dH/9CNTUNu4iD7FD/wBNP+/rf40fYof+mn/f1v8AGp6KLsZB9ih/6af9/W/xo+xQ/wDTT/v63+NT0UXYEH2KH/pp/wB/W/xo+xQ/9NP+/rf41PRRdgQfYof+mn/f1v8AGj7FD/00/wC/rf41PRRdgQfYof8App/39b/Gj7FD/wBNP+/rf41PRRdgQfYof+mn/f1v8aPsUP8A00/7+t/jU9FF2BB9ih/6af8Af1v8aPsUP/TT/v63+NT0UXYEH2KH/pp/39b/ABqK5tIltJmG/IRiMyMe31rN8SeIb3R2t7bR9Dudav7kMyQROsSIq4yzyNwvUY9ap6B4sk16PVNP1TSptG1axjzPZyyCQbGB2urjhgcHkUJ3YnodH9ih/wCmn/f1v8aPsUP/AE0/7+t/jU9cr4f8dW/iLxlrWh2dt+60oKPtfmZEzZIYBccAEEZyc4ou27D2Vzo/sUP/AE0/7+t/jR9ih/6af9/W/wAa5TVfHV8NeudI8JeHJvEFxZY+2SLdJbxQseQm9sgt6jt+eNTUde1O38OWl9p/hy7vb+6KqNPMixGIkEne54UDGM9yR60r6XC2tjX+xQ/9NP8Av63+NH2KH/pp/wB/W/xrnfDXjC61bWrnRdd0ObQ9VghFwIHnWdJIicbldeDzwR/9eqGs+OfEGkTXlyfBF5Notm7CW++2RrIUU4Z1hPzFeMjnkc8UXsFrnY/Yof8App/39b/Gj7FD/wBNP+/rf41h674ytdI8PWOpWltNqMmpNHHYWsPDzs67lHPQY5J7VV0Hxpe3uvjQ/Evh6fQdRlhae3U3CXEcyKfmw68bhnp6U9b2Fpa5032KH/pp/wB/W/xo+xQ/9NP+/rf41PRRdjIPsUP/AE0/7+t/jR9ih/6af9/W/wAanoouwIPsUP8A00/7+t/jR9ih/wCmn/f1v8anoouwIPsUP/TT/v63+NH2KH/pp/39b/Gp6KLsCD7FD/00/wC/rf41FLaRCSADfy5B/eN/db3q5UM3+ut/+uh/9Bai7EJ9ih/6af8Af1v8aPsUP/TT/v63+NNv7Wa8tTFb31xYOSD51usZce37xWX9Ky/+Ef1L/ob9a/782X/yPSuxmt9ih/6af9/W/wAaPsUP/TT/AL+t/jXPeBNSv9QsdXTVL172Sy1a4tI5pERWMaEBc7FUZ98UnxE8RTeGvCMl5ZTNHeNNGkIjjEjMNwZwFIOf3aufbFF9vO34hbVr+tDovsUP/TT/AL+t/jR9ih/6af8Af1v8azrjXZPs8E+laRe6tbXEIlS4s5LcJg8j/WSoenPAI5rN+Gd5c3/w40m6vp5ri4kRy8szl3b94w5J5PFPXXy/r9BaHR/Yof8App/39b/Gj7FD/wBNP+/rf41l+I9auNHuNFS2SJhf6lHaS+YCdqMjklcEc/KOufpVzXpHh8OalLC7RyJaSsrqcFSEOCD2NS5Wi5dilG8lHuWPsUP/AE0/7+t/jR9ih/6af9/W/wAa4XwnqV9c614VS4vbiVJ/DHnzK8rMJJN0Xztk8tyeTzya3NT1HUdR8Wr4f0m7+wRwWou7y7SNXkAZiqRoGBUE7WJJB4HTnNW7p29fwv8A5EqzV/T8bf5m99ih/wCmn/f1v8aPsUP/AE0/7+t/jXP6Vql/YeLpfDesXRvvMtftlleNGqO6Btro4UBSykgggDIPTimeA7y5vIdfN3cSzmLXLuKPzXLbEDDCjPQDsOlJNv7r/jYNv68rnR/Yof8App/39b/Gj7FD/wBNP+/rf41keEtdudestQmvEiRrbUbi0QRAgFI3wCck8+tYd74kv9R8D+NZyy202ly3dtby2xZGARAVbOc7ueoxUuVlfyv+X+ZSjd287f19x2f2KH/pp/39b/Gj7FD/ANNP+/rf41BocjzeHtOkldnke1iZmY5LEoMkmqsGv/afGN1odvbb0s7VJri58z/Vu5OyPbjklQWznjj1q5XUuUhNOPMaP2KH/pp/39b/ABo+xQ/9NP8Av63+NYGq6xd23xF0DSorgJa3lvdPNFtU72QKVOSMjGT0NHjG7uLW68NC2nlhE2tRRSiNyvmIY5CVbHUcDg+lJNu3n/nYrv5f5XN/7FD/ANNP+/rf40fYof8App/39b/Gs7xTrb+H/Ds99BCs9xuSK3iY4DyuwRAT6ZYZ9qxNan1/wlo41271l9VitirX9o9tGieWWAZoSqhlK5zhmbIBHXmlcLHWfYof+mn/AH9b/Gj7FD/00/7+t/jXNa3fXCfEbwlBb3Mq2tzFeNLGkhCS4jUqWHQ4zkZ6V0GpRanLEg0i7tLWQH52urVpwR6ALImPrk07u1/63sGjJfsUP/TT/v63+NH2KH/pp/39b/GuG/4STxL/AMJ7/wAI3/aejbfIz9s/sqXb5+N3kY+0fe8sb+vTtXZ6bFqkUbjV7y0unJGw2to0AUe4aR8/pRfS4utib7FD/wBNP+/rf40fYof+mn/f1v8AGmanqVro+mzX+oymK2gXdI4QsQM46KCTyewrG8L+ME8UahqlvFpt3Yrp7RD/AEtdkkm9SwOzqowARk5Oegou2M3PsUP/AE0/7+t/jR9ih/6af9/W/wAa5XWPG+ow65daV4W8NT69NYKpvXW5S3SEsMhQWB3tjnAqzF4/0p/AreKHjuEgQ+W9rszMs27Z5W3+9u4/HNK+lwtrY3H0ixkuo7l4A1xEpWOUsS6A4yAc5AOBn6VL9ih/6af9/W/xrktK8d6k2vWemeKfC8+gnUciyma6SdJGAzsbaBsYjoDz2rtKeotCD7FD/wBNP+/rf40fYof+mn/f1v8AGp6KLsZB9ih/6af9/W/xo+xQ/wDTT/v63+NT0UXYEH2KH/pp/wB/W/xo+xQ/9NP+/rf41PRRdgQfYof+mn/f1v8AGj7FD/00/wC/rf41PRRdgQfYof8App/39b/Gj7FD/wBNP+/rf41PRRdgQfYof+mn/f1v8aPsUP8A00/7+t/jU9FF2BB9ih/6af8Af1v8aPsUP/TT/v63+NT0UXYEH2KH/pp/39b/ABo+xQ/9NP8Av63+NT0UXYEH2KH/AKaf9/W/xo+xQ/8ATT/v63+NT0UXYEH2KH/pp/39b/Gj7FD/ANNP+/rf41PRRdgQfYof+mn/AH9b/Gj7FD/00/7+t/jU9FF2BB9ih/6af9/W/wAaPsUP/TT/AL+t/jU9FF2BB9ih/wCmn/f1v8aPsUP/AE0/7+t/jU9FF2BB9ih/6af9/W/xo+xQ/wDTT/v63+NT0UXYEH2KH/pp/wB/W/xo+xQ/9NP+/rf41PRRdgQfYof+mn/f1v8AGj7FD/00/wC/rf41PRRdgQfYof8App/39b/Gj7FD/wBNP+/rf41PRRdgQfYof+mn/f1v8aPsUP8A00/7+t/jU9FF2BTuLSJYwRv++g/1jf3h71L9ih/6af8Af1v8aW5/1K/9dE/9CFZGv6/eaXqmk6dpthBeXGpPKqme6MCJsTcSSEcnI9qL6BY1vsUP/TT/AL+t/jR9ih/6af8Af1v8amQsUUyAK2PmCnIB+veuUbxpGvxMXw3vh+zG0yZtpyLrORDuztz5fzbcZo1vYXS50v2KH/pp/wB/W/xo+xQ/9NP+/rf41PXE+KNU1lPG9hpelzamIJNPluJItMW08wssiKCTcDbtwx4BzyKV3ew7aXOv+xQ/9NP+/rf40fYof+mn/f1v8a4z/ipf+pz/APKNXbwBhbxiQuW2jcZNu4nHfbxn6cU9REf2KH/pp/39b/Gj7FD/ANNP+/rf41yfhvVPFPiXS5NQi1DR7SP7VNCsTaZLIQI5GQEt9oXOcZ6Ck8eXGr6Z8Nr6abUU+3LLDtuLGN7bCmZBgDexHBIPzc5oTbt52/EfU637FD/00/7+t/jR9ih/6af9/W/xovryHTtPuL27bZBbRNLI2M4VRkn8hXO6Xf8AinxBp0Op2x03R7W5QSQQXVtJdSlDyrOVkjCkjnaN2M9aV2B0X2KH/pp/39b/ABo+xQ/9NP8Av63+NY2ka9ev4guNB1y1ihvooBcxTW7ExXMRbaWAPKENwVJPUcmugp67i8iD7FD/ANNP+/rf40fYof8App/39b/GsjxRqNvYpZxT6xqOmy3ErJCNOsxcSTEKSV2mKToATwB061z1lrWpweLrYJfeItR0YWk0l2b3RGjKSArsC7bdGYnLcDPSkndjasdx9ih/6af9/W/xo+xQ/wDTT/v63+Ncp4Q1iTVvGnizE141rFJaiCG6jkiMWYfmxHIAVyeegz1rsWYIpZiFUDJJPAFO7tcCH7FD/wBNP+/rf40fYof+mn/f1v8AGub8FeMk8VTatGzQg2t2wtgispmtukcvJO4EhvmHHFdHfyXkdozabbwXFwCNsdxOYUI75YI5H5UrtK4dSNrSL7XGvz4KMf8AWN6r71L9ih/6af8Af1v8ayvDOuHxJo+n6s1sLVriKXMIk37dsgX72Bnp6Ctyqd0JEH2KH/pp/wB/W/xo+xQ/9NP+/rf41PRSuxkH2KH/AKaf9/W/xo+xQ/8ATT/v63+NT0UXYEH2KH/pp/39b/Gj7FD/ANNP+/rf41PRRdgQfYof+mn/AH9b/Gj7FD/00/7+t/jU9FF2BB9ih/6af9/W/wAaPsUP/TT/AL+t/jXNa74o8Safqk8GjeC7nVbS3AMl19tjg3HaGPlowJfAOOO4IqV/Hulr4Ft/FEcVxJBchVgtkTM0krNtEYH97dkfhSvpcLa2Og+xQ/8ATT/v63+NH2KH/pp/39b/ABrktM8c6n/btnpvivwtPoP9oEpZzm7S4jkcDOxioGxiBwD1rqNX1W10PR7rU9QcpbWsZkkIGTgdgO5PQU27K4LV2RL9ih/6af8Af1v8aPsUP/TT/v63+NcTD8RdUt7i0m8Q+ELvSdIvZVjhv2ukkKFzhDJGozGDkdTxmtTxF4wutN1mPRfD2hza7qrQ/aJIEnWBIYskBmkbgEkcDvRdiVmfPXxkQR/FrWVXOB5HUk/8sI/Wis/4j6rNrXxB1O+u7CXTp3aNJbWVgzRMkaoRkdRlcg9wRRS3GcLRRRQBr+E/+R00T/sIQf8Aoxa+4a+HvCf/ACOmif8AYQg/9GLX3DQAUUUUAFFFFABRRRQAUUUUAFcd8Vv+Sb6h/wBdLf8A9Hx12NY/ivQP+En8N3Gk/afsvnNG3m+Xv27JFfpkdduOvejqvVfmBi/ERgv/AAjAkP7pvEFqH9P4sZ/HFO+In/Hv4d2f63+37Ty/XO45x/wHNbfiXw9aeKNBn0u+aSNJMMksRw8Tqcqyn1BFYWj+B9Ri1q11LxT4mn1+TTwfsUbWyQJCxGC7BSd7Y4BPqaI7/O/5f5BLb5W/P/M0Nd8Ty2t9/Y3h+0/tLW3Td5WcRWynpJM38K+gHzHsO9P0PQbrw34Qaw0+eK51LbLKZ7hSsctw5LFmC8hdx6DnFYMvgXxRDr2q6jonjcacmpXHnvD/AGTHMRgBVG52ycAAdh7VrDw94il8LvYXfi6Z9U87zY9Thso4ioGMIYwdrDrnPXNJbf1/X+f3D+15HO282vWnxB0ef4hw2bNIJLfS5tKc/Z45nXLB1cb9xVcA5Kj05zWv8O2D/wDCTknMv/CQXQfPXjbj9MU7SfBOoLrltq3ivxLca/cWOTZx/ZktoomIILlE+82DgE9PyxHqvgXUW1+71Xwt4nn0F9QC/bYltUnSVgMBlDEbGx3FPb8fzT/QW/4fqv1G+Bf+P3xFs/1X/CR3OzHTPljd/wCPZrb1/wATRaLJDZ21tLqOq3QJtrC3I3uB1ZieEQd2P69Kdomg2nhrSbHTLAyPHHIzNJK255XYMWdj3JJJrD1nwX4guvF11ruheLhpDXEEcBi/syO4wiZONzt3JJ4AofReVvuQLq/61ZreE9CutHtby51SaObVNTuDdXbRDEaMQAEXPO1QAMnk9a47V5vFFprGkXvxCh02XRbe+jZDozuBFOTtjeUSDcygt0Ujnk56V1Vh4e8RJouoWes+Lpb+4uVAt7uGxjtntiO4Cn5ucdfT3rNt/AWr3t7ayeMPF1xrlraSrPFZpZx2qNIpypfYSXAPOD3/AFa+JeVv69RP4X3dza8T/wDCW+XB/wAId/Y+7Def/afm+23Zs/HOfasv4bzRjTNSs7iGaHWLe+dtVWZ1ffO4Db1KgDaRjAAGAMe5ta94c8R32rm80DxhNo8ToqyWzWMdymR3Xeflz3q74X8MweGbCaNbme9u7qUz3d5cNl55CAMn0GBgAdB+dKPX+uv5f8Acuhkp/wAlum/7F5P/AEoNZetWup+IviVcReFdRXQrrSbRIr7UPKEzTCTLpF5R+UgYJ3HkE8V1q6Bjxu/iH7T97TxZfZ/L6YkL7t2ffGMfjWVr3gq7vNebXPDWvz6DqU0axXLrAs8c6r93dG3G4dAaXRfP83/n/Ww3u/l+hS+Hcc2lalr+harJ9q1eC4S6ub/cT9sWVfkbB+6QF27RwMDHWrKf8lum/wCxeT/0oNaPhXwovhxby4ub+bVNT1CQSXd9OoVpCBhVCjhVA6DtmrC6Bjxu/iH7T97TxZfZ/L6YkL7t2ffGMfjVfaT/AK2aJ6P+uqZzeqWHibw5411DXfDOkQ67a6tFEtxatdrbyRSRjaGDNwVI7dc1X+HratceOfF91rSW0dxI1oskdqdyRMI2/d7v4mVSoJ9a3/Efh/xBql+k+g+LJtEj8ry5oBZpOr8k7l3EbW5xkeg9Ku+GfDdp4W0n7FaSTTvJI01xc3D7pLiVvvOx7k/0pR0Q5amxRRRQAUUUUAFFFFAEK/8AH7J/1zT+bVzGu69d6tc3Xh3wnH515jyru/YfuLAMOcn+OTB4Qd8ZxXTr/wAfsv8A1zT+bVwNj4A8X6THNFpXxA+zQzTyTlP7Fic7nYsxLMxJ5Pc0mruz2GtFdbnUDSr7Q/BsOl+E/shu7OGOG2OobvKOCAS+znkZPHeuZ8NTanbfEaZPG8MI1y8sitlPZPm1MCNl0VSA4bcwJLZz2xjB277w94iutBsbeHxdNbarasTJqCWUe24znhoc7emPypvh7wdcadrL614g1u413VfK8iOeSJYY4YyQSEjXgEkcnv8AnmvtNvz/AC6E291Jf1qV/iB/r/Cn/Yw23/oL0niVh/ws/wAFrIfkP20qD03+UMfjgmtrxBoH9uyaS32nyP7O1CO9x5e7zNgYbeoxnd156dKi8WeFovFGnwRi7msLy0mFxaXkPLQyDvjuOeR3pLRfP9EhvV/L/My/E/HxG8F7P9Z5l5nHXZ5HP4Z21ymnaF4k8V6bq+reE/EC+H9K1SeV4LAReb5xBKtIZM5iLkEkJnGa7Pw94Pu9P1l9Z8Ra5Lr2qeSYIZnt1gSGMnJCxrxkkDJ9qy3+HWq2MtxB4X8YXmjaTcuzvYrapL5ZYkt5chOUHPbpSt/X9f1cd/6+/wDzNnwJqVld+AdOntLZbC3t4TC8BfIhMZKMN3cZUnJ6jmqfgJW1Zb/xZdL+91iUi2B/5Z2sZKxL7Z5Y+u6tD/hE4LTwHJ4Y0W4axja1e3S4K72UsDucjIyxJJ7cmtbS9Pj0nR7PT4OYrSBIUOMZCqB/SrbvJv8Arz/rzJSskv68v68i1RRRUjCiiigAooooAKKKKAIbb/Ut/wBdH/8AQjU1Q23+pb/ro/8A6EampvcAooopAFFFFABRRRQAUUUUAFFFFABRRRQAUUUUAZWveIbPw9axyXQlnnnfy7a0t13y3D/3UX+ZPA7msnQ9G1BJ9W8Q68scWo6jCI1tY23LaQoDtj3fxNySx6ZPHApnijwhrGs+I7LWNE8SjRprO3eBAbBLj75yxG5sDIAHTPHWptH0XxLpgvJPEHiz+24Wt2VIf7Njt9jf3tynJ4yMe9OO9/6/p/8AACXYqeP/ABXHpSW2hWupWunajqgIF1czLGlpD0eXLEAt1Cjufoa5/wAF3fhvTvidfafomp2Mlp/Zdrb2vl3SP5zKWLAEH5m7nHPNehaj4d0XWJlm1fR7C/lRdqvdWqSso64BYHA5rF034e6NpXjK4120srGNXhjjgto7JEFu65y6sOhOccAdOtKOjV/60a/rzCWqdv61Rxvg3TPGWqeHru80HXbXRg9/dSsklms7XcvmtkuzfcHAXgE8E12Oh69rniX4dxalpUNjDrTZjK3e/wCz+Ykmxz8vzYO1iMeoFUbz4fapFqV9J4X8WXOh2GoSma6s0tUlG9vvtG5IMZPt3/AVoXHg25tPDenaT4S1240M6fwkwiWfzQeu9WwGJJJ+ppL4beg38V/NmP4am1O2+I0yeN4YRrl5ZFbKeyfNqYEbLoqkBw25gSWzntjGDN44h8c3EOoQ6bHpcuhSR7ZI4ZGS+eMr+8Cs4MYJ+bBx0x3rT8PeDrjTtZfWvEGt3Gu6r5XkRzyRLDHDGSCQka8Akjk9/wA85914H8TXck9tJ4+vl0mdm3Wy2UfnBCeVE/3hxxnFD1SX/Df1/wAEI6Nv/hzN1+8s9e8L+E9L8Kp5E+pMsml3ErFTYrCmWfjJZgvy7ehycmn6dYar4c+JenSeLNW/t+XVLeS1srzyRbm1ZRvZfKU7cMAPmHOVxXQax4Esb/Q9NsdMuJtJn0jH9nXductAQu3kH7wI6g9fWoNE8E31v4gh1vxR4hm1++tY2jtN1slvHAG4Zgi8biOM+n4Yu/vN+b/L+v60It7qXl/XyOvoooqSgooooAKKKKACiiigAqGb/XW//XQ/+gtU1Qzf663/AOuh/wDQWpoCjf2+vyXRbTNT023t8DEdxp0kzg9/mE6D9K55dU8WHxu/h7+0tF+XTxe/aP7Ll5zIU27ftHtnOfwrta5tdJvR8UpNXMP+gto62wl3r/rBMW24znoc5xikt18/yf6g9n8vzQ3wx4d1jQJbhbnV7K8trq6mu5UTT3iffIcnDecwAB7bT9e9Mv4rHQNWfxB4h1Ca9nkk+z6dbrET5O7/AJZxRrks7Y5brgdhmuprD8S6BLrJ0+7sLpbXUNMuPtFs8ke+NjtKlXXIOCCRkHI60dvu+X/DB3/rX/hzG02dPDxup7Xwz4gs9PuDvaAeRLDCSSWdIklZ1znJVV/DNW/DGhWv/Cs7TSNP1qea2kgYR6jYnyZCGYtuXrtIzj8KtPN4wlj8pLHRLZzx9o+2yzbffyvKXP03j60+w8Oz6R4MXRdI1Nre6SNgl+8KyFZGYsz7DweSeKHs/wCu/wDXT/IW/wDX9f19+P46lt9Kg8KPe3YSC21mASXN1KBwIpBudjgfU0zX5vAniOx1GSOTw7qup/YpTGytBPN8qEjB5bjr7V2lukkdrEk8vnSqgDy7Qu9scnA6Z64qDVbV77Rr20hKiS4t5IlLHgFlIGfbmpnflkvX8rfoVC3Mn6fmcB4N/wCQ74P/AOxT/wDZoa2b6aLwz8RJdX1I+TpuqWUcD3j8RwSxMxAduihlfgnjK470zQfDOpaTr3h9rhEeHT9ANjNPG4K+bui4AOGIIUnOK7StJPW68/xb/wAzOK0s/L8Ev1Rxmmyr4k+JH9t6d+80rT9Pa0ju1+5cyu4ZvLP8SqFALDjJx2p3w6/1HiP/ALGG8/8AQhXY1zfgvSb3SYdbGoQ+SbrWLm5h+dW3RuQVbgnGfQ81MdHbyf5plPVX81+TRxfhWbwoi60Nc8Q/2fdf2zd5h/t6W0+XzDg+Wsqj8cc03Szat8LviAdPn+02pu77ypvPM29fLXB3kkt9STmvWqx/F1jc6p4M1exsY/NubmzliiTcF3MVIAycAc+tRLSDXlb8v8i46zT87/n/AJhp19Bpngi0vrx9kFtp6SyN6KsYJ/lWX4Ggaz8Lza5rBWC61aR9Ru2kYARKw+RSewWMKPzqrr2m32o6H4d8Lm1m8m6MQ1KRVJSKGJQzIWHALMAo555rspreG4t3guIklhkUq8bqGVh6EHgitZ/FJr+v60+4yj8MU/6/rX7zzu406/8AE90/jbTY3aaxkRtEgb5PtECZ8wnPTzQzYz2CHvVnxVqVv4k03wpdaVeSwLPrcQEsar5kDCOTKlXBAYHggg13wAVQFAAAwAO1c34l0OW6udDbSrSPbb6yl5dFNqfLscM56bjkj1NSrXS6XX5q5T1TfWz/ACdiHxbod9ceCzFBPcare2VxFexmYIJJjHIH2YRVXJAIHHpWZ4s8RWHizwnNofh2Zb3UtVVYPsy/ftQSN7zL1jCjP3sc4Fd9RR5dB3tqtzi9bjEPxM8FRA5CQ3ygnviJK6LVY9YuDHBpE1raRuD5t1IDJJH7JHjaT7scD+61Zus6Te3fj7w1qVvDvtLFLsXEm9RsLooXgnJyQegNaF/pN7eXRlt/EOpWCEACG3jtig9/3kLN+tG6V/P82JK2iIk8KaWmh/2YYnZPM88zs584zZz52/r5med34dOKn0qLWLdpINVntryFAPJukBjlf2dMbc/7SkA/3RVT/hH9S/6G/Wv+/Nl/8j1YsdIvbS7Wa48RalfIAcwXEdsEbjuUhVuPrTAn0jS/7JtZIPt17e75nl8y9m8x13HO0HAwo7DtXOeGP+SkeNf+ull/6Iro9ItNQs7WSPVdS/tKVpndJfIWLYhPypheuBxnqaq6XoH9m+JNb1b7T5n9qtC3leXjyvLj2dc8569Bikt/l/kBi/Dtg/8Awk5JzL/wkF0Hz1424/TFcfIwWdwT/oreP1H+z90Z/wDH/wBa67VfAuotr93qvhbxPPoL6gF+2xLapOkrAYDKGI2NjuKuSeANJfwMfDG+4EGfM+078zedu3+bu/vbuf06Uo6WfZJfc1/kN63Xdv8AFP8AzK/xE/49/Duz/W/2/aeX653HOP8AgOa7CuN0fwPqMWtWupeKfE0+vyaeD9ija2SBIWIwXYKTvbHAJ9TXZU9lbzv+X+Qt3fy/z/zCiiigAooooAKKKKACiiigAooooAKKKKACiiigAooooAKKKKACiiigAooooAKKKKACiiigAooooAKKKKACiiigAooooAKKKKAIbn/Ur/10T/0IVzXiT/kfvB//AF2uv/RBrpbn/Ur/ANdE/wDQhXL+LWe28V+F9QNreTW1rLcGd7W0knMe6IqMrGrHknHSgO5u6rY6hfhYbTVDp9uwIlaGEGY/7jsSq/8AfJPoRVf/AIRLRP7COkNZK1qz+aSzsZDLnPm+Zndvzzvzn3p95pd5fz/aLbxBqdhG6jEEEVvtHHX95CzA+xNQf8I/qX/Q361/35sv/kejYPMt6Vp+oae0kV1qrahbYHk+fCBMns0ikBh6fKD6k1ynii/sVv7TUNa8LeIopzILC3ubTUI4SxkYYT91cqcEgfe/HFdRY6Re2l2s1x4i1K+QA5guI7YI3HcpCrcfWqHjXSb3V7PSU0+Hzmt9WtbmUb1XbGj5ZuSM4HYc0dV/X9aBsmc7qE1lpTWgv9A8ZxG8uFtoP+J+zb5GyQvF6cdDyeK7XR7qae18ubSr/TlhCogvpo5WkGOu5JHJ6cljk571meMNJvdVm8Pmwh80WesQ3M/zquyNQ4LckZ6jgc10lC2+f+X/AAQe/wDXmedfD3xT4f0zwzLa6lrum2dwuoXZaG4vI43GZ3IyCc1P8RNZ0vWfhnqj6RqVpfpHLbB2tZ1lCnz04O0nFd9XN/EDSb3XPBN5YaXD591I8JSPeq5Cyox5YgdATQuny/QHu36m7fWcOo6fcWV2u+C5iaKRc4yrDBH5GuKlvvEHgLTdM01orLW7SS5i0+znluHtpl3cIJAEcNgDBYYzj7tdfqVjcXyItrqt5ppUklrVIWL+x8yNx+WKw9R8Ey6sLYah4p1qUWtwlzD8lou2RfutxAM4z0PFC3+4HsWdH0G+TX7jXtduYZb+WAW0UNspEVtEG3FQTyxJwSxA6AYFdBWGugakGBPi3WWAPQxWeD/5L1uUdA6nOeLdLnuJNN1a1vPs0ukzPMoNhJeeZvQx48uNlY/ezxWanifUhNGZL2Roww8xV8H6iGYdwDu4Pvg/Su1ooB6nG+EJre88aeLL61nLC4ktd0EttNBLDthx86yIuM9RjPFa2peH5tbneLVtRdtMJ4sLZPJEox92V8lnHsNoPQg1X0LSb2y8beKL+5h2Wt+9sbaTep8wJFtbgHIweOcVYfQdRZ2ZfFusICchVis8D25t80dvRfkBJqXhmxv2tpod+n3lmnl2t3Z4R4V/uAYKlf8AZYFfar1hFewWQj1K6iu51zmWODygw7ZXc3PqRgewrM/4R/Uv+hv1r/vzZf8AyPU6K+g2M0+o6nqeqqSMbrRZXTt8qW8QJ688HGO1J7MOpifDP/kRdH/65XH/AKONdjXJ/Du2uLTwZpEN5bzW0yxTlopoyjrmbIypwRwR1rrKuW4kFFFFSMKKKKACiiigAooooA5bxYPHJlI8H/2N9lMPz/azILjzMnOw4KdMY3DrnNc5a6OviL4XaXF4SRrS90S9WaOC/cMftMLt5iSMvBySxyOOR07bmqeFPFF1qlzNpXjm50+yuG3G1NhHMY8jBCSMcqPT0q/B4TXTPBp0Lw/qNzp8o+dL84ll8zduLtnhsnORxkEjiktv6vcb3t/VjhvEmo+LtY1LwxHrWhWuhxLrduUi+2Lcy3DDJLLtGFVV3ZzzyK7/AMZaA3ijwhf6RFMIZbhB5UjDhXVgy59sqM1maH4Ju7bXo9b8T6/Pr+o26NHas8CwRW4YYYrGvG4jgn0q7pK6vqun6ydSuLizFzczRWIEYSS2hA2K44BJJBcE54Ipv4bfP8vxEviT9F+bPPvHep+Ob/wHc2Gs+H7LS4w0Ucl39tWY3b+YoVYo15UlsH5s4Ge9df4XOfiX4yWQ5lUWIH+75J/TOaZY+A9Sn1azvvGHim419bCQS2tt9lS2iWQdHZVJ3sOxPSrXiLwZd6jrya54d16bQtU8n7PNKtus6TR5yAyNgZB6Gne39en+X3CsfP3xm/5K5rWP+mH/AKIjorP+JOly6N8QtTsbi+m1CZDG8t1MAGld4kdjgcAZY4HYYFFStEM5v/hJr7/nhpf/AIKbX/43R/wk19/zw0v/AMFNr/8AG6yKKYHV+GPEN7P4u0eJ4dNCyX0KkpplsjAGQDhhGCD7g5FfX3l/7cv/AH9b/Gvi3wn/AMjpon/YQg/9GLX2rQAzy/8Abl/7+t/jR5f+3L/39b/Gn0U7sBnl/wC3L/39b/Gjy/8Abl/7+t/jT6KLsBnl/wC3L/39b/Gjy/8Abl/7+t/jT6KLsBnl/wC3L/39b/Gjy/8Abl/7+t/jT6KLsBnl/wC3L/39b/Gjy/8Abl/7+t/jT6KLsBnl/wC3L/39b/Gjy/8Abl/7+t/jUGpala6Rps1/qEhitoF3O4QsQM46AEnk9hWN4Z8XJ4m1DVLeLTrqyWwMQ/0tdkkm9SwOzqowARnk56Ci7YHQeX/ty/8Af1v8aPL/ANuX/v63+NctrXizWrXU57Tw94SutZS1wLic3CW6AkA4TcCZCAecd+Kvaf4w0y+8IjxDI0ltaKD5yyRkvCwbayFQCchuOKV9LhbWxt+X/ty/9/W/xo8v/bl/7+t/jXP+GfFyeJtQ1S3i066slsDEP9LXZJJvUsDs6qMAEZ5OegqDxB4ym07Wk0XQNGm13VjF50kEUyxJCnYvI3Ck9h3/ABGW20CVzo5E/eRfPJ9//no390+9SeX/ALcv/f1v8aztJv7vUtOtbjUtNk0y6MjLLayOH2EBhww4YHqCKyPEvizVdK8QWmj6D4e/tq6uLZ7ll+2rb+WisFz8wIPJHehtppCWup1Hl/7cv/f1v8aPL/25f+/rf41l6JqepXeky3XiPSF0OWNmzE12k42AA7y64A78e1c/p3j3VdZuorjSPCN5caFJMIxqTXCIzLnG9YT8zL3znpn0o1vYOlztPL/25f8Av63+NHl/7cv/AH9b/GuZ8Q+L7vTtbj0Xw/oU2uam0H2iSJbhYEijzgFnbgEkHAqXQ/F41nSNRnfS7u21DTCyXWmkBpA4XcFQjhtw6HjNK+lx21sdD5f+3L/39b/Gjy/9uX/v63+NcZa+OtXt9XsbXxR4Tn0a31CYW9tdC9juFMh5VXCj5c/56Grms6/4tsdWlt9H8Ff2paLt8u7/ALVih35AJ+RhkYOR+FO7A6fy/wDbl/7+t/jR5f8Aty/9/W/xrl/CXi6/15tW/tnRF0ZdMkEUjm9WdS4GXG4AAbRjPJ6+1U9O8e6rrN1FcaR4RvLjQpJhGNSa4RGZc43rCfmZe+c9M+lGt7C6XO08v/bl/wC/rf40eX/ty/8Af1v8a5/xDr2vadfR2vh/wrNrX7sSSSm7jto0ySAoLZ3NxkgdAR61Z8LeJIvE+ktdpbTWc0Mz29zbTfehlX7yn1+tCdxvQ1/L/wBuX/v63+NHl/7cv/f1v8afRRdgM8v/AG5f+/rf40eX/ty/9/W/xp9FF2Azy/8Abl/7+t/jR5f+3L/39b/Gn0UXYEAT/SX+eT7i/wDLRvU+9SeX/ty/9/W/xpq/8fT/AO4v82rjtT8c6zbT3U2meDb6/wBLtHZZrw3CRM204Zo4iNzjg4PGaGwSudn5f+3L/wB/W/xo8v8A25f+/rf41h3viWZvDVnqvhvSptba+2GCGORYuGUtudm4QDGOe+BVbw34uutV1i40bXNEm0XVIIRcCB51mSSInG5XXg88Ef8A16Nb2Fpa50vl/wC3L/39b/Gjy/8Abl/7+t/jXLaj8QLG01+10m0s7u7ea+SxmuBEUhgkb+HeR8zYGcLn6itLxP4ki8NadFMbaa9urmYW9paQffnlOcLnsOCSewpX0uO2tjX8v/bl/wC/rf40eX/ty/8Af1v8a5fQPGN5f682ieItCl0LUmhM8EbXKTpOgODtdcDIz09Kqax4317SZry5Pgq7l0azdhLffbI1copwzrCfmK8ZHPI54ovYLXOz8v8A25f+/rf40eX/ALcv/f1v8axtT1+5i0C11Dw/pM2tSXmwwQRyLECrLuDM7cKMDr6kCqfhvxddarrFxo2uaJNouqQQi4EDzrMkkRONyuvB54I/+vT1vYWlrnS+X/ty/wDf1v8AGjy/9uX/AL+t/jXGan451m2nuptM8G31/pdo7LNeG4SJm2nDNHERuccHB4zXWaZqNtq+lW2o2L77e6iWWNsYyCM8jsaE21cb0dify/8Abl/7+t/jR5f+3L/39b/Gn0UXYDPL/wBuX/v63+NHl/7cv/f1v8afRRdgM8v/AG5f+/rf40eX/ty/9/W/xp9FF2BBCmYz88n326SN/ePvUnl/7cv/AH9b/Gmwf6s/77f+hGpaG3cQzy/9uX/v63+NHl/7cv8A39b/ABp9FF2MZ5f+3L/39b/Gjy/9uX/v63+NPoouwGeX/ty/9/W/xo8v/bl/7+t/jT6KLsBnl/7cv/f1v8aPL/25f+/rf40+ii7AZ5f+3L/39b/Gjy/9uX/v63+NPoouwGeX/ty/9/W/xo8v/bl/7+t/jT6wvEev3mkNb22kaJc6zf3AZkhicRIqrjJeRuF68etK4WNry/8Abl/7+t/jR5f+3L/39b/Gue8M+LX1qa+stW0yXRtTsNrXFpNIJAEbO11ccMvB5rCf4nXYtjrEXhS9k8Mq+DqvnoGKZwZBD97bnvnpTvqFjvvL/wBuX/v63+NRzpi2k+eQ/IesjHt9awfEPi86ZcWVjommya3qd9GZoLaGVY18sYy7SHhV54PemaB4sl1t9Q03VdKm0fVrOPfLaSyCQFGBw6OOGGRjjvQrtidrHS+X/ty/9/W/xo8v/bl/7+t/jT65bQPG9v4h8X6zolnbfu9LCj7V5mRK2SGAXHABBGcnOKE23YeyudN5f+3L/wB/W/xo8v8A25f+/rf41z/jjxhb+CfDjanPB9qkLiOG3D7DKx5PODgAAnOO1O17xZHoeg2d6LKa8ur944rWyhI3SyOMhcnoAAcmlcLG95f+3L/39b/Gjy/9uX/v63+NctoXjK9vNeGieI9Am0PUJYWnt1NwtxHMin5sOvG4Z6VZ8ceMLfwT4cbU54PtUhcRw24fYZWPJ5wcAAE5x2obsrsEruyOg8v/AG5f+/rf40eX/ty/9/W/xrA1zxYmjaTYTR2M19f6kVS0sYWG6Ryu4gseAoHVu1VtB8Y3t9rh0XxFoE2h6i8Jnt0a4WeOdB97a6gDIyMim7ptC0tc6jy/9uX/AL+t/jR5f+3L/wB/W/xrh7jxh43tYJZ5/h4qQxKXeRtdgACjkk8eldJ4W1m48QeGbLVbuwbT3uk8wW7SeYVUk7TnA6jB6d6NWN6Gp5f+3L/39b/Gjy/9uX/v63+NPoouwGeX/ty/9/W/xo8v/bl/7+t/jT6KLsBnl/7cv/f1v8aPL/25f+/rf40+ii7AZ5f+3L/39b/Go5E/eRfPJ9//AJ6N/dPvU9RS/wCsh/3/AP2U0XYh3l/7cv8A39b/ABo8v/bl/wC/rf40+uVbxlGvxJXw5vh+zG1yZdpyLnORFuztz5fzbcZou72H0udP5f8Aty/9/W/xo8v/AG5f+/rf40+uSttV8Q6v4n1ywsLvTLS30yaKNPPsZJnfdGGySJkHU+lK7vYLHVeX/ty/9/W/xo8v/bl/7+t/jXPa22sWPgjXZr7ULeS4jsZnhlsrZ7cxkRsc8yOc55BBGK1tFkeXw/p8krM7vaxszMcliUGST6077+Vvxv8A5B2/rt/mW/L/ANuX/v63+NHl/wC3L/39b/GuM8N2Uvi7Rf7b1XUdSimu5JPJhtL2SBLVVdlVQqMAx+XJLbsn24rK1PxDqk3wp1eV7yRb7TdR+w/bYGMbTBLhF3/L0JU4OOOv0o1vb+ui/UHoekeX/ty/9/W/xo8v/bl/7+t/jT65TXPE/iKw1OeHR/BtzqlpbgGS6+2Rw7vlDHYhBL4Bxx3BFLmsFjqPL/25f+/rf40eX/ty/wDf1v8AGue/4TjS/wDhBU8VbZ/sciArEEzKzltojA7tu4/+tVDS/HGotrtnpvifwzPoR1DIs5mukmSRgM7G2gbGI6A809b2Fpa52Hl/7cv/AH9b/Gjy/wDbl/7+t/jXLa14s1q11Oe08PeErrWUtcC4nNwlugJAOE3AmQgHnHfipk8daWfA58TOk6wL8jW2z98Jd2zytv8Ae3cfrSvpcdtbHR+X/ty/9/W/xo8v/bl/7+t/jXH6X441Ftds9N8T+GZ9COoZFnM10kySMBnY20DYxHQHmtjRtZuNR13XbKdIlj065jiiKAgsGiVzuyeuWPTFPUWhseX/ALcv/f1v8aPL/wBuX/v63+Nc7qmr3dt8QtB0uK4CWt5b3LzRbV+coFKnJGRjJ6UeL7q4trrw4LaeWETazFHKI3K70KSEqcdRwOD6UJt28/8AOw+/l/lc6Ly/9uX/AL+t/jR5f+3L/wB/W/xrL8Ua0+geH576CFZ7jckVvExwHldgiAn0ywzWJrM+veFNIGuXWsPqkVuVa/tGt40TyyQGaIqoZSuc4ZmyAe/NK4WOv8v/AG5f+/rf40eX/ty/9/W/xrl9avp1+IfhSC3uZVtrmO8aSNHISXEalSw6HGeM9K39Ri1KWNBpN3a2rg/O1zatOCPQBZEx+Zp3drhoWfL/ANuX/v63+NHl/wC3L/39b/GuE/4SPxJ/wnX/AAjv9paPt8nP2v8AsuXb5+N3kY+0fe2Df16dq7HTotTijcatd2l05PyG1tWgCj3DSPn9KL6XF1sWvL/25f8Av63+NHl/7cv/AH9b/GqetaoNG0qW9NtcXbKQqW9sm6SRiQAoH1PXtXO6X421JtetdL8UeGZtCe+3CzlN0lwkrAZKkqPlbAyAaE23Yeyudd5f+3L/AN/W/wAaPL/25f8Av63+NctrXizWrXU57Tw94SutZS1wLic3CW6AkA4TcCZCAecd+KfJ44tW+Htx4qtLZ5FgiZntZW8t1dW2tGxwcEHjpSvpcLa2Om8v/bl/7+t/jR5f+3L/AN/W/wAa5fQ/EPivUdShi1bwX/ZdnICWujqkU2zjI+QDJycD2zXV09ULRjPL/wBuX/v63+NHl/7cv/f1v8apa9rEOgaBeapcjdHaxGTYDgueyj3JwPxqxYzTXGn2813b/Zp5IleSHfv8tiMlc4GcHjOKLsZL5f8Aty/9/W/xo8v/AG5f+/rf41geKfGdj4XidZba7vbsQNcC2tYSx8tc5dm+6qjHJJ+gNa2m3p1LRbS+VBC11bpMEJ3BCyg47Zxn2pXbV0HWxZ8v/bl/7+t/jR5f+3L/AN/W/wAa5LXtS8T6Da2sz6jo901xeQ2qQjTZYyxkcLw32g4wMnoelc/4q1bUbcfEH7Pf3UX2S3szb7JmXySy/MUwflz3x1p30v8A10/zGld2/rsem+X/ALcv/f1v8aPL/wBuX/v63+NERzChPJ2in0akrVXGeX/ty/8Af1v8aPL/ANuX/v63+NPoouxjPL/25f8Av63+NHl/7cv/AH9b/Gn0UXYDPL/25f8Av63+NHl/7cv/AH9b/Gn0UXYDPL/25f8Av63+NHl/7cv/AH9b/Gn0UXYDPL/25f8Av63+NHl/7cv/AH9b/Gn0UXYDPL/25f8Av63+NHl/7cv/AH9b/Gn0UXYDPL/25f8Av63+NHl/7cv/AH9b/Gn0UXYDPL/25f8Av63+NHl/7cv/AH9b/Gn0UXYDPL/25f8Av63+NHl/7cv/AH9b/Gn0UXYDPL/25f8Av63+NHl/7cv/AH9b/Gn0UXYDPL/25f8Av63+NHl/7cv/AH9b/Gn0UXYDPL/25f8Av63+NHl/7cv/AH9b/Gn0UXYDPL/25f8Av63+NHl/7cv/AH9b/Gn0UXYDPL/25f8Av63+NHl/7cv/AH9b/Gn0UXYEEyYjHzyffXrI394e9SeX/ty/9/W/xps/+rH++v8A6EKy/FGpTaPoj30N5BaCJlDNNZvc78naFVEdDuLEAc/40N2QW1Nby/8Abl/7+t/jR5f+3L/39b/GvOG1fxXo017q+rSz2tjP5ZkkudKEkNqAMZWOO9Z1Bzk/KffFbkF5e/8AC0Le0nvDLEdC810i3JC8nnAbwhY449yccZoV27f1tcWlr/1vY6vy/wDbl/7+t/jR5f8Aty/9/W/xrPv4Nckud2l6jp9tBtHyXNg8zZ7ncsyDHtj8ay9B1jVrjxRrWjavJZzf2fFbyRzWtu8O7zAxIIaR+m0d6TlZXHY6Ty/9uX/v63+NHl/7cv8A39b/ABrnvh7dXF78P9JuLyeS4nkhJeWVyzMdx6k8mrN1H4hW5cw61o8MTMTGk2mSMyrngFvtAyffA+lN3TsBseX/ALcv/f1v8aPL/wBuX/v63+NcOdf1XU/hPrmq3MkcNwkV2ttcWatFuSPcqyDLMVJKk9a6vR3lm8OWLmTdM9pGTJJlssUHJ5yefei71+X43/yD/g/gXfL/ANuX/v63+NHl/wC3L/39b/GuK8Wax4q8MaIb2O+0m+uWkWOC0TSpVaZieQP9IPRQzdO1bWlNrt5Ha3razpN1YzIso8jTJEaRCMjDGdgOvoaE7ieht+X/ALcv/f1v8aPL/wBuX/v63+NPoouxjPL/ANuX/v63+NHl/wC3L/39b/Gn0UXYDPL/ANuX/v63+NHl/wC3L/39b/Gn0UXYDPL/ANuX/v63+NHl/wC3L/39b/Gn0UXYEBT/AElPnk+43/LRvUe9SeX/ALcv/f1v8aa3/H0n+4381qWi7EM8v/bl/wC/rf40eX/ty/8Af1v8afRRdjGeX/ty/wDf1v8AGjy/9uX/AL+t/jT6KLsBnl/7cv8A39b/ABo8v/bl/wC/rf40+ii7AZ5f+3L/AN/W/wAaPL/25f8Av63+NPoouwGeX/ty/wDf1v8AGjy/9uX/AL+t/jXL654n8RWGpzw6P4NudUtLcAyXX2yOHd8oY7EIJfAOOO4IqV/HemL4Hg8TJHcSQXIVYbZUzLJIzbRGB/e3ZH4Ur6XC2tjo/L/25f8Av63+NHl/7cv/AH9b/GuQ03xvqf8AblppvinwxPof28lLSc3SXCSOBnYxUfKxA4BrqdRv7fS9Nub+9fy7e2iaWVsZwqjJobsrsFq7Im8v/bl/7+t/jR5f+3L/AN/W/wAa4a3+I1+txZXGs+FbvTNGv5Vit9QkuUYjf9wyRjmMH3PFaniHxddabrEejaBok2uao0P2iSBJ1gSKLOAzSNwCSOB3p3YaHgfxgGPivrAyT/qOSST/AKiP1orO+IWqTaz491K9urCXTp3aNJLWVgzRskaoRkdRlcg9xiiluBxFFFFAGv4T/wCR00T/ALCEH/oxa+1a+KvCf/I6aJ/2EIP/AEYtfatABRRRQAUUUUAFFFFABRRRQAUUUUAFch4a/wCSjeM/+uln/wCiK6+sfTNB/s7xHrWq/afM/tRoW8ry8eV5abOuec9egxQt/l+qAq654lktr7+x9AtP7R1p03eVnEVsp6PM38I9h8x7DvVrwvoQ8O6DFYNObmbc8s85XHmyuxZ2x2GSePSucl8D+Jodd1TUNF8a/wBnJqNx5zw/2THMRgBVG5mycAAdvpXT6BY6rp+mmHXNY/ti58wsLn7KsGF4wu1eOOefeiO39fcD3MTw1/yUbxn/ANdLP/0RXOaXYeJdX8V+LX0PV4dGK6lskuntRcSShY1CIFY4VQMnPOd1d1pmg/2d4j1rVftPmf2o0LeV5ePK8tNnXPOevQYrH1jwVqEuvXGr+FvEcug3F4ireKLVLiOcqMK21iNrY4z/APXyu3pb8v8AIfQm8Ga1qOq2M9trgibUdLv5LOeWAYjmKrkOB2yGHH8s4qPxH4R1jU/EsOt6B4k/sa4jtDakGxS43KX3H7xwOcdu1aXh7w7B4Z0yKzgmmuZJLh57i5nOXnlYEs7f57VU1/w94g1DU/tWgeLZtGRowklubNLhCRn5l3EbTzzjrgVUt1/XTUUev9dTltW8Qaxc/DPxfp+smFtV0pTbTT2oISZHVSGx2JVjkdqdfP4y8J+HYfEA1ayk0yzjjMmiLaBVjg4G1ZvvMwGOTgZz9K6zRvBlhpfh680u5kl1E6iXa/uLk5e5ZhhifQY6Dt+tYUPw21GSO303VvF15qGgWzqY9Na2RGZVIKI8oOXUYHGB0HSj7X3f8H+vyDp9/wDwP6/Mi1a31LxJ8RJl8K6gNDudMs40vL8xCZphJl0i8pvlIA53HkE8Vc+H0c2l6jr2h6m4udXguFubi/3E/a1kX5GwfukBdu0cDHHWrmueDLq71xta8N67NoWoyxrFcOkCzxzqv3d0bcZHQGnaX4KfTdJ1NTrV3NrGqENcasQFk3AYXao4Cr2X3NJaJ/11vp/X+YPV6+X5HOavN4ntNX0i8+IEOnS6Nb3qMh0d2AjnJ2xvKJBuZQW6KRzyc9K7Pxdrh8PeFrzUIlD3CqI7aM/8tJWO1F9+SPwzWHb+BdWvL21fxd4suNbtbSVZ4rRLOO2RpFOVL7SS4B5we/67uv6Aden0ovdeTBYXqXjxCPd5xQHaM5GME579KLXVvP8ADT8f+AF/ev8A11/A5rxHpb+GPgnqVlC5e4WzY3EoOTLI5/esT7lmrPvn8ZeE/DsPiAatZSaZZxxmTRFtAqxwcDas33mYDHJwM5+lejX9jb6np9xY3sYlt7iNo5EP8SkYIriIfhtqMkdvpureLrzUNAtnUx6a1siMyqQUR5QcuowOMDoOlO/vX9P6/r8A6L5/odB4jbxVJb2z+Dv7JBZWM39piUHoNu3Z365z7Vm/DqZBpuo2dxDNDq8F67aoJXV987gNvUqANpGMAAYAx7m1rnh3xDe6qbvQfF02kROiq9sbKO4TI7ruPy1d8M+GofDVjNGtzPe3V1KZ7u7uGy88hAGfYYGAB0H50l1/rr+X/AE9kjaooooGFFFFABRRRQBEv/H0/wDuL/Nq5nXNdu9VuLrw94Vj868x5V3ft/qLAMOcn+OTB4Qd+uK6Yf8AHy/+4v8ANq4Kx8BeLdKSaLS/H32aGWeScp/Y0Tnc7FiSzMSeT3pPV2ew1orrc6caXfaJ4Oh0zwr9lN1aQpFbm/3eWcYBLbOeRnp3rmvDc2p2/wAQ5U8awxDWruyK2U1m+bUwI2XRVIDBskEls57Yxg7V74f8QXWhWNvD4smttUtmJkv0s02z5zw0OdvTH5U3QPCFxp2sNrOva1Prmq+V5Ec0kSwxwxkgkJGvAJI5P/1819pt+f8ASJt7qSIPH3+v8Lf9h+3/APQXpPEjD/hZng1ZPuH7aVB6b/KGPxxmtjX9B/tyTSm+0+R/Z+oR3v8Aq93mbAw29RjO7rz06VF4q8MR+JrCCMXctjeWkwntLyHloZB3x3HqO9JaL5/okN6v5f5mb4l/5KJ4N8v/AFnmXecddnk8/hnbVTxtD43uIb+HTY9Ml0N49skcTsl88ZX94FZgYwT82DjpjvWl4f8ACN1p+sPrPiHW5dc1PyvIimeBYEhjJyQsa8ZJAyfaqF14J8SXck9tJ48vV0qdm3Wy2cfnBCeVE/3hxxnFJrS3/Df1/wAEaetzVsryW/8AANnc+B1tUZ7aP7Emob/LRRgbX2/NkAEcdxWD4bm1O3+IcqeNYYhrV3ZFbKazfNqYEbLoqkBg2SCS2c9sYwd3UfC90NDsNP8AC2szaD9gASJkhWZWQDG1lY4b1ye9RaB4QuNP1h9Z17Wp9c1XyvIjmkiWGOGMkEhI14BJHJ/+vm7++36/1/XmRa0Ehmua7d6rcXXh7wrH515jyru/b/UWAYc5P8cmDwg79cVu6NpcGiaJZ6ZabjDaQrEhbqQBjJ9zXF2PgLxbpSTRaX4++zQyzyTlP7Gic7nYsSWZiTye9drpNte2elQQapf/ANo3aAiS68lYvMOTzsXgcYH4VK2/r+tCnuXaKKKACiiigAooooAig/1Z/wB9v/QjUtRQf6s/77f+hGpab3AKKKKQBRRRQAUUUUAFFFFABRRRQAVla74gtNAtY5LkSTTzv5dtaQLuluH/ALqr/M9B3Natcl4n8JavrHiKy1fRfEf9jzWlu8Kg2KXH3jlj8zYGQAOnbrSGULnStSi8O+KvEWsBYdTv9OkRLaFtwtYkjfYm7+Jskknpk8cVfh+z/wDCm0+79n/sIZ9NvkVZ0LQvENnPP/wkfiga5bSxFBAdOjtwpJ65U5PGRj3rCT4Y3aW/9jnxVeHwzvz/AGV5C7imc+X5+d23PbHT86Grpx72+W/+YJ2al2/4H+RTstL8RWNn4Y8UaBZRapcrokNld2Es4hZ0wGDK54BB657UaLPrl/8AFe6u9ds7exkXQips4JRK1upl+UO44LHDHjjGK6/xBomrX8dp/wAI74gk0J7cFTttUnSRSBwUbjIxwfc+tReH/CsXhyzv5pbyfUtSvvnu764PzykDCgDoqgdB2rS9539fxv8A5kW9y3p+H/DFDx74qj0tLfQ7XUbbT9R1MEC6uZljS0h/ilySPm6hR3P0Nc94U1HwxovxD1K303VrAWEWk28UDrdIwkKby+CD8zdSceua9C1Hw/o2rzLLq2kWN9Ii7Ve5tkkZR1wCwPFYdl8OtDsvFV3qyafp/kz26Qx2YsUCwkZ3MD0ywODwPxqFo/v/ACaKeq/rujgPEfiDSPFHh/XtevNXsFk+xyWuj6cbtPNRCfmkZM5DvjpjIUAV03iO+g17QPDOlaBc282oXsqtZ38cwK2jQpl3yvVgDt29DnmtrXPhz4c1XQ7uxs9H0vT554yiXUWnx7oj/eGAD+op2p+ArC70SwtNNk/si601vMtLuxiVPLkIwx2Dghu47+tCsl934X/r8gf+f5L+vzOftoNQ8KfECyu/GWsrrQvrWWG1vmiFv9kKDzHBjU7cMo+8OflxXO+I/EGkeKPD+va9eavYLJ9jktdH043aeaiE/NIyZyHfHTGQoArvNL8DXP8AbC6p4u1yTxFcwxPDbpLapDDErjDny1yCSOCfSpNc+HPhzVdDu7Gz0fS9PnnjKJdRafHuiP8AeGAD+opSu428n+P9f1uOL96/oZupWl3rGm+G/Efg6Wz1K60cECDz12Tq8YWRA44DDA69KzTeeJNV+KPhaXXNLt9IES3TJZpcLcShfLwzs6jAUkqAB711134Ymi8N22meF9RXQJbd1dZrW0RkY4IbdGeDnOfrg1H4b8IPo+pXGr6vqs+taxcRiFruZBGscYOdiIOEGeTjvVtrnb9f6/4chL3EvKxW8byNqd1pfhSBsf2tKWuyDgrax/NIPbdwv4mutRFjjVI1CqoAVQMAD0rITQCPGsviCW68zNktnDb+XgRDfuY7s85OO3atmpW39f1sU9/6/r/hgooooAKKKKACiiigAqKX/WQ/7/8A7KalqKX/AFkP+/8A+ymmgKeqWN/fhYrTUzYQMCJWhhBmP+67Ehf++SfQiq//AAiei/2GdJNkrWrP5pLOxkMmc+Z5md2/PO7Ofepb7Sby7ujLb+INRsUIAENvHbFR7/PEzfrVf+wNS/6G3WP+/Vn/API9JAWtLsL/AE9niudUa/tsDyfPhAmT2ZwQGH/AQfUmuDt5fD0fxA8Wf8JBrX9myG5g8tf7Yks948lcnCyLu+vNd1Y6Te2l0ss/iDUr1ADmG4jtgjfXZErfrWpR1uHSxxGpah4efwJ4hs9B1uHUX/s64lZP7Ua8kUeWRnLOzAdPbn3rb8J6Xb6foFnJBJdu09rEWFxeSzAfL/CHYhevRcdvQVY8TWc+oeE9Ws7NPMuLiymiiTIG5mQgDJ4HJ71Y0iCS10Sxt512yxW8aOuc4IUAjihdfl+oPp8/0OZ1LRZ9OvrhdCg8RRW92TLMmlzWawl2PzYE7BkY9TswOc9ayPFDQWfw7l0l/Dur6RpqPCDcH7LNsPnKckC43MWbqeuSTWnrnhG5v/Gz6ydH0XWLZrFLZYNSlKmNw7MWH7mQdDjtSL4VKMGXwB4PVgcgi45B/wDASiL2/rZhLc6m/wBM+33VlN9tvLb7JN5vl20uxZuMbZBj5l9qxfFQ8bmQjwj/AGP9m8n5/tZcT78nOzgp0xjcOuc1sXtrqNzPYSWmoCySGXfdQiFZRcLj7m44K8/xAZrA1Twt4mudUuZdL8b3On2Vw242psY5jHkYISRjlR6elJroPzOYNzpz+C/B0GnwzW9vb+IILe4huGDOkqs+8Mw4J385GByOB0rp/iF/qPD2z/W/29aeX653HP8A47mrEngLSX8EnwyrXAt8+YLkyZm83du80t3bdz+lVtI8E6hFrNrqPijxJPr0lgD9ija2SBImIwXIUne2OMn1NVfX53/L/Inp8mvz/wAy9rniWS2vv7H0C0/tHWnTd5WcRWyno8zfwj2HzHsO9c1rWiL4b0Dwpp8twblm8QwSXU7LjzZHZ3LY7DeRgfSrkvgfxNDruqahovjX+zk1G4854f7JjmIwAqjczZOAAO30rTl8I3WreEJ9F8Va1Jqk0snmJexW6WzxEYKFVXIyCM575pLSz9H+N7DfVdNfy3IPiF/qPD2z/W/29aeX653HP/juad4cmjt/FHjKaeRYoo7yJnd2wqgW6Ekk9BTNI8E6hFrNrqPijxJPr0lgD9ija2SBImIwXIUne2OMn1NO8OwRXPifxlDcRJLFJeRK8cihlYG3TIIPUULS6Xn/AO2/5A9bfL9f8zHuNOv/ABNdP4005HaaxkQ6LA3yfaIFz5hOenmhmxnsEPerPijUbfxHpvhW60q8lhWfWogJY1XzIW8uTKlXBAYHggg13gAVQFAAAwAO1c54j0SW6uNEbS7SPbBrCXl0U2p8uxwznpk5I9TQrXS6XX5q4PVN9bP8nYh8V6Je3Hg0xQT3GqXlnPFeRmYIJJjHIH2YRVXJAIHHpWb4q8Q2HirwrLonh6ZbzUtUVYfsy/ftQSN7zL1jCjP3sc4Fd5RR5dA21W5xutRiH4k+DIgchIb1QT3xEldBqkerzlIdJmtrSNwfNupAZJE/3ExtJ9ycD+61Z2saVe3Xjzw3qMEO+1skuxcSbgNhdFC8E5OSD0zV++0m8u7oy2/iDUbFCABDbx2xUe/zxM360bpX8/zYJW0REnhbS10T+zDG7J5nnmdnPnGbOfO39d+ec/h04qfS4tXt2kg1We3u4kA8q6QGOR/Z0xtz/tKQD/dFVf7A1L/obdY/79Wf/wAj1YsdJvbS6WWfxBqV6gBzDcR2wRvrsiVv1pgNt4rXwvo91Nf6pcy2yO9xJcahPvMYJztBwPlHQD8KxLOG98X+INP1q7tZNP0jTi0tjBOMTXUjKV811/gUAnavU5yccCpNb8JavrvhhtMuvEf+kfbRcrdGxQhUVtyRmMMAcEDk9ccimad4c8Z22pW81/48+220cgaW2/seGPzV7ruByM+opR31/r/hge2n9f1/Vi9rniWS2vv7H0C0/tHWnTd5WcRWyno8zfwj2HzHsO9Un8Cl/hzP4Z/tErPdZee9MW7dI0m922ZHBORjPSqcvgfxNDruqahovjX+zk1G4854f7JjmIwAqjczZOAAO30rXXQNfk8Ly2F54rmk1MyiSLU4bNIigBBCmMHDDg5z1zSW39f1/mP7WhiwXXirwn4j0q08Qa1b67p2qTG1WT7ItvLBJtJXCrwVOMGu+rj9J8E36a9Bq/irxHPr1zZg/ZENslvFCSMFti5BbHf/AOtjrycAk9vQVTempPXQ5HxL/wAT3xho/h1fmt4D/ad8O21DiJT9X5/4BXX1y3gyzuZG1TX9Tt5be81a5LLFMhV4oI8pEpB6HGW/4FXU0tlb+v66fIfUxPGf/Iia7/2Drj/0W1P8PTxW3gnSpriRIoo9PhZ5HYKqgRjJJPQVa1nTv7X0G/03zfJ+2W0kHmbd2zcpXOMjOM9M0thpyWeh22mTFbiOG2S3YsnEgChTleeDjpQtn8v1B9Pn+hy2nTN448U2+sRoy6BpJY2LOuPts5BUygH+BBkKe5Oe1cj43tZZrr4hTR31xAkVtZF4I1jKTZX+IspYY/2SK9iREijWOJVRFAVVUYAA6ACuC8UeENVvLXxjLZLFcPrMFslrCsm1sxjDbt2FHtzR6FR3u/L8zvIv9Sn+6KfTYwViUHqAAadTe5nH4UFFFFIoKKKKACiiigAooooAKKKKACiiigAooooAKKKKACiiigAooooAKKKKACiiigAooooAKKKKAIp/9WP99f8A0IVmeJNNuNW0t7WN7D7M6n7RFe2L3QkA5GFWRCCCM9znGK05/wDVj/fX/wBCFNvI5ZrGeK3fy5XjZUfJG1iODkdOaUvhHHc8jtrS4uNSvLfUVv5LC3aI2n2rRNXuYZ+Mk+S0xA2sMAGuo0S5GofEqO5mvA91HozRPE+m3NmzDzgd6pKv3eg+8TntUVj4W8Q2+n28N7B9ruI41WW4/wCEv1BPNYDltojwMnnA6VraB4fubDXTqF3pcEUrQGE3J126vpAuQdoWVAAMjPWqWj/rtYnp/XcpyWx1f4o6lY3l5qC2sGmwSRw22oTwKrM7gnEbrkkAdfSuh0zw5pui3N3dWKTm4u1VZpbi7lnZwudozIzHjJp1/wCG9D1W5+0apo2n3s+0L5tzapI2B0GWBOOaZaeFfD+n3K3On6FptrcJnZNBZxo65GDhgMjg4qH8FvX9RvVnP/C+xuI/BOlXL6rdzQvbkLZukPlJ8x6ERh/zY9apa1pGg6xdTeHvC2h6UbmQ7b/UIrOLZYoevOOZSMgKOR1OMc9J4H0270fwTplhqMXk3UERWSPcG2ncT1BI71tW9tBaRmO1gjgQsWKxoFBJOScDuTWkrOQXZznirT7bSvhZq1hYxiK3ttLljjQdlEZArT0lp18JWJs445JxZReWkrlFJ2DqwBIH4GmeLLG41Pwdq9jYx+bc3FnLFEm4DcxUgDJ4H40+3066bw3Y2YvbjTriKCNXktxGzAhQCvzqy4/D8am7fM35fqGi5bef6EWn6JN/aQ1XW7hLzUFUpCI02w2qnqI1JJyehcnJ9hxTI9HvdHut3h6S3FjLJul0+4yqIScs0TgEp1J24IJ6becr/YGpf9DbrH/fqz/+R6P7A1L/AKG3WP8Av1Z//I9AG5RTIkaOFEeRpWVQDI4GWPqcADJ9gBT6ACiiigAooooAKKKKAIm/4+k/3G/mtS1E3/H0n+4381qWmAUUUUgCiiigAooooAKKKKAOX8VDxuZCPCP9j/ZvJ+f7WXE+/Jzs4KdMY3DrnNc7baQviH4Y6ZH4URrW90W9WaOC+bcftETtvR2HBySxyOOR07beqeFvE1zqlzLpfje50+yuG3G1NjHMY8jBCSMcqPT0q/D4UXTPB50PQdQubCQfOl8cSy+Zu3F2zw2TnI4yDjiktv6uN72/qxxHiPUfFmr6l4Zj1nQ7bRIl1q3Kxfa1uZZ2GSWXaMKqruznnkV1HxTbb8NdTJ4XMIf/AHfOTP6Zp2i+C7q21yPWvE2vT69qFujJas8CwRW4bhisa8biOCfSrNjZ3fiHSdat/EiSfY725lgt7Z4wjR24+QHoDliCwJzwRT6WXr+WgvtX+X5sq/E/b/wrLVsY/wBXH5f+95i7f1xUfhht3xI8XiT/AFqiyAz12+Sf65qvY/Dy/E1lBrvim61bSdPkWS2sHt0j+ZPueZIDmQD0PoPpV/xB4OutQ11Nb8Pa5Loep+T5E0q26zpNHnIDI3GQeho21/r+v0F0t/X9djwb4w/8lY1nH/TH/wBER0Vn/ETTJdH8falZXF9NfzIY3kuZgA0jNGrscDgDLHA7DAopLYZ13/CxtX/597L/AL4f/wCKo/4WNq//AD72X/fD/wDxVclRXnXZ937OPY7fTPHmqXurWdrLBaBJ50jYqjZALAHHze9eieWPevFNA/5GTTf+vuL/ANDFe3V6mApwqKXOrny+eV6mHnBUna6Yzyx70eWPen0V6X1aj/KfPf2hiv52M8se9Hlj3p9FH1aj/KH9oYr+djPLHvR5Y96fRR9Wo/yh/aGK/nYzyx70eWPen0UfVqP8of2hiv52M8se9Hlj3p9c9r/jC10RpIktri8uIinmLGhCRBiACzkYGc9Bk+1S6FBbxGsdi3tNm95Y96PLHvVLXdU/sXQrvUTF532dN/l79u72zg4rP0rWPEF5fRx6j4Y+wWzglrj7fHJt4yPlAzz0o9hQ5uXlH9exdr87N3yx70eWPesHX/GFrojSRJbXF5cRFPMWNCEiDEAFnIwM56DJ9q19Su5rHT5J7azkvZlwEgiIBckgdT0HOSewzR7Chq+UPruL0996k/lj3o8se9c/pnia9l1mLTNd0STSri4Rntz9oWZJNv3huXofak1DxRepq9xp+haHLqr2gX7TILhYVQkZCgt9447UvY0LX5R/XMZe3Ozo1iUqxyeBn9ab5Y96qaDrMGu6T9tt0kizlHilXDRurAFT9DVPXfEQ0ia3s7Szl1HUbrJhtYmC8DqzMeFX3NHsKCV+UPruLbtzs1/LHvR5Y96o6Nf31/au2qaW+mXCPtMTSrKCMZBDLwapal4ph0/xVpuhpB5015ku4fHkjBwcY5zg8cdKfsKCt7u4vr2Ld/feht+WPejyx71kazq+rWd2sGj6BLqfyB3kNykKLkkAAt1PHTtkUad4ntb3w/carPFJaLZmRbmGQfNEyfeX3pexoa6bD+u4z+dmv5Y96PLHvXKw+Nb1GtrjVfDtzY6ZdOqRXZnVyN33S6DlQavat4kubbVDpmiaRJq15HGJZlEywpEp6ZZuMn0o9jQtfl/MPrmMvbnf4G55Y96PLHvWboGurrdtMXtpLO6tpPKuLaXlo2xnr3BHQ1W1LxTDp/irTdDSDzprzJdw+PJGDg4xznB446U/YUNNFqL67i9ffeht+WPejyx71ha34h1DT9Yg03SdG/tSeWBp2H2pYdihgP4hjqfWtHR7vUL2zMmraZ/Zs4cgQ/aFmyuBzuXj149qFQoN6RB47FpXc2XPLHvR5Y96fRVfVqP8pP8AaGK/nYzyx70eWPen0UfVqP8AKH9oYr+djPLHvR5Y96fRR9Wo/wAof2hiv52IYl8sHJySR/Km+WPepT/qV/3j/SuVvvFepwSzy2Phm6u9Pt2KyXJmWNjtOGKRnlh796h0aEd4l/XcXJ6TZ0vlj3o8se9Zd1rcp0S2v9E0+XVGutphiRxHwRnLMeFHH54FQ6J4jn1DUp9M1XS5NL1CGMTeU0qyq8ZONwYcHmn7ChzcvKL69i7X52bXlj3o8se9cvdeMrzzrp9I0C41GwsnaO4ulmVPmX72xTy+Par13rt/Jp1le+HNH/teG6TeT9rSDyxgYzuzk8n6YqVSw7V1H8x/XMYnZzf3o2vLHvR5Y965rTvE+s3HiODSdS8OfYTLE0rSC+SXYg4yQo7nA69/ai+8V6nBLPLY+Gbq70+3YrJcmZY2O04YpGeWHv3o9lh7X5R/XMZe3O/vR0vlj3o8se9Y+oeKLW00S01C1ikvDfFVtIIhhpWYZA9vc9qi0fxLc3erNpes6TJpV6YvOiRpllWVAcHDDjI9Kr2FDm5eUn67i7X52bvlj3o8se9YN54wtbfWLfT7e2uLhpLtbWSYIViic9txHzHjoPzFdDQqFCSuoieOxa3mxnlj3o8se9Poqvq1H+UX9oYr+djPLHvR5Y96fRR9Wo/yh/aGK/nYzyx70eWPen0UfVqP8of2hiv52I0Sq2AT0B/Sm+WPepZPvD/dH8qbSWGo2+Ebx+Kv8bGeWPejyx70+in9Wo/yi/tDFfzsZ5Y96PLHvT6KPq1H+UP7QxX87GeWPejyx70+ij6tR/lD+0MV/Oxnlj3o8se9Poo+rUf5Q/tDFfzsZ5Y96PLHvT6KPq1H+UP7QxX87GeWPejyx70+s/VtattHjj89J5pZiRDBbxGR5COoAHA+pIFJ4ehFXcRrH4tuymy75Y96PLHvVHQ9XXWtBt9T8r7OkyltjNnaASOT+Fc+3ju4EB1JPD902hhsfb/NUNtzjf5XXbnv6VLo0FuiljMY9ps67yx705IlaRQScE4rF1vxGdNazt9Osn1O9vQWggikCgqACWLHgDkc07w94hk1TUJrDUNOl03ULba8lu7iQFWPDK44IodGhe3LqCxuL0fO7Gt5Y96PLHvWbrV/q1j5P9j6L/am/d5n+lpD5eMY+91zz+VZen+J9Zn8RQaVqXhv7C0sTStIL5JdiDjJCjucDr39qPY0L25fwYfXcXa/P+KOm8se9Hlj3rlZvEnim3hkll8GhIo1LM51aIAAck9Kuw+IdRuPC9nqdtoM0t3dn5LNZ1G1TkhmcgAAgA9O4FHsaH8v4MHjMYvt/ijd8se9Hlj3rF0TxHPqGpT6ZqulyaXqEMYm8ppVlV4ycbgw4PNUbjxjfNcXbaR4euNQsbORo5rpZ1TJX72xDy+Pak6WHSvYPrmMvbnZ1Hlj3o8se9ZreJNPXQbfVy0ptrkL5SpEzO7HooUZOe1Hh/XBr1nPcC1ltfJuHg8uY/PlcdQOh56c1f1ehe3KT9exdr87NLyx70eWPeuev/FV1/a0+n+H9Fl1ea1x9ocTrDHGT/Dubgt7VvWc73NlDNLA9u8iBmik+8h7g0o0KEtojeOxcd5sf5Y96PLHvT6Kr6tR/lJ/tDFfzsZ5Y96PLHvT6KPq1H+UP7QxX87GeWPejyx70+ij6tR/lD+0MV/Oxnlj3pyxKVY5PAz+tLTk+6/+7/UUnhqP8o1j8V/OyLyx70eWPesPU9X8RWuoSQ6d4X+32y42XH9oRxb+Bn5SMjByPwqHR/Fc95a6rcaxpf8AZkWmHbIwuRMCQMsAVA5Ax69cVHsqH8v5lfXMZa/P+KOi8se9Hlj3rloPGl2s1rLqnh+4sNNvJFjhvHnVuW+6XQcoD7muhvY9RkZP7OurWAAHeJ7Zpc/TEi4/WqVCi1dRE8di09ZsseWPejyx71xerazqknhXxA0lzEsljcpbxXFmjQkkFC38bEfex1rY0u5nk8a65BJNI0MUVsY42YlUJVs4HbOKlUaLa93f/K5TxmLSb53/AFb/ADNzyx70eWPen0Vp9Wo/ymf9oYr+djPLHvR5Y96fRR9Wo/yh/aGK/nYzyx70eWPen0UfVqP8of2hiv52M8se9Hlj3p9FH1aj/KH9oYr+djPLHvR5Y96fRR9Wo/yh/aGK/nYzyx70eWPen0UfVqP8of2hiv52M8se9Hlj3p9FH1aj/KH9oYr+djPLHvR5Y96fRR9Wo/yh/aGK/nYzyx70eWPen0UfVqP8of2hiv52M8se9Hlj3p9FH1aj/KH9oYr+djPLHvR5Y96fRR9Wo/yh/aGK/nYzyx70eWPen0UfVqP8of2hiv52M8se9Hlj3p9FH1aj/KH9oYr+djPLHvR5Y96fRR9Wo/yh/aGK/nYzyx70eWPen0UfVqP8of2hiv52M8se9Hlj3p9FH1aj/KH9oYr+djPLHvR5Y96fRR9Wo/yh/aGK/nYzyx70eWPen0UfVqP8of2hiv52M8se9Hlj3p9FH1aj/KH9oYr+djPLHvR5Y96fRR9Wo/yh/aGK/nYzyx70eWPen0UfVqP8of2hiv52M8se9Hlj3p9FH1aj/KH9oYr+djPLHvR5Y96fRR9Wo/yh/aGK/nYzyx70eWPen0UfVqP8of2hiv52M8se9Hlj3p9FH1aj/KH9oYr+djPLHvR5Y96fRR9Wo/yh/aGK/nYzyx70eWPen0UfVqP8of2hiv52M8se9Hlj3p9FH1aj/KH9oYr+djPLHvR5Y96fRR9Wo/yh/aGK/nYzyx70eWPen0UfVqP8of2hiv52IsSs2CT0J/Sm+WPepY/vH/dP8qw/EGp3tjdaXbaebdHvrkws88TSBBsLZADL6etS8PRT+Ht+JSx2Ka+N9TX8se9Hlj3rBvb3WtLvNNW5urC5ivLtbd1js3jZQVY5BMrf3fSpdHuJpfE2vxSSyPHDNCI0ZiQgMSk4HbnmkqFFu3L/AFp/mH17Ff8APxmz5Y96PLHvWPe3l5eeIBpGn3H2RIoBPc3CorONxIVFDAqCcEkkHp0pNPvru18QyaLqM/2rdB9ptrkoFZl3bWVgoAyCRyAMg9KFQot/CH13FpfGzZ8se9Hlj3rD8J3M9zDqpuJpJTHqlxGm9i21Q3CjPQD0q7LBrhmcwajp6RljsV7B2YDsCRMMn3wKaoUXFNR3B47FJte0Zf8ALHvR5Y965VtZv73wJrlzPIkV1am5hWW2DR/cyAwyxIP410emO0mk2jyMWZoELMxySdo5ojQoy2j0T++4Sx2LjvN9fwJ/LHvR5Y964vSr7XNRsTcNJrkmZpVDWq2AjwsjKMCT5ug79629JGpG+/0w6yIwp4vPsewn/tl82f0qY0aMre4OWMxUb/vDZ8se9Hlj3p9FafVqP8pH9oYr+djPLHvR5Y96fRR9Wo/yh/aGK/nYzyx70eWPen0UfVqP8of2hiv52M8se9Hlj3p9FH1aj/KH9oYr+diCJfLJycggfzpvlj3qUf6lv94f1ptJYaj/ACjePxX87GeWPejyx70+in9Wo/yi/tDFfzsZ5Y96PLHvT6KPq1H+UP7QxX87GeWPejyx70+ij6tR/lD+0MV/Oxnlj3o8se9Poo+rUf5Q/tDFfzsZ5Y96PLHvT6KPq1H+UP7QxX87GeWPejyx70+ij6tR/lD+0MV/Oxnlj3o8se9YmpeKYdP8VaboaQedNeZLuHx5IwcHGOc4PHHSjWfEdxZakmmaPpcmq35j854llWJY0zgFnbjJPQVHsaFr28i/rmMvbnfc8h+JIx8QtSA/6Zf+ikoql4yv5NT8XX11PaSWcrFFeCQ5KMqKpGe/I6+lFcErcz5djqTlJXluW6KKK8o+/NDQP+Rk03/r7i/9DFe3V4joH/Iyab/19xf+hivbq9jLdpfI+O4i/iU/RhRRRXrHy4UUUUAFFFFABRRRQAVznj3/AJEy6/66Q/8Ao1K6Os7X9J/tzRZbDzvI8xkbzNm7G1w3TI9MVMk2tCou0k2J4g0k67oNzpq3H2czgDzdm/bhgemRnpWHDca/4f1vT7bWNUh1ayv5DAsn2dYZIn2kjheCOK6HVrK4v9PeCzvpLCfIZJ41DFSDnkHqPUVk6d4Xu01aLUtf1qXV57YH7OpgWGOIkYLbV6t71LT57r+kUmuSzDx7/wAiZdf9dIf/AEalb119o+yTfYvL+0bD5Xm52bscbsc4z1xVPX9J/tzRZbDzvI8xkbzNm7G1w3TI9MU/V7G51CwMNjfyafOGDJPGobBHYqeCPanZq4k1ZI5iCTVbfxfp0njCO2LOHhsJLBj5KSMPm3K3zbiBgHOPbvTBZaprniLV7vw9qY0aCOT7LMwiExuZUGC208LjIGRycVraf4Yu11SDUNf1qXVprXP2dfJWGOMkYLbV6nHGTUd34UvU1O4vPD2uzaT9rbfcReQsyO/dgG+6T3rPldtV39f63/A05lfR/wCX9f8ABJfAzLHoNxYNGEubCd4Lkhy4kk3BjJk8nduzz9O1ZNxb6tf/ABD1SPS7uOxeO0gT7W8QlMaHcdqqeDlu59K6jQNFg0LTJLaGSSZ3YyzTynLyyMRljVDWvDk99qUep6RqcmlagsflPMsSyrImc4ZDwcHoabi2l5dvSwuZXfn/AJ3MmHxXdaBb6tbeJporu508x+TPGBGLnzAdikdFOQcnoB9KxmutMtdU0K7udZ0+5vp79ri/mjuUZUJjIC5zwqjCjP8AWuv0zwnZ21rcDViusXN1IJbia7iVg7AYGF5CgDOB2zUV/wCB9Gu72wmhsLG2S1lLyxJZpicFcbT04796XLPR+n5pj5oa/P8AIua02vvHC3hk6aQQxkN6X56bdu38evtXO2OpWmn+CtaGo2ckl3DK41CCV1PnTSY6MMDadwAwBgfrt6nomsT33naP4ik0yEoFa3+ypMox3Xd92ltfCVjFoN3pt3JNefbiXuriVvnlc4+b2xgYHbFOUZNu3Z7ijKKSv5HL3+ja3oujWV/rerDUtP0+SOWbTgm3aoIAxJnMm0kHDdcVs3ltrekeJLvVtC0+PVbfUo4/NgNwsLxugwGDNwQRSDwZf3IitdY8SXN/pcThhaNAqFwpyA7jlhWlrOj6vfXaS6T4gk0xPL2SRC2SUNyeRn7p5xke1Lle6T/C4+ZbNr9Dl9O1yfRNQ8T6trogWUtbxiGF/l83YcR7j3AK5PQcnpVVrrTLXVNCu7nWdPub6e/a4v5o7lGVCYyAuc8Kowoz/Wu10/wvpllpH2CeBb9GkM0r3iiVpZT1ds96qX/gfRru9sJobCxtktZS8sSWaYnBXG09OO/ejkmreVvzTY+eDb+f5WDWPD+o6hrUWraNrg06RbbyP+PVZg6lt2cscDPHbtU3hjVL68W+stY8lr7T5/JkkgGFkBUMrY7HB5FJq2iavc3gm0bxDJpcZjCNB9lSZOOhUHG38Kt6FocOhWTxJNLczTSGW4uJjl5XPUn+gq4pqTtt/wAEzk0467mnRRRWhmFFFFABRRRQA4/6lf8AeP8ASuc1XVbjUZrjRvD6eZcY8u4vG/1Vpnr/ALz46KPxxXRn/Ur/ALx/pXGWnhHxFp6SR2Hi/wAiKSV5Sv8AZkbfMxyTksSetZSu9LaamsbXvfXQ3fsF3pfhuOx8P/ZzcW8SRwm83bDjAJbbz0z071h6LLfQ+MJl8TRxjVbi1ItpbZswGJTllUH5gcnJ3Zz2xWpdaPrFxpVrFF4hkgv4CS92tsm2bPrHnFJo/hyay1JtT1bU5dV1Ax+UkrxrGkadSFReASRyack5S/rsJNKFiHwCVbwNYHuRIX/3vMbP60ngVxH4ItHdgsamYqScAJ5jY/DFV5vBd2k91HpXiC4sNNvJDJPaJCrnLfe2OeUz7VtXOjIfDMmj6dJ9jjNubeNwu/y1xjOMjJx70lzWvbVIqTi3a+7v/X3mf4SVr9LvxBOP3mpSfuQf4IFJCD8eW/4FS6rqtxqM1xo3h9PMuMeXcXjf6q0z1/3nx0UfjitqxtEsNPt7SL7lvEsa/RRj+lcraeEfEWnpJHYeL/IikleUr/ZkbfMxyTksSetEk0lFK6/r8xRabcm7P+vyJLiyh0vxN4R0+InybeK4SPd3IjUA/XGata3/AMjr4a2ff3XOf93yuf1xUt/4bm1TRbW3vtTkbUbR/Ni1CKIIwfnnYOMYOCO9Gj+HLiz1JtS1jVJNVv8Ay/KjlaJYliTOSFReMk9TTtJu1ut7/wBfd6BdWvfpb8/8yLxd/r/D/wD2F4f/AEF66Os7V9J/tWTT287yvsV4l19zdv2gjb1GOvWtGqimr+v6IiTul/XVhRRRVEhRRRQAUUUUAOk+8P8AdH8qbTpPvD/dH8qbSWw5bsKKKKYgooooAKKKKACiiigAooooAKRvun6UtBGQRSkrxaA4rRWZfg2xjyGFhORj1+etRfJ/4VoPu+T/AGT+GPKq9oejLo/h6DSpJRcrEjIzlNu8Ek9Mn19awk8CXCw/2adfuW0Ldn+z/KXcVznZ5v3tvt6VlKMndJbq35/5m6lG977O5Q8u81NPDWnabMLLU7fTkunvmG4xRlQpUJ0fcex44rT8MwXOk+NLuy1m5/tC+u4UuI77GzdGrbdmzouCc8cHNX9a8NHULm3vdMv5NL1C2Ty454kDgp/dZDwRT/D/AIck07VH1HU9Rk1TUZlWI3EkYjCIDnaqjgDPJos+Zv1/r8gUlypen5my7rGjO7BVUZJJwAK57wkrX6XfiCcfvNSk/cg/wQKSEH48t/wKtbVrKTUdHurKG4+zPcRNGJQu7ZkYzjI/nUtjaJYafb2kX3LeJY1+ijH9K0s+a/8AX9f5mV0o2/r+v8jD8Uub+50/w/Ef+QhIWucHkQJyw/4EcL+JrY1Bb5NMddEFqt2oAiFzu8ocjOdvPTPSq6aOR4ok1iS43k2oto4dmPLG7cTnPOTjt2o1rTr/AFCGL+y9Wk0yeNifMWISKw9Cp4NTZ2b6v+v+D8yrq6Xb+v8AgGFokt7D4ylXxPHGNUuLXFtLbNmAwq2WVQfmBycndnPbFZtnpWta/Y6hf6Bq66Rp9/LI0VoI9/mclSxfrHuIJwvTNdLo/hyWy1JtT1fU5dV1Ax+UkrxrGkadSFReASRyaoN4Nv7V5odD8R3Gm6fMxZrUQLJsLHJ2OeVHPas3CVkmu/59f6+8tTV3Z9jT8JXdveeFbF7S3+zRpH5Xk7t2wodpGe/IPPeqvg3/AFGsf9he5/8AQhWxpWmW2jaXBYWSlYYF2rk5J7kn3Jyah0bSf7IjvF87zvtV5Ldfc27d5zt6nOPWtrPnu+z/AEMrqzS7/wCZxvhuy8SX2izXOlarBpu66ncq9sJTcSeYclyfujgDgE8V1vhnVpNb8PW17cRiOZtySqv3d6sVJHsSM1l3HhC+jvLptD8QT6XaXjmSe2SBZPmP3ijE5TPt3rf0vTbfR9LgsLMEQwJtXcck+pPuTzUUoyirPsi6koy1Xct0UUVqZBRRRQAUUUUAFOT7r/7v9RTacn3X/wB3+opMa3MnxHqp0bQbm7iAacAJAh/jkY7VH5msDxFpq6L8L5rMtuZfKNxJ18xmlUyMfqSa6DV9HOrTaeWuPLis7pblo9mfNKg7RnPGCc96t39jBqWnz2V2u6GdCjgHHBqJRbu/6/p/oXGSTj9/9f11MTx5j/hBtQx12ps/3t67f1xVjXde/s2NLOxQXWr3K4t7VTzn++3oo6kn0rPtPBt2JrWPVtfuNR0+zdXgtGhVOV+7vccvj3rqPJi8/wA7y083bs8zaN23OcZ9KLOV3tf+vvC6SS3t/X6HH+IdJGj/AAvurPzTLL8rzTEcySNKpZvzP5Yqz4dgkt/GuvxzXUt0whtT5swQMflf+6qj9K1fE2lza14dubC1aNJZtu0yEhRhgecA+lQ6dp9zb+LtYvZY9tvcxW6xPuB3FVYNx1GMjrS5bTTX9aMfNem09/8AgxNuiiitTIKKKKACiiigAooooAKKKKACiiigAooooAKKKKACiiigAooooAKKKKACiiigAooooAKKKKACiiigAooooAKKKKACiiigAooooAKKKKACiiigAooooAKKKKACiiigAooooAKKKKACiiigAooooAKKKKACiiigB0f3j/un+Vct4uuIbTVPDs91NHBCl+S0kjBVUeW3UnpXUx/eP+6f5U2pau/uf3O5adl9/wCRyWua1peo6hoMWn6lZ3Ug1NGKQTq7AbH5wD05qTTNPhuvGWvzSvcK0U8BURXMkan90p5VWAb8Qa6msfS7G4tvEGt3M0e2G6liaFtwO4LEFPHbkd6lRtLX1/L/ACHzaadv1KdzJHofjCXUL0+VZX9skTXDcJFIhOAx6KCG4J4yKSxcaz40OqWfz2FpaG3S4H3ZpGYE7D3UAYyOMn2rpaKajZryv+P/AA4nI5zwb/qNY/7C9z/6EKg0LT01VdSnvbrUHddRuI12ahPGqqrkABVcAAfStDw1p9zp8WpC8i8sz6jPPH8wO5GOQeD+nWrEvhvQ55nln0bT5JJGLO72qFmJ6kkjk1MYvlj6f5FSkuaXr/mZ2uaZaaT4E1i3sI2SNreaRt0jOWYqSSSxJOa0bVLt/D9kLCaGGXyI/mmhMi42jsGX+dU9V8O2aeHdTt9E0y1gubm1eJRBEkZckHAJ47+ta2nxPBplrFKNrxworDOcEKAaqK1fov1Jb91er/Q4uWxtTM/m2Omu+47m/wCEQuWyc8nO7n61LpsMEerQxWA0izvnVmiLeGZ7diAPmwzOvY+verFvoGtRRst0v2uQyO3nf2/dw5UsSo2KmBgEDj0q7pujXMGrwXdzYRBolZVmbWbi5aMMOdqyJjnA7isoRemn5mspLXX8joIw4jUSsrPgbiq4BPfAycfmadRRXSc4UUUUgCiiigAooooAcP8AUt/vD+tNpw/1Lf7w/rTaS6jeyCiiimIKKKKACiiigAooooAKKKKACs3X9bt/D+jy311g7cLGhbb5jnouT0+vYZNaVQXljaahCIb+1huogdwSaMOufXBpSTashxtfU85a60y11TQru51nT7m+nv2uL+aO5RlQmMgLnPCqMKM/1rqNCdZPG3iUhgx/0XaR3XyuMe2c06/8D6Nd3thNDYWNslrKXliSzTE4K42npx3707VvDE9zqialomqPpF4IhC7JCsqSIOgKHjI7GsYxlHW3X9Ev0/M2lKMuvT9bnknxJ/5KFqeP+mX/AKKSiqfjSwfTfF99azXUl3IpRnnlADOzIrE4HTknA7CivNnfmdz0YfArG1/bV1/zysf/AAAg/wDiKP7auv8AnlY/+AEH/wARWfRXl8zPvfZU/wCVG9omr3MniDT0aOzAa6jBK2UKnlh0ITI+or1z7RJ/s/8AfA/wrxXQP+Rk03/r7i/9DFezV6+XaqV/I+R4gSjOny6aMk+0Sf7P/fA/wo+0Sf7P/fA/wqOivVsj5nmfck+0Sf7P/fA/wo+0Sf7P/fA/wqOiiyDmfck+0Sf7P/fA/wAKPtEn+z/3wP8ACo6KLIOZ9yT7RJ/s/wDfA/wo+0Sf7P8A3wP8Kjoosg5n3JPtEn+z/wB8D/Cj7RJ/s/8AfA/wqOiiyDmfck+0Sf7P/fA/wo+0Sf7P/fA/wrN1nVoNE0ma+uVd1jwAkYyzsTgKB6kmsiy8U3v9p21nruhTaX9sJW2l89ZlZsZ2tj7px2NTeN7FJTaudT9ok/2f++B/hR9ok/2f++B/hXL6j4k1WLXrjTdH0D+0jbxo8kn2xYtu7OBhh7etW59S1tNEguYdA82+d8SWX21F8sc878YPQce/tS5o72/Adprr+Ju/aJP9n/vgf4UfaJP9n/vgf4Vx6+Ktdi1WxstQ8LfZvtkvlqw1BJCAOWbAHQDmt3XNXh0LRbjULgblhXKoDgux4Cj6nFHNDlcuiC07pdzWSdykn3eF/uj1FM+0Sf7P/fA/wqjoOpf2voMOoeV5P2mBZPL3btuSOM4Gaoa74h/sma3tLSzk1DULrPk2sTBeB1ZmP3V9zTfLHcPedkjd+0Sf7P8A3wP8KPtEn+z/AN8D/CsvR769vrZ21PTH02dH2mJpVkBGMghhwapal4ohsPFGnaIkPnTXmS7h8eSMHBxjnODxx0p+6reYved/I6H7RJ/s/wDfA/wo+0Sf7P8A3wP8KwtY1bVrO7WDSNAk1P5A7yG4SFFySAAW6njp24o0/wATWt74fuNUniktVtC63MMg+aJk+8vvS5oa+QWmbv2iT/Z/74H+FH2iT/Z/74H+FcfD4zvEa3uNU8PXFjpt06pFdmZXI3fdLoOVBq7qviO5ttUOm6LpMmq3kcYkmUTLEkSnplm7n0pc0LX/AEHyzv8A8E6P7RJ/s/8AfA/wo+0Sf7P/AHwP8KxtB1xdbtpi9tJZ3VtJ5VxbS8tG2M9e4I6Gq+peKIbDxRp2iJD5015ku4fHkjBwcY5zg8cdKd46eYvf1XY6H7RJ/s/98D/Cj7RJ/s/98D/Cuc1vxBf2GsQabpOj/wBpzywNOw+1LDsUED+IY71oaRd6heWZk1XTf7NmDkCHz1myuBzuXj149qE4t2QPmSu2af2iT/Z/74H+FH2iT/Z/74H+FR0VVkTzPuSfaJP9n/vgf4UfaJP9n/vgf4VHRRZBzPuSfaJP9n/vgf4UfaJP9n/vgf4VHRRZBzPuTmd/JU/Lncf4R6CmfaJP9n/vgf4Uh/490/3m/kK5W+8ValBJPLZeGrq7sLdislz5yxsdpwxSM8sPfvUNxitS7Sk9Dq/tEn+z/wB8D/Cj7RJ/s/8AfA/wrFutblOi21/othJqjXW0xRo4j4IzlmPCjj88CoNF8RT6hqM2m6ppkmmX8UYm8ppVlV0JxuDDg807x5uUXvWudD9ok/2f++B/hR9ok/2f++B/hXI3XjG8866fSdAuNQsLN2jnulmVPmX72xTy+Par13rl/Jp9le+HdI/taG6TeT9qSHyxxj73U8n6YpKUGrr8h8s07P8AM6D7RJ/s/wDfA/wo+0Sf7P8A3wP8K5TT/E2sT+IoNK1Lw79hMsbStIL5JdiDjJCjucDr/Ki+8ValBJPLZeGrq7sLdislz5yxsdpwxSM8sPfvRzQtf9A5Z3t+p1f2iT/Z/wC+B/hR9ok/2f8Avgf4Vg3/AImtbXRbTULWKS8N8VW0giGGlZhkD29z2qLSPElxd6q2mazpUmlXpj82JGmWVZUBwcMOMj0p3jzcorTtc6P7RJ/s/wDfA/wo+0Sf7P8A3wP8K5u88XWtvq9vp9vbXFw0l0trJMEKxROe24j5jx0H5iugprlkroT5luSfaJP9n/vgf4UfaJP9n/vgf4VHRTshcz7kn2iT/Z/74H+FH2iT/Z/74H+FR0UWQcz7kn2iT/Z/74H+FH2iT/Z/74H+FR0UWQcz7k8s7hxjb91f4R6CmfaJP9n/AL4H+FJN98f7q/yFMpJKw5SdyT7RJ/s/98D/AAo+0Sf7P/fA/wAKjop2QuZ9yT7RJ/s/98D/AAo+0Sf7P/fA/wAKjoosg5n3JPtEn+z/AN8D/Cj7RJ/s/wDfA/wqOiiyDmfck+0Sf7P/AHwP8KPtEn+z/wB8D/Co6KLIOZ9yT7RJ/s/98D/Cj7RJ/s/98D/Co6KLIOZ9yT7RJ/s/98D/AAo+0Sf7P/fA/wAKjoosg5n3JPtEn+z/AN8D/Cj7RJ/s/wDfA/wqOuXfxde3V3OugaBPqdpbSGOW6E6xqSOuwH7+PapbinZlR5pbHWfaJP8AZ/74H+FPhnczIDtwWH8I9a5/WvEDaY1rbWdhLf6heZMNqrBOBgksx4UDNP8ADfiB9V1CWzvrCTTtQtWQy27yB8q3RlYcMKTcdUNKWjNr7RJ/s/8AfA/wo+0Sf7P/AHwP8Kx9av8AVrHyf7H0X+1N+fM/0pIfLxjH3uuefyrL0/xNrE/iKDStR8OfYmliaVnF8kuxBxkhR3OB17+1Pmje1vwFaVr3/E6z7RJ/s/8AfA/wo+0Sf7P/AHwP8K5CbxH4ot4ZJZfBwWONSzOdViAAHJPSrkXiDULjwxaalb6FNLdXZ+SzWYDaDkhmcgAAgA9O4FLmh/SG4zXX8To/tEn+z/3wP8KPtEn+z/3wP8K57RfEU+oajNpuqaZJpl/FGJvKaVZVdCcbgw4PNUp/GF81xdNpPh+41Cxs5GjmulnVMlfvbEPL49qHKCVw5Z3sdd9ok/2f++B/hR9ok/2f++B/hWM3iPT10K31YtKbe5C+UqRMzsT0UKMnPal0DWxrtnPcC1ktfJuHg8uU/PlcdR2PPTmq929ifetc2PtEn+z/AN8D/Cj7RJ/s/wDfA/wrmL7xRdf2rPp+gaNLq0trj7Q4nWGOMn+Hc3Bb2rdtJ3ubOGaSB7d5EDNFJ95D3Boi4y2G+aO5a+0Sf7P/AHwP8KPtEn+z/wB8D/Co6KdkTzPuSfaJP9n/AL4H+FH2iT/Z/wC+B/hUdFFkHM+5J9ok/wBn/vgf4UfaJP8AZ/74H+FR0UWQcz7kn2iT/Z/74H+FPSdykn3eF/uj1FQU+P7kv+7/AFFJpDUncX7RJ/s/98D/AAo+0Sf7P/fA/wAK53UtX8Q2uoSQ6d4Y+3W642XH9oRx7+Bn5SMjByPwqPRfEt5qNvqkl/pH2D+ziVYfallDsFJZcgYGOPXr7VPND+kVyztf9TpvtEn+z/3wP8KPtEn+z/3wP8K5LSfEniDVPskx8K+VZXO1vtH9oRnah/i24BPHOK3r2PUXZP7OurWAAHcJ7Zpc/TEi4/Wq0aukJ8ydmy/9ok/2f++B/hR9ok/2f++B/hXC6rrOpyeFtfaS5iWSxuUt4ri0RoSSChb+NiPvY61saXcTyeM9bgkmkaKKK2McbMSqEq2cDtmpUotrTf8AyuNxkk3f+tP8zovtEn+z/wB8D/Cj7RJ/s/8AfA/wqOirsiOZ9yT7RJ/s/wDfA/wo+0Sf7P8A3wP8Kjoosg5n3JPtEn+z/wB8D/Cj7RJ/s/8AfA/wqOiiyDmfck+0Sf7P/fA/wo+0Sf7P/fA/wqOiiyDmfck+0Sf7P/fA/wAKPtEn+z/3wP8ACo6KLIOZ9yT7RJ/s/wDfA/wo+0Sf7P8A3wP8Kjoosg5n3JPtEn+z/wB8D/Cj7RJ/s/8AfA/wqOiiyDmfck+0Sf7P/fA/wo+0Sf7P/fA/wqOiiyDmfck+0Sf7P/fA/wAKPtEn+z/3wP8ACo6KLIOZ9yT7RJ/s/wDfA/wo+0Sf7P8A3wP8Kjoosg5n3JPtEn+z/wB8D/Cj7RJ/s/8AfA/wqOiiyDmfck+0Sf7P/fA/wo+0Sf7P/fA/wqOiiyDmfck+0Sf7P/fA/wAKPtEn+z/3wP8ACo6KLIOZ9yT7RJ/s/wDfA/wo+0Sf7P8A3wP8Kjoosg5n3JPtEn+z/wB8D/Cj7RJ/s/8AfA/wqOiiyDmfck+0Sf7P/fA/wo+0Sf7P/fA/wqOiiyDmfck+0Sf7P/fA/wAKPtEn+z/3wP8ACo6KLIOZ9yT7RJ/s/wDfA/wo+0Sf7P8A3wP8Kjoosg5n3JPtEn+z/wB8D/Cj7RJ/s/8AfA/wqOiiyDmfck+0Sf7P/fA/wo+0Sf7P/fA/wqOiiyDmfck+0Sf7P/fA/wAKPtEn+z/3wP8ACo6KLIOZ9yT7RJ/s/wDfA/wo+0Sf7P8A3wP8Kjoosg5n3JPtEn+z/wB8D/Cj7RJ/s/8AfA/wqOiiyDmfck+0Sf7P/fA/wo+0Sf7P/fA/wqOiiyDmfck+0Sf7P/fA/wAKPtEn+z/3wP8ACo6KLIOZ9yT7RJ/s/wDfA/wo+0Sf7P8A3wP8Kjoosg5n3JPtEn+z/wB8D/Cj7RJ/s/8AfA/wqOiiyDmfck+0Sf7P/fA/wo+0Sf7P/fA/wqOiiyDmfck+0Sf7P/fA/wAKPtEn+z/3wP8ACo6KLIOZ9yT7RJ/s/wDfA/wo+0Sf7P8A3wP8Kjoosg5n3J4p3LnO37rfwj0NM+0Sf7P/AHwP8KSH75/3W/kawtf1K9srnS7bTzAj31yYWeeNnCjYWyAGX09al2T27fiUuZrfub32iT/Z/wC+B/hR9ok/2f8Avgf4Vzd5e6zpl5pq3N1YXEV3drbssdm8bKCrHIJlb+76VLpE80viTXopJXeOKaERozEhAYlJwO3PNCabtb+tP8w97ub/ANok/wBn/vgf4UfaJP8AZ/74H+FYN7d3l54gGk6fcfZEigE9zcKgZxuJCooYEAnBJJB6dKSwvru18QSaNqM/2rdB9ptrkoFZl3bWVgoAyCRyAMg9KE4t7B71tzf+0Sf7P/fA/wAKPtEn+z/3wP8ACud8K3E1xDqpuJpJTHqlxGm9i21Q3CjPQD0q5LBrZmcwahp6RljsV7B2IHYEiYZPvgUKzinbcHdNq5rfaJP9n/vgf4UfaJP9n/vgf4Vx7azfXvgXW7md0jurU3MKyWwaP7mQGGWJB/Guj012k0m0d2LM0CEsTkk7RzRFxlt2T+8Jc0d33/Au/aJP9n/vgf4UfaJP9n/vgf4Vw2lX2t6jZG4aTW5MzSqGtVsRHhZGUYEnzdB3ra0kaib3/TDrAjCni8+x7Cf+2XzZ/SlGSlbQclKN9Tf+0Sf7P/fA/wAKPtEn+z/3wP8ACo6KuyI5n3JPtEn+z/3wP8KPtEn+z/3wP8Kjoosg5n3JPtEn+z/3wP8ACj7RJ/s/98D/AAqOiiyDmfck+0Sf7P8A3wP8KPtEn+z/AN8D/Co6KLIOZ9ycTv5LH5c7h/CPQ0z7RJ/s/wDfA/wpB/x7v/vL/I0ykkhuTsiT7RJ/s/8AfA/wo+0Sf7P/AHwP8Kjop2QuZ9yT7RJ/s/8AfA/wo+0Sf7P/AHwP8Kjoosg5n3JPtEn+z/3wP8KPtEn+z/3wP8Kjoosg5n3JPtEn+z/3wP8ACj7RJ/s/98D/AAqOiiyDmfck+0Sf7P8A3wP8KPtEn+z/AN8D/Co6KLIOZ9yT7RJ/s/8AfA/wo+0Sf7P/AHwP8Kjoosg5n3JPtEn+z/3wP8KPtEn+z/3wP8K57UvFENh4o07REh86a8yXcPjyRg4OMc5weOOlGseIp7PUk03SNLk1S/MfnPGsqxLGmcAl24yT0FRzQtf5F2nf8Tyj4kMW+IOpE9f3XQY/5ZJRVHxffyal4svbqe0ks5WKK8EhyUZUVSM9+R1ory5tOTaPUhdRVy5RRRXkn6CaGgf8jJpv/X3F/wChivZq8Z0D/kZNN/6+4v8A0MV7NXsZbtL5Hx3EX8Sn6MKKKK9Y+XCiiigAooooAKKKKACiiigDA8ZyoNA+yNCJpr6ZLa3VnKhZGOVYkcjGM8elYk1hqui6zo9/4h1X+2LcTC3RfKEX2eRxtV8A4fuMnkZzXVa1o0GuacbS5aSMhxJFLEcNE46MD61k2vhS+k1C1uPEGuy6qlm/mQQG3WJQ46M2PvEds1i4vnv6fd/nubKSULeomoeG9ZOuXmp6Jry2TXSoGgezWQNsGACxOQOvQd60PDOqzavowmvERLqKV4JxGcrvRsEj2PWqmo6BrdzfTyWHieeytZjkwfZkkKcYO1ycr/StPTNIh0fR00/T2ZVRTiR/mYseSzepyc1UU1ey0/UUmmlrqZein+1/EWoaw+Ght2NjZ85GFOZHH1bjPotYt9rml67qNzPdanZxWOnJItrBJcKrTz7SDIVJzgZwvqcmut0LSl0TRLfT1lMxhB3Slcb2JJJxk9STUFx4V0OeCVF0fT0eRSBILRMqSOvSonCThZf0xxnFSb/qxB4Bure48E2aW88crQ2yJIqOGKNkcHHQ+1Y9xBqt98QdUj0u7jsXjtIE+1PF5pRDuO1VPBy3c+ldN4b0O38P6ItlbrGWSICSVIghlYEfMQO/4mqWs+HZr7Uo9S0jU5NLv1j8p5liWVZEznDKeDg9DVSTdn5/oCklfz/zMmHxVdaDb6rbeJZorq508x+TNGBGLjzAdgI6KeDk9APpWO11ptrqmh3dzrNhc30181xfzR3KMqExkAZzwqjCjP8AWuu03wpaW1tONWK6vcXUgluJruJWDsBgYXkAAZwO2aivvBOj3d7YzQ2FjbpbSl5Iks0xOCMbT04796nlno/T80/+HGpw1+f5FzWm1544W8NHTSCCZDeF+em3bt/Hr7Vz1lqNpp/gvWhqNpJJdQyuNQgldT500mOjDA2ncMYAwP12tT0XV577ztH8QyabCUCtb/ZUmUY7ru+7S23hSyi0K7027kmu/txL3U8rfPK5x83tjAwO2Kcoybduz3FGUUlfyOXvtH1rRtHs77W9VGo6fp8kcsunhNu1QRjEnWTacHDdcVs3ltrWkeI7vVdD0+PVbfUY4/NgNwsLxugwGBbggikHg2/uRHa6x4juL/TInDC0aBULhTkB3HLCtLWNI1a9ull0nX5NMTy9kkQtllDcnkZ+6eeo9qXK90n+o+ZbNr9DmNO1ufRdQ8TarrggEpa3jEML/L5uw4j3HuAVyeg5PSqrXWm2uqaHd3Os2FzfTXzXF/NHcoyoTGQBnPCqMKM/1rs7DwxpllpP2CeBb5GkM0r3iiVpZD1ds96q33gnR7u9sZobCxt0tpS8kSWaYnBGNp6cd+9LkmreVvzTf9dh88Lv5/lYNY0DUNQ1qLVtG1safItt5H/HqswZS27OScDPHbtUvhnU768W9stX8lr3T5vKkkh4WQFQytjscHkUarourXN4JdG8QSaZGYwjQfZkmTjoVzjb+FWtC0SHQ7N4kmkuZppDLPcTHLyuepP9BWkU1J22/wCCZyacddzTooorQzCiiigAooooAef+PdP95v5Cuc1TVLjUJrjR9ATzLjHl3F23+qtM9f8AefHRR+OK6M/8e6f7zfyFcZaeE/ENgkkdh4t8mJ5XlK/2bG3zMck5LEnrWUrvS2mprG17310N37DdaZ4cjsdA+z+fbxpHCbvdsOMAltvPTPTvWHo0l7D4vmXxLHGNUuLUi2ltmzAYlOWVQfmBycndnPbFal1pGsT6XaxReIJIL6AkvdrbLtlz6x5xSaR4dls9RbUtW1OXVL8x+UkrxiNI06kKi8Akjk0STlL+uwk0oWIfAZVvBFge5Ehf/e8xs/rSeBnCeCbV3IWNTKVJPATzGx+GKrzeDbtJrmPS9fuLDTryQvNaJCrHLfe2OeUz7Vs3OjofDcmj6fJ9jjNubeNwu7yxjGcZGTj3oXNa9tUipOLdr7u/9feZ/hRWv0utfnH7zUZP3IP8ECkhB+PLfjTtU1S41Ca40fQE8y4x5dxdt/qrTPX/AHnx0UfjitmxtEsNPt7SL7kESxr9AMf0rlrTwn4hsEkjsPFvkxPK8pX+zY2+ZjknJYk9aJJpKKV1/X5ii025N2f9fkSXFlDpfiXwnYRE+TbxXCR7u5EYAP1xmrWt/wDI5+G9n391zn/d8vn9cVLf+HJtT0a1gvdTkOo2j+bFqEUQRg/POwcYwcEd6NH8Oz2epNqWsapJqt95flRytEsSxpnJAReMk9TTtK9rdb/1/WwXVr36W/P/ADIvFn+v0D/sLRf+gvXRVnatpP8Aaklg3neV9ju0ufubt+0Ebeox161o1UU1f1/RESaaX9dWFFFFUSFFFFABRRRQA+b74/3V/kKZT5vvj/dX+QplJbDluwooopiCiiigAooooAKKKKACiiigAooooAq6nI8Wk3kkWRIkDsuPUKcVw2k2via28F2moaXqdrbQQWolSwa3DCVQNxLSdQTycD1r0JlDKVYAgjBB71yJ8EXawyafbeIbmDRZGObFYVLBTyUEh5A9sdKxnGTd4m1OUUrMdpd+up+OLa82FPtGhpKiN/DukyR/Kr0X/JVINn/QL+f/AL/Db/Wl1bwwt59il0q8fS7ywXy7eaNA4CYxtKnhhxVrw5oLaVeSXV7eyahqF06Ca5dAmQOiqo4UDNOzva21/wAb/wCYJrf0/T/I03dURnchVUZJJ4ArnvCitfpda/OP3moyfuQf4IFJCD8eW/GtfVbOTUdIurOGf7O9xE0YlC7tmRjOMj+dSWNolhp9vaRfcgiWNfoBj+lXZ81/6/r/ADM7pRt/X9f5GJ4oc39xYaBEf+QhIWucHkQJyw/4EcL+JrX1Bb5NNddFFqLpQBELnd5Y5Gc7eemelQJpBHiaTWJJ95NsLaOLZjyxu3E5zzk47dqTWtOvtQhi/svVZNMmjbPmLEJFYehU8Gps7N9X/X/BKurpdv6/4BiaLLew+MJV8TRxjU7i2xbS2zZgMStllUH5gcnJ3Zz2xWZZ6VrOvWOoX+g6suk2F/LI0VoI9/mckFi/WPcQThema6TSPDstnqLalq2py6pfmPykleMRpGnUhUXgEkcmqLeD7+1eaHQ/EVxp2nzMWa1ECybCTk7HPK9e1ZuErK67/n1/r7y1NXdn2NPwpdQXfheye0g+zRonleTuzsKHaRnvyOveqvg7/Uax/wBha5/9CFa+l6Zb6PpcFhZKVhgXauTknuSfcnJqHR9J/smO8XzvO+03clz9zbt3nO3qc49a2s+a77P9DO6s0u/+Zx3hyy8R32jTXOlapBp266ncq9uJTcSbzksT90cAcAniut8NarJrXh+2vbiMRzNuSVV6blYqSPYkZrLuPCN9HeXLaHr8+mWl25kmtkgV/mP3ijE5TPt3re0vTbfSNLgsLMEQwLtXcck+pPuTzUUoyirPsiqkoy1Xct0UUVqZBRRRQAUUUUAFPj+5L/u/1FMp8f3Jf93+opMa3MnxFqh0fQbm7iAacAJAh/jkY4UfmajstCFr4VOkiXbJJA6Sz4yTI4O5+2eSTUur6QdVm08tP5cVndLctHsz5pUHaM54wTnvVu9t2u7GaCOeS3eRCqzRHDIfUVLjfmuvL5f1+RSdrJf1/X6nIGLX/BtvZST6vDqelxvHbPC1qsLRISFBUqTkjjrW7r2vDTlWzsEF1q1wMW1qp5/329FHUk+lUIfCeoXF7by+IvEEuqQ2ziSK3FskKFx0Lbc7sV0vkx+f53lp5u3Z5m0btuc4z6UkpNW/4ccnG99zkPEGlDR/hjdWnmmWX5XmmI5kkaVSzfmfyxVnw9BJb+NNejlupbphFanzJggY/K/91VH6VqeJdMm1nw9c2Fq0aSy7dpkJCjDA84B9Ki07T7mDxZrF5LHtt7mK3WJ9wO4qGDcdRjI60uX301/WjHzXptPf/go2qKKK1MgooooAKKKKACiiigAooooAKKKKACiiigAooooAKKKKACiiigAooooAKKKKACiiigAooooAKKKKACiiigAooooAKKKKACiiigAooooAKKKKACiiigAooooAKKKKACiiigAooooAKKKKACiiigAooooAKKKKAHw/fP8Aut/I1y3i24htNT8PT3U0cMKX5LSSMFVf3bdSeldTD98/7rfyNMqWrv7n9zuWnZff+Rymt6zpmoahoUVhqVpdSDUkYpBOrkDY/OAenNP02whuvGOvTSvcK0U8BURXMkan90p5VWAb8Qa6isjS7G4ttf1q5mj2xXUsTQtuB3BYwp47cjvUqNpa+v5f5D5tNO36lO5kj0TxfLqF6fKsr+2SI3DcJFIhOAx6KCG4J4yKSycaz4yOqWfz2FpaG3S4H3ZnZgTtPcADqO59q6Simo2a8r/j/wAOJyOd8Hf6jWP+wtc/+hCoNC09NUXUZ7261B3XUbiNdmoToFVXIACq4AA+laHhuwudPi1IXcflmfUZ54/mB3IxyDx/Kp5fDmiTzPLPo+nySOxZ3e1QliepJI5NTGL5Y+n+RUpLml6/5mfremWuleBdYgsY2SNreaRt0jOSxUkkliSc1o2qXT6BZCxmhhl8mP5poTIuNo7Bl/nVPVfD1onh7U4NF0y1gubm2eNRBEkZckHAJ47+taunxPBpttFKNrxworDOcEAA1UVq/RfqS3ovV/ocZLY2pmfzbLTXfcdzf8Ijctk9zndz9am02GGPVoYrAaTZ3rqzRFvDU1uxAHzYZnHY+vep7fQdZijYXS/a5DI7eb/b13FlSxIGxVwMAgcelXdO0a5g1aG6ubCMGNWVZm1i4uWQMOcLImOcDuKyjF3Wn5mspLXX8jfQOI1EjKz4G4quAT3wMnH506iiuk5wooopAFFFFABRRRQA8f8AHu/+8v8AI0ynj/j3f/eX+RplJdRvZBRRRTEFFFFABRRRQAUUUUAFFFFABWbr2tW+gaRJfXWDtwsaFtvmOei5PT69hk1pVBd2NpqEIhv7WG6iB3BJow659cGlJNqyHG19TztrrTbXVNDu7nWbC5vpr5ri/mjuUZUJjIAznhVGFGf610+husnjTxGQwY/6NtI7r5fGPbOadfeCdHu72xmhsLG3S2lLyRJZpicEY2npx3707VfDM1zqaalomqPpN4IhC7JCsqSIOgKHjI9axjGUdbdf0S/T8zaUoy69P1ueU/Eb/kf9Sx/0y/8ARSUVT8Y2L6b4svbWW6ku5FKM88gwzsyKxOB05PA7CivNnfmdz0YfArGr/wALn8Q/8+emf9+pP/i6P+Fz+If+fPTP+/Un/wAXRRXLZHuc8+5e0P4ta7qfiHTrGe005Yrq6ihcpG4YKzgHGX6819G/8IrY/wDPW4/76X/CiiiyDnn3D/hFbH/nrcf99L/hR/witj/z1uP++l/wooosg559w/4RWx/563H/AH0v+FH/AAitj/z1uP8Avpf8KKKLIOefcP8AhFbH/nrcf99L/hR/witj/wA9bj/vpf8ACiiiyDnn3D/hFbH/AJ63H/fS/wCFH/CK2P8Az1uP++l/wooosg559w/4RWx/563H/fS/4Uf8IrY/89bj/vpf8KKKLIOefcP+EVsf+etx/wB9L/hR/wAIrY/89bj/AL6X/CiiiyDnn3D/AIRWx/563H/fS/4Uf8IrY/8APW4/76X/AAooosg559w/4RWx/wCetx/30v8AhR/witj/AM9bj/vpf8KKKLIOefcZJ4YskkiAlnw77T8w/uk+ntT/APhFbH/nrcf99L/hRRTsg559w/4RWx/563H/AH0v+FH/AAitj/z1uP8Avpf8KKKVkHPPuH/CK2P/AD1uP++l/wAKP+EVsf8Anrcf99L/AIUUUWQc8+4f8IrY/wDPW4/76X/Cj/hFbH/nrcf99L/hRRRZBzz7h/witj/z1uP++l/wo/4RWx/563H/AH0v+FFFFkHPPuH/AAitj/z1uP8Avpf8KP8AhFbH/nrcf99L/hRRRZBzz7h/witj/wA9bj/vpf8ACj/hFbH/AJ63H/fS/wCFFFFkHPPuH/CK2P8Az1uP++l/wo/4RWx/563H/fS/4UUUWQc8+4f8IrY/89bj/vpf8KP+EVsf+etx/wB9L/hRRRZBzz7jB4YsjcPH5s+FRWHzDuT7e1P/AOEVsf8Anrcf99L/AIUUU7IPaT7h/wAIrY/89bj/AL6X/Cj/AIRWx/563H/fS/4UUUrIOefcP+EVsf8Anrcf99L/AIUf8IrY/wDPW4/76X/CiiiyDnn3D/hFbH/nrcf99L/hR/witj/z1uP++l/wooosg559w/4RWx/563H/AH0v+FH/AAitj/z1uP8Avpf8KKKLIOefcP8AhFbH/nrcf99L/hR/witj/wA9bj/vpf8ACiiiyDnn3D/hFbH/AJ63H/fS/wCFH/CK2P8Az1uP++l/wooosg559w/4RWx/563H/fS/4Uf8IrY/89bj/vpf8KKKLIOefcP+EVsf+etx/wB9L/hR/wAIrY/89bj/AL6X/CiiiyDnn3GQ+GLKSMlpZ8h2Xhh2Yj09qf8A8IrY/wDPW4/76X/CiinZBzz7h/witj/z1uP++l/wo/4RWx/563H/AH0v+FFFKyDnn3D/AIRWx/563H/fS/4Uf8IrY/8APW4/76X/AAooosg559w/4RWx/wCetx/30v8AhR/witj/AM9bj/vpf8KKKLIOefcP+EVsf+etx/30v+FH/CK2P/PW4/76X/CiiiyDnn3D/hFbH/nrcf8AfS/4Uf8ACK2P/PW4/wC+l/wooosg559w/wCEVsf+etx/30v+FH/CK2P/AD1uP++l/wAKKKLIOefcP+EVsf8Anrcf99L/AIUf8IrY/wDPW4/76X/CiiiyDnn3D/hFbH/nrcf99L/hTJ/DFlFbySLLPlULDLDsPpRRTsg9pPuP/wCEVsf+etx/30v+FH/CK2P/AD1uP++l/wAKKKVkHPPuH/CK2P8Az1uP++l/wo/4RWx/563H/fS/4UUUWQc8+4f8IrY/89bj/vpf8KP+EVsf+etx/wB9L/hRRRZBzz7h/wAIrY/89bj/AL6X/Cj/AIRWx/563H/fS/4UUUWQc8+4f8IrY/8APW4/76X/AAo/4RWx/wCetx/30v8AhRRRZBzz7h/witj/AM9bj/vpf8KP+EVsf+etx/30v+FFFFkHPPuH/CK2P/PW4/76X/Cj/hFbH/nrcf8AfS/4UUUWQc8+4f8ACK2P/PW4/wC+l/wo/wCEVsf+etx/30v+FFFFkHPPuH/CK2P/AD1uP++l/wAKZJ4YskkiAlnw77T8w/uk+ntRRTsg559x/wDwitj/AM9bj/vpf8KP+EVsf+etx/30v+FFFKyDnn3D/hFbH/nrcf8AfS/4Uf8ACK2P/PW4/wC+l/wooosg559w/wCEVsf+etx/30v+FH/CK2P/AD1uP++l/wAKKKLIOefcP+EVsf8Anrcf99L/AIUf8IrY/wDPW4/76X/CiiiyDnn3D/hFbH/nrcf99L/hR/witj/z1uP++l/wooosg559w/4RWx/563H/AH0v+FH/AAitj/z1uP8Avpf8KKKLIOefcP8AhFbH/nrcf99L/hR/witj/wA9bj/vpf8ACiiiyDnn3D/hFbH/AJ63H/fS/wCFH/CK2P8Az1uP++l/wooosg559w/4RWx/563H/fS/4Uf8IrY/89bj/vpf8KKKLIOefcP+EVsf+etx/wB9L/hR/wAIrY/89bj/AL6X/CiiiyDnn3D/AIRWx/563H/fS/4Uf8IrY/8APW4/76X/AAooosg559w/4RWx/wCetx/30v8AhR/witj/AM9bj/vpf8KKKLIOefcP+EVsf+etx/30v+FH/CK2P/PW4/76X/CiiiyDnn3D/hFbH/nrcf8AfS/4Uf8ACK2P/PW4/wC+l/wooosg559w/wCEVsf+etx/30v+FH/CK2P/AD1uP++l/wAKKKLIOefcP+EVsf8Anrcf99L/AIUf8IrY/wDPW4/76X/CiiiyDnn3D/hFbH/nrcf99L/hR/witj/z1uP++l/wooosg559w/4RWx/563H/AH0v+FH/AAitj/z1uP8Avpf8KKKLIOefcP8AhFbH/nrcf99L/hR/witj/wA9bj/vpf8ACiiiyDnn3D/hFbH/AJ63H/fS/wCFH/CK2P8Az1uP++l/wooosg559w/4RWx/563H/fS/4Uf8IrY/89bj/vpf8KKKLIOefcP+EVsf+etx/wB9L/hR/wAIrY/89bj/AL6X/CiiiyDnn3D/AIRWx/563H/fS/4Uf8IrY/8APW4/76X/AAooosg559w/4RWx/wCetx/30v8AhR/witj/AM9bj/vpf8KKKLIOefcP+EVsf+etx/30v+FH/CK2P/PW4/76X/CiiiyDnn3D/hFbH/nrcf8AfS/4Uf8ACK2P/PW4/wC+l/wooosg559w/wCEVsf+etx/30v+FH/CK2P/AD1uP++l/wAKKKLIOefcP+EVsf8Anrcf99L/AIUf8IrY/wDPW4/76X/CiiiyDnn3D/hFbH/nrcf99L/hR/witj/z1uP++l/wooosg559w/4RWx/563H/AH0v+FH/AAitj/z1uP8Avpf8KKKLIOefcP8AhFbH/nrcf99L/hR/witj/wA9bj/vpf8ACiiiyDnn3D/hFbH/AJ63H/fS/wCFH/CK2P8Az1uP++l/wooosg559w/4RWx/563H/fS/4Uf8IrY/89bj/vpf8KKKLIOefcZN4Yso4wVlnyXVeWHdgPT3p/8Awitj/wA9bj/vpf8ACiinZB7SfcP+EVsf+etx/wB9L/hR/wAIrY/89bj/AL6X/CiilZBzz7h/witj/wA9bj/vpf8ACj/hFbH/AJ63H/fS/wCFFFFkHPPuH/CK2P8Az1uP++l/wo/4RWx/563H/fS/4UUUWQc8+4f8IrY/89bj/vpf8KP+EVsf+etx/wB9L/hRRRZBzz7h/wAIrY/89bj/AL6X/Cj/AIRWx/563H/fS/4UUUWQc8+4f8IrY/8APW4/76X/AAo/4RWx/wCetx/30v8AhRRRZBzz7h/witj/AM9bj/vpf8KP+EVsf+etx/30v+FFFFkHPPuH/CK2P/PW4/76X/Cj/hFbH/nrcf8AfS/4UUUWQc8+4f8ACK2P/PW4/wC+l/wo/wCEVsf+etx/30v+FFFFkHPPuMPhiyFwkfmz4ZGY/MOxHt70/wD4RWx/563H/fS/4UUU7IOefcP+EVsf+etx/wB9L/hR/wAIrY/89bj/AL6X/CiilZBzz7h/witj/wA9bj/vpf8ACj/hFbH/AJ63H/fS/wCFFFFkHPPuH/CK2P8Az1uP++l/wo/4RWx/563H/fS/4UUUWQc8+4f8IrY/89bj/vpf8KP+EVsf+etx/wB9L/hRRRZBzz7h/wAIrY/89bj/AL6X/Cj/AIRWx/563H/fS/4UUUWQc8+4f8IrY/8APW4/76X/AAo/4RWx/wCetx/30v8AhRRRZBzz7h/witj/AM9bj/vpf8KP+EVsf+etx/30v+FFFFkHPPufM/xbtEsfilq9vEWKJ5OCx55hQ/1ooordbHk1NZv1P//Z)"
      ]
    },
    {
      "cell_type": "code",
      "metadata": {
        "id": "iAbv8w9_LIkG",
        "colab": {
          "base_uri": "https://localhost:8080/",
          "height": 198
        },
        "outputId": "d5f8187b-97d8-4068-c629-fecf5ae1aa37"
      },
      "source": [
        "hit_price_cor = prd[['HITS_SEQ', 'TOT_PRICE']] #또는 prd.loc[;,['HITS_SEQ', 'TOT_PRICE']]\n",
        "hit_price_cor.head()"
      ],
      "execution_count": null,
      "outputs": [
        {
          "output_type": "execute_result",
          "data": {
            "text/html": [
              "<div>\n",
              "<style scoped>\n",
              "    .dataframe tbody tr th:only-of-type {\n",
              "        vertical-align: middle;\n",
              "    }\n",
              "\n",
              "    .dataframe tbody tr th {\n",
              "        vertical-align: top;\n",
              "    }\n",
              "\n",
              "    .dataframe thead th {\n",
              "        text-align: right;\n",
              "    }\n",
              "</style>\n",
              "<table border=\"1\" class=\"dataframe\">\n",
              "  <thead>\n",
              "    <tr style=\"text-align: right;\">\n",
              "      <th></th>\n",
              "      <th>HITS_SEQ</th>\n",
              "      <th>TOT_PRICE</th>\n",
              "    </tr>\n",
              "  </thead>\n",
              "  <tbody>\n",
              "    <tr>\n",
              "      <th>0</th>\n",
              "      <td>12</td>\n",
              "      <td>39000</td>\n",
              "    </tr>\n",
              "    <tr>\n",
              "      <th>1</th>\n",
              "      <td>13</td>\n",
              "      <td>78000</td>\n",
              "    </tr>\n",
              "    <tr>\n",
              "      <th>2</th>\n",
              "      <td>85</td>\n",
              "      <td>39000</td>\n",
              "    </tr>\n",
              "    <tr>\n",
              "      <th>3</th>\n",
              "      <td>12</td>\n",
              "      <td>39000</td>\n",
              "    </tr>\n",
              "    <tr>\n",
              "      <th>4</th>\n",
              "      <td>78</td>\n",
              "      <td>195000</td>\n",
              "    </tr>\n",
              "  </tbody>\n",
              "</table>\n",
              "</div>"
            ],
            "text/plain": [
              "   HITS_SEQ  TOT_PRICE\n",
              "0        12      39000\n",
              "1        13      78000\n",
              "2        85      39000\n",
              "3        12      39000\n",
              "4        78     195000"
            ]
          },
          "metadata": {
            "tags": []
          },
          "execution_count": 10
        }
      ]
    },
    {
      "cell_type": "code",
      "metadata": {
        "id": "D99dSVOjWXoD",
        "colab": {
          "base_uri": "https://localhost:8080/",
          "height": 108
        },
        "outputId": "cbbf4be4-5684-4676-848d-e596177030a3"
      },
      "source": [
        "hit_price_cor.corr(method='pearson') #왓더 -0.025"
      ],
      "execution_count": null,
      "outputs": [
        {
          "output_type": "execute_result",
          "data": {
            "text/html": [
              "<div>\n",
              "<style scoped>\n",
              "    .dataframe tbody tr th:only-of-type {\n",
              "        vertical-align: middle;\n",
              "    }\n",
              "\n",
              "    .dataframe tbody tr th {\n",
              "        vertical-align: top;\n",
              "    }\n",
              "\n",
              "    .dataframe thead th {\n",
              "        text-align: right;\n",
              "    }\n",
              "</style>\n",
              "<table border=\"1\" class=\"dataframe\">\n",
              "  <thead>\n",
              "    <tr style=\"text-align: right;\">\n",
              "      <th></th>\n",
              "      <th>HITS_SEQ</th>\n",
              "      <th>TOT_PRICE</th>\n",
              "    </tr>\n",
              "  </thead>\n",
              "  <tbody>\n",
              "    <tr>\n",
              "      <th>HITS_SEQ</th>\n",
              "      <td>1.000000</td>\n",
              "      <td>-0.025467</td>\n",
              "    </tr>\n",
              "    <tr>\n",
              "      <th>TOT_PRICE</th>\n",
              "      <td>-0.025467</td>\n",
              "      <td>1.000000</td>\n",
              "    </tr>\n",
              "  </tbody>\n",
              "</table>\n",
              "</div>"
            ],
            "text/plain": [
              "           HITS_SEQ  TOT_PRICE\n",
              "HITS_SEQ   1.000000  -0.025467\n",
              "TOT_PRICE -0.025467   1.000000"
            ]
          },
          "metadata": {
            "tags": []
          },
          "execution_count": 11
        }
      ]
    },
    {
      "cell_type": "code",
      "metadata": {
        "id": "g3Szy8WnXFWj",
        "colab": {
          "base_uri": "https://localhost:8080/",
          "height": 288
        },
        "outputId": "8757a3c6-d860-4789-bbb9-90e54c881af7"
      },
      "source": [
        "des = prd[['HITS_SEQ','PD_BUY_AM','PD_BUY_CT','TOT_PRICE']].describe()\n",
        "pd.options.display.float_format = '{:.2f}'.format #소수점 두번째까지 표시\n",
        "des"
      ],
      "execution_count": null,
      "outputs": [
        {
          "output_type": "execute_result",
          "data": {
            "text/html": [
              "<div>\n",
              "<style scoped>\n",
              "    .dataframe tbody tr th:only-of-type {\n",
              "        vertical-align: middle;\n",
              "    }\n",
              "\n",
              "    .dataframe tbody tr th {\n",
              "        vertical-align: top;\n",
              "    }\n",
              "\n",
              "    .dataframe thead th {\n",
              "        text-align: right;\n",
              "    }\n",
              "</style>\n",
              "<table border=\"1\" class=\"dataframe\">\n",
              "  <thead>\n",
              "    <tr style=\"text-align: right;\">\n",
              "      <th></th>\n",
              "      <th>HITS_SEQ</th>\n",
              "      <th>PD_BUY_AM</th>\n",
              "      <th>PD_BUY_CT</th>\n",
              "      <th>TOT_PRICE</th>\n",
              "    </tr>\n",
              "  </thead>\n",
              "  <tbody>\n",
              "    <tr>\n",
              "      <th>count</th>\n",
              "      <td>5024906.00</td>\n",
              "      <td>5024906.00</td>\n",
              "      <td>5024906.00</td>\n",
              "      <td>5024906.00</td>\n",
              "    </tr>\n",
              "    <tr>\n",
              "      <th>mean</th>\n",
              "      <td>81.26</td>\n",
              "      <td>51349.45</td>\n",
              "      <td>1.18</td>\n",
              "      <td>54089.34</td>\n",
              "    </tr>\n",
              "    <tr>\n",
              "      <th>std</th>\n",
              "      <td>85.94</td>\n",
              "      <td>117383.57</td>\n",
              "      <td>3.07</td>\n",
              "      <td>127671.25</td>\n",
              "    </tr>\n",
              "    <tr>\n",
              "      <th>min</th>\n",
              "      <td>1.00</td>\n",
              "      <td>10.00</td>\n",
              "      <td>1.00</td>\n",
              "      <td>10.00</td>\n",
              "    </tr>\n",
              "    <tr>\n",
              "      <th>25%</th>\n",
              "      <td>24.00</td>\n",
              "      <td>12900.00</td>\n",
              "      <td>1.00</td>\n",
              "      <td>14000.00</td>\n",
              "    </tr>\n",
              "    <tr>\n",
              "      <th>50%</th>\n",
              "      <td>50.00</td>\n",
              "      <td>28000.00</td>\n",
              "      <td>1.00</td>\n",
              "      <td>29000.00</td>\n",
              "    </tr>\n",
              "    <tr>\n",
              "      <th>75%</th>\n",
              "      <td>104.00</td>\n",
              "      <td>49900.00</td>\n",
              "      <td>1.00</td>\n",
              "      <td>53000.00</td>\n",
              "    </tr>\n",
              "    <tr>\n",
              "      <th>max</th>\n",
              "      <td>500.00</td>\n",
              "      <td>17779000.00</td>\n",
              "      <td>1440.00</td>\n",
              "      <td>39000000.00</td>\n",
              "    </tr>\n",
              "  </tbody>\n",
              "</table>\n",
              "</div>"
            ],
            "text/plain": [
              "        HITS_SEQ   PD_BUY_AM  PD_BUY_CT   TOT_PRICE\n",
              "count 5024906.00  5024906.00 5024906.00  5024906.00\n",
              "mean       81.26    51349.45       1.18    54089.34\n",
              "std        85.94   117383.57       3.07   127671.25\n",
              "min         1.00       10.00       1.00       10.00\n",
              "25%        24.00    12900.00       1.00    14000.00\n",
              "50%        50.00    28000.00       1.00    29000.00\n",
              "75%       104.00    49900.00       1.00    53000.00\n",
              "max       500.00 17779000.00    1440.00 39000000.00"
            ]
          },
          "metadata": {
            "tags": []
          },
          "execution_count": 12
        }
      ]
    },
    {
      "cell_type": "code",
      "metadata": {
        "id": "F77R7XFrv4f7",
        "colab": {
          "base_uri": "https://localhost:8080/",
          "height": 574
        },
        "outputId": "21578399-bb35-426a-d043-30380defde2c"
      },
      "source": [
        "prd[prd['PD_BUY_AM']==17779000] # 1777만 9천원짜리 시계 FLEX\n",
        "prd[prd['PD_BUY_CT']==1440] #prd['PD_BUY_CT'].idxmax() 몇 번째 행이 최대인지만 나옴.\n",
        "prd.loc[prd['TOT_PRICE'].idxmax()] #정관장 10만원짜리를 390개를 샀음. \n",
        "prd.loc[prd['HITS_SEQ'].idxmax()] #900원짜리 구매하는데 클릭이 500번?"
      ],
      "execution_count": null,
      "outputs": [
        {
          "output_type": "execute_result",
          "data": {
            "text/html": [
              "<div>\n",
              "<style scoped>\n",
              "    .dataframe tbody tr th:only-of-type {\n",
              "        vertical-align: middle;\n",
              "    }\n",
              "\n",
              "    .dataframe tbody tr th {\n",
              "        vertical-align: top;\n",
              "    }\n",
              "\n",
              "    .dataframe thead th {\n",
              "        text-align: right;\n",
              "    }\n",
              "</style>\n",
              "<table border=\"1\" class=\"dataframe\">\n",
              "  <thead>\n",
              "    <tr style=\"text-align: right;\">\n",
              "      <th></th>\n",
              "      <th>CLNT_ID</th>\n",
              "      <th>SESS_ID</th>\n",
              "      <th>HITS_SEQ</th>\n",
              "      <th>PD_C</th>\n",
              "      <th>PD_ADD_NM</th>\n",
              "      <th>PD_BRA_NM</th>\n",
              "      <th>PD_BUY_AM</th>\n",
              "      <th>PD_BUY_CT</th>\n",
              "      <th>TOT_PRICE</th>\n",
              "    </tr>\n",
              "  </thead>\n",
              "  <tbody>\n",
              "    <tr>\n",
              "      <th>3424550</th>\n",
              "      <td>0929827</td>\n",
              "      <td>00609951</td>\n",
              "      <td>57</td>\n",
              "      <td>51344</td>\n",
              "      <td>1개</td>\n",
              "      <td>프레드릭콘스탄트(시계)</td>\n",
              "      <td>17779000</td>\n",
              "      <td>1</td>\n",
              "      <td>17779000</td>\n",
              "    </tr>\n",
              "  </tbody>\n",
              "</table>\n",
              "</div>"
            ],
            "text/plain": [
              "         CLNT_ID   SESS_ID  HITS_SEQ  ...  PD_BUY_AM PD_BUY_CT TOT_PRICE\n",
              "3424550  0929827  00609951        57  ...   17779000         1  17779000\n",
              "\n",
              "[1 rows x 9 columns]"
            ]
          },
          "metadata": {
            "tags": []
          },
          "execution_count": 13
        },
        {
          "output_type": "execute_result",
          "data": {
            "text/html": [
              "<div>\n",
              "<style scoped>\n",
              "    .dataframe tbody tr th:only-of-type {\n",
              "        vertical-align: middle;\n",
              "    }\n",
              "\n",
              "    .dataframe tbody tr th {\n",
              "        vertical-align: top;\n",
              "    }\n",
              "\n",
              "    .dataframe thead th {\n",
              "        text-align: right;\n",
              "    }\n",
              "</style>\n",
              "<table border=\"1\" class=\"dataframe\">\n",
              "  <thead>\n",
              "    <tr style=\"text-align: right;\">\n",
              "      <th></th>\n",
              "      <th>CLNT_ID</th>\n",
              "      <th>SESS_ID</th>\n",
              "      <th>HITS_SEQ</th>\n",
              "      <th>PD_C</th>\n",
              "      <th>PD_ADD_NM</th>\n",
              "      <th>PD_BRA_NM</th>\n",
              "      <th>PD_BUY_AM</th>\n",
              "      <th>PD_BUY_CT</th>\n",
              "      <th>TOT_PRICE</th>\n",
              "    </tr>\n",
              "  </thead>\n",
              "  <tbody>\n",
              "    <tr>\n",
              "      <th>29649</th>\n",
              "      <td>3007548</td>\n",
              "      <td>03553431</td>\n",
              "      <td>112</td>\n",
              "      <td>643396</td>\n",
              "      <td>원단선택:91번|손잡이선택:좌측|설치공간:천정목재 / 1440개</td>\n",
              "      <td>리드센스</td>\n",
              "      <td>100</td>\n",
              "      <td>1440</td>\n",
              "      <td>144000</td>\n",
              "    </tr>\n",
              "  </tbody>\n",
              "</table>\n",
              "</div>"
            ],
            "text/plain": [
              "       CLNT_ID   SESS_ID  HITS_SEQ  ...  PD_BUY_AM PD_BUY_CT TOT_PRICE\n",
              "29649  3007548  03553431       112  ...        100      1440    144000\n",
              "\n",
              "[1 rows x 9 columns]"
            ]
          },
          "metadata": {
            "tags": []
          },
          "execution_count": 13
        },
        {
          "output_type": "execute_result",
          "data": {
            "text/plain": [
              "CLNT_ID       0820884\n",
              "SESS_ID      05051994\n",
              "HITS_SEQ           47\n",
              "PD_C             1955\n",
              "PD_ADD_NM        390개\n",
              "PD_BRA_NM         정관장\n",
              "PD_BUY_AM      100000\n",
              "PD_BUY_CT         390\n",
              "TOT_PRICE    39000000\n",
              "Name: 2479620, dtype: object"
            ]
          },
          "metadata": {
            "tags": []
          },
          "execution_count": 13
        },
        {
          "output_type": "execute_result",
          "data": {
            "text/plain": [
              "CLNT_ID                 4598302\n",
              "SESS_ID                01328757\n",
              "HITS_SEQ                    500\n",
              "PD_C                     460049\n",
              "PD_ADD_NM    색상/사이즈:그린/100 / 1개\n",
              "PD_BRA_NM                   포인포\n",
              "PD_BUY_AM                   900\n",
              "PD_BUY_CT                     1\n",
              "TOT_PRICE                   900\n",
              "Name: 6223, dtype: object"
            ]
          },
          "metadata": {
            "tags": []
          },
          "execution_count": 13
        }
      ]
    },
    {
      "cell_type": "code",
      "metadata": {
        "id": "r9nGb_9Kk3M9",
        "colab": {
          "base_uri": "https://localhost:8080/"
        },
        "outputId": "8781fec8-99bf-4e15-a78e-502d75811003"
      },
      "source": [
        "from collections import Counter \n",
        "cnt_PBA = Counter(prd['PD_BUY_AM'])\n",
        "cnt_PBA.most_common(10)\n",
        "# 역시 가격은 9, 5가 많이 들어가는듯 \n",
        "# 9 -> 10-1=9, 100-1=99와 같이 마지막 조금만 빼도 첫째 자리수가 달라지기 때문에 생각보다 할인을 많이한 기분\n",
        "# 5 -> 인간의 손가락, 발가락 모두 한 쪽 당 5개 단위임. 셈을 할 때 5단위가 깔끔해보이는게 직관적(뇌피셜)\n",
        "# 근데 비슷한 품목인데 9500원이 9400원보다 잘 팔리는지는 온라인이든 오프라인이든 실시간으로 심리실험해봐야함. \n",
        "# 본 데이터에서는 비슷한 품목 두 개 중 어느 것이 더 잘 팔렸는지를 알아보는 것은 어렵다. 외생변수(외부 정보탐색 가능성, 또 외부 정보탐색 후 접속 전 구매결정 여부 등) 통제 안됨. 또 실험집단의 구성에도 문제. "
      ],
      "execution_count": null,
      "outputs": [
        {
          "output_type": "execute_result",
          "data": {
            "text/plain": [
              "[(9900, 98237),\n",
              " (39000, 94571),\n",
              " (10000, 89746),\n",
              " (29000, 85759),\n",
              " (15000, 82161),\n",
              " (19000, 76530),\n",
              " (30000, 67577),\n",
              " (49000, 61942),\n",
              " (35000, 58117),\n",
              " (19900, 53908)]"
            ]
          },
          "metadata": {
            "tags": []
          },
          "execution_count": 16
        }
      ]
    },
    {
      "cell_type": "code",
      "metadata": {
        "id": "qlxNlv_im1bR",
        "colab": {
          "base_uri": "https://localhost:8080/"
        },
        "outputId": "8fe500a8-94e6-4e08-e069-73c345c7cb8b"
      },
      "source": [
        "cnt_PBC = Counter(prd['PD_BUY_CT'])\n",
        "cnt_PBC.most_common(20)\n",
        "# 구매 수량의 빈도를 기준으로 20위까지 나열했을 때 1~20개의 빈도가 대부분일 줄 알았는데 1~16까지 있고 17, 18, 19개가 순위에 들지 못했다. \n",
        "# 10위까지로 범위를 더 줄여보면 1~5개까지는 순서대로 가고 10개를 산 경우가 6, 7, 8개를 산 경우 보다 많다. 9개를 산 경우는 아예 10위권에 들지도 못함. \n",
        "# 5개 이상은 5 또는 10개 단위로 구매하는 것을 선호하는 경향이 손가락, 발가락 개수 때문이라는건 아직까지 내 뇌피셜이기 때문에 연구결과 한 번 찾아봐야함. \n",
        "# 또 가격, 품목의 영향을 받았을 가능성이 농후하다. "
      ],
      "execution_count": null,
      "outputs": [
        {
          "output_type": "execute_result",
          "data": {
            "text/plain": [
              "[(1, 4676575),\n",
              " (2, 225930),\n",
              " (3, 58163),\n",
              " (4, 19915),\n",
              " (5, 19352),\n",
              " (10, 6953),\n",
              " (6, 5554),\n",
              " (7, 2237),\n",
              " (8, 1798),\n",
              " (20, 1626),\n",
              " (15, 950),\n",
              " (12, 805),\n",
              " (30, 676),\n",
              " (9, 576),\n",
              " (11, 386),\n",
              " (50, 268),\n",
              " (14, 247),\n",
              " (25, 220),\n",
              " (13, 219),\n",
              " (16, 213)]"
            ]
          },
          "metadata": {
            "tags": []
          },
          "execution_count": 17
        }
      ]
    },
    {
      "cell_type": "code",
      "metadata": {
        "id": "G5MyyvflAEIZ",
        "colab": {
          "base_uri": "https://localhost:8080/",
          "height": 378
        },
        "outputId": "aab3a877-571e-4e80-cb74-d3da91c7cbfc"
      },
      "source": [
        "#Product_각 상품 가격과 구매량 간의 상관관계 \n",
        "prdcorr=prd[['PD_BUY_AM', \"PD_BUY_CT\"]].corr(method='pearson')\n",
        "prdcorr\n",
        "\n",
        "df_heatmap = sns.heatmap(prdcorr, cbar = True, annot = True, annot_kws={'size' : 20}, fmt = '.2f', square = True, cmap = 'Blues')\n",
        "df_heatmap #굳이 그려봤음. \n",
        "\n",
        "#전체 상품과 구매량 간의 상관관계는 음의 방향으로 크지 않다. 가격이 높을수록 구매수량이 줄어들게 분명하고 1000원 미만의 상품들을 대량구매한 경우도 얼핏 보였기 때문에 음의 상관관계가 클 것으로 예상했으나, 전혀 아니었다. \n"
      ],
      "execution_count": null,
      "outputs": [
        {
          "output_type": "execute_result",
          "data": {
            "text/html": [
              "<div>\n",
              "<style scoped>\n",
              "    .dataframe tbody tr th:only-of-type {\n",
              "        vertical-align: middle;\n",
              "    }\n",
              "\n",
              "    .dataframe tbody tr th {\n",
              "        vertical-align: top;\n",
              "    }\n",
              "\n",
              "    .dataframe thead th {\n",
              "        text-align: right;\n",
              "    }\n",
              "</style>\n",
              "<table border=\"1\" class=\"dataframe\">\n",
              "  <thead>\n",
              "    <tr style=\"text-align: right;\">\n",
              "      <th></th>\n",
              "      <th>PD_BUY_AM</th>\n",
              "      <th>PD_BUY_CT</th>\n",
              "    </tr>\n",
              "  </thead>\n",
              "  <tbody>\n",
              "    <tr>\n",
              "      <th>PD_BUY_AM</th>\n",
              "      <td>1.00</td>\n",
              "      <td>-0.02</td>\n",
              "    </tr>\n",
              "    <tr>\n",
              "      <th>PD_BUY_CT</th>\n",
              "      <td>-0.02</td>\n",
              "      <td>1.00</td>\n",
              "    </tr>\n",
              "  </tbody>\n",
              "</table>\n",
              "</div>"
            ],
            "text/plain": [
              "           PD_BUY_AM  PD_BUY_CT\n",
              "PD_BUY_AM       1.00      -0.02\n",
              "PD_BUY_CT      -0.02       1.00"
            ]
          },
          "metadata": {
            "tags": []
          },
          "execution_count": 18
        },
        {
          "output_type": "execute_result",
          "data": {
            "text/plain": [
              "<matplotlib.axes._subplots.AxesSubplot at 0x7fd7eaea3e10>"
            ]
          },
          "metadata": {
            "tags": []
          },
          "execution_count": 18
        },
        {
          "output_type": "display_data",
          "data": {
            "image/png": "[encoded data removed]",
            "text/plain": [
              "<Figure size 432x288 with 2 Axes>"
            ]
          },
          "metadata": {
            "tags": [],
            "needs_background": "light"
          }
        }
      ]
    },
    {
      "cell_type": "markdown",
      "metadata": {
        "id": "nlhIQJPbcARk"
      },
      "source": [
        "### 1.Product_2\n",
        "#### 1.2 Product와 join할 수 있는 것들 \n",
        "##### Access를 통해 쿼리를 쉽게 짜면서 꿀빨려고 했으나 이렇게 큰 데이터셋은 감당이 되지 않아 빨리 SQL을 조금이라도 배워서 하지 않는 이상 파이썬으로 해야할 듯. \n",
        "\n",
        "1. Product*Master : PD_C 기준으로 병합이 가능함. 품목별 구매 가격과 양, Hit 수 등을 알 수 있음. \n",
        "2. Product*Custom : CLNT_ID 기준으로 병합이 가능함. 구매 이력에 더해 고객에 대한 정보를 더 상세하게 할 수 있음. \n",
        "3. Product*Session : CLNT_ID, SESS_ID \n",
        "4. Product^Search1 : \n"
      ]
    },
    {
      "cell_type": "code",
      "metadata": {
        "id": "e91zedSPzwmm"
      },
      "source": [
        "mastercsv='/content/drive/My Drive/DataSet/Lpoint/data/Master.csv'\n",
        "master = pd.read_csv(mastercsv)"
      ],
      "execution_count": null,
      "outputs": []
    },
    {
      "cell_type": "markdown",
      "metadata": {
        "id": "kd4kXItEhla_"
      },
      "source": [
        "##### 1. Product*Master\n",
        "###### 대분류(CLAC1_NM)도 37개나 되기 때문에 줄일 필요가 있다."
      ]
    },
    {
      "cell_type": "code",
      "metadata": {
        "id": "zRdzIgA7hkHt"
      },
      "source": [
        "#11.9\n",
        "#어떤 기준으로 대대분류를 추가하면 좋을지 찾아봐야함. 네이버 쇼핑도 좋은데 더 공식적인 것이면 좋을 것 같음. \n",
        "#"
      ],
      "execution_count": null,
      "outputs": []
    },
    {
      "cell_type": "code",
      "metadata": {
        "id": "22UXkMVoYWU-",
        "colab": {
          "base_uri": "https://localhost:8080/",
          "height": 305
        },
        "outputId": "deb55eb9-6979-4455-8abf-69c48425732d"
      },
      "source": [
        "# Product와 Master의 병합\n",
        "prdmaster = pd.merge(prd,master[[\"PD_C\", \"CLAC1_NM\"]],on=['PD_C'],how='left')\n",
        "prdmaster.head()"
      ],
      "execution_count": null,
      "outputs": [
        {
          "output_type": "execute_result",
          "data": {
            "text/html": [
              "<div>\n",
              "<style scoped>\n",
              "    .dataframe tbody tr th:only-of-type {\n",
              "        vertical-align: middle;\n",
              "    }\n",
              "\n",
              "    .dataframe tbody tr th {\n",
              "        vertical-align: top;\n",
              "    }\n",
              "\n",
              "    .dataframe thead th {\n",
              "        text-align: right;\n",
              "    }\n",
              "</style>\n",
              "<table border=\"1\" class=\"dataframe\">\n",
              "  <thead>\n",
              "    <tr style=\"text-align: right;\">\n",
              "      <th></th>\n",
              "      <th>CLNT_ID</th>\n",
              "      <th>SESS_ID</th>\n",
              "      <th>HITS_SEQ</th>\n",
              "      <th>PD_C</th>\n",
              "      <th>PD_ADD_NM</th>\n",
              "      <th>PD_BRA_NM</th>\n",
              "      <th>PD_BUY_AM</th>\n",
              "      <th>PD_BUY_CT</th>\n",
              "      <th>TOT_PRICE</th>\n",
              "      <th>CLAC1_NM</th>\n",
              "    </tr>\n",
              "  </thead>\n",
              "  <tbody>\n",
              "    <tr>\n",
              "      <th>0</th>\n",
              "      <td>4139680</td>\n",
              "      <td>07605037</td>\n",
              "      <td>12</td>\n",
              "      <td>642112</td>\n",
              "      <td>색상:워터멜론</td>\n",
              "      <td>[바비브라운]</td>\n",
              "      <td>39000</td>\n",
              "      <td>1</td>\n",
              "      <td>39000</td>\n",
              "      <td>화장품/뷰티케어</td>\n",
              "    </tr>\n",
              "    <tr>\n",
              "      <th>1</th>\n",
              "      <td>4140076</td>\n",
              "      <td>10189797</td>\n",
              "      <td>13</td>\n",
              "      <td>570603</td>\n",
              "      <td>색상:BLK0_(BLK0)BLACK|사이즈:120 / 2개</td>\n",
              "      <td>데상트</td>\n",
              "      <td>39000</td>\n",
              "      <td>2</td>\n",
              "      <td>78000</td>\n",
              "      <td>스포츠패션</td>\n",
              "    </tr>\n",
              "    <tr>\n",
              "      <th>2</th>\n",
              "      <td>4142395</td>\n",
              "      <td>06158159</td>\n",
              "      <td>85</td>\n",
              "      <td>179538</td>\n",
              "      <td>(not set)</td>\n",
              "      <td>[아베다]</td>\n",
              "      <td>39000</td>\n",
              "      <td>1</td>\n",
              "      <td>39000</td>\n",
              "      <td>퍼스널케어</td>\n",
              "    </tr>\n",
              "    <tr>\n",
              "      <th>3</th>\n",
              "      <td>4144914</td>\n",
              "      <td>07935714</td>\n",
              "      <td>12</td>\n",
              "      <td>554336</td>\n",
              "      <td>색상:블랙|사이즈:160cm(12~13세) / 1개</td>\n",
              "      <td>아디다스 키즈</td>\n",
              "      <td>39000</td>\n",
              "      <td>1</td>\n",
              "      <td>39000</td>\n",
              "      <td>유아동의류</td>\n",
              "    </tr>\n",
              "    <tr>\n",
              "      <th>4</th>\n",
              "      <td>4144917</td>\n",
              "      <td>06406509</td>\n",
              "      <td>78</td>\n",
              "      <td>190306</td>\n",
              "      <td>5개</td>\n",
              "      <td>데코르테</td>\n",
              "      <td>39000</td>\n",
              "      <td>5</td>\n",
              "      <td>195000</td>\n",
              "      <td>화장품/뷰티케어</td>\n",
              "    </tr>\n",
              "  </tbody>\n",
              "</table>\n",
              "</div>"
            ],
            "text/plain": [
              "   CLNT_ID   SESS_ID  HITS_SEQ  ...  PD_BUY_CT TOT_PRICE  CLAC1_NM\n",
              "0  4139680  07605037        12  ...          1     39000  화장품/뷰티케어\n",
              "1  4140076  10189797        13  ...          2     78000     스포츠패션\n",
              "2  4142395  06158159        85  ...          1     39000     퍼스널케어\n",
              "3  4144914  07935714        12  ...          1     39000     유아동의류\n",
              "4  4144917  06406509        78  ...          5    195000  화장품/뷰티케어\n",
              "\n",
              "[5 rows x 10 columns]"
            ]
          },
          "metadata": {
            "tags": []
          },
          "execution_count": 21
        }
      ]
    },
    {
      "cell_type": "code",
      "metadata": {
        "id": "a0C8G9Pp2BCj",
        "colab": {
          "base_uri": "https://localhost:8080/"
        },
        "outputId": "c150fc03-7737-406b-caae-032aa1fcf6a6"
      },
      "source": [
        "#행 변화 없음\n",
        "prd.shape\n",
        "prdmaster.shape"
      ],
      "execution_count": null,
      "outputs": [
        {
          "output_type": "execute_result",
          "data": {
            "text/plain": [
              "(5024906, 9)"
            ]
          },
          "metadata": {
            "tags": []
          },
          "execution_count": 22
        },
        {
          "output_type": "execute_result",
          "data": {
            "text/plain": [
              "(5024906, 10)"
            ]
          },
          "metadata": {
            "tags": []
          },
          "execution_count": 22
        }
      ]
    },
    {
      "cell_type": "code",
      "metadata": {
        "id": "gjOeWV9G5PQq",
        "colab": {
          "base_uri": "https://localhost:8080/",
          "height": 1000
        },
        "outputId": "3e9f5cf3-ca6c-4a6f-8823-027a76169c87"
      },
      "source": [
        "#대분류에 따른 구매이력\n",
        "prdmaster['CLAC1_NM'] = prdmaster['CLAC1_NM'].astype('category')\n",
        "clntbyclac1 = pd.DataFrame(prdmaster[['CLAC1_NM','CLNT_ID']].groupby(['CLAC1_NM']).count())\n",
        "clntbyclac1['CLNT_ID'].sum() #본 데이터셋에서 총 구매 빈도(이력)은 502만 4906번 \n",
        "clntbyclac1['PER'] =(clntbyclac1['CLNT_ID']/5024906)*100\n",
        "clntbyclac1.sort_values(by='PER', ascending=False)\n"
      ],
      "execution_count": null,
      "outputs": [
        {
          "output_type": "execute_result",
          "data": {
            "text/plain": [
              "5024906"
            ]
          },
          "metadata": {
            "tags": []
          },
          "execution_count": 23
        },
        {
          "output_type": "execute_result",
          "data": {
            "text/html": [
              "<div>\n",
              "<style scoped>\n",
              "    .dataframe tbody tr th:only-of-type {\n",
              "        vertical-align: middle;\n",
              "    }\n",
              "\n",
              "    .dataframe tbody tr th {\n",
              "        vertical-align: top;\n",
              "    }\n",
              "\n",
              "    .dataframe thead th {\n",
              "        text-align: right;\n",
              "    }\n",
              "</style>\n",
              "<table border=\"1\" class=\"dataframe\">\n",
              "  <thead>\n",
              "    <tr style=\"text-align: right;\">\n",
              "      <th></th>\n",
              "      <th>CLNT_ID</th>\n",
              "      <th>PER</th>\n",
              "    </tr>\n",
              "    <tr>\n",
              "      <th>CLAC1_NM</th>\n",
              "      <th></th>\n",
              "      <th></th>\n",
              "    </tr>\n",
              "  </thead>\n",
              "  <tbody>\n",
              "    <tr>\n",
              "      <th>여성의류</th>\n",
              "      <td>677199</td>\n",
              "      <td>13.48</td>\n",
              "    </tr>\n",
              "    <tr>\n",
              "      <th>화장품/뷰티케어</th>\n",
              "      <td>574033</td>\n",
              "      <td>11.42</td>\n",
              "    </tr>\n",
              "    <tr>\n",
              "      <th>스포츠패션</th>\n",
              "      <td>564355</td>\n",
              "      <td>11.23</td>\n",
              "    </tr>\n",
              "    <tr>\n",
              "      <th>남성의류</th>\n",
              "      <td>554910</td>\n",
              "      <td>11.04</td>\n",
              "    </tr>\n",
              "    <tr>\n",
              "      <th>패션잡화</th>\n",
              "      <td>449032</td>\n",
              "      <td>8.94</td>\n",
              "    </tr>\n",
              "    <tr>\n",
              "      <th>속옷/양말/홈웨어</th>\n",
              "      <td>417473</td>\n",
              "      <td>8.31</td>\n",
              "    </tr>\n",
              "    <tr>\n",
              "      <th>유아동의류</th>\n",
              "      <td>341572</td>\n",
              "      <td>6.80</td>\n",
              "    </tr>\n",
              "    <tr>\n",
              "      <th>시즌스포츠</th>\n",
              "      <td>150424</td>\n",
              "      <td>2.99</td>\n",
              "    </tr>\n",
              "    <tr>\n",
              "      <th>출산/육아용품</th>\n",
              "      <td>141512</td>\n",
              "      <td>2.82</td>\n",
              "    </tr>\n",
              "    <tr>\n",
              "      <th>퍼스널케어</th>\n",
              "      <td>132992</td>\n",
              "      <td>2.65</td>\n",
              "    </tr>\n",
              "    <tr>\n",
              "      <th>건강식품</th>\n",
              "      <td>123623</td>\n",
              "      <td>2.46</td>\n",
              "    </tr>\n",
              "    <tr>\n",
              "      <th>원예/애완</th>\n",
              "      <td>94705</td>\n",
              "      <td>1.88</td>\n",
              "    </tr>\n",
              "    <tr>\n",
              "      <th>식기/조리기구</th>\n",
              "      <td>78324</td>\n",
              "      <td>1.56</td>\n",
              "    </tr>\n",
              "    <tr>\n",
              "      <th>침구/수예</th>\n",
              "      <td>78269</td>\n",
              "      <td>1.56</td>\n",
              "    </tr>\n",
              "    <tr>\n",
              "      <th>완구</th>\n",
              "      <td>54282</td>\n",
              "      <td>1.08</td>\n",
              "    </tr>\n",
              "    <tr>\n",
              "      <th>음료</th>\n",
              "      <td>50224</td>\n",
              "      <td>1.00</td>\n",
              "    </tr>\n",
              "    <tr>\n",
              "      <th>문구/사무용품</th>\n",
              "      <td>49604</td>\n",
              "      <td>0.99</td>\n",
              "    </tr>\n",
              "    <tr>\n",
              "      <th>주방잡화</th>\n",
              "      <td>48588</td>\n",
              "      <td>0.97</td>\n",
              "    </tr>\n",
              "    <tr>\n",
              "      <th>아웃도어/레저</th>\n",
              "      <td>45925</td>\n",
              "      <td>0.91</td>\n",
              "    </tr>\n",
              "    <tr>\n",
              "      <th>세제/위생</th>\n",
              "      <td>45446</td>\n",
              "      <td>0.90</td>\n",
              "    </tr>\n",
              "    <tr>\n",
              "      <th>청소/세탁/욕실용품</th>\n",
              "      <td>44525</td>\n",
              "      <td>0.89</td>\n",
              "    </tr>\n",
              "    <tr>\n",
              "      <th>가구</th>\n",
              "      <td>43485</td>\n",
              "      <td>0.87</td>\n",
              "    </tr>\n",
              "    <tr>\n",
              "      <th>생활/주방가전</th>\n",
              "      <td>41871</td>\n",
              "      <td>0.83</td>\n",
              "    </tr>\n",
              "    <tr>\n",
              "      <th>구기/필드스포츠</th>\n",
              "      <td>33899</td>\n",
              "      <td>0.67</td>\n",
              "    </tr>\n",
              "    <tr>\n",
              "      <th>모바일</th>\n",
              "      <td>26070</td>\n",
              "      <td>0.52</td>\n",
              "    </tr>\n",
              "    <tr>\n",
              "      <th>헬스/피트니스</th>\n",
              "      <td>25429</td>\n",
              "      <td>0.51</td>\n",
              "    </tr>\n",
              "    <tr>\n",
              "      <th>과일</th>\n",
              "      <td>25105</td>\n",
              "      <td>0.50</td>\n",
              "    </tr>\n",
              "    <tr>\n",
              "      <th>컴퓨터</th>\n",
              "      <td>22727</td>\n",
              "      <td>0.45</td>\n",
              "    </tr>\n",
              "    <tr>\n",
              "      <th>계절가전</th>\n",
              "      <td>13886</td>\n",
              "      <td>0.28</td>\n",
              "    </tr>\n",
              "    <tr>\n",
              "      <th>냉장식품</th>\n",
              "      <td>13863</td>\n",
              "      <td>0.28</td>\n",
              "    </tr>\n",
              "    <tr>\n",
              "      <th>냉동식품</th>\n",
              "      <td>13586</td>\n",
              "      <td>0.27</td>\n",
              "    </tr>\n",
              "    <tr>\n",
              "      <th>상품권</th>\n",
              "      <td>13497</td>\n",
              "      <td>0.27</td>\n",
              "    </tr>\n",
              "    <tr>\n",
              "      <th>축산물</th>\n",
              "      <td>12012</td>\n",
              "      <td>0.24</td>\n",
              "    </tr>\n",
              "    <tr>\n",
              "      <th>냉장/세탁가전</th>\n",
              "      <td>7524</td>\n",
              "      <td>0.15</td>\n",
              "    </tr>\n",
              "    <tr>\n",
              "      <th>인테리어/조명</th>\n",
              "      <td>7239</td>\n",
              "      <td>0.14</td>\n",
              "    </tr>\n",
              "    <tr>\n",
              "      <th>영상/음향가전</th>\n",
              "      <td>6355</td>\n",
              "      <td>0.13</td>\n",
              "    </tr>\n",
              "    <tr>\n",
              "      <th>자동차용품</th>\n",
              "      <td>1341</td>\n",
              "      <td>0.03</td>\n",
              "    </tr>\n",
              "  </tbody>\n",
              "</table>\n",
              "</div>"
            ],
            "text/plain": [
              "            CLNT_ID   PER\n",
              "CLAC1_NM                 \n",
              "여성의류         677199 13.48\n",
              "화장품/뷰티케어     574033 11.42\n",
              "스포츠패션        564355 11.23\n",
              "남성의류         554910 11.04\n",
              "패션잡화         449032  8.94\n",
              "속옷/양말/홈웨어    417473  8.31\n",
              "유아동의류        341572  6.80\n",
              "시즌스포츠        150424  2.99\n",
              "출산/육아용품      141512  2.82\n",
              "퍼스널케어        132992  2.65\n",
              "건강식품         123623  2.46\n",
              "원예/애완         94705  1.88\n",
              "식기/조리기구       78324  1.56\n",
              "침구/수예         78269  1.56\n",
              "완구            54282  1.08\n",
              "음료            50224  1.00\n",
              "문구/사무용품       49604  0.99\n",
              "주방잡화          48588  0.97\n",
              "아웃도어/레저       45925  0.91\n",
              "세제/위생         45446  0.90\n",
              "청소/세탁/욕실용품    44525  0.89\n",
              "가구            43485  0.87\n",
              "생활/주방가전       41871  0.83\n",
              "구기/필드스포츠      33899  0.67\n",
              "모바일           26070  0.52\n",
              "헬스/피트니스       25429  0.51\n",
              "과일            25105  0.50\n",
              "컴퓨터           22727  0.45\n",
              "계절가전          13886  0.28\n",
              "냉장식품          13863  0.28\n",
              "냉동식품          13586  0.27\n",
              "상품권           13497  0.27\n",
              "축산물           12012  0.24\n",
              "냉장/세탁가전        7524  0.15\n",
              "인테리어/조명        7239  0.14\n",
              "영상/음향가전        6355  0.13\n",
              "자동차용품          1341  0.03"
            ]
          },
          "metadata": {
            "tags": []
          },
          "execution_count": 23
        }
      ]
    },
    {
      "cell_type": "code",
      "metadata": {
        "id": "JBTM9xr01NVJ",
        "colab": {
          "base_uri": "https://localhost:8080/"
        },
        "outputId": "a15dbc4a-8546-4d24-ea8e-331f47ff41d6"
      },
      "source": [
        "#위에서 CLNT_ID와 CLAC1이 groupby했는데 구매이력이라고 한 이유는? \n",
        "#Product 데이터셋은 기본적으로 구매이력을 나타낸 것이다. 따라서 CLNT_ID에도 중복된 값이 많다. -> 그래서 무작정 기본키로 활용할 수 없음. \n",
        "#\n",
        "len(prdmaster['CLNT_ID'].unique()) #회원수"
      ],
      "execution_count": null,
      "outputs": [
        {
          "output_type": "execute_result",
          "data": {
            "text/plain": [
              "922737"
            ]
          },
          "metadata": {
            "tags": []
          },
          "execution_count": 24
        }
      ]
    },
    {
      "cell_type": "code",
      "metadata": {
        "id": "w_KAzhPP-rmd",
        "colab": {
          "base_uri": "https://localhost:8080/",
          "height": 1000
        },
        "outputId": "ff1f26b2-3505-48ce-b331-e1a6852a8ff9"
      },
      "source": [
        "clntbyclac1.sort_values(by='PER', ascending=False)\n",
        "#여성 의류와 화장품/뷰티케어가 TOP2. \n",
        "#그러나 여러 번 구매한 것이 많은 매출을 차지하는 것은 아니다. "
      ],
      "execution_count": null,
      "outputs": [
        {
          "output_type": "execute_result",
          "data": {
            "text/html": [
              "<div>\n",
              "<style scoped>\n",
              "    .dataframe tbody tr th:only-of-type {\n",
              "        vertical-align: middle;\n",
              "    }\n",
              "\n",
              "    .dataframe tbody tr th {\n",
              "        vertical-align: top;\n",
              "    }\n",
              "\n",
              "    .dataframe thead th {\n",
              "        text-align: right;\n",
              "    }\n",
              "</style>\n",
              "<table border=\"1\" class=\"dataframe\">\n",
              "  <thead>\n",
              "    <tr style=\"text-align: right;\">\n",
              "      <th></th>\n",
              "      <th>CLNT_ID</th>\n",
              "      <th>PER</th>\n",
              "    </tr>\n",
              "    <tr>\n",
              "      <th>CLAC1_NM</th>\n",
              "      <th></th>\n",
              "      <th></th>\n",
              "    </tr>\n",
              "  </thead>\n",
              "  <tbody>\n",
              "    <tr>\n",
              "      <th>여성의류</th>\n",
              "      <td>677199</td>\n",
              "      <td>13.48</td>\n",
              "    </tr>\n",
              "    <tr>\n",
              "      <th>화장품/뷰티케어</th>\n",
              "      <td>574033</td>\n",
              "      <td>11.42</td>\n",
              "    </tr>\n",
              "    <tr>\n",
              "      <th>스포츠패션</th>\n",
              "      <td>564355</td>\n",
              "      <td>11.23</td>\n",
              "    </tr>\n",
              "    <tr>\n",
              "      <th>남성의류</th>\n",
              "      <td>554910</td>\n",
              "      <td>11.04</td>\n",
              "    </tr>\n",
              "    <tr>\n",
              "      <th>패션잡화</th>\n",
              "      <td>449032</td>\n",
              "      <td>8.94</td>\n",
              "    </tr>\n",
              "    <tr>\n",
              "      <th>속옷/양말/홈웨어</th>\n",
              "      <td>417473</td>\n",
              "      <td>8.31</td>\n",
              "    </tr>\n",
              "    <tr>\n",
              "      <th>유아동의류</th>\n",
              "      <td>341572</td>\n",
              "      <td>6.80</td>\n",
              "    </tr>\n",
              "    <tr>\n",
              "      <th>시즌스포츠</th>\n",
              "      <td>150424</td>\n",
              "      <td>2.99</td>\n",
              "    </tr>\n",
              "    <tr>\n",
              "      <th>출산/육아용품</th>\n",
              "      <td>141512</td>\n",
              "      <td>2.82</td>\n",
              "    </tr>\n",
              "    <tr>\n",
              "      <th>퍼스널케어</th>\n",
              "      <td>132992</td>\n",
              "      <td>2.65</td>\n",
              "    </tr>\n",
              "    <tr>\n",
              "      <th>건강식품</th>\n",
              "      <td>123623</td>\n",
              "      <td>2.46</td>\n",
              "    </tr>\n",
              "    <tr>\n",
              "      <th>원예/애완</th>\n",
              "      <td>94705</td>\n",
              "      <td>1.88</td>\n",
              "    </tr>\n",
              "    <tr>\n",
              "      <th>식기/조리기구</th>\n",
              "      <td>78324</td>\n",
              "      <td>1.56</td>\n",
              "    </tr>\n",
              "    <tr>\n",
              "      <th>침구/수예</th>\n",
              "      <td>78269</td>\n",
              "      <td>1.56</td>\n",
              "    </tr>\n",
              "    <tr>\n",
              "      <th>완구</th>\n",
              "      <td>54282</td>\n",
              "      <td>1.08</td>\n",
              "    </tr>\n",
              "    <tr>\n",
              "      <th>음료</th>\n",
              "      <td>50224</td>\n",
              "      <td>1.00</td>\n",
              "    </tr>\n",
              "    <tr>\n",
              "      <th>문구/사무용품</th>\n",
              "      <td>49604</td>\n",
              "      <td>0.99</td>\n",
              "    </tr>\n",
              "    <tr>\n",
              "      <th>주방잡화</th>\n",
              "      <td>48588</td>\n",
              "      <td>0.97</td>\n",
              "    </tr>\n",
              "    <tr>\n",
              "      <th>아웃도어/레저</th>\n",
              "      <td>45925</td>\n",
              "      <td>0.91</td>\n",
              "    </tr>\n",
              "    <tr>\n",
              "      <th>세제/위생</th>\n",
              "      <td>45446</td>\n",
              "      <td>0.90</td>\n",
              "    </tr>\n",
              "    <tr>\n",
              "      <th>청소/세탁/욕실용품</th>\n",
              "      <td>44525</td>\n",
              "      <td>0.89</td>\n",
              "    </tr>\n",
              "    <tr>\n",
              "      <th>가구</th>\n",
              "      <td>43485</td>\n",
              "      <td>0.87</td>\n",
              "    </tr>\n",
              "    <tr>\n",
              "      <th>생활/주방가전</th>\n",
              "      <td>41871</td>\n",
              "      <td>0.83</td>\n",
              "    </tr>\n",
              "    <tr>\n",
              "      <th>구기/필드스포츠</th>\n",
              "      <td>33899</td>\n",
              "      <td>0.67</td>\n",
              "    </tr>\n",
              "    <tr>\n",
              "      <th>모바일</th>\n",
              "      <td>26070</td>\n",
              "      <td>0.52</td>\n",
              "    </tr>\n",
              "    <tr>\n",
              "      <th>헬스/피트니스</th>\n",
              "      <td>25429</td>\n",
              "      <td>0.51</td>\n",
              "    </tr>\n",
              "    <tr>\n",
              "      <th>과일</th>\n",
              "      <td>25105</td>\n",
              "      <td>0.50</td>\n",
              "    </tr>\n",
              "    <tr>\n",
              "      <th>컴퓨터</th>\n",
              "      <td>22727</td>\n",
              "      <td>0.45</td>\n",
              "    </tr>\n",
              "    <tr>\n",
              "      <th>계절가전</th>\n",
              "      <td>13886</td>\n",
              "      <td>0.28</td>\n",
              "    </tr>\n",
              "    <tr>\n",
              "      <th>냉장식품</th>\n",
              "      <td>13863</td>\n",
              "      <td>0.28</td>\n",
              "    </tr>\n",
              "    <tr>\n",
              "      <th>냉동식품</th>\n",
              "      <td>13586</td>\n",
              "      <td>0.27</td>\n",
              "    </tr>\n",
              "    <tr>\n",
              "      <th>상품권</th>\n",
              "      <td>13497</td>\n",
              "      <td>0.27</td>\n",
              "    </tr>\n",
              "    <tr>\n",
              "      <th>축산물</th>\n",
              "      <td>12012</td>\n",
              "      <td>0.24</td>\n",
              "    </tr>\n",
              "    <tr>\n",
              "      <th>냉장/세탁가전</th>\n",
              "      <td>7524</td>\n",
              "      <td>0.15</td>\n",
              "    </tr>\n",
              "    <tr>\n",
              "      <th>인테리어/조명</th>\n",
              "      <td>7239</td>\n",
              "      <td>0.14</td>\n",
              "    </tr>\n",
              "    <tr>\n",
              "      <th>영상/음향가전</th>\n",
              "      <td>6355</td>\n",
              "      <td>0.13</td>\n",
              "    </tr>\n",
              "    <tr>\n",
              "      <th>자동차용품</th>\n",
              "      <td>1341</td>\n",
              "      <td>0.03</td>\n",
              "    </tr>\n",
              "  </tbody>\n",
              "</table>\n",
              "</div>"
            ],
            "text/plain": [
              "            CLNT_ID   PER\n",
              "CLAC1_NM                 \n",
              "여성의류         677199 13.48\n",
              "화장품/뷰티케어     574033 11.42\n",
              "스포츠패션        564355 11.23\n",
              "남성의류         554910 11.04\n",
              "패션잡화         449032  8.94\n",
              "속옷/양말/홈웨어    417473  8.31\n",
              "유아동의류        341572  6.80\n",
              "시즌스포츠        150424  2.99\n",
              "출산/육아용품      141512  2.82\n",
              "퍼스널케어        132992  2.65\n",
              "건강식품         123623  2.46\n",
              "원예/애완         94705  1.88\n",
              "식기/조리기구       78324  1.56\n",
              "침구/수예         78269  1.56\n",
              "완구            54282  1.08\n",
              "음료            50224  1.00\n",
              "문구/사무용품       49604  0.99\n",
              "주방잡화          48588  0.97\n",
              "아웃도어/레저       45925  0.91\n",
              "세제/위생         45446  0.90\n",
              "청소/세탁/욕실용품    44525  0.89\n",
              "가구            43485  0.87\n",
              "생활/주방가전       41871  0.83\n",
              "구기/필드스포츠      33899  0.67\n",
              "모바일           26070  0.52\n",
              "헬스/피트니스       25429  0.51\n",
              "과일            25105  0.50\n",
              "컴퓨터           22727  0.45\n",
              "계절가전          13886  0.28\n",
              "냉장식품          13863  0.28\n",
              "냉동식품          13586  0.27\n",
              "상품권           13497  0.27\n",
              "축산물           12012  0.24\n",
              "냉장/세탁가전        7524  0.15\n",
              "인테리어/조명        7239  0.14\n",
              "영상/음향가전        6355  0.13\n",
              "자동차용품          1341  0.03"
            ]
          },
          "metadata": {
            "tags": []
          },
          "execution_count": 25
        }
      ]
    },
    {
      "cell_type": "code",
      "metadata": {
        "id": "JPAQNW3ErWEJ",
        "colab": {
          "base_uri": "https://localhost:8080/",
          "height": 739
        },
        "outputId": "21dda73a-a1dd-4336-edc0-d3f84773ce44"
      },
      "source": [
        "#대분류별 매출액\n",
        "totpricebyclac1 = pd.DataFrame(prdmaster[['CLAC1_NM','TOT_PRICE']].groupby(['CLAC1_NM']).sum())\n",
        "totpricebyclac1['PER'] =(totpricebyclac1['TOT_PRICE']/(prd['TOT_PRICE'].sum()))*100\n",
        "totpricebyclac1.sort_values(by='PER', ascending=False).head(10) #대분류별 매출액과 전체 매출액 비율 Top10\n",
        "clntbyclac1.sort_values(by='PER', ascending=False).head(10) #대분류별 주문 빈도와 비율 Top10"
      ],
      "execution_count": null,
      "outputs": [
        {
          "output_type": "execute_result",
          "data": {
            "text/html": [
              "<div>\n",
              "<style scoped>\n",
              "    .dataframe tbody tr th:only-of-type {\n",
              "        vertical-align: middle;\n",
              "    }\n",
              "\n",
              "    .dataframe tbody tr th {\n",
              "        vertical-align: top;\n",
              "    }\n",
              "\n",
              "    .dataframe thead th {\n",
              "        text-align: right;\n",
              "    }\n",
              "</style>\n",
              "<table border=\"1\" class=\"dataframe\">\n",
              "  <thead>\n",
              "    <tr style=\"text-align: right;\">\n",
              "      <th></th>\n",
              "      <th>TOT_PRICE</th>\n",
              "      <th>PER</th>\n",
              "    </tr>\n",
              "    <tr>\n",
              "      <th>CLAC1_NM</th>\n",
              "      <th></th>\n",
              "      <th></th>\n",
              "    </tr>\n",
              "  </thead>\n",
              "  <tbody>\n",
              "    <tr>\n",
              "      <th>패션잡화</th>\n",
              "      <td>44870368961</td>\n",
              "      <td>16.51</td>\n",
              "    </tr>\n",
              "    <tr>\n",
              "      <th>여성의류</th>\n",
              "      <td>34140463488</td>\n",
              "      <td>12.56</td>\n",
              "    </tr>\n",
              "    <tr>\n",
              "      <th>스포츠패션</th>\n",
              "      <td>30148248820</td>\n",
              "      <td>11.09</td>\n",
              "    </tr>\n",
              "    <tr>\n",
              "      <th>화장품/뷰티케어</th>\n",
              "      <td>30086830526</td>\n",
              "      <td>11.07</td>\n",
              "    </tr>\n",
              "    <tr>\n",
              "      <th>남성의류</th>\n",
              "      <td>18457045085</td>\n",
              "      <td>6.79</td>\n",
              "    </tr>\n",
              "    <tr>\n",
              "      <th>가구</th>\n",
              "      <td>12399026355</td>\n",
              "      <td>4.56</td>\n",
              "    </tr>\n",
              "    <tr>\n",
              "      <th>건강식품</th>\n",
              "      <td>10762419216</td>\n",
              "      <td>3.96</td>\n",
              "    </tr>\n",
              "    <tr>\n",
              "      <th>유아동의류</th>\n",
              "      <td>9951995610</td>\n",
              "      <td>3.66</td>\n",
              "    </tr>\n",
              "    <tr>\n",
              "      <th>생활/주방가전</th>\n",
              "      <td>9946383503</td>\n",
              "      <td>3.66</td>\n",
              "    </tr>\n",
              "    <tr>\n",
              "      <th>냉장/세탁가전</th>\n",
              "      <td>7409639092</td>\n",
              "      <td>2.73</td>\n",
              "    </tr>\n",
              "  </tbody>\n",
              "</table>\n",
              "</div>"
            ],
            "text/plain": [
              "            TOT_PRICE   PER\n",
              "CLAC1_NM                   \n",
              "패션잡화      44870368961 16.51\n",
              "여성의류      34140463488 12.56\n",
              "스포츠패션     30148248820 11.09\n",
              "화장품/뷰티케어  30086830526 11.07\n",
              "남성의류      18457045085  6.79\n",
              "가구        12399026355  4.56\n",
              "건강식품      10762419216  3.96\n",
              "유아동의류      9951995610  3.66\n",
              "생활/주방가전    9946383503  3.66\n",
              "냉장/세탁가전    7409639092  2.73"
            ]
          },
          "metadata": {
            "tags": []
          },
          "execution_count": 26
        },
        {
          "output_type": "execute_result",
          "data": {
            "text/html": [
              "<div>\n",
              "<style scoped>\n",
              "    .dataframe tbody tr th:only-of-type {\n",
              "        vertical-align: middle;\n",
              "    }\n",
              "\n",
              "    .dataframe tbody tr th {\n",
              "        vertical-align: top;\n",
              "    }\n",
              "\n",
              "    .dataframe thead th {\n",
              "        text-align: right;\n",
              "    }\n",
              "</style>\n",
              "<table border=\"1\" class=\"dataframe\">\n",
              "  <thead>\n",
              "    <tr style=\"text-align: right;\">\n",
              "      <th></th>\n",
              "      <th>CLNT_ID</th>\n",
              "      <th>PER</th>\n",
              "    </tr>\n",
              "    <tr>\n",
              "      <th>CLAC1_NM</th>\n",
              "      <th></th>\n",
              "      <th></th>\n",
              "    </tr>\n",
              "  </thead>\n",
              "  <tbody>\n",
              "    <tr>\n",
              "      <th>여성의류</th>\n",
              "      <td>677199</td>\n",
              "      <td>13.48</td>\n",
              "    </tr>\n",
              "    <tr>\n",
              "      <th>화장품/뷰티케어</th>\n",
              "      <td>574033</td>\n",
              "      <td>11.42</td>\n",
              "    </tr>\n",
              "    <tr>\n",
              "      <th>스포츠패션</th>\n",
              "      <td>564355</td>\n",
              "      <td>11.23</td>\n",
              "    </tr>\n",
              "    <tr>\n",
              "      <th>남성의류</th>\n",
              "      <td>554910</td>\n",
              "      <td>11.04</td>\n",
              "    </tr>\n",
              "    <tr>\n",
              "      <th>패션잡화</th>\n",
              "      <td>449032</td>\n",
              "      <td>8.94</td>\n",
              "    </tr>\n",
              "    <tr>\n",
              "      <th>속옷/양말/홈웨어</th>\n",
              "      <td>417473</td>\n",
              "      <td>8.31</td>\n",
              "    </tr>\n",
              "    <tr>\n",
              "      <th>유아동의류</th>\n",
              "      <td>341572</td>\n",
              "      <td>6.80</td>\n",
              "    </tr>\n",
              "    <tr>\n",
              "      <th>시즌스포츠</th>\n",
              "      <td>150424</td>\n",
              "      <td>2.99</td>\n",
              "    </tr>\n",
              "    <tr>\n",
              "      <th>출산/육아용품</th>\n",
              "      <td>141512</td>\n",
              "      <td>2.82</td>\n",
              "    </tr>\n",
              "    <tr>\n",
              "      <th>퍼스널케어</th>\n",
              "      <td>132992</td>\n",
              "      <td>2.65</td>\n",
              "    </tr>\n",
              "  </tbody>\n",
              "</table>\n",
              "</div>"
            ],
            "text/plain": [
              "           CLNT_ID   PER\n",
              "CLAC1_NM                \n",
              "여성의류        677199 13.48\n",
              "화장품/뷰티케어    574033 11.42\n",
              "스포츠패션       564355 11.23\n",
              "남성의류        554910 11.04\n",
              "패션잡화        449032  8.94\n",
              "속옷/양말/홈웨어   417473  8.31\n",
              "유아동의류       341572  6.80\n",
              "시즌스포츠       150424  2.99\n",
              "출산/육아용품     141512  2.82\n",
              "퍼스널케어       132992  2.65"
            ]
          },
          "metadata": {
            "tags": []
          },
          "execution_count": 26
        }
      ]
    },
    {
      "cell_type": "code",
      "metadata": {
        "id": "_LkVtWAyCbal",
        "colab": {
          "base_uri": "https://localhost:8080/",
          "height": 447
        },
        "outputId": "c6642be3-cdad-4b36-dfd9-a24ae77094d1"
      },
      "source": [
        "#Product_각 상품 가격과 구매량 간의 상관관계 \n",
        "is_fmc = prdmaster[prdmaster['CLAC1_NM'].isin(['여성의류'])]\n",
        "is_fmc.head()\n",
        "is_fmccorr=is_fmc[['PD_BUY_AM', 'PD_BUY_CT']].corr(method='pearson')\n",
        "is_fmccorr #아니 여성의류는 오히려 더 적네"
      ],
      "execution_count": null,
      "outputs": [
        {
          "output_type": "execute_result",
          "data": {
            "text/html": [
              "<div>\n",
              "<style scoped>\n",
              "    .dataframe tbody tr th:only-of-type {\n",
              "        vertical-align: middle;\n",
              "    }\n",
              "\n",
              "    .dataframe tbody tr th {\n",
              "        vertical-align: top;\n",
              "    }\n",
              "\n",
              "    .dataframe thead th {\n",
              "        text-align: right;\n",
              "    }\n",
              "</style>\n",
              "<table border=\"1\" class=\"dataframe\">\n",
              "  <thead>\n",
              "    <tr style=\"text-align: right;\">\n",
              "      <th></th>\n",
              "      <th>CLNT_ID</th>\n",
              "      <th>SESS_ID</th>\n",
              "      <th>HITS_SEQ</th>\n",
              "      <th>PD_C</th>\n",
              "      <th>PD_ADD_NM</th>\n",
              "      <th>PD_BRA_NM</th>\n",
              "      <th>PD_BUY_AM</th>\n",
              "      <th>PD_BUY_CT</th>\n",
              "      <th>TOT_PRICE</th>\n",
              "      <th>CLAC1_NM</th>\n",
              "    </tr>\n",
              "  </thead>\n",
              "  <tbody>\n",
              "    <tr>\n",
              "      <th>12</th>\n",
              "      <td>4154576</td>\n",
              "      <td>04253415</td>\n",
              "      <td>19</td>\n",
              "      <td>591229</td>\n",
              "      <td>size:S|color:오프 화이트 / 1개</td>\n",
              "      <td>망고(MANGO)</td>\n",
              "      <td>39000</td>\n",
              "      <td>1</td>\n",
              "      <td>39000</td>\n",
              "      <td>여성의류</td>\n",
              "    </tr>\n",
              "    <tr>\n",
              "      <th>17</th>\n",
              "      <td>4167192</td>\n",
              "      <td>10832157</td>\n",
              "      <td>189</td>\n",
              "      <td>479110</td>\n",
              "      <td>색상:화이트(WH)|사이즈:F / 1개</td>\n",
              "      <td>숲</td>\n",
              "      <td>39000</td>\n",
              "      <td>1</td>\n",
              "      <td>39000</td>\n",
              "      <td>여성의류</td>\n",
              "    </tr>\n",
              "    <tr>\n",
              "      <th>19</th>\n",
              "      <td>4170352</td>\n",
              "      <td>04651820</td>\n",
              "      <td>387</td>\n",
              "      <td>166295</td>\n",
              "      <td>색상:(69)오렌지|사이즈:55 / 1개</td>\n",
              "      <td>제이제이 지고트</td>\n",
              "      <td>39000</td>\n",
              "      <td>1</td>\n",
              "      <td>39000</td>\n",
              "      <td>여성의류</td>\n",
              "    </tr>\n",
              "    <tr>\n",
              "      <th>25</th>\n",
              "      <td>4180381</td>\n",
              "      <td>10005643</td>\n",
              "      <td>169</td>\n",
              "      <td>571504</td>\n",
              "      <td>색상:민트|사이즈:66 / 1개</td>\n",
              "      <td>라인</td>\n",
              "      <td>39000</td>\n",
              "      <td>1</td>\n",
              "      <td>39000</td>\n",
              "      <td>여성의류</td>\n",
              "    </tr>\n",
              "    <tr>\n",
              "      <th>29</th>\n",
              "      <td>4185920</td>\n",
              "      <td>06636436</td>\n",
              "      <td>46</td>\n",
              "      <td>581220</td>\n",
              "      <td>색상:블루|사이즈:55 / 1개</td>\n",
              "      <td>리스트</td>\n",
              "      <td>39000</td>\n",
              "      <td>1</td>\n",
              "      <td>39000</td>\n",
              "      <td>여성의류</td>\n",
              "    </tr>\n",
              "  </tbody>\n",
              "</table>\n",
              "</div>"
            ],
            "text/plain": [
              "    CLNT_ID   SESS_ID  HITS_SEQ  ...  PD_BUY_CT TOT_PRICE CLAC1_NM\n",
              "12  4154576  04253415        19  ...          1     39000     여성의류\n",
              "17  4167192  10832157       189  ...          1     39000     여성의류\n",
              "19  4170352  04651820       387  ...          1     39000     여성의류\n",
              "25  4180381  10005643       169  ...          1     39000     여성의류\n",
              "29  4185920  06636436        46  ...          1     39000     여성의류\n",
              "\n",
              "[5 rows x 10 columns]"
            ]
          },
          "metadata": {
            "tags": []
          },
          "execution_count": 27
        },
        {
          "output_type": "execute_result",
          "data": {
            "text/html": [
              "<div>\n",
              "<style scoped>\n",
              "    .dataframe tbody tr th:only-of-type {\n",
              "        vertical-align: middle;\n",
              "    }\n",
              "\n",
              "    .dataframe tbody tr th {\n",
              "        vertical-align: top;\n",
              "    }\n",
              "\n",
              "    .dataframe thead th {\n",
              "        text-align: right;\n",
              "    }\n",
              "</style>\n",
              "<table border=\"1\" class=\"dataframe\">\n",
              "  <thead>\n",
              "    <tr style=\"text-align: right;\">\n",
              "      <th></th>\n",
              "      <th>PD_BUY_AM</th>\n",
              "      <th>PD_BUY_CT</th>\n",
              "    </tr>\n",
              "  </thead>\n",
              "  <tbody>\n",
              "    <tr>\n",
              "      <th>PD_BUY_AM</th>\n",
              "      <td>1.00</td>\n",
              "      <td>-0.01</td>\n",
              "    </tr>\n",
              "    <tr>\n",
              "      <th>PD_BUY_CT</th>\n",
              "      <td>-0.01</td>\n",
              "      <td>1.00</td>\n",
              "    </tr>\n",
              "  </tbody>\n",
              "</table>\n",
              "</div>"
            ],
            "text/plain": [
              "           PD_BUY_AM  PD_BUY_CT\n",
              "PD_BUY_AM       1.00      -0.01\n",
              "PD_BUY_CT      -0.01       1.00"
            ]
          },
          "metadata": {
            "tags": []
          },
          "execution_count": 27
        }
      ]
    },
    {
      "cell_type": "code",
      "metadata": {
        "id": "QcrxFXjoRvYD",
        "colab": {
          "base_uri": "https://localhost:8080/",
          "height": 108
        },
        "outputId": "7f2d9b21-e54a-4d26-96b4-dabdb4b1a66b"
      },
      "source": [
        "is_cosm = prdmaster[prdmaster['CLAC1_NM'].isin(['화장품/뷰티케어'])]\n",
        "is_cosmcorr=is_cosm[['PD_BUY_AM', 'PD_BUY_CT']].corr(method='pearson')\n",
        "is_cosmcorr #화장품/뷰티의 가격과 판매개수 상관계수 -0.05"
      ],
      "execution_count": null,
      "outputs": [
        {
          "output_type": "execute_result",
          "data": {
            "text/html": [
              "<div>\n",
              "<style scoped>\n",
              "    .dataframe tbody tr th:only-of-type {\n",
              "        vertical-align: middle;\n",
              "    }\n",
              "\n",
              "    .dataframe tbody tr th {\n",
              "        vertical-align: top;\n",
              "    }\n",
              "\n",
              "    .dataframe thead th {\n",
              "        text-align: right;\n",
              "    }\n",
              "</style>\n",
              "<table border=\"1\" class=\"dataframe\">\n",
              "  <thead>\n",
              "    <tr style=\"text-align: right;\">\n",
              "      <th></th>\n",
              "      <th>PD_BUY_AM</th>\n",
              "      <th>PD_BUY_CT</th>\n",
              "    </tr>\n",
              "  </thead>\n",
              "  <tbody>\n",
              "    <tr>\n",
              "      <th>PD_BUY_AM</th>\n",
              "      <td>1.00</td>\n",
              "      <td>-0.05</td>\n",
              "    </tr>\n",
              "    <tr>\n",
              "      <th>PD_BUY_CT</th>\n",
              "      <td>-0.05</td>\n",
              "      <td>1.00</td>\n",
              "    </tr>\n",
              "  </tbody>\n",
              "</table>\n",
              "</div>"
            ],
            "text/plain": [
              "           PD_BUY_AM  PD_BUY_CT\n",
              "PD_BUY_AM       1.00      -0.05\n",
              "PD_BUY_CT      -0.05       1.00"
            ]
          },
          "metadata": {
            "tags": []
          },
          "execution_count": 28
        }
      ]
    },
    {
      "cell_type": "code",
      "metadata": {
        "id": "vQvnH3uQRNjn",
        "colab": {
          "base_uri": "https://localhost:8080/",
          "height": 108
        },
        "outputId": "4a0cf97a-af07-4dce-916c-99e48d9e4e8b"
      },
      "source": [
        "is_some = prdmaster[prdmaster['CLAC1_NM'].isin(['패션잡화'])]\n",
        "is_somecorr=is_some[['PD_BUY_AM', 'PD_BUY_CT']].corr(method='pearson')\n",
        "is_somecorr #패션잡화의 가격과 판매개수 상관계수 -0.03"
      ],
      "execution_count": null,
      "outputs": [
        {
          "output_type": "execute_result",
          "data": {
            "text/html": [
              "<div>\n",
              "<style scoped>\n",
              "    .dataframe tbody tr th:only-of-type {\n",
              "        vertical-align: middle;\n",
              "    }\n",
              "\n",
              "    .dataframe tbody tr th {\n",
              "        vertical-align: top;\n",
              "    }\n",
              "\n",
              "    .dataframe thead th {\n",
              "        text-align: right;\n",
              "    }\n",
              "</style>\n",
              "<table border=\"1\" class=\"dataframe\">\n",
              "  <thead>\n",
              "    <tr style=\"text-align: right;\">\n",
              "      <th></th>\n",
              "      <th>PD_BUY_AM</th>\n",
              "      <th>PD_BUY_CT</th>\n",
              "    </tr>\n",
              "  </thead>\n",
              "  <tbody>\n",
              "    <tr>\n",
              "      <th>PD_BUY_AM</th>\n",
              "      <td>1.00</td>\n",
              "      <td>-0.03</td>\n",
              "    </tr>\n",
              "    <tr>\n",
              "      <th>PD_BUY_CT</th>\n",
              "      <td>-0.03</td>\n",
              "      <td>1.00</td>\n",
              "    </tr>\n",
              "  </tbody>\n",
              "</table>\n",
              "</div>"
            ],
            "text/plain": [
              "           PD_BUY_AM  PD_BUY_CT\n",
              "PD_BUY_AM       1.00      -0.03\n",
              "PD_BUY_CT      -0.03       1.00"
            ]
          },
          "metadata": {
            "tags": []
          },
          "execution_count": 29
        }
      ]
    },
    {
      "cell_type": "code",
      "metadata": {
        "id": "mZqmF9d41PGD"
      },
      "source": [
        "customcsv='/content/drive/My Drive/DataSet/Lpoint/data/Custom.csv'\n",
        "custom = pd.read_csv(customcsv, dtype={\"CLNT_ID\": np.str})"
      ],
      "execution_count": null,
      "outputs": []
    },
    {
      "cell_type": "code",
      "metadata": {
        "id": "rkbC6PEw1XBM"
      },
      "source": [
        "srchcsv='/content/drive/My Drive/DataSet/Lpoint/data/Search1.csv'\n",
        "search1 = pd.read_csv(srchcsv, dtype={\"CLNT_ID\":np.str, \"SESS_ID\":np.str})\n",
        "\n",
        "srch2csv='/content/drive/My Drive/DataSet/Lpoint/data/Search2.csv'\n",
        "search2 = pd.read_csv(srch2csv)"
      ],
      "execution_count": null,
      "outputs": []
    },
    {
      "cell_type": "code",
      "metadata": {
        "id": "RXpD_XY21PfC"
      },
      "source": [
        "sessioncsv='/content/drive/My Drive/DataSet/Lpoint/data/Session.csv'\n",
        "session = pd.read_csv(sessioncsv, dtype={\"CLNT_ID\": np.str, \"SESS_ID\":np.str}, thousands=\",\")"
      ],
      "execution_count": null,
      "outputs": []
    },
    {
      "cell_type": "code",
      "metadata": {
        "id": "nZYcu0V8kY2-",
        "colab": {
          "base_uri": "https://localhost:8080/",
          "height": 529
        },
        "outputId": "92713b13-19ef-4bdf-a746-c64773fda8b7"
      },
      "source": [
        "prdmastercustom = pd.merge(prdmaster,custom,on=['CLNT_ID'],how='left')\n",
        "prdmastercustom.head()\n",
        "prdmastercustom.isna().sum()\n",
        "#Product에는 있는데 Custom에는 없음. 두 데이터셋을 CLNT_ID를 기준으로 병합할 경우 누락되는 회원정보가 103만 6319건 \n",
        "# 그 103만 6319건은 비회원 구매이력임"
      ],
      "execution_count": null,
      "outputs": [
        {
          "output_type": "execute_result",
          "data": {
            "text/html": [
              "<div>\n",
              "<style scoped>\n",
              "    .dataframe tbody tr th:only-of-type {\n",
              "        vertical-align: middle;\n",
              "    }\n",
              "\n",
              "    .dataframe tbody tr th {\n",
              "        vertical-align: top;\n",
              "    }\n",
              "\n",
              "    .dataframe thead th {\n",
              "        text-align: right;\n",
              "    }\n",
              "</style>\n",
              "<table border=\"1\" class=\"dataframe\">\n",
              "  <thead>\n",
              "    <tr style=\"text-align: right;\">\n",
              "      <th></th>\n",
              "      <th>CLNT_ID</th>\n",
              "      <th>SESS_ID</th>\n",
              "      <th>HITS_SEQ</th>\n",
              "      <th>PD_C</th>\n",
              "      <th>PD_ADD_NM</th>\n",
              "      <th>PD_BRA_NM</th>\n",
              "      <th>PD_BUY_AM</th>\n",
              "      <th>PD_BUY_CT</th>\n",
              "      <th>TOT_PRICE</th>\n",
              "      <th>CLAC1_NM</th>\n",
              "      <th>CLNT_GENDER</th>\n",
              "      <th>CLNT_AGE</th>\n",
              "    </tr>\n",
              "  </thead>\n",
              "  <tbody>\n",
              "    <tr>\n",
              "      <th>0</th>\n",
              "      <td>4139680</td>\n",
              "      <td>07605037</td>\n",
              "      <td>12</td>\n",
              "      <td>642112</td>\n",
              "      <td>색상:워터멜론</td>\n",
              "      <td>[바비브라운]</td>\n",
              "      <td>39000</td>\n",
              "      <td>1</td>\n",
              "      <td>39000</td>\n",
              "      <td>화장품/뷰티케어</td>\n",
              "      <td>NaN</td>\n",
              "      <td>nan</td>\n",
              "    </tr>\n",
              "    <tr>\n",
              "      <th>1</th>\n",
              "      <td>4140076</td>\n",
              "      <td>10189797</td>\n",
              "      <td>13</td>\n",
              "      <td>570603</td>\n",
              "      <td>색상:BLK0_(BLK0)BLACK|사이즈:120 / 2개</td>\n",
              "      <td>데상트</td>\n",
              "      <td>39000</td>\n",
              "      <td>2</td>\n",
              "      <td>78000</td>\n",
              "      <td>스포츠패션</td>\n",
              "      <td>F</td>\n",
              "      <td>40.00</td>\n",
              "    </tr>\n",
              "    <tr>\n",
              "      <th>2</th>\n",
              "      <td>4142395</td>\n",
              "      <td>06158159</td>\n",
              "      <td>85</td>\n",
              "      <td>179538</td>\n",
              "      <td>(not set)</td>\n",
              "      <td>[아베다]</td>\n",
              "      <td>39000</td>\n",
              "      <td>1</td>\n",
              "      <td>39000</td>\n",
              "      <td>퍼스널케어</td>\n",
              "      <td>NaN</td>\n",
              "      <td>nan</td>\n",
              "    </tr>\n",
              "    <tr>\n",
              "      <th>3</th>\n",
              "      <td>4144914</td>\n",
              "      <td>07935714</td>\n",
              "      <td>12</td>\n",
              "      <td>554336</td>\n",
              "      <td>색상:블랙|사이즈:160cm(12~13세) / 1개</td>\n",
              "      <td>아디다스 키즈</td>\n",
              "      <td>39000</td>\n",
              "      <td>1</td>\n",
              "      <td>39000</td>\n",
              "      <td>유아동의류</td>\n",
              "      <td>M</td>\n",
              "      <td>40.00</td>\n",
              "    </tr>\n",
              "    <tr>\n",
              "      <th>4</th>\n",
              "      <td>4144917</td>\n",
              "      <td>06406509</td>\n",
              "      <td>78</td>\n",
              "      <td>190306</td>\n",
              "      <td>5개</td>\n",
              "      <td>데코르테</td>\n",
              "      <td>39000</td>\n",
              "      <td>5</td>\n",
              "      <td>195000</td>\n",
              "      <td>화장품/뷰티케어</td>\n",
              "      <td>NaN</td>\n",
              "      <td>nan</td>\n",
              "    </tr>\n",
              "  </tbody>\n",
              "</table>\n",
              "</div>"
            ],
            "text/plain": [
              "   CLNT_ID   SESS_ID  HITS_SEQ  ...  CLAC1_NM CLNT_GENDER CLNT_AGE\n",
              "0  4139680  07605037        12  ...  화장품/뷰티케어         NaN      nan\n",
              "1  4140076  10189797        13  ...     스포츠패션           F    40.00\n",
              "2  4142395  06158159        85  ...     퍼스널케어         NaN      nan\n",
              "3  4144914  07935714        12  ...     유아동의류           M    40.00\n",
              "4  4144917  06406509        78  ...  화장품/뷰티케어         NaN      nan\n",
              "\n",
              "[5 rows x 12 columns]"
            ]
          },
          "metadata": {
            "tags": []
          },
          "execution_count": 33
        },
        {
          "output_type": "execute_result",
          "data": {
            "text/plain": [
              "CLNT_ID              0\n",
              "SESS_ID              0\n",
              "HITS_SEQ             0\n",
              "PD_C                 0\n",
              "PD_ADD_NM            0\n",
              "PD_BRA_NM            0\n",
              "PD_BUY_AM            0\n",
              "PD_BUY_CT            0\n",
              "TOT_PRICE            0\n",
              "CLAC1_NM             0\n",
              "CLNT_GENDER    1036319\n",
              "CLNT_AGE       1036319\n",
              "dtype: int64"
            ]
          },
          "metadata": {
            "tags": []
          },
          "execution_count": 33
        }
      ]
    },
    {
      "cell_type": "markdown",
      "metadata": {
        "id": "PGFuUz_j9X_V"
      },
      "source": [
        "#11.10 11:00 \n",
        "지금의 코딩들의 목적은 소비자행돈론의 Term-Paper에 있다. 본 데이터셋에 소비행동 관련 데이터가 많기 때문에 이를 활용해서 교수님께서 요구하신 '실험설계'의 방법론에 적용하고자 하는 것이다. 그러나 실험설계의 방법론들은 데이터를 얻기 위해, 그러니깐 미래에 시행할 실험에 대한 설계를 하는 것인 반면에 이 데이터셋은 이미 로그가 발생한 것으로 파생변수를 내가 만들지 않는 이상 데이터 측정에 있어서 내가 통제할 수 있는 것이 없다. \n",
        "또 요즘 이루어지는 보통 빅데이터의 탐색적인 연구와 달리 연구목적을 먼저 정해야 실험설계방법론이 적용 가능한지 판단이 설텐데 뚜렷한 연구목적 역시 아직 존재하지 않는다. 따라서 아래 두 가지 질문에 대해 먼저 답할 수 있어야 데이터셋 탐색이 유의미해질 것이다. \n",
        " \n",
        "\n",
        "*   6개의 데이터셋 중에 실험자가 연구를 위해 조작했다고 볼 수 있는 변수가 무엇인가? 그러니깐 자동 로그 기록이긴 하나 \"사실 실험자가 연구를 위해 조작한 것이랍니다\"라는 개구라 같은 가정을 둘 수 있는 변수\n",
        "\n",
        "*   그것이 있다면 비슷한 선행연구가 있는가? \n"
      ]
    },
    {
      "cell_type": "code",
      "metadata": {
        "id": "N-ND8xZ36PNs"
      },
      "source": [
        "#걍 신기해서 갖다 놓음. \n",
        "#def count(n, m):\n",
        "#    cnt    = 0\n",
        "#   num    = n\n",
        "#  ln     = len(str(n))\n",
        "#    offset = 10 ** ln\n",
        "#   \n",
        "#   while num <= m:\n",
        "#       cnt += 1\n",
        "#       num += offset\n",
        "#\n",
        "#   return cnt\n",
        "\n",
        "#    count(5, 14)"
      ],
      "execution_count": null,
      "outputs": []
    },
    {
      "cell_type": "code",
      "metadata": {
        "id": "HjbFay9RO01q",
        "colab": {
          "base_uri": "https://localhost:8080/"
        },
        "outputId": "9c7167ba-ecfa-4c16-fae8-cdc714a0f78e"
      },
      "source": [
        "#PD_BUY_AM은 상품의 가격 변수로 매출에 직결되기 때문에 사용할 수 밖에 없는데, 가격은 판매자 입장에서 소비자에게 설득력을 높이기 위해 조작한 경우가 많다. \n",
        "#또는 품목에 따른 아주 고정적인 원가에 따라 형성 되는 판매가격대가 있을 수 밖에 없다. 이런 점들이 최종 판매가격에 편의를 발생할 수 있는 것인데, 보정 없이 사용하는게 옳은 것인가 의문이 든다.\n",
        "#따라서 일단 한 번 PD_BUY_AM에서 서로 다른 상품가격들 중 9000, 900, 90원으로 끝나는 가격의 비율이 얼마나 되는지 확인해보려고 한다. \n",
        "\n",
        "cnt_PBA.most_common(10)"
      ],
      "execution_count": null,
      "outputs": [
        {
          "output_type": "execute_result",
          "data": {
            "text/plain": [
              "[(9900, 98237),\n",
              " (39000, 94571),\n",
              " (10000, 89746),\n",
              " (29000, 85759),\n",
              " (15000, 82161),\n",
              " (19000, 76530),\n",
              " (30000, 67577),\n",
              " (49000, 61942),\n",
              " (35000, 58117),\n",
              " (19900, 53908)]"
            ]
          },
          "metadata": {
            "tags": []
          },
          "execution_count": 35
        }
      ]
    },
    {
      "cell_type": "code",
      "metadata": {
        "id": "w7FfJYoekT2b",
        "colab": {
          "base_uri": "https://localhost:8080/"
        },
        "outputId": "75d9beb8-0639-4d5d-a7f2-67f9a954df1b"
      },
      "source": [
        "len(prd['PD_BUY_AM'].unique()) #서로 다른 가격 1만 7731개"
      ],
      "execution_count": null,
      "outputs": [
        {
          "output_type": "execute_result",
          "data": {
            "text/plain": [
              "17731"
            ]
          },
          "metadata": {
            "tags": []
          },
          "execution_count": 36
        }
      ]
    },
    {
      "cell_type": "code",
      "metadata": {
        "id": "uzPS1yNQkZrw",
        "colab": {
          "base_uri": "https://localhost:8080/"
        },
        "outputId": "4cb0417b-4ebc-4733-98fe-398d51f8b196"
      },
      "source": [
        "sum(prd['PD_BUY_AM']%1000==900) #전체 구매이력에서 900원으로 끝나는 가격의 개수"
      ],
      "execution_count": null,
      "outputs": [
        {
          "output_type": "execute_result",
          "data": {
            "text/plain": [
              "876482"
            ]
          },
          "metadata": {
            "tags": []
          },
          "execution_count": 37
        }
      ]
    },
    {
      "cell_type": "code",
      "metadata": {
        "colab": {
          "base_uri": "https://localhost:8080/"
        },
        "id": "j0IOjg-TEORO",
        "outputId": "5d7720f2-6b7a-4d81-cf5f-25229b6be254"
      },
      "source": [
        "sum(prd['PD_BUY_AM'].unique()%1000==900) #서로 다른 가격에서 900원으로 끝나는 가격의 개수. 17731개의 서로 다른 가격 중 63개가 900원으로 끝남"
      ],
      "execution_count": null,
      "outputs": [
        {
          "output_type": "execute_result",
          "data": {
            "text/plain": [
              "633"
            ]
          },
          "metadata": {
            "tags": []
          },
          "execution_count": 38
        }
      ]
    },
    {
      "cell_type": "code",
      "metadata": {
        "id": "orVDmVXlkdUy",
        "colab": {
          "base_uri": "https://localhost:8080/"
        },
        "outputId": "bbb5b76c-4dd1-4f8a-fb34-1da4e0fcc08f"
      },
      "source": [
        "round(sum(prd['PD_BUY_AM'].unique()%1000==900)/len(prd['PD_BUY_AM'].unique())*100, 2) #서로 다른 가격에서 900원으로 끝나는 가격의 상품 개수 비율 \n",
        "round(sum(prd['PD_BUY_AM'].unique()%10000==9000)/len(prd['PD_BUY_AM'].unique())*100, 2)\n",
        "round(sum(prd['PD_BUY_AM'].unique()%100==90)/len(prd['PD_BUY_AM'].unique())*100, 2)\n",
        "round(sum(prd['PD_BUY_AM'].unique()%1000==500)/len(prd['PD_BUY_AM'].unique())*100, 2)\n",
        "round(sum(prd['PD_BUY_AM'].unique()%10000==5000)/len(prd['PD_BUY_AM'].unique())*100, 2)\n",
        "round(sum(prd['PD_BUY_AM'].unique()%1000==0)/len(prd['PD_BUY_AM'].unique())*100, 2)\n",
        "round(sum(prd['PD_BUY_AM'].unique()%10000==0)/len(prd['PD_BUY_AM'].unique())*100, 2)\n",
        "\n",
        "#이렇게 코드 짜서 언제 다 분석하겠니 응?\n",
        "#객체지정, for문 익혀서 더 효율적으로 코드 짤 수 있는 방법 도모 "
      ],
      "execution_count": null,
      "outputs": [
        {
          "output_type": "execute_result",
          "data": {
            "text/plain": [
              "3.57"
            ]
          },
          "metadata": {
            "tags": []
          },
          "execution_count": 39
        },
        {
          "output_type": "execute_result",
          "data": {
            "text/plain": [
              "1.4"
            ]
          },
          "metadata": {
            "tags": []
          },
          "execution_count": 39
        },
        {
          "output_type": "execute_result",
          "data": {
            "text/plain": [
              "5.7"
            ]
          },
          "metadata": {
            "tags": []
          },
          "execution_count": 39
        },
        {
          "output_type": "execute_result",
          "data": {
            "text/plain": [
              "3.49"
            ]
          },
          "metadata": {
            "tags": []
          },
          "execution_count": 39
        },
        {
          "output_type": "execute_result",
          "data": {
            "text/plain": [
              "1.33"
            ]
          },
          "metadata": {
            "tags": []
          },
          "execution_count": 39
        },
        {
          "output_type": "execute_result",
          "data": {
            "text/plain": [
              "12.58"
            ]
          },
          "metadata": {
            "tags": []
          },
          "execution_count": 39
        },
        {
          "output_type": "execute_result",
          "data": {
            "text/plain": [
              "2.02"
            ]
          },
          "metadata": {
            "tags": []
          },
          "execution_count": 39
        }
      ]
    },
    {
      "cell_type": "code",
      "metadata": {
        "id": "ztFVE5OukfGe",
        "colab": {
          "base_uri": "https://localhost:8080/"
        },
        "outputId": "1bc9d573-cd47-4dba-c7c1-696f56779d37"
      },
      "source": [
        "round(sum(prd['PD_BUY_AM']%1000==900)/len(prd['PD_BUY_AM'])*100, 2) #서로 다른 가격에서 900원으로 끝나는 가격의 상품 개수 비율 \n",
        "\n",
        "#서로 다른 가격들 중에서 900원으로 끝나는 가격은 3.57%인 반면 전체 구매 이력에서는 17.44%, 900원대로 가격을 설정하면 잘 팔린다는 것이 아니라 900원으로 끝나는 어떤 상품들이 잘 팔린다는 것을 의미. 정확한 매개변수 찾아야함. "
      ],
      "execution_count": null,
      "outputs": [
        {
          "output_type": "execute_result",
          "data": {
            "text/plain": [
              "17.44"
            ]
          },
          "metadata": {
            "tags": []
          },
          "execution_count": 40
        }
      ]
    },
    {
      "cell_type": "markdown",
      "metadata": {
        "id": "ThmOn5596haB"
      },
      "source": [
        "### 11.12 \n",
        "#### 고객 한 명에 대한 HIT 데이터가 모두 주어지지 않았다. 예를 들어 CLNT_ID 000123이 있다면 구매 이전까지의 Hit가 무엇인지 알 수 없다. 주어진 Product의 HITS_SEQ는 구매까지의 Hit 수를 알려줄 뿐이다. 구매 이후에도 Hit가 있었는지 알수 없다. 물론 CLNT_ID와 SESS_ID와 SESS_DT grouby 해서 같은 날 같은 고객이 얼마나 세션을 할당 받았고 구매가 얼마나 이루어졌는지를 확인해볼 수는 있으나 구매 이후에도 같은 날 세션을 다시 할당 받아서 또 구매하는 경우가 많진 않을 것 같다. \n",
        "\n",
        "#### 위 첫 번째 사진은 CLNT_ID와 SESS_ID와 HITS_SEQ에서 각 각 같은 값을 갖는 행의 한 예시이다. 한 고객이 같은 날 할당 받은 한 세션에서 한 번의 클릭으로 제이핑크 브랜드의 의류 3개 제품을 산 것이다. 즉, 장바구니를 통해 구매한 것이다(같은 HITS_SEQ는 장바구니라는 것은 설명회 자료에도 기재되어 있다). \n",
        "\n",
        "#### 두 번째 사진은 CLNT_ID와 SESS_ID는 같은데 HITS_SEQ는 다른 경우이다. 마이리틀의 제품을 60번째 히트에서 구매했다. 이후 47번의 클릭을 더 하고 48번째 클릭(전체 108)에서 같은 제품 70개를 구매했다. 근데 이것이 단순 추가 구매하여 총 145개를 구매하게 된 것인지 첫 번째 구매에서 두 번째 구매 사이의 47번의 클릭에서 수량 조절을 위한 구매 취소가 이루어졌었는지 알 수가 없다. 이러한 문제점을 안고 있기 때문에 이 데이터들을 활용하여 통계치를 내면 편향이 발생할 것이고 그럼 결과적으로 오류를 범하게 될 것이다. 따라서 위 두 번째 사진의 데이터와 같은 케이스는 모두 제외하고 분석을 진행하는 것이 맞는지, 아니면 소위 '빅데이터'이기 때문에 이러한 작은 편향들은 무시하고 가도 무방한지에 대해 고민하게 된다. "
      ]
    },
    {
      "cell_type": "code",
      "metadata": {
        "id": "cDs_EKaKiPit",
        "colab": {
          "base_uri": "https://localhost:8080/"
        },
        "outputId": "c5664b71-ff92-48ad-d3ea-49c319b7d0e2"
      },
      "source": [
        "#Product * Session \n",
        "session['SESS_DT'] = pd.to_datetime(session['SESS_DT'], format=\"%Y%m%d\")\n",
        "session.isna().sum()"
      ],
      "execution_count": null,
      "outputs": [
        {
          "output_type": "execute_result",
          "data": {
            "text/plain": [
              "CLNT_ID                0\n",
              "SESS_ID                0\n",
              "SESS_SEQ               0\n",
              "SESS_DT                0\n",
              "TOT_PAG_VIEW_CT      274\n",
              "TOT_SESS_HR_V      14202\n",
              "DVC_CTG_NM             0\n",
              "ZON_NM                 0\n",
              "CITY_NM                0\n",
              "dtype: int64"
            ]
          },
          "metadata": {
            "tags": []
          },
          "execution_count": 41
        }
      ]
    },
    {
      "cell_type": "code",
      "metadata": {
        "id": "Ig-hNInRi-2k",
        "colab": {
          "base_uri": "https://localhost:8080/",
          "height": 305
        },
        "outputId": "cc05f4ff-4316-458d-cdb0-6d0a88df01b1"
      },
      "source": [
        "prdmaster = pd.merge(prdmastercustom, session, how='inner', on=['CLNT_ID', 'SESS_ID'])\n",
        "prdmaster.head()"
      ],
      "execution_count": null,
      "outputs": [
        {
          "output_type": "execute_result",
          "data": {
            "text/html": [
              "<div>\n",
              "<style scoped>\n",
              "    .dataframe tbody tr th:only-of-type {\n",
              "        vertical-align: middle;\n",
              "    }\n",
              "\n",
              "    .dataframe tbody tr th {\n",
              "        vertical-align: top;\n",
              "    }\n",
              "\n",
              "    .dataframe thead th {\n",
              "        text-align: right;\n",
              "    }\n",
              "</style>\n",
              "<table border=\"1\" class=\"dataframe\">\n",
              "  <thead>\n",
              "    <tr style=\"text-align: right;\">\n",
              "      <th></th>\n",
              "      <th>CLNT_ID</th>\n",
              "      <th>SESS_ID</th>\n",
              "      <th>HITS_SEQ</th>\n",
              "      <th>PD_C</th>\n",
              "      <th>PD_ADD_NM</th>\n",
              "      <th>PD_BRA_NM</th>\n",
              "      <th>PD_BUY_AM</th>\n",
              "      <th>PD_BUY_CT</th>\n",
              "      <th>TOT_PRICE</th>\n",
              "      <th>CLAC1_NM</th>\n",
              "      <th>CLNT_GENDER</th>\n",
              "      <th>CLNT_AGE</th>\n",
              "      <th>SESS_SEQ</th>\n",
              "      <th>SESS_DT</th>\n",
              "      <th>TOT_PAG_VIEW_CT</th>\n",
              "      <th>TOT_SESS_HR_V</th>\n",
              "      <th>DVC_CTG_NM</th>\n",
              "      <th>ZON_NM</th>\n",
              "      <th>CITY_NM</th>\n",
              "    </tr>\n",
              "  </thead>\n",
              "  <tbody>\n",
              "    <tr>\n",
              "      <th>0</th>\n",
              "      <td>4139680</td>\n",
              "      <td>07605037</td>\n",
              "      <td>12</td>\n",
              "      <td>642112</td>\n",
              "      <td>색상:워터멜론</td>\n",
              "      <td>[바비브라운]</td>\n",
              "      <td>39000</td>\n",
              "      <td>1</td>\n",
              "      <td>39000</td>\n",
              "      <td>화장품/뷰티케어</td>\n",
              "      <td>NaN</td>\n",
              "      <td>nan</td>\n",
              "      <td>1</td>\n",
              "      <td>2018-05-26</td>\n",
              "      <td>21.00</td>\n",
              "      <td>902.00</td>\n",
              "      <td>desktop</td>\n",
              "      <td>Seoul</td>\n",
              "      <td>Seoul</td>\n",
              "    </tr>\n",
              "    <tr>\n",
              "      <th>1</th>\n",
              "      <td>4139680</td>\n",
              "      <td>07605037</td>\n",
              "      <td>12</td>\n",
              "      <td>401577</td>\n",
              "      <td>색상:몰리 와우</td>\n",
              "      <td>[바비브라운]</td>\n",
              "      <td>39000</td>\n",
              "      <td>1</td>\n",
              "      <td>39000</td>\n",
              "      <td>화장품/뷰티케어</td>\n",
              "      <td>NaN</td>\n",
              "      <td>nan</td>\n",
              "      <td>1</td>\n",
              "      <td>2018-05-26</td>\n",
              "      <td>21.00</td>\n",
              "      <td>902.00</td>\n",
              "      <td>desktop</td>\n",
              "      <td>Seoul</td>\n",
              "      <td>Seoul</td>\n",
              "    </tr>\n",
              "    <tr>\n",
              "      <th>2</th>\n",
              "      <td>4139680</td>\n",
              "      <td>07605037</td>\n",
              "      <td>28</td>\n",
              "      <td>401577</td>\n",
              "      <td>색상:몰리 와우</td>\n",
              "      <td>[바비브라운]</td>\n",
              "      <td>39000</td>\n",
              "      <td>1</td>\n",
              "      <td>39000</td>\n",
              "      <td>화장품/뷰티케어</td>\n",
              "      <td>NaN</td>\n",
              "      <td>nan</td>\n",
              "      <td>1</td>\n",
              "      <td>2018-05-26</td>\n",
              "      <td>21.00</td>\n",
              "      <td>902.00</td>\n",
              "      <td>desktop</td>\n",
              "      <td>Seoul</td>\n",
              "      <td>Seoul</td>\n",
              "    </tr>\n",
              "    <tr>\n",
              "      <th>3</th>\n",
              "      <td>4139680</td>\n",
              "      <td>07605037</td>\n",
              "      <td>28</td>\n",
              "      <td>642112</td>\n",
              "      <td>색상:카바나</td>\n",
              "      <td>[바비브라운]</td>\n",
              "      <td>39000</td>\n",
              "      <td>1</td>\n",
              "      <td>39000</td>\n",
              "      <td>화장품/뷰티케어</td>\n",
              "      <td>NaN</td>\n",
              "      <td>nan</td>\n",
              "      <td>1</td>\n",
              "      <td>2018-05-26</td>\n",
              "      <td>21.00</td>\n",
              "      <td>902.00</td>\n",
              "      <td>desktop</td>\n",
              "      <td>Seoul</td>\n",
              "      <td>Seoul</td>\n",
              "    </tr>\n",
              "    <tr>\n",
              "      <th>4</th>\n",
              "      <td>4139680</td>\n",
              "      <td>07605037</td>\n",
              "      <td>12</td>\n",
              "      <td>642112</td>\n",
              "      <td>색상:카바나</td>\n",
              "      <td>[바비브라운]</td>\n",
              "      <td>39000</td>\n",
              "      <td>1</td>\n",
              "      <td>39000</td>\n",
              "      <td>화장품/뷰티케어</td>\n",
              "      <td>NaN</td>\n",
              "      <td>nan</td>\n",
              "      <td>1</td>\n",
              "      <td>2018-05-26</td>\n",
              "      <td>21.00</td>\n",
              "      <td>902.00</td>\n",
              "      <td>desktop</td>\n",
              "      <td>Seoul</td>\n",
              "      <td>Seoul</td>\n",
              "    </tr>\n",
              "  </tbody>\n",
              "</table>\n",
              "</div>"
            ],
            "text/plain": [
              "   CLNT_ID   SESS_ID  HITS_SEQ    PD_C  ... TOT_SESS_HR_V DVC_CTG_NM  ZON_NM  CITY_NM\n",
              "0  4139680  07605037        12  642112  ...        902.00    desktop   Seoul    Seoul\n",
              "1  4139680  07605037        12  401577  ...        902.00    desktop   Seoul    Seoul\n",
              "2  4139680  07605037        28  401577  ...        902.00    desktop   Seoul    Seoul\n",
              "3  4139680  07605037        28  642112  ...        902.00    desktop   Seoul    Seoul\n",
              "4  4139680  07605037        12  642112  ...        902.00    desktop   Seoul    Seoul\n",
              "\n",
              "[5 rows x 19 columns]"
            ]
          },
          "metadata": {
            "tags": []
          },
          "execution_count": 42
        }
      ]
    },
    {
      "cell_type": "code",
      "metadata": {
        "colab": {
          "base_uri": "https://localhost:8080/"
        },
        "id": "eF7t7DCdBEEX",
        "outputId": "f4dd0cf7-e879-4850-ecd1-dd74a84c84f4"
      },
      "source": [
        "#결측치 제거, axis=1로하면 열이 제거됨\n",
        "prdmaster = prdmaster.dropna(axis=0) \n",
        "prdmaster.isna().sum() #결측치 없는 것으로 나옴\n",
        "prdmaster.shape"
      ],
      "execution_count": null,
      "outputs": [
        {
          "output_type": "execute_result",
          "data": {
            "text/plain": [
              "CLNT_ID            0\n",
              "SESS_ID            0\n",
              "HITS_SEQ           0\n",
              "PD_C               0\n",
              "PD_ADD_NM          0\n",
              "PD_BRA_NM          0\n",
              "PD_BUY_AM          0\n",
              "PD_BUY_CT          0\n",
              "TOT_PRICE          0\n",
              "CLAC1_NM           0\n",
              "CLNT_GENDER        0\n",
              "CLNT_AGE           0\n",
              "SESS_SEQ           0\n",
              "SESS_DT            0\n",
              "TOT_PAG_VIEW_CT    0\n",
              "TOT_SESS_HR_V      0\n",
              "DVC_CTG_NM         0\n",
              "ZON_NM             0\n",
              "CITY_NM            0\n",
              "dtype: int64"
            ]
          },
          "metadata": {
            "tags": []
          },
          "execution_count": 43
        },
        {
          "output_type": "execute_result",
          "data": {
            "text/plain": [
              "(3971933, 19)"
            ]
          },
          "metadata": {
            "tags": []
          },
          "execution_count": 43
        }
      ]
    },
    {
      "cell_type": "code",
      "metadata": {
        "colab": {
          "base_uri": "https://localhost:8080/",
          "height": 617
        },
        "id": "BtyilOH2BSOM",
        "outputId": "1adde5e9-0ab0-491b-a077-41095750eb97"
      },
      "source": [
        "is_hit1 = prdmaster['HITS_SEQ']>1\n",
        "is_sq = prdmaster['TOT_PAG_VIEW_CT']<2\n",
        "is1 = prdmaster[is_hit1&is_sq]\n",
        "is1\n",
        "\n",
        "#첫 세션(Sess_seq=1)에서 첫 클릭(Hits_seq=1)에 바로 구매를 할 수 없음. 데이터 측정의 오류로 판단. \n"
      ],
      "execution_count": null,
      "outputs": [
        {
          "output_type": "execute_result",
          "data": {
            "text/html": [
              "<div>\n",
              "<style scoped>\n",
              "    .dataframe tbody tr th:only-of-type {\n",
              "        vertical-align: middle;\n",
              "    }\n",
              "\n",
              "    .dataframe tbody tr th {\n",
              "        vertical-align: top;\n",
              "    }\n",
              "\n",
              "    .dataframe thead th {\n",
              "        text-align: right;\n",
              "    }\n",
              "</style>\n",
              "<table border=\"1\" class=\"dataframe\">\n",
              "  <thead>\n",
              "    <tr style=\"text-align: right;\">\n",
              "      <th></th>\n",
              "      <th>CLNT_ID</th>\n",
              "      <th>SESS_ID</th>\n",
              "      <th>HITS_SEQ</th>\n",
              "      <th>PD_C</th>\n",
              "      <th>PD_ADD_NM</th>\n",
              "      <th>PD_BRA_NM</th>\n",
              "      <th>PD_BUY_AM</th>\n",
              "      <th>PD_BUY_CT</th>\n",
              "      <th>TOT_PRICE</th>\n",
              "      <th>CLAC1_NM</th>\n",
              "      <th>CLNT_GENDER</th>\n",
              "      <th>CLNT_AGE</th>\n",
              "      <th>SESS_SEQ</th>\n",
              "      <th>SESS_DT</th>\n",
              "      <th>TOT_PAG_VIEW_CT</th>\n",
              "      <th>TOT_SESS_HR_V</th>\n",
              "      <th>DVC_CTG_NM</th>\n",
              "      <th>ZON_NM</th>\n",
              "      <th>CITY_NM</th>\n",
              "    </tr>\n",
              "  </thead>\n",
              "  <tbody>\n",
              "    <tr>\n",
              "      <th>8390</th>\n",
              "      <td>4227380</td>\n",
              "      <td>08344411</td>\n",
              "      <td>2</td>\n",
              "      <td>323559</td>\n",
              "      <td>색상:멜란지 블루|사이즈:100 / 1개</td>\n",
              "      <td>지오투</td>\n",
              "      <td>39000</td>\n",
              "      <td>1</td>\n",
              "      <td>39000</td>\n",
              "      <td>남성의류</td>\n",
              "      <td>F</td>\n",
              "      <td>30.00</td>\n",
              "      <td>360</td>\n",
              "      <td>2018-05-14</td>\n",
              "      <td>1.00</td>\n",
              "      <td>4.00</td>\n",
              "      <td>mobile</td>\n",
              "      <td>Gyeongsangbuk-do</td>\n",
              "      <td>Pohang-si</td>\n",
              "    </tr>\n",
              "    <tr>\n",
              "      <th>8391</th>\n",
              "      <td>4227380</td>\n",
              "      <td>08344411</td>\n",
              "      <td>2</td>\n",
              "      <td>323567</td>\n",
              "      <td>색상:멜란지 네이비|사이즈:100 / 1개</td>\n",
              "      <td>지오투</td>\n",
              "      <td>39000</td>\n",
              "      <td>1</td>\n",
              "      <td>39000</td>\n",
              "      <td>남성의류</td>\n",
              "      <td>F</td>\n",
              "      <td>30.00</td>\n",
              "      <td>360</td>\n",
              "      <td>2018-05-14</td>\n",
              "      <td>1.00</td>\n",
              "      <td>4.00</td>\n",
              "      <td>mobile</td>\n",
              "      <td>Gyeongsangbuk-do</td>\n",
              "      <td>Pohang-si</td>\n",
              "    </tr>\n",
              "    <tr>\n",
              "      <th>8392</th>\n",
              "      <td>4227380</td>\n",
              "      <td>08344411</td>\n",
              "      <td>2</td>\n",
              "      <td>383119</td>\n",
              "      <td>색상:블루|사이즈:100 / 1개</td>\n",
              "      <td>스파소</td>\n",
              "      <td>39000</td>\n",
              "      <td>1</td>\n",
              "      <td>39000</td>\n",
              "      <td>남성의류</td>\n",
              "      <td>F</td>\n",
              "      <td>30.00</td>\n",
              "      <td>360</td>\n",
              "      <td>2018-05-14</td>\n",
              "      <td>1.00</td>\n",
              "      <td>4.00</td>\n",
              "      <td>mobile</td>\n",
              "      <td>Gyeongsangbuk-do</td>\n",
              "      <td>Pohang-si</td>\n",
              "    </tr>\n",
              "    <tr>\n",
              "      <th>63017</th>\n",
              "      <td>3868211</td>\n",
              "      <td>05594766</td>\n",
              "      <td>2</td>\n",
              "      <td>630711</td>\n",
              "      <td>브라:75A|팬티:90 / 1개</td>\n",
              "      <td>엘르이너웨어</td>\n",
              "      <td>39200</td>\n",
              "      <td>1</td>\n",
              "      <td>39200</td>\n",
              "      <td>속옷/양말/홈웨어</td>\n",
              "      <td>M</td>\n",
              "      <td>10.00</td>\n",
              "      <td>4</td>\n",
              "      <td>2018-06-28</td>\n",
              "      <td>1.00</td>\n",
              "      <td>17.00</td>\n",
              "      <td>mobile</td>\n",
              "      <td>Gwangju</td>\n",
              "      <td>Gwangju</td>\n",
              "    </tr>\n",
              "    <tr>\n",
              "      <th>63018</th>\n",
              "      <td>3868211</td>\n",
              "      <td>05594766</td>\n",
              "      <td>2</td>\n",
              "      <td>470361</td>\n",
              "      <td>사이즈:90|모델명:4.TWH0467CRM / 1개</td>\n",
              "      <td>트라이엄프</td>\n",
              "      <td>7000</td>\n",
              "      <td>1</td>\n",
              "      <td>7000</td>\n",
              "      <td>속옷/양말/홈웨어</td>\n",
              "      <td>M</td>\n",
              "      <td>10.00</td>\n",
              "      <td>4</td>\n",
              "      <td>2018-06-28</td>\n",
              "      <td>1.00</td>\n",
              "      <td>17.00</td>\n",
              "      <td>mobile</td>\n",
              "      <td>Gwangju</td>\n",
              "      <td>Gwangju</td>\n",
              "    </tr>\n",
              "    <tr>\n",
              "      <th>...</th>\n",
              "      <td>...</td>\n",
              "      <td>...</td>\n",
              "      <td>...</td>\n",
              "      <td>...</td>\n",
              "      <td>...</td>\n",
              "      <td>...</td>\n",
              "      <td>...</td>\n",
              "      <td>...</td>\n",
              "      <td>...</td>\n",
              "      <td>...</td>\n",
              "      <td>...</td>\n",
              "      <td>...</td>\n",
              "      <td>...</td>\n",
              "      <td>...</td>\n",
              "      <td>...</td>\n",
              "      <td>...</td>\n",
              "      <td>...</td>\n",
              "      <td>...</td>\n",
              "      <td>...</td>\n",
              "    </tr>\n",
              "    <tr>\n",
              "      <th>4990594</th>\n",
              "      <td>6242296</td>\n",
              "      <td>02611591</td>\n",
              "      <td>2</td>\n",
              "      <td>392328</td>\n",
              "      <td>1개</td>\n",
              "      <td>리복</td>\n",
              "      <td>38000</td>\n",
              "      <td>1</td>\n",
              "      <td>38000</td>\n",
              "      <td>화장품/뷰티케어</td>\n",
              "      <td>M</td>\n",
              "      <td>30.00</td>\n",
              "      <td>6</td>\n",
              "      <td>2018-08-17</td>\n",
              "      <td>1.00</td>\n",
              "      <td>2.00</td>\n",
              "      <td>mobile</td>\n",
              "      <td>Seoul</td>\n",
              "      <td>Seoul</td>\n",
              "    </tr>\n",
              "    <tr>\n",
              "      <th>4993515</th>\n",
              "      <td>4039481</td>\n",
              "      <td>07007052</td>\n",
              "      <td>2</td>\n",
              "      <td>452322</td>\n",
              "      <td>색상:블랙|사이즈:J5 38 / 1개</td>\n",
              "      <td>제이스타일</td>\n",
              "      <td>38900</td>\n",
              "      <td>1</td>\n",
              "      <td>38900</td>\n",
              "      <td>여성의류</td>\n",
              "      <td>F</td>\n",
              "      <td>30.00</td>\n",
              "      <td>903</td>\n",
              "      <td>2018-06-05</td>\n",
              "      <td>1.00</td>\n",
              "      <td>2.00</td>\n",
              "      <td>mobile</td>\n",
              "      <td>Seoul</td>\n",
              "      <td>Seoul</td>\n",
              "    </tr>\n",
              "    <tr>\n",
              "      <th>4998544</th>\n",
              "      <td>0248421</td>\n",
              "      <td>04757220</td>\n",
              "      <td>2</td>\n",
              "      <td>128865</td>\n",
              "      <td>색상:블랙(BK)|사이즈:90(XL) / 1개</td>\n",
              "      <td>뉴발란스</td>\n",
              "      <td>39000</td>\n",
              "      <td>1</td>\n",
              "      <td>39000</td>\n",
              "      <td>스포츠패션</td>\n",
              "      <td>F</td>\n",
              "      <td>30.00</td>\n",
              "      <td>558</td>\n",
              "      <td>2018-07-12</td>\n",
              "      <td>1.00</td>\n",
              "      <td>3.00</td>\n",
              "      <td>mobile</td>\n",
              "      <td>Gyeongsangbuk-do</td>\n",
              "      <td>Yecheon-gun</td>\n",
              "    </tr>\n",
              "    <tr>\n",
              "      <th>5002762</th>\n",
              "      <td>2017720</td>\n",
              "      <td>02586656</td>\n",
              "      <td>3</td>\n",
              "      <td>72547</td>\n",
              "      <td>색상:블루|사이즈:105 / 1개</td>\n",
              "      <td>카운테스마라(셔츠)</td>\n",
              "      <td>39000</td>\n",
              "      <td>1</td>\n",
              "      <td>39000</td>\n",
              "      <td>남성의류</td>\n",
              "      <td>M</td>\n",
              "      <td>50.00</td>\n",
              "      <td>6</td>\n",
              "      <td>2018-08-18</td>\n",
              "      <td>1.00</td>\n",
              "      <td>7.00</td>\n",
              "      <td>mobile</td>\n",
              "      <td>Gyeonggi-do</td>\n",
              "      <td>Gimpo-si</td>\n",
              "    </tr>\n",
              "    <tr>\n",
              "      <th>5013996</th>\n",
              "      <td>3184393</td>\n",
              "      <td>07081857</td>\n",
              "      <td>2</td>\n",
              "      <td>676433</td>\n",
              "      <td>사이즈:110 / 1개</td>\n",
              "      <td>헤지스 키즈</td>\n",
              "      <td>39000</td>\n",
              "      <td>1</td>\n",
              "      <td>39000</td>\n",
              "      <td>유아동의류</td>\n",
              "      <td>F</td>\n",
              "      <td>30.00</td>\n",
              "      <td>7</td>\n",
              "      <td>2018-06-04</td>\n",
              "      <td>1.00</td>\n",
              "      <td>6.00</td>\n",
              "      <td>mobile</td>\n",
              "      <td>Chungcheongnam-do</td>\n",
              "      <td>Dangjin-si</td>\n",
              "    </tr>\n",
              "  </tbody>\n",
              "</table>\n",
              "<p>385 rows × 19 columns</p>\n",
              "</div>"
            ],
            "text/plain": [
              "         CLNT_ID   SESS_ID  HITS_SEQ  ...  DVC_CTG_NM             ZON_NM      CITY_NM\n",
              "8390     4227380  08344411         2  ...      mobile   Gyeongsangbuk-do    Pohang-si\n",
              "8391     4227380  08344411         2  ...      mobile   Gyeongsangbuk-do    Pohang-si\n",
              "8392     4227380  08344411         2  ...      mobile   Gyeongsangbuk-do    Pohang-si\n",
              "63017    3868211  05594766         2  ...      mobile            Gwangju      Gwangju\n",
              "63018    3868211  05594766         2  ...      mobile            Gwangju      Gwangju\n",
              "...          ...       ...       ...  ...         ...                ...          ...\n",
              "4990594  6242296  02611591         2  ...      mobile              Seoul        Seoul\n",
              "4993515  4039481  07007052         2  ...      mobile              Seoul        Seoul\n",
              "4998544  0248421  04757220         2  ...      mobile   Gyeongsangbuk-do  Yecheon-gun\n",
              "5002762  2017720  02586656         3  ...      mobile        Gyeonggi-do     Gimpo-si\n",
              "5013996  3184393  07081857         2  ...      mobile  Chungcheongnam-do   Dangjin-si\n",
              "\n",
              "[385 rows x 19 columns]"
            ]
          },
          "metadata": {
            "tags": []
          },
          "execution_count": 44
        }
      ]
    },
    {
      "cell_type": "code",
      "metadata": {
        "id": "T50C6SJLj453",
        "colab": {
          "base_uri": "https://localhost:8080/",
          "height": 528
        },
        "outputId": "e30972bd-22c0-4821-d342-3aa73a03c7fe"
      },
      "source": [
        "#일별 클라이언트 아이디 개수\n",
        "clntperday = prdmaster[['SESS_DT','CLNT_ID']].groupby(['SESS_DT']).count()\n",
        "clntperday.head(15)"
      ],
      "execution_count": null,
      "outputs": [
        {
          "output_type": "execute_result",
          "data": {
            "text/html": [
              "<div>\n",
              "<style scoped>\n",
              "    .dataframe tbody tr th:only-of-type {\n",
              "        vertical-align: middle;\n",
              "    }\n",
              "\n",
              "    .dataframe tbody tr th {\n",
              "        vertical-align: top;\n",
              "    }\n",
              "\n",
              "    .dataframe thead th {\n",
              "        text-align: right;\n",
              "    }\n",
              "</style>\n",
              "<table border=\"1\" class=\"dataframe\">\n",
              "  <thead>\n",
              "    <tr style=\"text-align: right;\">\n",
              "      <th></th>\n",
              "      <th>CLNT_ID</th>\n",
              "    </tr>\n",
              "    <tr>\n",
              "      <th>SESS_DT</th>\n",
              "      <th></th>\n",
              "    </tr>\n",
              "  </thead>\n",
              "  <tbody>\n",
              "    <tr>\n",
              "      <th>2018-04-01</th>\n",
              "      <td>32086</td>\n",
              "    </tr>\n",
              "    <tr>\n",
              "      <th>2018-04-02</th>\n",
              "      <td>29009</td>\n",
              "    </tr>\n",
              "    <tr>\n",
              "      <th>2018-04-03</th>\n",
              "      <td>28178</td>\n",
              "    </tr>\n",
              "    <tr>\n",
              "      <th>2018-04-04</th>\n",
              "      <td>25699</td>\n",
              "    </tr>\n",
              "    <tr>\n",
              "      <th>2018-04-05</th>\n",
              "      <td>24063</td>\n",
              "    </tr>\n",
              "    <tr>\n",
              "      <th>2018-04-06</th>\n",
              "      <td>20150</td>\n",
              "    </tr>\n",
              "    <tr>\n",
              "      <th>2018-04-07</th>\n",
              "      <td>18432</td>\n",
              "    </tr>\n",
              "    <tr>\n",
              "      <th>2018-04-08</th>\n",
              "      <td>24589</td>\n",
              "    </tr>\n",
              "    <tr>\n",
              "      <th>2018-04-09</th>\n",
              "      <td>26964</td>\n",
              "    </tr>\n",
              "    <tr>\n",
              "      <th>2018-04-10</th>\n",
              "      <td>23003</td>\n",
              "    </tr>\n",
              "    <tr>\n",
              "      <th>2018-04-11</th>\n",
              "      <td>26265</td>\n",
              "    </tr>\n",
              "    <tr>\n",
              "      <th>2018-04-12</th>\n",
              "      <td>21010</td>\n",
              "    </tr>\n",
              "    <tr>\n",
              "      <th>2018-04-13</th>\n",
              "      <td>19919</td>\n",
              "    </tr>\n",
              "    <tr>\n",
              "      <th>2018-04-14</th>\n",
              "      <td>20205</td>\n",
              "    </tr>\n",
              "    <tr>\n",
              "      <th>2018-04-15</th>\n",
              "      <td>23002</td>\n",
              "    </tr>\n",
              "  </tbody>\n",
              "</table>\n",
              "</div>"
            ],
            "text/plain": [
              "            CLNT_ID\n",
              "SESS_DT            \n",
              "2018-04-01    32086\n",
              "2018-04-02    29009\n",
              "2018-04-03    28178\n",
              "2018-04-04    25699\n",
              "2018-04-05    24063\n",
              "2018-04-06    20150\n",
              "2018-04-07    18432\n",
              "2018-04-08    24589\n",
              "2018-04-09    26964\n",
              "2018-04-10    23003\n",
              "2018-04-11    26265\n",
              "2018-04-12    21010\n",
              "2018-04-13    19919\n",
              "2018-04-14    20205\n",
              "2018-04-15    23002"
            ]
          },
          "metadata": {
            "tags": []
          },
          "execution_count": 45
        }
      ]
    },
    {
      "cell_type": "code",
      "metadata": {
        "id": "Z9sTNP3qkL3U",
        "colab": {
          "base_uri": "https://localhost:8080/"
        },
        "outputId": "3f09d2cc-3e4b-4a5c-fcbd-07bc32dcf00b"
      },
      "source": [
        "round(clntperday['CLNT_ID'].mean()) #일 평균 구매 회원 수"
      ],
      "execution_count": null,
      "outputs": [
        {
          "output_type": "execute_result",
          "data": {
            "text/plain": [
              "21705"
            ]
          },
          "metadata": {
            "tags": []
          },
          "execution_count": 46
        }
      ]
    },
    {
      "cell_type": "code",
      "metadata": {
        "id": "oTcr1f3CkqSJ",
        "colab": {
          "base_uri": "https://localhost:8080/",
          "height": 437
        },
        "outputId": "38d718b9-4c4e-48a8-e632-5659f87b9351"
      },
      "source": [
        "#prdmaster[['TOT_PRICE', 'TOT_PAG_VIEW_CT']].groupby(['TOT_PAG_VIEW_CT']).count() #이렇게 하면 토탈 페이지뷰가 1인 구매이력의 빈도가 나옴\n",
        "prdmaster[['TOT_PRICE', 'TOT_PAG_VIEW_CT']].groupby(['TOT_PAG_VIEW_CT']).count()"
      ],
      "execution_count": null,
      "outputs": [
        {
          "output_type": "execute_result",
          "data": {
            "text/html": [
              "<div>\n",
              "<style scoped>\n",
              "    .dataframe tbody tr th:only-of-type {\n",
              "        vertical-align: middle;\n",
              "    }\n",
              "\n",
              "    .dataframe tbody tr th {\n",
              "        vertical-align: top;\n",
              "    }\n",
              "\n",
              "    .dataframe thead th {\n",
              "        text-align: right;\n",
              "    }\n",
              "</style>\n",
              "<table border=\"1\" class=\"dataframe\">\n",
              "  <thead>\n",
              "    <tr style=\"text-align: right;\">\n",
              "      <th></th>\n",
              "      <th>TOT_PRICE</th>\n",
              "    </tr>\n",
              "    <tr>\n",
              "      <th>TOT_PAG_VIEW_CT</th>\n",
              "      <th></th>\n",
              "    </tr>\n",
              "  </thead>\n",
              "  <tbody>\n",
              "    <tr>\n",
              "      <th>1.00</th>\n",
              "      <td>458</td>\n",
              "    </tr>\n",
              "    <tr>\n",
              "      <th>2.00</th>\n",
              "      <td>4999</td>\n",
              "    </tr>\n",
              "    <tr>\n",
              "      <th>3.00</th>\n",
              "      <td>3973</td>\n",
              "    </tr>\n",
              "    <tr>\n",
              "      <th>4.00</th>\n",
              "      <td>3346</td>\n",
              "    </tr>\n",
              "    <tr>\n",
              "      <th>5.00</th>\n",
              "      <td>4367</td>\n",
              "    </tr>\n",
              "    <tr>\n",
              "      <th>...</th>\n",
              "      <td>...</td>\n",
              "    </tr>\n",
              "    <tr>\n",
              "      <th>495.00</th>\n",
              "      <td>2461</td>\n",
              "    </tr>\n",
              "    <tr>\n",
              "      <th>496.00</th>\n",
              "      <td>3967</td>\n",
              "    </tr>\n",
              "    <tr>\n",
              "      <th>497.00</th>\n",
              "      <td>6011</td>\n",
              "    </tr>\n",
              "    <tr>\n",
              "      <th>498.00</th>\n",
              "      <td>9757</td>\n",
              "    </tr>\n",
              "    <tr>\n",
              "      <th>499.00</th>\n",
              "      <td>17177</td>\n",
              "    </tr>\n",
              "  </tbody>\n",
              "</table>\n",
              "<p>499 rows × 1 columns</p>\n",
              "</div>"
            ],
            "text/plain": [
              "                 TOT_PRICE\n",
              "TOT_PAG_VIEW_CT           \n",
              "1.00                   458\n",
              "2.00                  4999\n",
              "3.00                  3973\n",
              "4.00                  3346\n",
              "5.00                  4367\n",
              "...                    ...\n",
              "495.00                2461\n",
              "496.00                3967\n",
              "497.00                6011\n",
              "498.00                9757\n",
              "499.00               17177\n",
              "\n",
              "[499 rows x 1 columns]"
            ]
          },
          "metadata": {
            "tags": []
          },
          "execution_count": 47
        }
      ]
    },
    {
      "cell_type": "code",
      "metadata": {
        "id": "i2HdpqQJnRCj",
        "colab": {
          "base_uri": "https://localhost:8080/",
          "height": 551
        },
        "outputId": "3a9506b6-e098-4f77-962c-aea6eb853ef1"
      },
      "source": [
        "prpvcorr=prdmaster[['TOT_PRICE', 'TOT_PAG_VIEW_CT','HITS_SEQ', 'TOT_SESS_HR_V', 'SESS_SEQ']].corr(method='pearson')\n",
        "prpvcorr\n",
        "\n",
        "df_heatmap = sns.heatmap(prpvcorr, cbar = True, annot = True, annot_kws={'size' : 10}, fmt = '.2f', square = True, cmap = 'Blues')\n",
        "df_heatmap #굳이 그려봤음. \n",
        "\n",
        "#왓더 페이지 뷰와 고객 당 구매 가격은 상관관계 걍 없다. \n",
        "#각 구매 당 총 구매가격인 TOT_PRICE는 정보탐색과 직접적으로 관련된 변수와 그 어떤 상관관계도 없다. 아오씨\n",
        "#HIT가 1~3정도인 너무 작은 것들, "
      ],
      "execution_count": null,
      "outputs": [
        {
          "output_type": "execute_result",
          "data": {
            "text/html": [
              "<div>\n",
              "<style scoped>\n",
              "    .dataframe tbody tr th:only-of-type {\n",
              "        vertical-align: middle;\n",
              "    }\n",
              "\n",
              "    .dataframe tbody tr th {\n",
              "        vertical-align: top;\n",
              "    }\n",
              "\n",
              "    .dataframe thead th {\n",
              "        text-align: right;\n",
              "    }\n",
              "</style>\n",
              "<table border=\"1\" class=\"dataframe\">\n",
              "  <thead>\n",
              "    <tr style=\"text-align: right;\">\n",
              "      <th></th>\n",
              "      <th>TOT_PRICE</th>\n",
              "      <th>TOT_PAG_VIEW_CT</th>\n",
              "      <th>HITS_SEQ</th>\n",
              "      <th>TOT_SESS_HR_V</th>\n",
              "      <th>SESS_SEQ</th>\n",
              "    </tr>\n",
              "  </thead>\n",
              "  <tbody>\n",
              "    <tr>\n",
              "      <th>TOT_PRICE</th>\n",
              "      <td>1.00</td>\n",
              "      <td>-0.00</td>\n",
              "      <td>-0.03</td>\n",
              "      <td>0.01</td>\n",
              "      <td>-0.04</td>\n",
              "    </tr>\n",
              "    <tr>\n",
              "      <th>TOT_PAG_VIEW_CT</th>\n",
              "      <td>-0.00</td>\n",
              "      <td>1.00</td>\n",
              "      <td>0.86</td>\n",
              "      <td>0.71</td>\n",
              "      <td>0.13</td>\n",
              "    </tr>\n",
              "    <tr>\n",
              "      <th>HITS_SEQ</th>\n",
              "      <td>-0.03</td>\n",
              "      <td>0.86</td>\n",
              "      <td>1.00</td>\n",
              "      <td>0.61</td>\n",
              "      <td>0.06</td>\n",
              "    </tr>\n",
              "    <tr>\n",
              "      <th>TOT_SESS_HR_V</th>\n",
              "      <td>0.01</td>\n",
              "      <td>0.71</td>\n",
              "      <td>0.61</td>\n",
              "      <td>1.00</td>\n",
              "      <td>0.09</td>\n",
              "    </tr>\n",
              "    <tr>\n",
              "      <th>SESS_SEQ</th>\n",
              "      <td>-0.04</td>\n",
              "      <td>0.13</td>\n",
              "      <td>0.06</td>\n",
              "      <td>0.09</td>\n",
              "      <td>1.00</td>\n",
              "    </tr>\n",
              "  </tbody>\n",
              "</table>\n",
              "</div>"
            ],
            "text/plain": [
              "                 TOT_PRICE  TOT_PAG_VIEW_CT  HITS_SEQ  TOT_SESS_HR_V  SESS_SEQ\n",
              "TOT_PRICE             1.00            -0.00     -0.03           0.01     -0.04\n",
              "TOT_PAG_VIEW_CT      -0.00             1.00      0.86           0.71      0.13\n",
              "HITS_SEQ             -0.03             0.86      1.00           0.61      0.06\n",
              "TOT_SESS_HR_V         0.01             0.71      0.61           1.00      0.09\n",
              "SESS_SEQ             -0.04             0.13      0.06           0.09      1.00"
            ]
          },
          "metadata": {
            "tags": []
          },
          "execution_count": 48
        },
        {
          "output_type": "execute_result",
          "data": {
            "text/plain": [
              "<matplotlib.axes._subplots.AxesSubplot at 0x7fd7b562fd30>"
            ]
          },
          "metadata": {
            "tags": []
          },
          "execution_count": 48
        },
        {
          "output_type": "display_data",
          "data": {
            "image/png": "[encoded data removed]",
            "text/plain": [
              "<Figure size 432x288 with 2 Axes>"
            ]
          },
          "metadata": {
            "tags": [],
            "needs_background": "light"
          }
        }
      ]
    },
    {
      "cell_type": "code",
      "metadata": {
        "id": "Cm_Lf6xllgvM",
        "colab": {
          "base_uri": "https://localhost:8080/",
          "height": 617
        },
        "outputId": "64ea4f3e-242d-45d2-8f17-1ff5c5f51090"
      },
      "source": [
        "is_1 = prdmaster['TOT_PAG_VIEW_CT']==1\n",
        "is1 = prdmaster[is_1]\n",
        "is1"
      ],
      "execution_count": null,
      "outputs": [
        {
          "output_type": "execute_result",
          "data": {
            "text/html": [
              "<div>\n",
              "<style scoped>\n",
              "    .dataframe tbody tr th:only-of-type {\n",
              "        vertical-align: middle;\n",
              "    }\n",
              "\n",
              "    .dataframe tbody tr th {\n",
              "        vertical-align: top;\n",
              "    }\n",
              "\n",
              "    .dataframe thead th {\n",
              "        text-align: right;\n",
              "    }\n",
              "</style>\n",
              "<table border=\"1\" class=\"dataframe\">\n",
              "  <thead>\n",
              "    <tr style=\"text-align: right;\">\n",
              "      <th></th>\n",
              "      <th>CLNT_ID</th>\n",
              "      <th>SESS_ID</th>\n",
              "      <th>HITS_SEQ</th>\n",
              "      <th>PD_C</th>\n",
              "      <th>PD_ADD_NM</th>\n",
              "      <th>PD_BRA_NM</th>\n",
              "      <th>PD_BUY_AM</th>\n",
              "      <th>PD_BUY_CT</th>\n",
              "      <th>TOT_PRICE</th>\n",
              "      <th>CLAC1_NM</th>\n",
              "      <th>CLNT_GENDER</th>\n",
              "      <th>CLNT_AGE</th>\n",
              "      <th>SESS_SEQ</th>\n",
              "      <th>SESS_DT</th>\n",
              "      <th>TOT_PAG_VIEW_CT</th>\n",
              "      <th>TOT_SESS_HR_V</th>\n",
              "      <th>DVC_CTG_NM</th>\n",
              "      <th>ZON_NM</th>\n",
              "      <th>CITY_NM</th>\n",
              "    </tr>\n",
              "  </thead>\n",
              "  <tbody>\n",
              "    <tr>\n",
              "      <th>8390</th>\n",
              "      <td>4227380</td>\n",
              "      <td>08344411</td>\n",
              "      <td>2</td>\n",
              "      <td>323559</td>\n",
              "      <td>색상:멜란지 블루|사이즈:100 / 1개</td>\n",
              "      <td>지오투</td>\n",
              "      <td>39000</td>\n",
              "      <td>1</td>\n",
              "      <td>39000</td>\n",
              "      <td>남성의류</td>\n",
              "      <td>F</td>\n",
              "      <td>30.00</td>\n",
              "      <td>360</td>\n",
              "      <td>2018-05-14</td>\n",
              "      <td>1.00</td>\n",
              "      <td>4.00</td>\n",
              "      <td>mobile</td>\n",
              "      <td>Gyeongsangbuk-do</td>\n",
              "      <td>Pohang-si</td>\n",
              "    </tr>\n",
              "    <tr>\n",
              "      <th>8391</th>\n",
              "      <td>4227380</td>\n",
              "      <td>08344411</td>\n",
              "      <td>2</td>\n",
              "      <td>323567</td>\n",
              "      <td>색상:멜란지 네이비|사이즈:100 / 1개</td>\n",
              "      <td>지오투</td>\n",
              "      <td>39000</td>\n",
              "      <td>1</td>\n",
              "      <td>39000</td>\n",
              "      <td>남성의류</td>\n",
              "      <td>F</td>\n",
              "      <td>30.00</td>\n",
              "      <td>360</td>\n",
              "      <td>2018-05-14</td>\n",
              "      <td>1.00</td>\n",
              "      <td>4.00</td>\n",
              "      <td>mobile</td>\n",
              "      <td>Gyeongsangbuk-do</td>\n",
              "      <td>Pohang-si</td>\n",
              "    </tr>\n",
              "    <tr>\n",
              "      <th>8392</th>\n",
              "      <td>4227380</td>\n",
              "      <td>08344411</td>\n",
              "      <td>2</td>\n",
              "      <td>383119</td>\n",
              "      <td>색상:블루|사이즈:100 / 1개</td>\n",
              "      <td>스파소</td>\n",
              "      <td>39000</td>\n",
              "      <td>1</td>\n",
              "      <td>39000</td>\n",
              "      <td>남성의류</td>\n",
              "      <td>F</td>\n",
              "      <td>30.00</td>\n",
              "      <td>360</td>\n",
              "      <td>2018-05-14</td>\n",
              "      <td>1.00</td>\n",
              "      <td>4.00</td>\n",
              "      <td>mobile</td>\n",
              "      <td>Gyeongsangbuk-do</td>\n",
              "      <td>Pohang-si</td>\n",
              "    </tr>\n",
              "    <tr>\n",
              "      <th>63017</th>\n",
              "      <td>3868211</td>\n",
              "      <td>05594766</td>\n",
              "      <td>2</td>\n",
              "      <td>630711</td>\n",
              "      <td>브라:75A|팬티:90 / 1개</td>\n",
              "      <td>엘르이너웨어</td>\n",
              "      <td>39200</td>\n",
              "      <td>1</td>\n",
              "      <td>39200</td>\n",
              "      <td>속옷/양말/홈웨어</td>\n",
              "      <td>M</td>\n",
              "      <td>10.00</td>\n",
              "      <td>4</td>\n",
              "      <td>2018-06-28</td>\n",
              "      <td>1.00</td>\n",
              "      <td>17.00</td>\n",
              "      <td>mobile</td>\n",
              "      <td>Gwangju</td>\n",
              "      <td>Gwangju</td>\n",
              "    </tr>\n",
              "    <tr>\n",
              "      <th>63018</th>\n",
              "      <td>3868211</td>\n",
              "      <td>05594766</td>\n",
              "      <td>2</td>\n",
              "      <td>470361</td>\n",
              "      <td>사이즈:90|모델명:4.TWH0467CRM / 1개</td>\n",
              "      <td>트라이엄프</td>\n",
              "      <td>7000</td>\n",
              "      <td>1</td>\n",
              "      <td>7000</td>\n",
              "      <td>속옷/양말/홈웨어</td>\n",
              "      <td>M</td>\n",
              "      <td>10.00</td>\n",
              "      <td>4</td>\n",
              "      <td>2018-06-28</td>\n",
              "      <td>1.00</td>\n",
              "      <td>17.00</td>\n",
              "      <td>mobile</td>\n",
              "      <td>Gwangju</td>\n",
              "      <td>Gwangju</td>\n",
              "    </tr>\n",
              "    <tr>\n",
              "      <th>...</th>\n",
              "      <td>...</td>\n",
              "      <td>...</td>\n",
              "      <td>...</td>\n",
              "      <td>...</td>\n",
              "      <td>...</td>\n",
              "      <td>...</td>\n",
              "      <td>...</td>\n",
              "      <td>...</td>\n",
              "      <td>...</td>\n",
              "      <td>...</td>\n",
              "      <td>...</td>\n",
              "      <td>...</td>\n",
              "      <td>...</td>\n",
              "      <td>...</td>\n",
              "      <td>...</td>\n",
              "      <td>...</td>\n",
              "      <td>...</td>\n",
              "      <td>...</td>\n",
              "      <td>...</td>\n",
              "    </tr>\n",
              "    <tr>\n",
              "      <th>4993515</th>\n",
              "      <td>4039481</td>\n",
              "      <td>07007052</td>\n",
              "      <td>2</td>\n",
              "      <td>452322</td>\n",
              "      <td>색상:블랙|사이즈:J5 38 / 1개</td>\n",
              "      <td>제이스타일</td>\n",
              "      <td>38900</td>\n",
              "      <td>1</td>\n",
              "      <td>38900</td>\n",
              "      <td>여성의류</td>\n",
              "      <td>F</td>\n",
              "      <td>30.00</td>\n",
              "      <td>903</td>\n",
              "      <td>2018-06-05</td>\n",
              "      <td>1.00</td>\n",
              "      <td>2.00</td>\n",
              "      <td>mobile</td>\n",
              "      <td>Seoul</td>\n",
              "      <td>Seoul</td>\n",
              "    </tr>\n",
              "    <tr>\n",
              "      <th>4993917</th>\n",
              "      <td>5379746</td>\n",
              "      <td>06492725</td>\n",
              "      <td>1</td>\n",
              "      <td>6584</td>\n",
              "      <td>옵션:943827-300(140/8C) / 1개</td>\n",
              "      <td>나이키(슈즈)</td>\n",
              "      <td>38500</td>\n",
              "      <td>1</td>\n",
              "      <td>38500</td>\n",
              "      <td>스포츠패션</td>\n",
              "      <td>F</td>\n",
              "      <td>40.00</td>\n",
              "      <td>1450</td>\n",
              "      <td>2018-06-13</td>\n",
              "      <td>1.00</td>\n",
              "      <td>1.00</td>\n",
              "      <td>mobile</td>\n",
              "      <td>Seoul</td>\n",
              "      <td>Seoul</td>\n",
              "    </tr>\n",
              "    <tr>\n",
              "      <th>4998544</th>\n",
              "      <td>0248421</td>\n",
              "      <td>04757220</td>\n",
              "      <td>2</td>\n",
              "      <td>128865</td>\n",
              "      <td>색상:블랙(BK)|사이즈:90(XL) / 1개</td>\n",
              "      <td>뉴발란스</td>\n",
              "      <td>39000</td>\n",
              "      <td>1</td>\n",
              "      <td>39000</td>\n",
              "      <td>스포츠패션</td>\n",
              "      <td>F</td>\n",
              "      <td>30.00</td>\n",
              "      <td>558</td>\n",
              "      <td>2018-07-12</td>\n",
              "      <td>1.00</td>\n",
              "      <td>3.00</td>\n",
              "      <td>mobile</td>\n",
              "      <td>Gyeongsangbuk-do</td>\n",
              "      <td>Yecheon-gun</td>\n",
              "    </tr>\n",
              "    <tr>\n",
              "      <th>5002762</th>\n",
              "      <td>2017720</td>\n",
              "      <td>02586656</td>\n",
              "      <td>3</td>\n",
              "      <td>72547</td>\n",
              "      <td>색상:블루|사이즈:105 / 1개</td>\n",
              "      <td>카운테스마라(셔츠)</td>\n",
              "      <td>39000</td>\n",
              "      <td>1</td>\n",
              "      <td>39000</td>\n",
              "      <td>남성의류</td>\n",
              "      <td>M</td>\n",
              "      <td>50.00</td>\n",
              "      <td>6</td>\n",
              "      <td>2018-08-18</td>\n",
              "      <td>1.00</td>\n",
              "      <td>7.00</td>\n",
              "      <td>mobile</td>\n",
              "      <td>Gyeonggi-do</td>\n",
              "      <td>Gimpo-si</td>\n",
              "    </tr>\n",
              "    <tr>\n",
              "      <th>5013996</th>\n",
              "      <td>3184393</td>\n",
              "      <td>07081857</td>\n",
              "      <td>2</td>\n",
              "      <td>676433</td>\n",
              "      <td>사이즈:110 / 1개</td>\n",
              "      <td>헤지스 키즈</td>\n",
              "      <td>39000</td>\n",
              "      <td>1</td>\n",
              "      <td>39000</td>\n",
              "      <td>유아동의류</td>\n",
              "      <td>F</td>\n",
              "      <td>30.00</td>\n",
              "      <td>7</td>\n",
              "      <td>2018-06-04</td>\n",
              "      <td>1.00</td>\n",
              "      <td>6.00</td>\n",
              "      <td>mobile</td>\n",
              "      <td>Chungcheongnam-do</td>\n",
              "      <td>Dangjin-si</td>\n",
              "    </tr>\n",
              "  </tbody>\n",
              "</table>\n",
              "<p>458 rows × 19 columns</p>\n",
              "</div>"
            ],
            "text/plain": [
              "         CLNT_ID   SESS_ID  HITS_SEQ  ...  DVC_CTG_NM             ZON_NM      CITY_NM\n",
              "8390     4227380  08344411         2  ...      mobile   Gyeongsangbuk-do    Pohang-si\n",
              "8391     4227380  08344411         2  ...      mobile   Gyeongsangbuk-do    Pohang-si\n",
              "8392     4227380  08344411         2  ...      mobile   Gyeongsangbuk-do    Pohang-si\n",
              "63017    3868211  05594766         2  ...      mobile            Gwangju      Gwangju\n",
              "63018    3868211  05594766         2  ...      mobile            Gwangju      Gwangju\n",
              "...          ...       ...       ...  ...         ...                ...          ...\n",
              "4993515  4039481  07007052         2  ...      mobile              Seoul        Seoul\n",
              "4993917  5379746  06492725         1  ...      mobile              Seoul        Seoul\n",
              "4998544  0248421  04757220         2  ...      mobile   Gyeongsangbuk-do  Yecheon-gun\n",
              "5002762  2017720  02586656         3  ...      mobile        Gyeonggi-do     Gimpo-si\n",
              "5013996  3184393  07081857         2  ...      mobile  Chungcheongnam-do   Dangjin-si\n",
              "\n",
              "[458 rows x 19 columns]"
            ]
          },
          "metadata": {
            "tags": []
          },
          "execution_count": 49
        }
      ]
    },
    {
      "cell_type": "code",
      "metadata": {
        "id": "5WSuqwMMmeZa",
        "colab": {
          "base_uri": "https://localhost:8080/"
        },
        "outputId": "753715fe-89cc-40de-ebf4-ff7928c40235"
      },
      "source": [
        "round(is1['TOT_PRICE'].mean())"
      ],
      "execution_count": null,
      "outputs": [
        {
          "output_type": "execute_result",
          "data": {
            "text/plain": [
              "62327.0"
            ]
          },
          "metadata": {
            "tags": []
          },
          "execution_count": 50
        }
      ]
    },
    {
      "cell_type": "markdown",
      "metadata": {
        "id": "3YHZz5r8q8ca"
      },
      "source": [
        "#### 11.17 \n",
        "##### TOT_PRICE와 Session 관련 정보탐색 변수 간 상관관계가 전혀 안보임. 우선 ⓐ각 변수 이상치 제거 ⓑ 또는 TOT_PRICE 이상치에 해당하는 행을 한 번 눈으로 직접 볼 것 ⓒ Hit가 1이상인데 Sess_HR가 0이라던지 이상한 행들 제거 ⓓ Session에서 애초에 비워져있던 행 제거 \n",
        "### 걍 전처리부터 존나 똑바로 하자. "
      ]
    }
  ]
}