{
  "nbformat": 4,
  "nbformat_minor": 0,
  "metadata": {
    "colab": {
      "name": "1st EDA.ipynb",
      "provenance": [],
      "collapsed_sections": [],
      "authorship_tag": "ABX9TyOh71fqBaBMqW2RGRT9yRsb"
    },
    "kernelspec": {
      "name": "python3",
      "display_name": "Python 3"
    }
  },
  "cells": [
    {
      "cell_type": "code",
      "metadata": {
        "id": "VJa1LOIcKQiB",
        "outputId": "9e48f7f9-3ef4-4354-8a5f-bccef8f16dc1",
        "colab": {
          "base_uri": "https://localhost:8080/"
        }
      },
      "source": [
        "from google.colab import drive\n",
        "drive.mount('/content/drive')"
      ],
      "execution_count": null,
      "outputs": [
        {
          "output_type": "stream",
          "text": [
            "Mounted at /content/drive\n"
          ],
          "name": "stdout"
        }
      ]
    },
    {
      "cell_type": "code",
      "metadata": {
        "id": "BFPWUUa3KZgX"
      },
      "source": [
        "import pandas as pd\n",
        "import numpy as np\n",
        "import matplotlib.pyplot as plt\n",
        "import seaborn as sns"
      ],
      "execution_count": null,
      "outputs": []
    },
    {
      "cell_type": "code",
      "metadata": {
        "id": "q3MUM6iAKVA8"
      },
      "source": [
        "filename='/content/drive/My Drive/DataSet/Lpoint/data/Product.csv'"
      ],
      "execution_count": null,
      "outputs": []
    },
    {
      "cell_type": "code",
      "metadata": {
        "id": "7VMx9AbBKU1d",
        "outputId": "7cfa202c-1b24-4670-a864-1fdccc6f7486",
        "colab": {
          "base_uri": "https://localhost:8080/",
          "height": 238
        }
      },
      "source": [
        "prd = pd.read_csv(filename, dtype={\"CLNT_ID\":np.str, \"SESS_ID\":np.str},thousands=\",\")\n",
        "prd.head()"
      ],
      "execution_count": null,
      "outputs": [
        {
          "output_type": "execute_result",
          "data": {
            "text/html": [
              "<div>\n",
              "<style scoped>\n",
              "    .dataframe tbody tr th:only-of-type {\n",
              "        vertical-align: middle;\n",
              "    }\n",
              "\n",
              "    .dataframe tbody tr th {\n",
              "        vertical-align: top;\n",
              "    }\n",
              "\n",
              "    .dataframe thead th {\n",
              "        text-align: right;\n",
              "    }\n",
              "</style>\n",
              "<table border=\"1\" class=\"dataframe\">\n",
              "  <thead>\n",
              "    <tr style=\"text-align: right;\">\n",
              "      <th></th>\n",
              "      <th>CLNT_ID</th>\n",
              "      <th>SESS_ID</th>\n",
              "      <th>HITS_SEQ</th>\n",
              "      <th>PD_C</th>\n",
              "      <th>PD_ADD_NM</th>\n",
              "      <th>PD_BRA_NM</th>\n",
              "      <th>PD_BUY_AM</th>\n",
              "      <th>PD_BUY_CT</th>\n",
              "    </tr>\n",
              "  </thead>\n",
              "  <tbody>\n",
              "    <tr>\n",
              "      <th>0</th>\n",
              "      <td>4139680</td>\n",
              "      <td>07605037</td>\n",
              "      <td>12</td>\n",
              "      <td>642112</td>\n",
              "      <td>색상:워터멜론</td>\n",
              "      <td>[바비브라운]</td>\n",
              "      <td>39000</td>\n",
              "      <td>1</td>\n",
              "    </tr>\n",
              "    <tr>\n",
              "      <th>1</th>\n",
              "      <td>4140076</td>\n",
              "      <td>10189797</td>\n",
              "      <td>13</td>\n",
              "      <td>570603</td>\n",
              "      <td>색상:BLK0_(BLK0)BLACK|사이즈:120 / 2개</td>\n",
              "      <td>데상트</td>\n",
              "      <td>39000</td>\n",
              "      <td>2</td>\n",
              "    </tr>\n",
              "    <tr>\n",
              "      <th>2</th>\n",
              "      <td>4142395</td>\n",
              "      <td>06158159</td>\n",
              "      <td>85</td>\n",
              "      <td>179538</td>\n",
              "      <td>(not set)</td>\n",
              "      <td>[아베다]</td>\n",
              "      <td>39000</td>\n",
              "      <td>1</td>\n",
              "    </tr>\n",
              "    <tr>\n",
              "      <th>3</th>\n",
              "      <td>4144914</td>\n",
              "      <td>07935714</td>\n",
              "      <td>12</td>\n",
              "      <td>554336</td>\n",
              "      <td>색상:블랙|사이즈:160cm(12~13세) / 1개</td>\n",
              "      <td>아디다스 키즈</td>\n",
              "      <td>39000</td>\n",
              "      <td>1</td>\n",
              "    </tr>\n",
              "    <tr>\n",
              "      <th>4</th>\n",
              "      <td>4144917</td>\n",
              "      <td>06406509</td>\n",
              "      <td>78</td>\n",
              "      <td>190306</td>\n",
              "      <td>5개</td>\n",
              "      <td>데코르테</td>\n",
              "      <td>39000</td>\n",
              "      <td>5</td>\n",
              "    </tr>\n",
              "  </tbody>\n",
              "</table>\n",
              "</div>"
            ],
            "text/plain": [
              "   CLNT_ID   SESS_ID  HITS_SEQ  ...  PD_BRA_NM PD_BUY_AM PD_BUY_CT\n",
              "0  4139680  07605037        12  ...    [바비브라운]     39000         1\n",
              "1  4140076  10189797        13  ...        데상트     39000         2\n",
              "2  4142395  06158159        85  ...      [아베다]     39000         1\n",
              "3  4144914  07935714        12  ...    아디다스 키즈     39000         1\n",
              "4  4144917  06406509        78  ...       데코르테     39000         5\n",
              "\n",
              "[5 rows x 8 columns]"
            ]
          },
          "metadata": {
            "tags": []
          },
          "execution_count": 4
        }
      ]
    },
    {
      "cell_type": "code",
      "metadata": {
        "id": "8PXxTWxALH-l"
      },
      "source": [
        "from IPython.core.interactiveshell import InteractiveShell\n",
        "InteractiveShell.ast_node_interactivity = 'all'"
      ],
      "execution_count": null,
      "outputs": []
    },
    {
      "cell_type": "code",
      "metadata": {
        "id": "QfiD8RSPLGSK",
        "outputId": "7ef90092-8b13-42a6-ed98-68626caf41c9",
        "colab": {
          "base_uri": "https://localhost:8080/"
        }
      },
      "source": [
        "prd.dtypes\n",
        "prd.shape"
      ],
      "execution_count": null,
      "outputs": [
        {
          "output_type": "execute_result",
          "data": {
            "text/plain": [
              "CLNT_ID      object\n",
              "SESS_ID      object\n",
              "HITS_SEQ      int64\n",
              "PD_C          int64\n",
              "PD_ADD_NM    object\n",
              "PD_BRA_NM    object\n",
              "PD_BUY_AM     int64\n",
              "PD_BUY_CT     int64\n",
              "dtype: object"
            ]
          },
          "metadata": {
            "tags": []
          },
          "execution_count": 6
        },
        {
          "output_type": "execute_result",
          "data": {
            "text/plain": [
              "(5024906, 8)"
            ]
          },
          "metadata": {
            "tags": []
          },
          "execution_count": 6
        }
      ]
    },
    {
      "cell_type": "markdown",
      "metadata": {
        "id": "JGUJxV2wOpdX"
      },
      "source": [
        "### 1.Product \n",
        "#### 1.1 Product 내 변수만으로 알아볼 수 있는 것들 \n",
        "1. 연속형 변수 3개(HITS_SEQ, PD_BUY_AM, PD_BUY_CT)의 각 각의 기술통계\n",
        "2. PD_BUY_AM * PD_BUT_CT = 총구매가격 변수 추가하여 기술통계\n",
        "3. 총구매가격과 HITS_SEQ의 상관관계(보통 가격이 높은 상품이 관여도가 높기 때문에 소비 이전에 정보검색량이 많다. 따라서 구매까지의 홈페이지 내 클릭 수를 보여주는 HITS_SEQ과 총구매 가격 간의 상관관계를 본다. H1:많이 살펴볼 수록 총구매가격이 높다.)\n",
        "4. 생각나면 추가\n",
        "\n",
        "\n",
        "\n",
        "\n"
      ]
    },
    {
      "cell_type": "code",
      "metadata": {
        "id": "ddVd6ip3Lcnb",
        "outputId": "85f20f52-0866-4df6-9781-b6a36ec98bfc",
        "colab": {
          "base_uri": "https://localhost:8080/",
          "height": 275
        }
      },
      "source": [
        "prd['TOT_PRICE'] = prd['PD_BUY_AM']*prd['PD_BUY_CT'] #변수 추가\n",
        "prd.head()"
      ],
      "execution_count": null,
      "outputs": [
        {
          "output_type": "execute_result",
          "data": {
            "text/html": [
              "<div>\n",
              "<style scoped>\n",
              "    .dataframe tbody tr th:only-of-type {\n",
              "        vertical-align: middle;\n",
              "    }\n",
              "\n",
              "    .dataframe tbody tr th {\n",
              "        vertical-align: top;\n",
              "    }\n",
              "\n",
              "    .dataframe thead th {\n",
              "        text-align: right;\n",
              "    }\n",
              "</style>\n",
              "<table border=\"1\" class=\"dataframe\">\n",
              "  <thead>\n",
              "    <tr style=\"text-align: right;\">\n",
              "      <th></th>\n",
              "      <th>CLNT_ID</th>\n",
              "      <th>SESS_ID</th>\n",
              "      <th>HITS_SEQ</th>\n",
              "      <th>PD_C</th>\n",
              "      <th>PD_ADD_NM</th>\n",
              "      <th>PD_BRA_NM</th>\n",
              "      <th>PD_BUY_AM</th>\n",
              "      <th>PD_BUY_CT</th>\n",
              "      <th>TOT_PRICE</th>\n",
              "    </tr>\n",
              "  </thead>\n",
              "  <tbody>\n",
              "    <tr>\n",
              "      <th>0</th>\n",
              "      <td>4139680</td>\n",
              "      <td>07605037</td>\n",
              "      <td>12</td>\n",
              "      <td>642112</td>\n",
              "      <td>색상:워터멜론</td>\n",
              "      <td>[바비브라운]</td>\n",
              "      <td>39000</td>\n",
              "      <td>1</td>\n",
              "      <td>39000</td>\n",
              "    </tr>\n",
              "    <tr>\n",
              "      <th>1</th>\n",
              "      <td>4140076</td>\n",
              "      <td>10189797</td>\n",
              "      <td>13</td>\n",
              "      <td>570603</td>\n",
              "      <td>색상:BLK0_(BLK0)BLACK|사이즈:120 / 2개</td>\n",
              "      <td>데상트</td>\n",
              "      <td>39000</td>\n",
              "      <td>2</td>\n",
              "      <td>78000</td>\n",
              "    </tr>\n",
              "    <tr>\n",
              "      <th>2</th>\n",
              "      <td>4142395</td>\n",
              "      <td>06158159</td>\n",
              "      <td>85</td>\n",
              "      <td>179538</td>\n",
              "      <td>(not set)</td>\n",
              "      <td>[아베다]</td>\n",
              "      <td>39000</td>\n",
              "      <td>1</td>\n",
              "      <td>39000</td>\n",
              "    </tr>\n",
              "    <tr>\n",
              "      <th>3</th>\n",
              "      <td>4144914</td>\n",
              "      <td>07935714</td>\n",
              "      <td>12</td>\n",
              "      <td>554336</td>\n",
              "      <td>색상:블랙|사이즈:160cm(12~13세) / 1개</td>\n",
              "      <td>아디다스 키즈</td>\n",
              "      <td>39000</td>\n",
              "      <td>1</td>\n",
              "      <td>39000</td>\n",
              "    </tr>\n",
              "    <tr>\n",
              "      <th>4</th>\n",
              "      <td>4144917</td>\n",
              "      <td>06406509</td>\n",
              "      <td>78</td>\n",
              "      <td>190306</td>\n",
              "      <td>5개</td>\n",
              "      <td>데코르테</td>\n",
              "      <td>39000</td>\n",
              "      <td>5</td>\n",
              "      <td>195000</td>\n",
              "    </tr>\n",
              "  </tbody>\n",
              "</table>\n",
              "</div>"
            ],
            "text/plain": [
              "   CLNT_ID   SESS_ID  HITS_SEQ  ...  PD_BUY_AM PD_BUY_CT TOT_PRICE\n",
              "0  4139680  07605037        12  ...      39000         1     39000\n",
              "1  4140076  10189797        13  ...      39000         2     78000\n",
              "2  4142395  06158159        85  ...      39000         1     39000\n",
              "3  4144914  07935714        12  ...      39000         1     39000\n",
              "4  4144917  06406509        78  ...      39000         5    195000\n",
              "\n",
              "[5 rows x 9 columns]"
            ]
          },
          "metadata": {
            "tags": []
          },
          "execution_count": 7
        }
      ]
    },
    {
      "cell_type": "code",
      "metadata": {
        "id": "iAbv8w9_LIkG",
        "outputId": "63527a8d-b3ce-4d57-bba0-409a816c312b",
        "colab": {
          "base_uri": "https://localhost:8080/",
          "height": 204
        }
      },
      "source": [
        "hit_price_cor = prd[['HITS_SEQ', 'TOT_PRICE']] #또는 prd.loc[;,['HITS_SEQ', 'TOT_PRICE']]\n",
        "hit_price_cor.head()"
      ],
      "execution_count": null,
      "outputs": [
        {
          "output_type": "execute_result",
          "data": {
            "text/html": [
              "<div>\n",
              "<style scoped>\n",
              "    .dataframe tbody tr th:only-of-type {\n",
              "        vertical-align: middle;\n",
              "    }\n",
              "\n",
              "    .dataframe tbody tr th {\n",
              "        vertical-align: top;\n",
              "    }\n",
              "\n",
              "    .dataframe thead th {\n",
              "        text-align: right;\n",
              "    }\n",
              "</style>\n",
              "<table border=\"1\" class=\"dataframe\">\n",
              "  <thead>\n",
              "    <tr style=\"text-align: right;\">\n",
              "      <th></th>\n",
              "      <th>HITS_SEQ</th>\n",
              "      <th>TOT_PRICE</th>\n",
              "    </tr>\n",
              "  </thead>\n",
              "  <tbody>\n",
              "    <tr>\n",
              "      <th>0</th>\n",
              "      <td>12</td>\n",
              "      <td>39000</td>\n",
              "    </tr>\n",
              "    <tr>\n",
              "      <th>1</th>\n",
              "      <td>13</td>\n",
              "      <td>78000</td>\n",
              "    </tr>\n",
              "    <tr>\n",
              "      <th>2</th>\n",
              "      <td>85</td>\n",
              "      <td>39000</td>\n",
              "    </tr>\n",
              "    <tr>\n",
              "      <th>3</th>\n",
              "      <td>12</td>\n",
              "      <td>39000</td>\n",
              "    </tr>\n",
              "    <tr>\n",
              "      <th>4</th>\n",
              "      <td>78</td>\n",
              "      <td>195000</td>\n",
              "    </tr>\n",
              "  </tbody>\n",
              "</table>\n",
              "</div>"
            ],
            "text/plain": [
              "   HITS_SEQ  TOT_PRICE\n",
              "0        12      39000\n",
              "1        13      78000\n",
              "2        85      39000\n",
              "3        12      39000\n",
              "4        78     195000"
            ]
          },
          "metadata": {
            "tags": []
          },
          "execution_count": 8
        }
      ]
    },
    {
      "cell_type": "code",
      "metadata": {
        "id": "D99dSVOjWXoD",
        "outputId": "7d3081c6-3bcc-41f6-b6a7-eccf0086e84c",
        "colab": {
          "base_uri": "https://localhost:8080/",
          "height": 111
        }
      },
      "source": [
        "hit_price_cor.corr(method='pearson') #왓더 -0.025"
      ],
      "execution_count": null,
      "outputs": [
        {
          "output_type": "execute_result",
          "data": {
            "text/html": [
              "<div>\n",
              "<style scoped>\n",
              "    .dataframe tbody tr th:only-of-type {\n",
              "        vertical-align: middle;\n",
              "    }\n",
              "\n",
              "    .dataframe tbody tr th {\n",
              "        vertical-align: top;\n",
              "    }\n",
              "\n",
              "    .dataframe thead th {\n",
              "        text-align: right;\n",
              "    }\n",
              "</style>\n",
              "<table border=\"1\" class=\"dataframe\">\n",
              "  <thead>\n",
              "    <tr style=\"text-align: right;\">\n",
              "      <th></th>\n",
              "      <th>HITS_SEQ</th>\n",
              "      <th>TOT_PRICE</th>\n",
              "    </tr>\n",
              "  </thead>\n",
              "  <tbody>\n",
              "    <tr>\n",
              "      <th>HITS_SEQ</th>\n",
              "      <td>1.000000</td>\n",
              "      <td>-0.025467</td>\n",
              "    </tr>\n",
              "    <tr>\n",
              "      <th>TOT_PRICE</th>\n",
              "      <td>-0.025467</td>\n",
              "      <td>1.000000</td>\n",
              "    </tr>\n",
              "  </tbody>\n",
              "</table>\n",
              "</div>"
            ],
            "text/plain": [
              "           HITS_SEQ  TOT_PRICE\n",
              "HITS_SEQ   1.000000  -0.025467\n",
              "TOT_PRICE -0.025467   1.000000"
            ]
          },
          "metadata": {
            "tags": []
          },
          "execution_count": 9
        }
      ]
    },
    {
      "cell_type": "code",
      "metadata": {
        "id": "g3Szy8WnXFWj",
        "outputId": "4162b674-8632-4aa9-e50c-dca95d1a3d7c",
        "colab": {
          "base_uri": "https://localhost:8080/",
          "height": 297
        }
      },
      "source": [
        "des = prd[['HITS_SEQ','PD_BUY_AM','PD_BUY_CT','TOT_PRICE']].describe()\n",
        "pd.options.display.float_format = '{:.2f}'.format #소수점 두번째까지 표시\n",
        "des"
      ],
      "execution_count": null,
      "outputs": [
        {
          "output_type": "execute_result",
          "data": {
            "text/html": [
              "<div>\n",
              "<style scoped>\n",
              "    .dataframe tbody tr th:only-of-type {\n",
              "        vertical-align: middle;\n",
              "    }\n",
              "\n",
              "    .dataframe tbody tr th {\n",
              "        vertical-align: top;\n",
              "    }\n",
              "\n",
              "    .dataframe thead th {\n",
              "        text-align: right;\n",
              "    }\n",
              "</style>\n",
              "<table border=\"1\" class=\"dataframe\">\n",
              "  <thead>\n",
              "    <tr style=\"text-align: right;\">\n",
              "      <th></th>\n",
              "      <th>HITS_SEQ</th>\n",
              "      <th>PD_BUY_AM</th>\n",
              "      <th>PD_BUY_CT</th>\n",
              "      <th>TOT_PRICE</th>\n",
              "    </tr>\n",
              "  </thead>\n",
              "  <tbody>\n",
              "    <tr>\n",
              "      <th>count</th>\n",
              "      <td>5024906.00</td>\n",
              "      <td>5024906.00</td>\n",
              "      <td>5024906.00</td>\n",
              "      <td>5024906.00</td>\n",
              "    </tr>\n",
              "    <tr>\n",
              "      <th>mean</th>\n",
              "      <td>81.26</td>\n",
              "      <td>51349.45</td>\n",
              "      <td>1.18</td>\n",
              "      <td>54089.34</td>\n",
              "    </tr>\n",
              "    <tr>\n",
              "      <th>std</th>\n",
              "      <td>85.94</td>\n",
              "      <td>117383.57</td>\n",
              "      <td>3.07</td>\n",
              "      <td>127671.25</td>\n",
              "    </tr>\n",
              "    <tr>\n",
              "      <th>min</th>\n",
              "      <td>1.00</td>\n",
              "      <td>10.00</td>\n",
              "      <td>1.00</td>\n",
              "      <td>10.00</td>\n",
              "    </tr>\n",
              "    <tr>\n",
              "      <th>25%</th>\n",
              "      <td>24.00</td>\n",
              "      <td>12900.00</td>\n",
              "      <td>1.00</td>\n",
              "      <td>14000.00</td>\n",
              "    </tr>\n",
              "    <tr>\n",
              "      <th>50%</th>\n",
              "      <td>50.00</td>\n",
              "      <td>28000.00</td>\n",
              "      <td>1.00</td>\n",
              "      <td>29000.00</td>\n",
              "    </tr>\n",
              "    <tr>\n",
              "      <th>75%</th>\n",
              "      <td>104.00</td>\n",
              "      <td>49900.00</td>\n",
              "      <td>1.00</td>\n",
              "      <td>53000.00</td>\n",
              "    </tr>\n",
              "    <tr>\n",
              "      <th>max</th>\n",
              "      <td>500.00</td>\n",
              "      <td>17779000.00</td>\n",
              "      <td>1440.00</td>\n",
              "      <td>39000000.00</td>\n",
              "    </tr>\n",
              "  </tbody>\n",
              "</table>\n",
              "</div>"
            ],
            "text/plain": [
              "        HITS_SEQ   PD_BUY_AM  PD_BUY_CT   TOT_PRICE\n",
              "count 5024906.00  5024906.00 5024906.00  5024906.00\n",
              "mean       81.26    51349.45       1.18    54089.34\n",
              "std        85.94   117383.57       3.07   127671.25\n",
              "min         1.00       10.00       1.00       10.00\n",
              "25%        24.00    12900.00       1.00    14000.00\n",
              "50%        50.00    28000.00       1.00    29000.00\n",
              "75%       104.00    49900.00       1.00    53000.00\n",
              "max       500.00 17779000.00    1440.00 39000000.00"
            ]
          },
          "metadata": {
            "tags": []
          },
          "execution_count": 10
        }
      ]
    },
    {
      "cell_type": "code",
      "metadata": {
        "id": "F77R7XFrv4f7",
        "outputId": "1989884d-9dd9-4b71-eecd-af15c166b876",
        "colab": {
          "base_uri": "https://localhost:8080/",
          "height": 571
        }
      },
      "source": [
        "prd[prd['PD_BUY_AM']==17779000] # 1777만 9천원짜리 시계 FLEX\n",
        "prd[prd['PD_BUY_CT']==1440] #prd['PD_BUY_CT'].idxmax() 몇 번째 행이 최대인지만 나옴.\n",
        "prd.loc[prd['TOT_PRICE'].idxmax()] #정관장 10만원짜리를 390개를 샀음. \n",
        "prd.loc[prd['HITS_SEQ'].idxmax()] #900원짜리 구매하는데 클릭이 500번?"
      ],
      "execution_count": null,
      "outputs": [
        {
          "output_type": "execute_result",
          "data": {
            "text/html": [
              "<div>\n",
              "<style scoped>\n",
              "    .dataframe tbody tr th:only-of-type {\n",
              "        vertical-align: middle;\n",
              "    }\n",
              "\n",
              "    .dataframe tbody tr th {\n",
              "        vertical-align: top;\n",
              "    }\n",
              "\n",
              "    .dataframe thead th {\n",
              "        text-align: right;\n",
              "    }\n",
              "</style>\n",
              "<table border=\"1\" class=\"dataframe\">\n",
              "  <thead>\n",
              "    <tr style=\"text-align: right;\">\n",
              "      <th></th>\n",
              "      <th>CLNT_ID</th>\n",
              "      <th>SESS_ID</th>\n",
              "      <th>HITS_SEQ</th>\n",
              "      <th>PD_C</th>\n",
              "      <th>PD_ADD_NM</th>\n",
              "      <th>PD_BRA_NM</th>\n",
              "      <th>PD_BUY_AM</th>\n",
              "      <th>PD_BUY_CT</th>\n",
              "      <th>TOT_PRICE</th>\n",
              "    </tr>\n",
              "  </thead>\n",
              "  <tbody>\n",
              "    <tr>\n",
              "      <th>3424550</th>\n",
              "      <td>0929827</td>\n",
              "      <td>00609951</td>\n",
              "      <td>57</td>\n",
              "      <td>51344</td>\n",
              "      <td>1개</td>\n",
              "      <td>프레드릭콘스탄트(시계)</td>\n",
              "      <td>17779000</td>\n",
              "      <td>1</td>\n",
              "      <td>17779000</td>\n",
              "    </tr>\n",
              "  </tbody>\n",
              "</table>\n",
              "</div>"
            ],
            "text/plain": [
              "         CLNT_ID   SESS_ID  HITS_SEQ  ...  PD_BUY_AM PD_BUY_CT TOT_PRICE\n",
              "3424550  0929827  00609951        57  ...   17779000         1  17779000\n",
              "\n",
              "[1 rows x 9 columns]"
            ]
          },
          "metadata": {
            "tags": []
          },
          "execution_count": 11
        },
        {
          "output_type": "execute_result",
          "data": {
            "text/html": [
              "<div>\n",
              "<style scoped>\n",
              "    .dataframe tbody tr th:only-of-type {\n",
              "        vertical-align: middle;\n",
              "    }\n",
              "\n",
              "    .dataframe tbody tr th {\n",
              "        vertical-align: top;\n",
              "    }\n",
              "\n",
              "    .dataframe thead th {\n",
              "        text-align: right;\n",
              "    }\n",
              "</style>\n",
              "<table border=\"1\" class=\"dataframe\">\n",
              "  <thead>\n",
              "    <tr style=\"text-align: right;\">\n",
              "      <th></th>\n",
              "      <th>CLNT_ID</th>\n",
              "      <th>SESS_ID</th>\n",
              "      <th>HITS_SEQ</th>\n",
              "      <th>PD_C</th>\n",
              "      <th>PD_ADD_NM</th>\n",
              "      <th>PD_BRA_NM</th>\n",
              "      <th>PD_BUY_AM</th>\n",
              "      <th>PD_BUY_CT</th>\n",
              "      <th>TOT_PRICE</th>\n",
              "    </tr>\n",
              "  </thead>\n",
              "  <tbody>\n",
              "    <tr>\n",
              "      <th>29649</th>\n",
              "      <td>3007548</td>\n",
              "      <td>03553431</td>\n",
              "      <td>112</td>\n",
              "      <td>643396</td>\n",
              "      <td>원단선택:91번|손잡이선택:좌측|설치공간:천정목재 / 1440개</td>\n",
              "      <td>리드센스</td>\n",
              "      <td>100</td>\n",
              "      <td>1440</td>\n",
              "      <td>144000</td>\n",
              "    </tr>\n",
              "  </tbody>\n",
              "</table>\n",
              "</div>"
            ],
            "text/plain": [
              "       CLNT_ID   SESS_ID  HITS_SEQ  ...  PD_BUY_AM PD_BUY_CT TOT_PRICE\n",
              "29649  3007548  03553431       112  ...        100      1440    144000\n",
              "\n",
              "[1 rows x 9 columns]"
            ]
          },
          "metadata": {
            "tags": []
          },
          "execution_count": 11
        },
        {
          "output_type": "execute_result",
          "data": {
            "text/plain": [
              "CLNT_ID       0820884\n",
              "SESS_ID      05051994\n",
              "HITS_SEQ           47\n",
              "PD_C             1955\n",
              "PD_ADD_NM        390개\n",
              "PD_BRA_NM         정관장\n",
              "PD_BUY_AM      100000\n",
              "PD_BUY_CT         390\n",
              "TOT_PRICE    39000000\n",
              "Name: 2479620, dtype: object"
            ]
          },
          "metadata": {
            "tags": []
          },
          "execution_count": 11
        },
        {
          "output_type": "execute_result",
          "data": {
            "text/plain": [
              "CLNT_ID                 4598302\n",
              "SESS_ID                01328757\n",
              "HITS_SEQ                    500\n",
              "PD_C                     460049\n",
              "PD_ADD_NM    색상/사이즈:그린/100 / 1개\n",
              "PD_BRA_NM                   포인포\n",
              "PD_BUY_AM                   900\n",
              "PD_BUY_CT                     1\n",
              "TOT_PRICE                   900\n",
              "Name: 6223, dtype: object"
            ]
          },
          "metadata": {
            "tags": []
          },
          "execution_count": 11
        }
      ]
    },
    {
      "cell_type": "code",
      "metadata": {
        "id": "fYT-1dADwKLN",
        "outputId": "08835f79-c4c6-4535-ffa3-f3a3604a6424",
        "colab": {
          "base_uri": "https://localhost:8080/"
        }
      },
      "source": [
        "# 11.8 히스토그램 정규화해서 시각화 좀 제대로. 표로는 한 눈에 안들어옴. \n",
        "# Standardization using zscore() of scipy.stats \n",
        "import scipy.stats as ss\n",
        "data_standadized_ss = ss.zscore(prd['PD_BUY_AM'])\n",
        "data_standadized_ss\n",
        "\n",
        "# Using numpy, z = (x-mean)/std \n",
        "#from numpy import *\n",
        "#data_standadized_np = (prd['PD_BUY_AM'] - mean(prd['PD_BUY_AM'], axis=0)) / std(prd['PD_BUY_AM'], axis=0)\n",
        "#data_standadized_np\n",
        "#mean(data_standadized_np, axis=0)\n",
        "#std(data_standadized_np, axis=0)\n",
        "\n",
        "# sklearn.preprocessing 을 이용한 표준화 : StandardScaler().fit_transform()\n",
        "# from sklearn.preprocessing import StandardScaler\n",
        "# ata_standadized_skl = StandardScaler().fit_transform(data)\n",
        "# data_standadized_skl\n",
        "\n",
        "#출처 https://rfriend.tistory.com/tag/standardization"
      ],
      "execution_count": null,
      "outputs": [
        {
          "output_type": "execute_result",
          "data": {
            "text/plain": [
              "array([-0.10520598, -0.10520598, -0.10520598, ..., -0.10520598,\n",
              "       -0.10520598, -0.10520598])"
            ]
          },
          "metadata": {
            "tags": []
          },
          "execution_count": 12
        }
      ]
    },
    {
      "cell_type": "code",
      "metadata": {
        "id": "MC7Xc5tSgymu",
        "outputId": "32896361-8dff-4013-b7c1-d9c7c60a2410",
        "colab": {
          "base_uri": "https://localhost:8080/",
          "height": 351
        }
      },
      "source": [
        "# 히스토그램 그릴 때는 위와 같이 굳이 표준화 거칠 필요 없음. \n",
        "#from scipy.stats import norm\n",
        "s#ns.distplot(prd['PD_BUY_CT'], fit=norm)\n",
        "#plt.show()\n",
        "#아이 씨팔 너무 한 두개 구매에 몰려있음. 1~2개 구매가 전체 구매의 몇 퍼센트를 차지하는지 그냥 수치 보여주는게 더 좋을 듯\n",
        "#출처 https://seaborn.pydata.org/generated/seaborn.distplot.html"
      ],
      "execution_count": null,
      "outputs": [
        {
          "output_type": "stream",
          "text": [
            "/usr/local/lib/python3.6/dist-packages/seaborn/distributions.py:2551: FutureWarning: `distplot` is a deprecated function and will be removed in a future version. Please adapt your code to use either `displot` (a figure-level function with similar flexibility) or `histplot` (an axes-level function for histograms).\n",
            "  warnings.warn(msg, FutureWarning)\n"
          ],
          "name": "stderr"
        },
        {
          "output_type": "execute_result",
          "data": {
            "text/plain": [
              "<matplotlib.axes._subplots.AxesSubplot at 0x7fb7e3ebde80>"
            ]
          },
          "metadata": {
            "tags": []
          },
          "execution_count": 13
        },
        {
          "output_type": "display_data",
          "data": {
            "image/png": "[encoded data removed]",
            "text/plain": [
              "<Figure size 432x288 with 1 Axes>"
            ]
          },
          "metadata": {
            "tags": [],
            "needs_background": "light"
          }
        }
      ]
    },
    {
      "cell_type": "code",
      "metadata": {
        "id": "r9nGb_9Kk3M9",
        "outputId": "94e30648-3914-45f2-a0b7-55a250faa311",
        "colab": {
          "base_uri": "https://localhost:8080/"
        }
      },
      "source": [
        "from collections import Counter \n",
        "cnt_PBA = Counter(prd['PD_BUY_AM'])\n",
        "cnt_PBA.most_common(10)\n",
        "# 역시 가격은 9, 5가 많이 들어가는듯 \n",
        "# 9 -> 10-1=9, 100-1=99와 같이 마지막 조금만 빼도 첫째 자리수가 달라지기 때문에 생각보다 할인을 많이한 기분\n",
        "# 5 -> 인간의 손가락, 발가락 모두 한 쪽 당 5개 단위임. 셈을 할 때 5단위가 깔끔해보이는게 직관적(뇌피셜)\n",
        "# 근데 비슷한 품목인데 9500원이 9400원보다 잘 팔리는지는 온라인이든 오프라인이든 실시간으로 심리실험해봐야함. \n",
        "# 본 데이터에서는 비슷한 품목 두 개 중 어느 것이 더 잘 팔렸는지를 알아보는 것은 어렵다. 외생변수(외부 정보탐색 가능성, 또 외부 정보탐색 후 접속 전 구매결정 여부 등) 통제 안됨. 또 실험집단의 구성에도 문제. "
      ],
      "execution_count": null,
      "outputs": [
        {
          "output_type": "execute_result",
          "data": {
            "text/plain": [
              "[(9900, 98237),\n",
              " (39000, 94571),\n",
              " (10000, 89746),\n",
              " (29000, 85759),\n",
              " (15000, 82161),\n",
              " (19000, 76530),\n",
              " (30000, 67577),\n",
              " (49000, 61942),\n",
              " (35000, 58117),\n",
              " (19900, 53908)]"
            ]
          },
          "metadata": {
            "tags": []
          },
          "execution_count": 14
        }
      ]
    },
    {
      "cell_type": "code",
      "metadata": {
        "id": "qlxNlv_im1bR",
        "outputId": "1772ea7b-34bf-4f7a-e0b5-7cd21e69d123",
        "colab": {
          "base_uri": "https://localhost:8080/"
        }
      },
      "source": [
        "cnt_PBC = Counter(prd['PD_BUY_CT'])\n",
        "cnt_PBC.most_common(20)\n",
        "# 구매 수량의 빈도를 기준으로 20위까지 나열했을 때 1~20개의 빈도가 대부분일 줄 알았는데 1~16까지 있고 17, 18, 19개가 순위에 들지 못했다. \n",
        "# 10위까지로 범위를 더 줄여보면 1~5개까지는 순서대로 가고 10개를 산 경우가 6, 7, 8개를 산 경우 보다 많다. 9개를 산 경우는 아예 10위권에 들지도 못함. \n",
        "# 5개 이상은 5 또는 10개 단위로 구매하는 것을 선호하는 경향이 손가락, 발가락 개수 때문이라는건 아직까지 내 뇌피셜이기 때문에 연구결과 한 번 찾아봐야함. \n",
        "# 또 가격, 품목의 영향을 받았을 가능성이 농후하다. "
      ],
      "execution_count": null,
      "outputs": [
        {
          "output_type": "execute_result",
          "data": {
            "text/plain": [
              "[(1, 4676575),\n",
              " (2, 225930),\n",
              " (3, 58163),\n",
              " (4, 19915),\n",
              " (5, 19352),\n",
              " (10, 6953),\n",
              " (6, 5554),\n",
              " (7, 2237),\n",
              " (8, 1798),\n",
              " (20, 1626),\n",
              " (15, 950),\n",
              " (12, 805),\n",
              " (30, 676),\n",
              " (9, 576),\n",
              " (11, 386),\n",
              " (50, 268),\n",
              " (14, 247),\n",
              " (25, 220),\n",
              " (13, 219),\n",
              " (16, 213)]"
            ]
          },
          "metadata": {
            "tags": []
          },
          "execution_count": 15
        }
      ]
    },
    {
      "cell_type": "markdown",
      "metadata": {
        "id": "nlhIQJPbcARk"
      },
      "source": [
        "### 1.Product_2\n",
        "#### 1.2 Product와 join할 수 있는 것들 \n",
        "##### Access를 통해 쿼리를 쉽게 짜면서 꿀빨려고 했으나 이렇게 큰 데이터셋은 감당이 되지 않아 빨리 SQL을 조금이라도 배워서 하지 않는 이상 파이썬으로 해야할 듯. \n",
        "\n",
        "1. Product*Master : PD_C 기준으로 병합이 가능함. 품목별 구매 가격과 양, Hit 수 등을 알 수 있음. \n",
        "2. Product*Custom : CLNT_ID 기준으로 병합이 가능함. 구매 이력에 더해 고객에 대한 정보를 더 상세하게 할 수 있음. \n",
        "3. Product*Session : CLNT_ID, SESS_ID \n",
        "4. Product^Search1 : \n"
      ]
    },
    {
      "cell_type": "code",
      "metadata": {
        "id": "e91zedSPzwmm"
      },
      "source": [
        "mastercsv='/content/drive/My Drive/DataSet/Lpoint/data/Master.csv'\n",
        "master = pd.read_csv(mastercsv)\n",
        "\n"
      ],
      "execution_count": null,
      "outputs": []
    },
    {
      "cell_type": "markdown",
      "metadata": {
        "id": "kd4kXItEhla_"
      },
      "source": [
        "##### 1. Product*Master\n",
        "###### 대분류(CLAC1_NM)도 37개나 되기 때문에 줄일 필요가 있다."
      ]
    },
    {
      "cell_type": "code",
      "metadata": {
        "id": "zRdzIgA7hkHt"
      },
      "source": [
        "#11.9\n",
        "#어떤 기준으로 대대분류를 추가하면 좋을지 찾아봐야함. 네이버 쇼핑도 좋은데 더 공식적인 것이면 좋을 것 같음. \n",
        "#"
      ],
      "execution_count": null,
      "outputs": []
    },
    {
      "cell_type": "code",
      "metadata": {
        "id": "22UXkMVoYWU-",
        "outputId": "3a7c60fc-bb65-4e2c-f8d7-5d48add198ca",
        "colab": {
          "base_uri": "https://localhost:8080/",
          "height": 309
        }
      },
      "source": [
        "# Product와 Master의 병합\n",
        "prdmaster = pd.merge(prd,master[[\"PD_C\", \"CLAC1_NM\"]],on=['PD_C'],how='left')\n",
        "prdmaster.head()"
      ],
      "execution_count": null,
      "outputs": [
        {
          "output_type": "execute_result",
          "data": {
            "text/html": [
              "<div>\n",
              "<style scoped>\n",
              "    .dataframe tbody tr th:only-of-type {\n",
              "        vertical-align: middle;\n",
              "    }\n",
              "\n",
              "    .dataframe tbody tr th {\n",
              "        vertical-align: top;\n",
              "    }\n",
              "\n",
              "    .dataframe thead th {\n",
              "        text-align: right;\n",
              "    }\n",
              "</style>\n",
              "<table border=\"1\" class=\"dataframe\">\n",
              "  <thead>\n",
              "    <tr style=\"text-align: right;\">\n",
              "      <th></th>\n",
              "      <th>CLNT_ID</th>\n",
              "      <th>SESS_ID</th>\n",
              "      <th>HITS_SEQ</th>\n",
              "      <th>PD_C</th>\n",
              "      <th>PD_ADD_NM</th>\n",
              "      <th>PD_BRA_NM</th>\n",
              "      <th>PD_BUY_AM</th>\n",
              "      <th>PD_BUY_CT</th>\n",
              "      <th>TOT_PRICE</th>\n",
              "      <th>CLAC1_NM</th>\n",
              "    </tr>\n",
              "  </thead>\n",
              "  <tbody>\n",
              "    <tr>\n",
              "      <th>0</th>\n",
              "      <td>4139680</td>\n",
              "      <td>07605037</td>\n",
              "      <td>12</td>\n",
              "      <td>642112</td>\n",
              "      <td>색상:워터멜론</td>\n",
              "      <td>[바비브라운]</td>\n",
              "      <td>39000</td>\n",
              "      <td>1</td>\n",
              "      <td>39000</td>\n",
              "      <td>화장품/뷰티케어</td>\n",
              "    </tr>\n",
              "    <tr>\n",
              "      <th>1</th>\n",
              "      <td>4140076</td>\n",
              "      <td>10189797</td>\n",
              "      <td>13</td>\n",
              "      <td>570603</td>\n",
              "      <td>색상:BLK0_(BLK0)BLACK|사이즈:120 / 2개</td>\n",
              "      <td>데상트</td>\n",
              "      <td>39000</td>\n",
              "      <td>2</td>\n",
              "      <td>78000</td>\n",
              "      <td>스포츠패션</td>\n",
              "    </tr>\n",
              "    <tr>\n",
              "      <th>2</th>\n",
              "      <td>4142395</td>\n",
              "      <td>06158159</td>\n",
              "      <td>85</td>\n",
              "      <td>179538</td>\n",
              "      <td>(not set)</td>\n",
              "      <td>[아베다]</td>\n",
              "      <td>39000</td>\n",
              "      <td>1</td>\n",
              "      <td>39000</td>\n",
              "      <td>퍼스널케어</td>\n",
              "    </tr>\n",
              "    <tr>\n",
              "      <th>3</th>\n",
              "      <td>4144914</td>\n",
              "      <td>07935714</td>\n",
              "      <td>12</td>\n",
              "      <td>554336</td>\n",
              "      <td>색상:블랙|사이즈:160cm(12~13세) / 1개</td>\n",
              "      <td>아디다스 키즈</td>\n",
              "      <td>39000</td>\n",
              "      <td>1</td>\n",
              "      <td>39000</td>\n",
              "      <td>유아동의류</td>\n",
              "    </tr>\n",
              "    <tr>\n",
              "      <th>4</th>\n",
              "      <td>4144917</td>\n",
              "      <td>06406509</td>\n",
              "      <td>78</td>\n",
              "      <td>190306</td>\n",
              "      <td>5개</td>\n",
              "      <td>데코르테</td>\n",
              "      <td>39000</td>\n",
              "      <td>5</td>\n",
              "      <td>195000</td>\n",
              "      <td>화장품/뷰티케어</td>\n",
              "    </tr>\n",
              "  </tbody>\n",
              "</table>\n",
              "</div>"
            ],
            "text/plain": [
              "   CLNT_ID   SESS_ID  HITS_SEQ  ...  PD_BUY_CT TOT_PRICE  CLAC1_NM\n",
              "0  4139680  07605037        12  ...          1     39000  화장품/뷰티케어\n",
              "1  4140076  10189797        13  ...          2     78000     스포츠패션\n",
              "2  4142395  06158159        85  ...          1     39000     퍼스널케어\n",
              "3  4144914  07935714        12  ...          1     39000     유아동의류\n",
              "4  4144917  06406509        78  ...          5    195000  화장품/뷰티케어\n",
              "\n",
              "[5 rows x 10 columns]"
            ]
          },
          "metadata": {
            "tags": []
          },
          "execution_count": 18
        }
      ]
    },
    {
      "cell_type": "code",
      "metadata": {
        "id": "a0C8G9Pp2BCj",
        "outputId": "6cd04759-4f15-4efb-ca8e-202a4e247efe",
        "colab": {
          "base_uri": "https://localhost:8080/"
        }
      },
      "source": [
        "#행 변화 없음\n",
        "prd.shape\n",
        "prdmaster.shape"
      ],
      "execution_count": null,
      "outputs": [
        {
          "output_type": "execute_result",
          "data": {
            "text/plain": [
              "(5024906, 9)"
            ]
          },
          "metadata": {
            "tags": []
          },
          "execution_count": 19
        },
        {
          "output_type": "execute_result",
          "data": {
            "text/plain": [
              "(5024906, 10)"
            ]
          },
          "metadata": {
            "tags": []
          },
          "execution_count": 19
        }
      ]
    },
    {
      "cell_type": "code",
      "metadata": {
        "id": "gjOeWV9G5PQq",
        "outputId": "fc79dadf-143d-4839-d3a7-0cd708811ae4",
        "colab": {
          "base_uri": "https://localhost:8080/",
          "height": 1000
        }
      },
      "source": [
        "#대분류에 따른 구매이력\n",
        "prdmaster['CLAC1_NM'] = prdmaster['CLAC1_NM'].astype('category')\n",
        "clntbyclac1 = pd.DataFrame(prdmaster[['CLAC1_NM','CLNT_ID']].groupby(['CLAC1_NM']).count())\n",
        "clntbyclac1['CLNT_ID'].sum() #본 데이터셋에서 총 구매 빈도(이력)은 502만 4906번 \n",
        "clntbyclac1['PER'] =(clntbyclac1['CLNT_ID']/5024906)*100\n",
        "clntbyclac1.sort_values(by='PER', ascending=False)\n"
      ],
      "execution_count": null,
      "outputs": [
        {
          "output_type": "execute_result",
          "data": {
            "text/plain": [
              "5024906"
            ]
          },
          "metadata": {
            "tags": []
          },
          "execution_count": 53
        },
        {
          "output_type": "execute_result",
          "data": {
            "text/html": [
              "<div>\n",
              "<style scoped>\n",
              "    .dataframe tbody tr th:only-of-type {\n",
              "        vertical-align: middle;\n",
              "    }\n",
              "\n",
              "    .dataframe tbody tr th {\n",
              "        vertical-align: top;\n",
              "    }\n",
              "\n",
              "    .dataframe thead th {\n",
              "        text-align: right;\n",
              "    }\n",
              "</style>\n",
              "<table border=\"1\" class=\"dataframe\">\n",
              "  <thead>\n",
              "    <tr style=\"text-align: right;\">\n",
              "      <th></th>\n",
              "      <th>CLNT_ID</th>\n",
              "      <th>PER</th>\n",
              "    </tr>\n",
              "    <tr>\n",
              "      <th>CLAC1_NM</th>\n",
              "      <th></th>\n",
              "      <th></th>\n",
              "    </tr>\n",
              "  </thead>\n",
              "  <tbody>\n",
              "    <tr>\n",
              "      <th>여성의류</th>\n",
              "      <td>677199</td>\n",
              "      <td>13.48</td>\n",
              "    </tr>\n",
              "    <tr>\n",
              "      <th>화장품/뷰티케어</th>\n",
              "      <td>574033</td>\n",
              "      <td>11.42</td>\n",
              "    </tr>\n",
              "    <tr>\n",
              "      <th>스포츠패션</th>\n",
              "      <td>564355</td>\n",
              "      <td>11.23</td>\n",
              "    </tr>\n",
              "    <tr>\n",
              "      <th>남성의류</th>\n",
              "      <td>554910</td>\n",
              "      <td>11.04</td>\n",
              "    </tr>\n",
              "    <tr>\n",
              "      <th>패션잡화</th>\n",
              "      <td>449032</td>\n",
              "      <td>8.94</td>\n",
              "    </tr>\n",
              "    <tr>\n",
              "      <th>속옷/양말/홈웨어</th>\n",
              "      <td>417473</td>\n",
              "      <td>8.31</td>\n",
              "    </tr>\n",
              "    <tr>\n",
              "      <th>유아동의류</th>\n",
              "      <td>341572</td>\n",
              "      <td>6.80</td>\n",
              "    </tr>\n",
              "    <tr>\n",
              "      <th>시즌스포츠</th>\n",
              "      <td>150424</td>\n",
              "      <td>2.99</td>\n",
              "    </tr>\n",
              "    <tr>\n",
              "      <th>출산/육아용품</th>\n",
              "      <td>141512</td>\n",
              "      <td>2.82</td>\n",
              "    </tr>\n",
              "    <tr>\n",
              "      <th>퍼스널케어</th>\n",
              "      <td>132992</td>\n",
              "      <td>2.65</td>\n",
              "    </tr>\n",
              "    <tr>\n",
              "      <th>건강식품</th>\n",
              "      <td>123623</td>\n",
              "      <td>2.46</td>\n",
              "    </tr>\n",
              "    <tr>\n",
              "      <th>원예/애완</th>\n",
              "      <td>94705</td>\n",
              "      <td>1.88</td>\n",
              "    </tr>\n",
              "    <tr>\n",
              "      <th>식기/조리기구</th>\n",
              "      <td>78324</td>\n",
              "      <td>1.56</td>\n",
              "    </tr>\n",
              "    <tr>\n",
              "      <th>침구/수예</th>\n",
              "      <td>78269</td>\n",
              "      <td>1.56</td>\n",
              "    </tr>\n",
              "    <tr>\n",
              "      <th>완구</th>\n",
              "      <td>54282</td>\n",
              "      <td>1.08</td>\n",
              "    </tr>\n",
              "    <tr>\n",
              "      <th>음료</th>\n",
              "      <td>50224</td>\n",
              "      <td>1.00</td>\n",
              "    </tr>\n",
              "    <tr>\n",
              "      <th>문구/사무용품</th>\n",
              "      <td>49604</td>\n",
              "      <td>0.99</td>\n",
              "    </tr>\n",
              "    <tr>\n",
              "      <th>주방잡화</th>\n",
              "      <td>48588</td>\n",
              "      <td>0.97</td>\n",
              "    </tr>\n",
              "    <tr>\n",
              "      <th>아웃도어/레저</th>\n",
              "      <td>45925</td>\n",
              "      <td>0.91</td>\n",
              "    </tr>\n",
              "    <tr>\n",
              "      <th>세제/위생</th>\n",
              "      <td>45446</td>\n",
              "      <td>0.90</td>\n",
              "    </tr>\n",
              "    <tr>\n",
              "      <th>청소/세탁/욕실용품</th>\n",
              "      <td>44525</td>\n",
              "      <td>0.89</td>\n",
              "    </tr>\n",
              "    <tr>\n",
              "      <th>가구</th>\n",
              "      <td>43485</td>\n",
              "      <td>0.87</td>\n",
              "    </tr>\n",
              "    <tr>\n",
              "      <th>생활/주방가전</th>\n",
              "      <td>41871</td>\n",
              "      <td>0.83</td>\n",
              "    </tr>\n",
              "    <tr>\n",
              "      <th>구기/필드스포츠</th>\n",
              "      <td>33899</td>\n",
              "      <td>0.67</td>\n",
              "    </tr>\n",
              "    <tr>\n",
              "      <th>모바일</th>\n",
              "      <td>26070</td>\n",
              "      <td>0.52</td>\n",
              "    </tr>\n",
              "    <tr>\n",
              "      <th>헬스/피트니스</th>\n",
              "      <td>25429</td>\n",
              "      <td>0.51</td>\n",
              "    </tr>\n",
              "    <tr>\n",
              "      <th>과일</th>\n",
              "      <td>25105</td>\n",
              "      <td>0.50</td>\n",
              "    </tr>\n",
              "    <tr>\n",
              "      <th>컴퓨터</th>\n",
              "      <td>22727</td>\n",
              "      <td>0.45</td>\n",
              "    </tr>\n",
              "    <tr>\n",
              "      <th>계절가전</th>\n",
              "      <td>13886</td>\n",
              "      <td>0.28</td>\n",
              "    </tr>\n",
              "    <tr>\n",
              "      <th>냉장식품</th>\n",
              "      <td>13863</td>\n",
              "      <td>0.28</td>\n",
              "    </tr>\n",
              "    <tr>\n",
              "      <th>냉동식품</th>\n",
              "      <td>13586</td>\n",
              "      <td>0.27</td>\n",
              "    </tr>\n",
              "    <tr>\n",
              "      <th>상품권</th>\n",
              "      <td>13497</td>\n",
              "      <td>0.27</td>\n",
              "    </tr>\n",
              "    <tr>\n",
              "      <th>축산물</th>\n",
              "      <td>12012</td>\n",
              "      <td>0.24</td>\n",
              "    </tr>\n",
              "    <tr>\n",
              "      <th>냉장/세탁가전</th>\n",
              "      <td>7524</td>\n",
              "      <td>0.15</td>\n",
              "    </tr>\n",
              "    <tr>\n",
              "      <th>인테리어/조명</th>\n",
              "      <td>7239</td>\n",
              "      <td>0.14</td>\n",
              "    </tr>\n",
              "    <tr>\n",
              "      <th>영상/음향가전</th>\n",
              "      <td>6355</td>\n",
              "      <td>0.13</td>\n",
              "    </tr>\n",
              "    <tr>\n",
              "      <th>자동차용품</th>\n",
              "      <td>1341</td>\n",
              "      <td>0.03</td>\n",
              "    </tr>\n",
              "  </tbody>\n",
              "</table>\n",
              "</div>"
            ],
            "text/plain": [
              "            CLNT_ID   PER\n",
              "CLAC1_NM                 \n",
              "여성의류         677199 13.48\n",
              "화장품/뷰티케어     574033 11.42\n",
              "스포츠패션        564355 11.23\n",
              "남성의류         554910 11.04\n",
              "패션잡화         449032  8.94\n",
              "속옷/양말/홈웨어    417473  8.31\n",
              "유아동의류        341572  6.80\n",
              "시즌스포츠        150424  2.99\n",
              "출산/육아용품      141512  2.82\n",
              "퍼스널케어        132992  2.65\n",
              "건강식품         123623  2.46\n",
              "원예/애완         94705  1.88\n",
              "식기/조리기구       78324  1.56\n",
              "침구/수예         78269  1.56\n",
              "완구            54282  1.08\n",
              "음료            50224  1.00\n",
              "문구/사무용품       49604  0.99\n",
              "주방잡화          48588  0.97\n",
              "아웃도어/레저       45925  0.91\n",
              "세제/위생         45446  0.90\n",
              "청소/세탁/욕실용품    44525  0.89\n",
              "가구            43485  0.87\n",
              "생활/주방가전       41871  0.83\n",
              "구기/필드스포츠      33899  0.67\n",
              "모바일           26070  0.52\n",
              "헬스/피트니스       25429  0.51\n",
              "과일            25105  0.50\n",
              "컴퓨터           22727  0.45\n",
              "계절가전          13886  0.28\n",
              "냉장식품          13863  0.28\n",
              "냉동식품          13586  0.27\n",
              "상품권           13497  0.27\n",
              "축산물           12012  0.24\n",
              "냉장/세탁가전        7524  0.15\n",
              "인테리어/조명        7239  0.14\n",
              "영상/음향가전        6355  0.13\n",
              "자동차용품          1341  0.03"
            ]
          },
          "metadata": {
            "tags": []
          },
          "execution_count": 53
        }
      ]
    },
    {
      "cell_type": "code",
      "metadata": {
        "id": "JBTM9xr01NVJ"
      },
      "source": [
        "#위에서 CLNT_ID와 CLAC1이 groupby했는데 구매이력이라고 한 이유는? \n",
        "#Product 데이터셋은 기본적으로 구매이력을 나타낸 것이다. 따라서 CLNT_ID에도 중복된 값이 많다. -> 그래서 무작정 기본키로 활용할 수 없음. \n",
        "#\n",
        "len(prdmaster['CLNT_ID'].unique()) #회원수"
      ],
      "execution_count": null,
      "outputs": []
    },
    {
      "cell_type": "code",
      "metadata": {
        "id": "w_KAzhPP-rmd",
        "outputId": "c24ce4ef-e296-4c03-deeb-97d201184a02",
        "colab": {
          "base_uri": "https://localhost:8080/",
          "height": 1000
        }
      },
      "source": [
        "clntbyclac1.sort_values(by='PER', ascending=False)\n",
        "#여성 의류와 화장품/뷰티케어가 TOP2. \n",
        "#그러나 여러 번 구매한 것이 많은 매출을 차지하는 것은 아니다. \n"
      ],
      "execution_count": null,
      "outputs": [
        {
          "output_type": "execute_result",
          "data": {
            "text/html": [
              "<div>\n",
              "<style scoped>\n",
              "    .dataframe tbody tr th:only-of-type {\n",
              "        vertical-align: middle;\n",
              "    }\n",
              "\n",
              "    .dataframe tbody tr th {\n",
              "        vertical-align: top;\n",
              "    }\n",
              "\n",
              "    .dataframe thead th {\n",
              "        text-align: right;\n",
              "    }\n",
              "</style>\n",
              "<table border=\"1\" class=\"dataframe\">\n",
              "  <thead>\n",
              "    <tr style=\"text-align: right;\">\n",
              "      <th></th>\n",
              "      <th>CLNT_ID</th>\n",
              "      <th>PER</th>\n",
              "    </tr>\n",
              "    <tr>\n",
              "      <th>CLAC1_NM</th>\n",
              "      <th></th>\n",
              "      <th></th>\n",
              "    </tr>\n",
              "  </thead>\n",
              "  <tbody>\n",
              "    <tr>\n",
              "      <th>여성의류</th>\n",
              "      <td>677199</td>\n",
              "      <td>13.48</td>\n",
              "    </tr>\n",
              "    <tr>\n",
              "      <th>화장품/뷰티케어</th>\n",
              "      <td>574033</td>\n",
              "      <td>11.42</td>\n",
              "    </tr>\n",
              "    <tr>\n",
              "      <th>스포츠패션</th>\n",
              "      <td>564355</td>\n",
              "      <td>11.23</td>\n",
              "    </tr>\n",
              "    <tr>\n",
              "      <th>남성의류</th>\n",
              "      <td>554910</td>\n",
              "      <td>11.04</td>\n",
              "    </tr>\n",
              "    <tr>\n",
              "      <th>패션잡화</th>\n",
              "      <td>449032</td>\n",
              "      <td>8.94</td>\n",
              "    </tr>\n",
              "    <tr>\n",
              "      <th>속옷/양말/홈웨어</th>\n",
              "      <td>417473</td>\n",
              "      <td>8.31</td>\n",
              "    </tr>\n",
              "    <tr>\n",
              "      <th>유아동의류</th>\n",
              "      <td>341572</td>\n",
              "      <td>6.80</td>\n",
              "    </tr>\n",
              "    <tr>\n",
              "      <th>시즌스포츠</th>\n",
              "      <td>150424</td>\n",
              "      <td>2.99</td>\n",
              "    </tr>\n",
              "    <tr>\n",
              "      <th>출산/육아용품</th>\n",
              "      <td>141512</td>\n",
              "      <td>2.82</td>\n",
              "    </tr>\n",
              "    <tr>\n",
              "      <th>퍼스널케어</th>\n",
              "      <td>132992</td>\n",
              "      <td>2.65</td>\n",
              "    </tr>\n",
              "    <tr>\n",
              "      <th>건강식품</th>\n",
              "      <td>123623</td>\n",
              "      <td>2.46</td>\n",
              "    </tr>\n",
              "    <tr>\n",
              "      <th>원예/애완</th>\n",
              "      <td>94705</td>\n",
              "      <td>1.88</td>\n",
              "    </tr>\n",
              "    <tr>\n",
              "      <th>식기/조리기구</th>\n",
              "      <td>78324</td>\n",
              "      <td>1.56</td>\n",
              "    </tr>\n",
              "    <tr>\n",
              "      <th>침구/수예</th>\n",
              "      <td>78269</td>\n",
              "      <td>1.56</td>\n",
              "    </tr>\n",
              "    <tr>\n",
              "      <th>완구</th>\n",
              "      <td>54282</td>\n",
              "      <td>1.08</td>\n",
              "    </tr>\n",
              "    <tr>\n",
              "      <th>음료</th>\n",
              "      <td>50224</td>\n",
              "      <td>1.00</td>\n",
              "    </tr>\n",
              "    <tr>\n",
              "      <th>문구/사무용품</th>\n",
              "      <td>49604</td>\n",
              "      <td>0.99</td>\n",
              "    </tr>\n",
              "    <tr>\n",
              "      <th>주방잡화</th>\n",
              "      <td>48588</td>\n",
              "      <td>0.97</td>\n",
              "    </tr>\n",
              "    <tr>\n",
              "      <th>아웃도어/레저</th>\n",
              "      <td>45925</td>\n",
              "      <td>0.91</td>\n",
              "    </tr>\n",
              "    <tr>\n",
              "      <th>세제/위생</th>\n",
              "      <td>45446</td>\n",
              "      <td>0.90</td>\n",
              "    </tr>\n",
              "    <tr>\n",
              "      <th>청소/세탁/욕실용품</th>\n",
              "      <td>44525</td>\n",
              "      <td>0.89</td>\n",
              "    </tr>\n",
              "    <tr>\n",
              "      <th>가구</th>\n",
              "      <td>43485</td>\n",
              "      <td>0.87</td>\n",
              "    </tr>\n",
              "    <tr>\n",
              "      <th>생활/주방가전</th>\n",
              "      <td>41871</td>\n",
              "      <td>0.83</td>\n",
              "    </tr>\n",
              "    <tr>\n",
              "      <th>구기/필드스포츠</th>\n",
              "      <td>33899</td>\n",
              "      <td>0.67</td>\n",
              "    </tr>\n",
              "    <tr>\n",
              "      <th>모바일</th>\n",
              "      <td>26070</td>\n",
              "      <td>0.52</td>\n",
              "    </tr>\n",
              "    <tr>\n",
              "      <th>헬스/피트니스</th>\n",
              "      <td>25429</td>\n",
              "      <td>0.51</td>\n",
              "    </tr>\n",
              "    <tr>\n",
              "      <th>과일</th>\n",
              "      <td>25105</td>\n",
              "      <td>0.50</td>\n",
              "    </tr>\n",
              "    <tr>\n",
              "      <th>컴퓨터</th>\n",
              "      <td>22727</td>\n",
              "      <td>0.45</td>\n",
              "    </tr>\n",
              "    <tr>\n",
              "      <th>계절가전</th>\n",
              "      <td>13886</td>\n",
              "      <td>0.28</td>\n",
              "    </tr>\n",
              "    <tr>\n",
              "      <th>냉장식품</th>\n",
              "      <td>13863</td>\n",
              "      <td>0.28</td>\n",
              "    </tr>\n",
              "    <tr>\n",
              "      <th>냉동식품</th>\n",
              "      <td>13586</td>\n",
              "      <td>0.27</td>\n",
              "    </tr>\n",
              "    <tr>\n",
              "      <th>상품권</th>\n",
              "      <td>13497</td>\n",
              "      <td>0.27</td>\n",
              "    </tr>\n",
              "    <tr>\n",
              "      <th>축산물</th>\n",
              "      <td>12012</td>\n",
              "      <td>0.24</td>\n",
              "    </tr>\n",
              "    <tr>\n",
              "      <th>냉장/세탁가전</th>\n",
              "      <td>7524</td>\n",
              "      <td>0.15</td>\n",
              "    </tr>\n",
              "    <tr>\n",
              "      <th>인테리어/조명</th>\n",
              "      <td>7239</td>\n",
              "      <td>0.14</td>\n",
              "    </tr>\n",
              "    <tr>\n",
              "      <th>영상/음향가전</th>\n",
              "      <td>6355</td>\n",
              "      <td>0.13</td>\n",
              "    </tr>\n",
              "    <tr>\n",
              "      <th>자동차용품</th>\n",
              "      <td>1341</td>\n",
              "      <td>0.03</td>\n",
              "    </tr>\n",
              "  </tbody>\n",
              "</table>\n",
              "</div>"
            ],
            "text/plain": [
              "            CLNT_ID   PER\n",
              "CLAC1_NM                 \n",
              "여성의류         677199 13.48\n",
              "화장품/뷰티케어     574033 11.42\n",
              "스포츠패션        564355 11.23\n",
              "남성의류         554910 11.04\n",
              "패션잡화         449032  8.94\n",
              "속옷/양말/홈웨어    417473  8.31\n",
              "유아동의류        341572  6.80\n",
              "시즌스포츠        150424  2.99\n",
              "출산/육아용품      141512  2.82\n",
              "퍼스널케어        132992  2.65\n",
              "건강식품         123623  2.46\n",
              "원예/애완         94705  1.88\n",
              "식기/조리기구       78324  1.56\n",
              "침구/수예         78269  1.56\n",
              "완구            54282  1.08\n",
              "음료            50224  1.00\n",
              "문구/사무용품       49604  0.99\n",
              "주방잡화          48588  0.97\n",
              "아웃도어/레저       45925  0.91\n",
              "세제/위생         45446  0.90\n",
              "청소/세탁/욕실용품    44525  0.89\n",
              "가구            43485  0.87\n",
              "생활/주방가전       41871  0.83\n",
              "구기/필드스포츠      33899  0.67\n",
              "모바일           26070  0.52\n",
              "헬스/피트니스       25429  0.51\n",
              "과일            25105  0.50\n",
              "컴퓨터           22727  0.45\n",
              "계절가전          13886  0.28\n",
              "냉장식품          13863  0.28\n",
              "냉동식품          13586  0.27\n",
              "상품권           13497  0.27\n",
              "축산물           12012  0.24\n",
              "냉장/세탁가전        7524  0.15\n",
              "인테리어/조명        7239  0.14\n",
              "영상/음향가전        6355  0.13\n",
              "자동차용품          1341  0.03"
            ]
          },
          "metadata": {
            "tags": []
          },
          "execution_count": 42
        }
      ]
    },
    {
      "cell_type": "code",
      "metadata": {
        "id": "JPAQNW3ErWEJ",
        "outputId": "7e3abd93-b9fa-4d8b-c2d1-aa4e7c662add",
        "colab": {
          "base_uri": "https://localhost:8080/",
          "height": 763
        }
      },
      "source": [
        "#대분류별 매출액\n",
        "totpricebyclac1 = pd.DataFrame(prdmaster[['CLAC1_NM','TOT_PRICE']].groupby(['CLAC1_NM']).sum())\n",
        "totpricebyclac1['PER'] =(totpricebyclac1['TOT_PRICE']/(prd['TOT_PRICE'].sum()))*100\n",
        "totpricebyclac1.sort_values(by='PER', ascending=False).head(10) #대분류별 주문 빈도 Top10\n",
        "clntbyclac1.sort_values(by='PER', ascending=False).head(10) #대분류별 주문 빈도 Top10\n",
        "\n"
      ],
      "execution_count": null,
      "outputs": [
        {
          "output_type": "execute_result",
          "data": {
            "text/html": [
              "<div>\n",
              "<style scoped>\n",
              "    .dataframe tbody tr th:only-of-type {\n",
              "        vertical-align: middle;\n",
              "    }\n",
              "\n",
              "    .dataframe tbody tr th {\n",
              "        vertical-align: top;\n",
              "    }\n",
              "\n",
              "    .dataframe thead th {\n",
              "        text-align: right;\n",
              "    }\n",
              "</style>\n",
              "<table border=\"1\" class=\"dataframe\">\n",
              "  <thead>\n",
              "    <tr style=\"text-align: right;\">\n",
              "      <th></th>\n",
              "      <th>TOT_PRICE</th>\n",
              "      <th>PER</th>\n",
              "    </tr>\n",
              "    <tr>\n",
              "      <th>CLAC1_NM</th>\n",
              "      <th></th>\n",
              "      <th></th>\n",
              "    </tr>\n",
              "  </thead>\n",
              "  <tbody>\n",
              "    <tr>\n",
              "      <th>패션잡화</th>\n",
              "      <td>44870368961</td>\n",
              "      <td>16.51</td>\n",
              "    </tr>\n",
              "    <tr>\n",
              "      <th>여성의류</th>\n",
              "      <td>34140463488</td>\n",
              "      <td>12.56</td>\n",
              "    </tr>\n",
              "    <tr>\n",
              "      <th>스포츠패션</th>\n",
              "      <td>30148248820</td>\n",
              "      <td>11.09</td>\n",
              "    </tr>\n",
              "    <tr>\n",
              "      <th>화장품/뷰티케어</th>\n",
              "      <td>30086830526</td>\n",
              "      <td>11.07</td>\n",
              "    </tr>\n",
              "    <tr>\n",
              "      <th>남성의류</th>\n",
              "      <td>18457045085</td>\n",
              "      <td>6.79</td>\n",
              "    </tr>\n",
              "    <tr>\n",
              "      <th>가구</th>\n",
              "      <td>12399026355</td>\n",
              "      <td>4.56</td>\n",
              "    </tr>\n",
              "    <tr>\n",
              "      <th>건강식품</th>\n",
              "      <td>10762419216</td>\n",
              "      <td>3.96</td>\n",
              "    </tr>\n",
              "    <tr>\n",
              "      <th>유아동의류</th>\n",
              "      <td>9951995610</td>\n",
              "      <td>3.66</td>\n",
              "    </tr>\n",
              "    <tr>\n",
              "      <th>생활/주방가전</th>\n",
              "      <td>9946383503</td>\n",
              "      <td>3.66</td>\n",
              "    </tr>\n",
              "    <tr>\n",
              "      <th>냉장/세탁가전</th>\n",
              "      <td>7409639092</td>\n",
              "      <td>2.73</td>\n",
              "    </tr>\n",
              "  </tbody>\n",
              "</table>\n",
              "</div>"
            ],
            "text/plain": [
              "            TOT_PRICE   PER\n",
              "CLAC1_NM                   \n",
              "패션잡화      44870368961 16.51\n",
              "여성의류      34140463488 12.56\n",
              "스포츠패션     30148248820 11.09\n",
              "화장품/뷰티케어  30086830526 11.07\n",
              "남성의류      18457045085  6.79\n",
              "가구        12399026355  4.56\n",
              "건강식품      10762419216  3.96\n",
              "유아동의류      9951995610  3.66\n",
              "생활/주방가전    9946383503  3.66\n",
              "냉장/세탁가전    7409639092  2.73"
            ]
          },
          "metadata": {
            "tags": []
          },
          "execution_count": 47
        },
        {
          "output_type": "execute_result",
          "data": {
            "text/html": [
              "<div>\n",
              "<style scoped>\n",
              "    .dataframe tbody tr th:only-of-type {\n",
              "        vertical-align: middle;\n",
              "    }\n",
              "\n",
              "    .dataframe tbody tr th {\n",
              "        vertical-align: top;\n",
              "    }\n",
              "\n",
              "    .dataframe thead th {\n",
              "        text-align: right;\n",
              "    }\n",
              "</style>\n",
              "<table border=\"1\" class=\"dataframe\">\n",
              "  <thead>\n",
              "    <tr style=\"text-align: right;\">\n",
              "      <th></th>\n",
              "      <th>CLNT_ID</th>\n",
              "      <th>PER</th>\n",
              "    </tr>\n",
              "    <tr>\n",
              "      <th>CLAC1_NM</th>\n",
              "      <th></th>\n",
              "      <th></th>\n",
              "    </tr>\n",
              "  </thead>\n",
              "  <tbody>\n",
              "    <tr>\n",
              "      <th>여성의류</th>\n",
              "      <td>677199</td>\n",
              "      <td>13.48</td>\n",
              "    </tr>\n",
              "    <tr>\n",
              "      <th>화장품/뷰티케어</th>\n",
              "      <td>574033</td>\n",
              "      <td>11.42</td>\n",
              "    </tr>\n",
              "    <tr>\n",
              "      <th>스포츠패션</th>\n",
              "      <td>564355</td>\n",
              "      <td>11.23</td>\n",
              "    </tr>\n",
              "    <tr>\n",
              "      <th>남성의류</th>\n",
              "      <td>554910</td>\n",
              "      <td>11.04</td>\n",
              "    </tr>\n",
              "    <tr>\n",
              "      <th>패션잡화</th>\n",
              "      <td>449032</td>\n",
              "      <td>8.94</td>\n",
              "    </tr>\n",
              "    <tr>\n",
              "      <th>속옷/양말/홈웨어</th>\n",
              "      <td>417473</td>\n",
              "      <td>8.31</td>\n",
              "    </tr>\n",
              "    <tr>\n",
              "      <th>유아동의류</th>\n",
              "      <td>341572</td>\n",
              "      <td>6.80</td>\n",
              "    </tr>\n",
              "    <tr>\n",
              "      <th>시즌스포츠</th>\n",
              "      <td>150424</td>\n",
              "      <td>2.99</td>\n",
              "    </tr>\n",
              "    <tr>\n",
              "      <th>출산/육아용품</th>\n",
              "      <td>141512</td>\n",
              "      <td>2.82</td>\n",
              "    </tr>\n",
              "    <tr>\n",
              "      <th>퍼스널케어</th>\n",
              "      <td>132992</td>\n",
              "      <td>2.65</td>\n",
              "    </tr>\n",
              "  </tbody>\n",
              "</table>\n",
              "</div>"
            ],
            "text/plain": [
              "           CLNT_ID   PER\n",
              "CLAC1_NM                \n",
              "여성의류        677199 13.48\n",
              "화장품/뷰티케어    574033 11.42\n",
              "스포츠패션       564355 11.23\n",
              "남성의류        554910 11.04\n",
              "패션잡화        449032  8.94\n",
              "속옷/양말/홈웨어   417473  8.31\n",
              "유아동의류       341572  6.80\n",
              "시즌스포츠       150424  2.99\n",
              "출산/육아용품     141512  2.82\n",
              "퍼스널케어       132992  2.65"
            ]
          },
          "metadata": {
            "tags": []
          },
          "execution_count": 47
        }
      ]
    },
    {
      "cell_type": "code",
      "metadata": {
        "id": "paa-EpwYrnOX",
        "outputId": "30c81445-8e03-48e6-f994-229833952fe3",
        "colab": {
          "base_uri": "https://localhost:8080/",
          "height": 1000
        }
      },
      "source": [
        ""
      ],
      "execution_count": null,
      "outputs": [
        {
          "output_type": "execute_result",
          "data": {
            "text/html": [
              "<div>\n",
              "<style scoped>\n",
              "    .dataframe tbody tr th:only-of-type {\n",
              "        vertical-align: middle;\n",
              "    }\n",
              "\n",
              "    .dataframe tbody tr th {\n",
              "        vertical-align: top;\n",
              "    }\n",
              "\n",
              "    .dataframe thead th {\n",
              "        text-align: right;\n",
              "    }\n",
              "</style>\n",
              "<table border=\"1\" class=\"dataframe\">\n",
              "  <thead>\n",
              "    <tr style=\"text-align: right;\">\n",
              "      <th></th>\n",
              "      <th>CLNT_ID</th>\n",
              "      <th>PER</th>\n",
              "    </tr>\n",
              "    <tr>\n",
              "      <th>CLAC1_NM</th>\n",
              "      <th></th>\n",
              "      <th></th>\n",
              "    </tr>\n",
              "  </thead>\n",
              "  <tbody>\n",
              "    <tr>\n",
              "      <th>가구</th>\n",
              "      <td>16.00</td>\n",
              "      <td>16.00</td>\n",
              "    </tr>\n",
              "    <tr>\n",
              "      <th>건강식품</th>\n",
              "      <td>27.00</td>\n",
              "      <td>27.00</td>\n",
              "    </tr>\n",
              "    <tr>\n",
              "      <th>계절가전</th>\n",
              "      <td>9.00</td>\n",
              "      <td>9.00</td>\n",
              "    </tr>\n",
              "    <tr>\n",
              "      <th>과일</th>\n",
              "      <td>11.00</td>\n",
              "      <td>11.00</td>\n",
              "    </tr>\n",
              "    <tr>\n",
              "      <th>구기/필드스포츠</th>\n",
              "      <td>14.00</td>\n",
              "      <td>14.00</td>\n",
              "    </tr>\n",
              "    <tr>\n",
              "      <th>남성의류</th>\n",
              "      <td>34.00</td>\n",
              "      <td>34.00</td>\n",
              "    </tr>\n",
              "    <tr>\n",
              "      <th>냉동식품</th>\n",
              "      <td>7.00</td>\n",
              "      <td>7.00</td>\n",
              "    </tr>\n",
              "    <tr>\n",
              "      <th>냉장/세탁가전</th>\n",
              "      <td>4.00</td>\n",
              "      <td>4.00</td>\n",
              "    </tr>\n",
              "    <tr>\n",
              "      <th>냉장식품</th>\n",
              "      <td>8.00</td>\n",
              "      <td>8.00</td>\n",
              "    </tr>\n",
              "    <tr>\n",
              "      <th>모바일</th>\n",
              "      <td>13.00</td>\n",
              "      <td>13.00</td>\n",
              "    </tr>\n",
              "    <tr>\n",
              "      <th>문구/사무용품</th>\n",
              "      <td>21.00</td>\n",
              "      <td>21.00</td>\n",
              "    </tr>\n",
              "    <tr>\n",
              "      <th>상품권</th>\n",
              "      <td>6.00</td>\n",
              "      <td>6.00</td>\n",
              "    </tr>\n",
              "    <tr>\n",
              "      <th>생활/주방가전</th>\n",
              "      <td>15.00</td>\n",
              "      <td>15.00</td>\n",
              "    </tr>\n",
              "    <tr>\n",
              "      <th>세제/위생</th>\n",
              "      <td>18.00</td>\n",
              "      <td>18.00</td>\n",
              "    </tr>\n",
              "    <tr>\n",
              "      <th>속옷/양말/홈웨어</th>\n",
              "      <td>32.00</td>\n",
              "      <td>32.00</td>\n",
              "    </tr>\n",
              "    <tr>\n",
              "      <th>스포츠패션</th>\n",
              "      <td>35.00</td>\n",
              "      <td>35.00</td>\n",
              "    </tr>\n",
              "    <tr>\n",
              "      <th>시즌스포츠</th>\n",
              "      <td>30.00</td>\n",
              "      <td>30.00</td>\n",
              "    </tr>\n",
              "    <tr>\n",
              "      <th>식기/조리기구</th>\n",
              "      <td>25.00</td>\n",
              "      <td>25.00</td>\n",
              "    </tr>\n",
              "    <tr>\n",
              "      <th>아웃도어/레저</th>\n",
              "      <td>19.00</td>\n",
              "      <td>19.00</td>\n",
              "    </tr>\n",
              "    <tr>\n",
              "      <th>여성의류</th>\n",
              "      <td>37.00</td>\n",
              "      <td>37.00</td>\n",
              "    </tr>\n",
              "    <tr>\n",
              "      <th>영상/음향가전</th>\n",
              "      <td>2.00</td>\n",
              "      <td>2.00</td>\n",
              "    </tr>\n",
              "    <tr>\n",
              "      <th>완구</th>\n",
              "      <td>23.00</td>\n",
              "      <td>23.00</td>\n",
              "    </tr>\n",
              "    <tr>\n",
              "      <th>원예/애완</th>\n",
              "      <td>26.00</td>\n",
              "      <td>26.00</td>\n",
              "    </tr>\n",
              "    <tr>\n",
              "      <th>유아동의류</th>\n",
              "      <td>31.00</td>\n",
              "      <td>31.00</td>\n",
              "    </tr>\n",
              "    <tr>\n",
              "      <th>음료</th>\n",
              "      <td>22.00</td>\n",
              "      <td>22.00</td>\n",
              "    </tr>\n",
              "    <tr>\n",
              "      <th>인테리어/조명</th>\n",
              "      <td>3.00</td>\n",
              "      <td>3.00</td>\n",
              "    </tr>\n",
              "    <tr>\n",
              "      <th>자동차용품</th>\n",
              "      <td>1.00</td>\n",
              "      <td>1.00</td>\n",
              "    </tr>\n",
              "    <tr>\n",
              "      <th>주방잡화</th>\n",
              "      <td>20.00</td>\n",
              "      <td>20.00</td>\n",
              "    </tr>\n",
              "    <tr>\n",
              "      <th>청소/세탁/욕실용품</th>\n",
              "      <td>17.00</td>\n",
              "      <td>17.00</td>\n",
              "    </tr>\n",
              "    <tr>\n",
              "      <th>축산물</th>\n",
              "      <td>5.00</td>\n",
              "      <td>5.00</td>\n",
              "    </tr>\n",
              "    <tr>\n",
              "      <th>출산/육아용품</th>\n",
              "      <td>29.00</td>\n",
              "      <td>29.00</td>\n",
              "    </tr>\n",
              "    <tr>\n",
              "      <th>침구/수예</th>\n",
              "      <td>24.00</td>\n",
              "      <td>24.00</td>\n",
              "    </tr>\n",
              "    <tr>\n",
              "      <th>컴퓨터</th>\n",
              "      <td>10.00</td>\n",
              "      <td>10.00</td>\n",
              "    </tr>\n",
              "    <tr>\n",
              "      <th>패션잡화</th>\n",
              "      <td>33.00</td>\n",
              "      <td>33.00</td>\n",
              "    </tr>\n",
              "    <tr>\n",
              "      <th>퍼스널케어</th>\n",
              "      <td>28.00</td>\n",
              "      <td>28.00</td>\n",
              "    </tr>\n",
              "    <tr>\n",
              "      <th>헬스/피트니스</th>\n",
              "      <td>12.00</td>\n",
              "      <td>12.00</td>\n",
              "    </tr>\n",
              "    <tr>\n",
              "      <th>화장품/뷰티케어</th>\n",
              "      <td>36.00</td>\n",
              "      <td>36.00</td>\n",
              "    </tr>\n",
              "  </tbody>\n",
              "</table>\n",
              "</div>"
            ],
            "text/plain": [
              "            CLNT_ID   PER\n",
              "CLAC1_NM                 \n",
              "가구            16.00 16.00\n",
              "건강식품          27.00 27.00\n",
              "계절가전           9.00  9.00\n",
              "과일            11.00 11.00\n",
              "구기/필드스포츠      14.00 14.00\n",
              "남성의류          34.00 34.00\n",
              "냉동식품           7.00  7.00\n",
              "냉장/세탁가전        4.00  4.00\n",
              "냉장식품           8.00  8.00\n",
              "모바일           13.00 13.00\n",
              "문구/사무용품       21.00 21.00\n",
              "상품권            6.00  6.00\n",
              "생활/주방가전       15.00 15.00\n",
              "세제/위생         18.00 18.00\n",
              "속옷/양말/홈웨어     32.00 32.00\n",
              "스포츠패션         35.00 35.00\n",
              "시즌스포츠         30.00 30.00\n",
              "식기/조리기구       25.00 25.00\n",
              "아웃도어/레저       19.00 19.00\n",
              "여성의류          37.00 37.00\n",
              "영상/음향가전        2.00  2.00\n",
              "완구            23.00 23.00\n",
              "원예/애완         26.00 26.00\n",
              "유아동의류         31.00 31.00\n",
              "음료            22.00 22.00\n",
              "인테리어/조명        3.00  3.00\n",
              "자동차용품          1.00  1.00\n",
              "주방잡화          20.00 20.00\n",
              "청소/세탁/욕실용품    17.00 17.00\n",
              "축산물            5.00  5.00\n",
              "출산/육아용품       29.00 29.00\n",
              "침구/수예         24.00 24.00\n",
              "컴퓨터           10.00 10.00\n",
              "패션잡화          33.00 33.00\n",
              "퍼스널케어         28.00 28.00\n",
              "헬스/피트니스       12.00 12.00\n",
              "화장품/뷰티케어      36.00 36.00"
            ]
          },
          "metadata": {
            "tags": []
          },
          "execution_count": 45
        }
      ]
    },
    {
      "cell_type": "code",
      "metadata": {
        "id": "fhJ12Ko67JvO",
        "outputId": "35a65e9c-ac22-4adc-86cb-4b97a49fdfb0",
        "colab": {
          "base_uri": "https://localhost:8080/"
        }
      },
      "source": [
        "len(prd['CLNT_ID'].unique()) #"
      ],
      "execution_count": null,
      "outputs": [
        {
          "output_type": "execute_result",
          "data": {
            "text/plain": [
              "922737"
            ]
          },
          "metadata": {
            "tags": []
          },
          "execution_count": 23
        }
      ]
    },
    {
      "cell_type": "code",
      "metadata": {
        "id": "N-ND8xZ36PNs"
      },
      "source": [
        ""
      ],
      "execution_count": null,
      "outputs": []
    },
    {
      "cell_type": "code",
      "metadata": {
        "id": "mZqmF9d41PGD"
      },
      "source": [
        "customcsv='/content/drive/My Drive/DataSet/Lpoint/data/Custom.csv'\n",
        "custom = pd.read_csv(customcsv, dtype={\"CLNT_ID\": np.str})"
      ],
      "execution_count": null,
      "outputs": []
    },
    {
      "cell_type": "code",
      "metadata": {
        "id": "rkbC6PEw1XBM"
      },
      "source": [
        "srchcsv='/content/drive/My Drive/DataSet/Lpoint/data/Search1.csv'\n",
        "search1 = pd.read_csv(srchcsv, dtype={\"CLNT_ID\":np.str, \"SESS_ID\":np.str})\n",
        "\n",
        "srch2csv='/content/drive/My Drive/DataSet/Lpoint/data/Search2.csv'\n",
        "search2 = pd.read_csv(srch2csv)"
      ],
      "execution_count": null,
      "outputs": []
    },
    {
      "cell_type": "code",
      "metadata": {
        "id": "RXpD_XY21PfC"
      },
      "source": [
        "sessioncsv='/content/drive/My Drive/DataSet/Lpoint/data/Session.csv'\n",
        "session = pd.read_csv(sessioncsv, dtype={\"CLNT_ID\": np.str, \"SESS_ID\":np.str}, thousands=\",\")"
      ],
      "execution_count": null,
      "outputs": []
    },
    {
      "cell_type": "markdown",
      "metadata": {
        "id": "PGFuUz_j9X_V"
      },
      "source": [
        "#11.10 11:00 \n",
        "지금의 코딩들의 목적은 소비자행돈론의 Term-Paper에 있다. 본 데이터셋에 소비행동 관련 데이터가 많기 때문에 이를 활용해서 교수님께서 요구하신 '실험설계'의 방법론에 적용하고자 하는 것이다. 그러나 실험설계의 방법론들은 데이터를 얻기 위해, 그러니깐 미래에 시행할 실험에 대한 설계를 하는 것인 반면에 이 데이터셋은 이미 로그가 발생한 것으로 파생변수를 내가 만들지 않는 이상 데이터 측정에 있어서 내가 통제할 수 있는 것이 없다. \n",
        "또 요즘 이루어지는 보통 빅데이터의 탐색적인 연구와 달리 연구목적을 먼저 정해야 실험설계방법론이 적용 가능한지 판단이 설텐데 뚜렷한 연구목적 역시 아직 존재하지 않는다. 따라서 아래 두 가지 질문에 대해 먼저 답할 수 있어야 데이터셋 탐색이 유의미해질 것이다. \n",
        " \n",
        "\n",
        "*   6개의 데이터셋 중에 실험자가 연구를 위해 조작했다고 볼 수 있는 변수가 무엇인가? 그러니깐 자동 로그 기록이긴 하나 \"사실 실험자가 연구를 위해 조작한 것이랍니다\"라는 개구라 같은 가정을 둘 수 있는 변수\n",
        "\n",
        "*   그것이 있다면 비슷한 선행연구가 있는가? \n"
      ]
    }
  ]
}